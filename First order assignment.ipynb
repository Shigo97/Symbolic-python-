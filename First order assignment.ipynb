{
 "cells": [
  {
   "cell_type": "code",
   "execution_count": 25,
   "id": "152e1eb0-1870-465d-aca4-30540bc25d1c",
   "metadata": {},
   "outputs": [],
   "source": [
    "from sympy import *\n",
    "init_printing()\n",
    "x,t = symbols('x t')\n",
    "C1 = symbols('C1')\n",
    "y = Function('y')(x)\n",
    "dy = y.diff(x)\n",
    "dy2 = y.diff(x,2)"
   ]
  },
  {
   "cell_type": "code",
   "execution_count": 26,
   "id": "e6855c7e-0abc-402a-b82a-1d2165b80180",
   "metadata": {},
   "outputs": [
    {
     "data": {
      "image/png": "[encoded data removed]",
      "text/latex": [
       "$\\displaystyle - 9 x^{4} + \\frac{d}{d x} y{\\left(x \\right)} - \\frac{19 y{\\left(x \\right)}}{x} = 0$"
      ],
      "text/plain": [
       "     4   d          19⋅y(x)    \n",
       "- 9⋅x  + ──(y(x)) - ─────── = 0\n",
       "         dx            x       "
      ]
     },
     "execution_count": 26,
     "metadata": {},
     "output_type": "execute_result"
    }
   ],
   "source": [
    "Eq1 = Eq(dydx-(19/x)*y-9*x**4,0)\n",
    "Eq1"
   ]
  },
  {
   "cell_type": "code",
   "execution_count": 27,
   "id": "38c8447c-ec52-4845-aa99-22802cf19958",
   "metadata": {},
   "outputs": [
    {
     "data": {
      "image/png": "[encoded data removed]",
      "text/latex": [
       "$\\displaystyle y{\\left(x \\right)} = x^{5} \\left(C_{1} x^{14} - \\frac{9}{14}\\right)$"
      ],
      "text/plain": [
       "        5 ⎛    14   9 ⎞\n",
       "y(x) = x ⋅⎜C₁⋅x   - ──⎟\n",
       "          ⎝         14⎠"
      ]
     },
     "execution_count": 27,
     "metadata": {},
     "output_type": "execute_result"
    }
   ],
   "source": [
    "Eq2=dsolve(Eq1,y)\n",
    "Eq2"
   ]
  },
  {
   "cell_type": "code",
   "execution_count": 28,
   "id": "503bce8f-c605-4a6d-9930-3072050ee608",
   "metadata": {},
   "outputs": [
    {
     "data": {
      "text/plain": [
       "'Eq(y(x), x**5*(C1*x**14 - 9/14))'"
      ]
     },
     "execution_count": 28,
     "metadata": {},
     "output_type": "execute_result"
    }
   ],
   "source": [
    "str(Eq2)"
   ]
  },
  {
   "cell_type": "code",
   "execution_count": 29,
   "id": "7d430611-51be-4441-9c0f-57703bb8a208",
   "metadata": {},
   "outputs": [],
   "source": [
    "Eq1 = Eq(x*dydx-19*y-9*x**5)"
   ]
  },
  {
   "cell_type": "code",
   "execution_count": 30,
   "id": "e7508c52",
   "metadata": {},
   "outputs": [],
   "source": [
    "Eq2 = dsolve(Eq1,y)"
   ]
  },
  {
   "cell_type": "code",
   "execution_count": 31,
   "id": "802af88e",
   "metadata": {},
   "outputs": [
    {
     "data": {
      "image/png": "[encoded data removed]",
      "text/latex": [
       "$\\displaystyle y{\\left(x \\right)} = x^{5} \\left(C_{1} x^{14} - \\frac{9}{14}\\right)$"
      ],
      "text/plain": [
       "        5 ⎛    14   9 ⎞\n",
       "y(x) = x ⋅⎜C₁⋅x   - ──⎟\n",
       "          ⎝         14⎠"
      ]
     },
     "execution_count": 31,
     "metadata": {},
     "output_type": "execute_result"
    }
   ],
   "source": [
    "Eq2"
   ]
  },
  {
   "cell_type": "code",
   "execution_count": 32,
   "id": "ec100ffd",
   "metadata": {},
   "outputs": [
    {
     "data": {
      "text/plain": [
       "'Eq(y(x), x**5*(C1*x**14 - 9/14))'"
      ]
     },
     "execution_count": 32,
     "metadata": {},
     "output_type": "execute_result"
    }
   ],
   "source": [
    "str(Eq2)"
   ]
  },
  {
   "cell_type": "code",
   "execution_count": 33,
   "id": "3647801e",
   "metadata": {},
   "outputs": [
    {
     "name": "stdout",
     "output_type": "stream",
     "text": [
      "Equation is:\t Eq(Derivative(y(x), x)/x**3, 11*y(x) + 2)\n",
      "General Solution is:\t\n"
     ]
    },
    {
     "data": {
      "image/png": "[encoded data removed]",
      "text/latex": [
       "$\\displaystyle y{\\left(x \\right)} = \\frac{C_{1} e^{\\frac{11 x^{4}}{4}}}{11} - \\frac{2}{11}$"
      ],
      "text/plain": [
       "               4     \n",
       "           11⋅x      \n",
       "           ─────     \n",
       "             4       \n",
       "       C₁⋅ℯ        2 \n",
       "y(x) = ───────── - ──\n",
       "           11      11"
      ]
     },
     "execution_count": 33,
     "metadata": {},
     "output_type": "execute_result"
    }
   ],
   "source": [
    "# Question 1 of first order assignment (second attempt)\n",
    "Eq5 = Eq(1/x**3*dydx, 2 + 11*y)\n",
    "print(\"Equation is:\\t\",Eq5)\n",
    "print('General Solution is:\\t')\n",
    "dsolve(Eq5,y)"
   ]
  },
  {
   "cell_type": "code",
   "execution_count": 34,
   "id": "c16a0582",
   "metadata": {},
   "outputs": [
    {
     "data": {
      "text/plain": [
       "'Eq(y(x), C1*exp(11*x**4/4)/11 - 2/11)'"
      ]
     },
     "execution_count": 34,
     "metadata": {},
     "output_type": "execute_result"
    }
   ],
   "source": [
    "str(dsolve(Eq5,y))"
   ]
  },
  {
   "cell_type": "code",
   "execution_count": 35,
   "id": "7f6716aa",
   "metadata": {},
   "outputs": [
    {
     "data": {
      "image/png": "[encoded data removed]",
      "text/latex": [
       "$\\displaystyle 0.6 T{\\left(t \\right)} + \\frac{d}{d t} T{\\left(t \\right)} = 10.2$"
      ],
      "text/plain": [
       "           d              \n",
       "0.6⋅T(t) + ──(T(t)) = 10.2\n",
       "           dt             "
      ]
     },
     "execution_count": 35,
     "metadata": {},
     "output_type": "execute_result"
    }
   ],
   "source": [
    "# Question 3 of first order assignment (second attempt)\n",
    "init_printing()\n",
    "t = symbols('t')\n",
    "C1 = symbols('C1')\n",
    "T = Function('T')(t)\n",
    "dTdt = T.diff(t)\n",
    "# dTdt + 0.6*T,10.2\n",
    "Eq1 = Eq(dTdt + 0.6*T,10.2)\n",
    "Eq1"
   ]
  },
  {
   "cell_type": "code",
   "execution_count": 36,
   "id": "aefb34ed",
   "metadata": {},
   "outputs": [
    {
     "data": {
      "image/png": "[encoded data removed]",
      "text/latex": [
       "$\\displaystyle T{\\left(t \\right)} = C_{1} e^{- 0.6 t} + 17.0$"
      ],
      "text/plain": [
       "           -0.6⋅t       \n",
       "T(t) = C₁⋅ℯ       + 17.0"
      ]
     },
     "execution_count": 36,
     "metadata": {},
     "output_type": "execute_result"
    }
   ],
   "source": [
    "sol1 = dsolve(Eq1,T)\n",
    "sol1"
   ]
  },
  {
   "cell_type": "code",
   "execution_count": 37,
   "id": "cb30a378",
   "metadata": {},
   "outputs": [
    {
     "data": {
      "image/png": "[encoded data removed]",
      "text/latex": [
       "$\\displaystyle \\left[ 69.0\\right]$"
      ],
      "text/plain": [
       "[69.0]"
      ]
     },
     "execution_count": 37,
     "metadata": {},
     "output_type": "execute_result"
    }
   ],
   "source": [
    "# Find the particular solution of the ODE, if initial temp is 86 degrees: t=86\n",
    "solve( sol1.subs({T:86, t:0}) )"
   ]
  },
  {
   "cell_type": "code",
   "execution_count": 38,
   "id": "bba67e16",
   "metadata": {},
   "outputs": [],
   "source": [
    "# Note: To find the particular solution, use the subs formula that includes a dictionary of values\n",
    "# Note2: This will give an equation for the particular solution then use solve() to solve for the constant \n",
    "# Note3: Now put the constant value in the general solution and that is the particular solution"
   ]
  },
  {
   "cell_type": "code",
   "execution_count": 39,
   "id": "09c2ea24",
   "metadata": {},
   "outputs": [
    {
     "data": {
      "image/png": "[encoded data removed]",
      "text/latex": [
       "$\\displaystyle \\left[ \\left\\{ T{\\left(1.4 \\right)} : 46.7880261166065\\right\\}\\right]$"
      ],
      "text/plain": [
       "[{T(1.4): 46.7880261166065}]"
      ]
     },
     "execution_count": 39,
     "metadata": {},
     "output_type": "execute_result"
    }
   ],
   "source": [
    "solve( sol1.subs({t:1.4, C1:69.0}) )"
   ]
  },
  {
   "cell_type": "code",
   "execution_count": 40,
   "id": "d736acb1-6c8e-4701-b3cf-05d153361b95",
   "metadata": {},
   "outputs": [],
   "source": [
    "# Tutorial week 2 questions"
   ]
  },
  {
   "cell_type": "code",
   "execution_count": 41,
   "id": "363f10ab-7a18-4eae-9452-41197c9f7a52",
   "metadata": {},
   "outputs": [
    {
     "data": {
      "image/png": "[encoded data removed]",
      "text/latex": [
       "$\\displaystyle - 5 x - \\sin{\\left(x \\right)} + \\frac{d}{d x} y{\\left(x \\right)} = 0$"
      ],
      "text/plain": [
       "                d           \n",
       "-5⋅x - sin(x) + ──(y(x)) = 0\n",
       "                dx          "
      ]
     },
     "execution_count": 41,
     "metadata": {},
     "output_type": "execute_result"
    }
   ],
   "source": [
    "Eq1 = Eq( dy -5 * x -sin(x) , 0 )\n",
    "Eq1"
   ]
  },
  {
   "cell_type": "code",
   "execution_count": 42,
   "id": "f3440cdb-6607-4e9d-b243-d903678560c8",
   "metadata": {},
   "outputs": [
    {
     "data": {
      "image/png": "[encoded data removed]",
      "text/latex": [
       "$\\displaystyle y{\\left(x \\right)} = C_{1} + \\frac{5 x^{2}}{2} - \\cos{\\left(x \\right)}$"
      ],
      "text/plain": [
       "               2         \n",
       "            5⋅x          \n",
       "y(x) = C₁ + ──── - cos(x)\n",
       "             2           "
      ]
     },
     "execution_count": 42,
     "metadata": {},
     "output_type": "execute_result"
    }
   ],
   "source": [
    "gsol = dsolve( Eq1 , y )\n",
    "gsol"
   ]
  },
  {
   "cell_type": "code",
   "execution_count": 43,
   "id": "9604e1cc-80dc-43b7-a1b5-4c533054b4ff",
   "metadata": {},
   "outputs": [
    {
     "data": {
      "image/png": "[encoded data removed]",
      "text/latex": [
       "$\\displaystyle \\left[ - \\frac{5 x^{2}}{2} + y{\\left(x \\right)} + \\cos{\\left(x \\right)}\\right]$"
      ],
      "text/plain": [
       "⎡     2                ⎤\n",
       "⎢  5⋅x                 ⎥\n",
       "⎢- ──── + y(x) + cos(x)⎥\n",
       "⎣   2                  ⎦"
      ]
     },
     "execution_count": 43,
     "metadata": {},
     "output_type": "execute_result"
    }
   ],
   "source": [
    "solve(gsol,C1)"
   ]
  },
  {
   "cell_type": "code",
   "execution_count": 44,
   "id": "15ea0340-31a9-4b6e-b072-4b640beba2e9",
   "metadata": {},
   "outputs": [
    {
     "data": {
      "text/latex": [
       "$\\displaystyle \\text{True}$"
      ],
      "text/plain": [
       "True"
      ]
     },
     "execution_count": 44,
     "metadata": {},
     "output_type": "execute_result"
    }
   ],
   "source": [
    "gsol1 = gsol.subs({C1 : -5*x**2/2 + y + cos(x)})\n",
    "gsol1"
   ]
  },
  {
   "cell_type": "code",
   "execution_count": null,
   "id": "b72444d9-eec0-42b2-8877-75a84d5e8202",
   "metadata": {},
   "outputs": [],
   "source": []
  }
 ],
 "metadata": {
  "kernelspec": {
   "display_name": "Python 3 (ipykernel)",
   "language": "python",
   "name": "python3"
  },
  "language_info": {
   "codemirror_mode": {
    "name": "ipython",
    "version": 3
   },
   "file_extension": ".py",
   "mimetype": "text/x-python",
   "name": "python",
   "nbconvert_exporter": "python",
   "pygments_lexer": "ipython3",
   "version": "3.9.7"
  }
 },
 "nbformat": 4,
 "nbformat_minor": 5
}
