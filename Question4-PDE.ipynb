{
 "cells": [
  {
   "cell_type": "code",
   "execution_count": 5,
   "id": "176fa164-0fa7-499f-829d-3a6bf2e5a194",
   "metadata": {},
   "outputs": [],
   "source": [
    "from sympy import *\n",
    "(x, y, z, q, T) = symbols('x y z q T')\n",
    "init_printing()\n",
    "\n",
    "Eq1 = 4*x**2*y-40*x*y+84*y-12*x\n",
    "Eq1"
   ]
  },
  {
   "cell_type": "code",
   "execution_count": 7,
   "id": "16b47c8b-b952-46bc-a3af-091312a988e1",
   "metadata": {},
   "outputs": [
    {
     "data": {
      "image/png": "[encoded data removed]",
      "text/latex": [
       "$\\displaystyle 8 x y - 40 y - 12$"
      ],
      "text/plain": [
       "8⋅x⋅y - 40⋅y - 12"
      ]
     },
     "execution_count": 7,
     "metadata": {},
     "output_type": "execute_result"
    }
   ],
   "source": [
    "Eq2 = diff(Eq1, x)\n",
    "Eq2"
   ]
  },
  {
   "cell_type": "code",
   "execution_count": 8,
   "id": "16fa7852-500e-49dc-a788-cad23c769d9b",
   "metadata": {},
   "outputs": [
    {
     "data": {
      "image/png": "[encoded data removed]",
      "text/latex": [
       "$\\displaystyle 4 x^{2} - 40 x + 84$"
      ],
      "text/plain": [
       "   2            \n",
       "4⋅x  - 40⋅x + 84"
      ]
     },
     "execution_count": 8,
     "metadata": {},
     "output_type": "execute_result"
    }
   ],
   "source": [
    "Eq3 = diff(Eq1, y)\n",
    "Eq3"
   ]
  },
  {
   "cell_type": "code",
   "execution_count": 9,
   "id": "654bf4b0-aff2-451f-b9a3-75015269bff9",
   "metadata": {},
   "outputs": [
    {
     "data": {
      "image/png": "[encoded data removed]",
      "text/latex": [
       "$\\displaystyle \\left[ \\left( 3, \\  - \\frac{3}{4}\\right), \\  \\left( 7, \\  \\frac{3}{4}\\right)\\right]$"
      ],
      "text/plain": [
       "[(3, -3/4), (7, 3/4)]"
      ]
     },
     "execution_count": 9,
     "metadata": {},
     "output_type": "execute_result"
    }
   ],
   "source": [
    "Cvals = solve([Eq2, Eq3], [x,y])\n",
    "Cvals"
   ]
  },
  {
   "cell_type": "code",
   "execution_count": 10,
   "id": "f86f4bc0-e28e-4aec-b0e5-3ff814c68a38",
   "metadata": {},
   "outputs": [
    {
     "data": {
      "image/png": "[encoded data removed]",
      "text/latex": [
       "$\\displaystyle -36$"
      ],
      "text/plain": [
       "-36"
      ]
     },
     "execution_count": 10,
     "metadata": {},
     "output_type": "execute_result"
    }
   ],
   "source": [
    "Eq6 = (Eq1.subs({x:3}))\n",
    "Eq6"
   ]
  },
  {
   "cell_type": "code",
   "execution_count": 11,
   "id": "6fe5276d-b7f7-4af6-bf10-276fdfe3fd30",
   "metadata": {},
   "outputs": [
    {
     "data": {
      "image/png": "[encoded data removed]",
      "text/latex": [
       "$\\displaystyle -84$"
      ],
      "text/plain": [
       "-84"
      ]
     },
     "execution_count": 11,
     "metadata": {},
     "output_type": "execute_result"
    }
   ],
   "source": [
    "Eq7 = (Eq1.subs({x:7}))\n",
    "Eq7"
   ]
  },
  {
   "cell_type": "code",
   "execution_count": null,
   "id": "911291f1-ab81-44a0-a847-4b22dd01e49b",
   "metadata": {},
   "outputs": [],
   "source": []
  }
 ],
 "metadata": {
  "kernelspec": {
   "display_name": "Python 3 (ipykernel)",
   "language": "python",
   "name": "python3"
  },
  "language_info": {
   "codemirror_mode": {
    "name": "ipython",
    "version": 3
   },
   "file_extension": ".py",
   "mimetype": "text/x-python",
   "name": "python",
   "nbconvert_exporter": "python",
   "pygments_lexer": "ipython3",
   "version": "3.9.7"
  }
 },
 "nbformat": 4,
 "nbformat_minor": 5
}
