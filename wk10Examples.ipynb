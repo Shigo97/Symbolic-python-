{
 "cells": [
  {
   "cell_type": "markdown",
   "metadata": {},
   "source": [
    "# Pre-Masters Maths 6601PMEC"
   ]
  },
  {
   "cell_type": "markdown",
   "metadata": {},
   "source": [
    "## Week 10 - Laplace Transforms"
   ]
  },
  {
   "cell_type": "markdown",
   "metadata": {},
   "source": [
    "#### **Examples LT1**"
   ]
  },
  {
   "cell_type": "markdown",
   "metadata": {},
   "source": [
    "1. Find the solutions of the following simultaneous differential equations:  \n",
    "a) $$\\frac{dx}{dt} = 3x + 2y \\quad \\frac{dy}{dt}=x+4y$$\n",
    "if $x(0)=1$ and $y(0)=4$."
   ]
  },
  {
   "cell_type": "code",
   "execution_count": 1,
   "metadata": {},
   "outputs": [],
   "source": [
    "from sympy import *\n",
    "init_printing()\n",
    "t, s = symbols('t s')"
   ]
  },
  {
   "cell_type": "markdown",
   "metadata": {},
   "source": [
    "1.  Determine the Laplace transforms for the following functions:  \n",
    "  a)  $3e^{-4t} -5e^{4t}$"
   ]
  },
  {
   "cell_type": "code",
   "execution_count": 2,
   "metadata": {},
   "outputs": [
    {
     "data": {
      "image/png": "[encoded data removed]",
      "text/latex": [
       "$$\\left ( - \\frac{2 s + 32}{s^{2} - 16}, \\quad 4, \\quad \\frac{s}{4} \\neq 1\\right )$$"
      ],
      "text/plain": [
       "⎛-(2⋅s + 32)      s    ⎞\n",
       "⎜────────────, 4, ─ ≠ 1⎟\n",
       "⎜   2             4    ⎟\n",
       "⎝  s  - 16             ⎠"
      ]
     },
     "execution_count": 2,
     "metadata": {},
     "output_type": "execute_result"
    }
   ],
   "source": [
    "laplace_transform(3*exp(-4*t) - 5*exp(4*t), t, s)"
   ]
  },
  {
   "cell_type": "markdown",
   "metadata": {},
   "source": [
    "  l) $5t^2 + 4t -3$"
   ]
  },
  {
   "cell_type": "code",
   "execution_count": 3,
   "metadata": {},
   "outputs": [
    {
     "data": {
      "image/png": "[encoded data removed]",
      "text/latex": [
       "$$\\left ( \\frac{- 3 s^{2} + 4 s + 10}{s^{3}}, \\quad 0, \\quad \\mathrm{True}\\right )$$"
      ],
      "text/plain": [
       "⎛     2                    ⎞\n",
       "⎜- 3⋅s  + 4⋅s + 10         ⎟\n",
       "⎜─────────────────, 0, True⎟\n",
       "⎜         3                ⎟\n",
       "⎝        s                 ⎠"
      ]
     },
     "execution_count": 3,
     "metadata": {},
     "output_type": "execute_result"
    }
   ],
   "source": [
    "laplace_transform(5*t**2 + 4*t - 3, t, s)"
   ]
  },
  {
   "cell_type": "markdown",
   "metadata": {},
   "source": [
    " 2. Determine the inverse Laplace transforms of:  \n",
    " a) $ \\dfrac{1}{3s^5} - \\dfrac{2}{3s^2}$"
   ]
  },
  {
   "cell_type": "code",
   "execution_count": 4,
   "metadata": {},
   "outputs": [],
   "source": [
    "t = symbols('t', positive=True) #assumption to remove Heaviside term in inverse laplace transforms"
   ]
  },
  {
   "cell_type": "code",
   "execution_count": 5,
   "metadata": {},
   "outputs": [
    {
     "data": {
      "image/png": "[encoded data removed]",
      "text/latex": [
       "$$\\frac{t^{4}}{72} - \\frac{2 t}{3}$$"
      ],
      "text/plain": [
       " 4      \n",
       "t    2⋅t\n",
       "── - ───\n",
       "72    3 "
      ]
     },
     "execution_count": 5,
     "metadata": {},
     "output_type": "execute_result"
    }
   ],
   "source": [
    "expand(inverse_laplace_transform( 1/(3*s**5) - 2/(3*s**2), s, t))"
   ]
  },
  {
   "cell_type": "markdown",
   "metadata": {},
   "source": [
    "   j) $\\dfrac{s-5}{s^2 + 4s + 20}$"
   ]
  },
  {
   "cell_type": "code",
   "execution_count": 6,
   "metadata": {},
   "outputs": [
    {
     "data": {
      "image/png": "[encoded data removed]",
      "text/latex": [
       "$$- \\frac{7 e^{- 2 t} \\sin{\\left (4 t \\right )}}{4} + e^{- 2 t} \\cos{\\left (4 t \\right )}$$"
      ],
      "text/plain": [
       "     -2⋅t                          \n",
       "  7⋅ℯ    ⋅sin(4⋅t)    -2⋅t         \n",
       "- ──────────────── + ℯ    ⋅cos(4⋅t)\n",
       "         4                         "
      ]
     },
     "execution_count": 6,
     "metadata": {},
     "output_type": "execute_result"
    }
   ],
   "source": [
    "expand(inverse_laplace_transform( (s-5)/(s**2 + 4*s + 20), s, t))"
   ]
  },
  {
   "cell_type": "markdown",
   "metadata": {},
   "source": [
    "#### **Examples LT2**"
   ]
  },
  {
   "cell_type": "markdown",
   "metadata": {},
   "source": [
    "1. Solve the following first order differential equations using the Laplace transform technique:  \n",
    "a) $\\dfrac{dy}{dt} - y = 0 \\quad y(0)=3$"
   ]
  },
  {
   "cell_type": "code",
   "execution_count": 7,
   "metadata": {},
   "outputs": [],
   "source": [
    "C1, C2 = symbols('C1 C2')\n",
    "t = symbols('t', positive=True)\n",
    "y = Function('y')(t)\n",
    "dydt = y.diff(t)"
   ]
  },
  {
   "cell_type": "markdown",
   "metadata": {},
   "source": [
    "**Method 1** - Solve using the _dsolve_ command..."
   ]
  },
  {
   "cell_type": "code",
   "execution_count": 8,
   "metadata": {},
   "outputs": [
    {
     "data": {
      "image/png": "[encoded data removed]",
      "text/latex": [
       "$$- y{\\left (t \\right )} + \\frac{d}{d t} y{\\left (t \\right )}$$"
      ],
      "text/plain": [
       "        d       \n",
       "-y(t) + ──(y(t))\n",
       "        dt      "
      ]
     },
     "execution_count": 8,
     "metadata": {},
     "output_type": "execute_result"
    }
   ],
   "source": [
    "Eq1 = dydt - y\n",
    "Eq1"
   ]
  },
  {
   "cell_type": "code",
   "execution_count": 9,
   "metadata": {},
   "outputs": [
    {
     "data": {
      "image/png": "[encoded data removed]",
      "text/latex": [
       "$$y{\\left (t \\right )} = C_{1} e^{t}$$"
      ],
      "text/plain": [
       "           t\n",
       "y(t) = C₁⋅ℯ "
      ]
     },
     "execution_count": 9,
     "metadata": {},
     "output_type": "execute_result"
    }
   ],
   "source": [
    "genEq1 = dsolve(Eq1)\n",
    "genEq1"
   ]
  },
  {
   "cell_type": "code",
   "execution_count": 10,
   "metadata": {},
   "outputs": [
    {
     "data": {
      "image/png": "[encoded data removed]",
      "text/latex": [
       "$$3$$"
      ],
      "text/plain": [
       "3"
      ]
     },
     "execution_count": 10,
     "metadata": {},
     "output_type": "execute_result"
    }
   ],
   "source": [
    "c1Eq1 = solve(genEq1.subs({y:3, t:0}),C1)[0]\n",
    "c1Eq1"
   ]
  },
  {
   "cell_type": "code",
   "execution_count": 11,
   "metadata": {},
   "outputs": [
    {
     "data": {
      "image/png": "[encoded data removed]",
      "text/latex": [
       "$$y{\\left (t \\right )} = 3 e^{t}$$"
      ],
      "text/plain": [
       "          t\n",
       "y(t) = 3⋅ℯ "
      ]
     },
     "execution_count": 11,
     "metadata": {},
     "output_type": "execute_result"
    }
   ],
   "source": [
    "prtEq1 = genEq1.subs(C1, c1Eq1)\n",
    "prtEq1"
   ]
  },
  {
   "cell_type": "markdown",
   "metadata": {},
   "source": [
    "**Method 2** - Solve using the laplace transform method..."
   ]
  },
  {
   "cell_type": "code",
   "execution_count": 12,
   "metadata": {},
   "outputs": [],
   "source": [
    "y = Function('y')\n",
    "s, Y = symbols('s Y', real=True)"
   ]
  },
  {
   "cell_type": "code",
   "execution_count": 13,
   "metadata": {},
   "outputs": [
    {
     "data": {
      "image/png": "[encoded data removed]",
      "text/latex": [
       "$$\\mathcal{L}_{t}\\left[y{\\left (t \\right )}\\right]\\left(s\\right)$$"
      ],
      "text/plain": [
       "LaplaceTransform(y(t), t, s)"
      ]
     },
     "execution_count": 13,
     "metadata": {},
     "output_type": "execute_result"
    }
   ],
   "source": [
    "L_y = laplace_transform(y(t), t, s)\n",
    "L_y"
   ]
  },
  {
   "cell_type": "code",
   "execution_count": 14,
   "metadata": {},
   "outputs": [
    {
     "data": {
      "image/png": "[encoded data removed]",
      "text/latex": [
       "$$- \\mathcal{L}_{t}\\left[y{\\left (t \\right )}\\right]\\left(s\\right) + \\mathcal{L}_{t}\\left[\\frac{d}{d t} y{\\left (t \\right )}\\right]\\left(s\\right)$$"
      ],
      "text/plain": [
       "                                                ⎛d             ⎞\n",
       "-LaplaceTransform(y(t), t, s) + LaplaceTransform⎜──(y(t)), t, s⎟\n",
       "                                                ⎝dt            ⎠"
      ]
     },
     "execution_count": 14,
     "metadata": {},
     "output_type": "execute_result"
    }
   ],
   "source": [
    "L_ode = expand(laplace_transform(Eq1, t, s, noconds=True))\n",
    "L_ode"
   ]
  },
  {
   "cell_type": "markdown",
   "metadata": {},
   "source": [
    "**The quote and code snippet is from 'Numerical Python: A Practical Techniques Approach for Industry' by Robert Johansson (p.218-219):**  \n",
    "  \n",
    "When Laplace transforming the unknown function $y(t)$ we get the undetermined result $\\mathcal{L}_{t}\\left[y{\\left(t \\right)}\\right]\\left(s\\right)$, which is to be expected. However, applying laplace_transform on a derivative of $y(t)$, such as $\\dfrac{d}{dt} y(t)$, results in the unevaluated expression $\\mathcal{L}_{t} \\left[ \\dfrac{d}{dt} y  \\left(t \\right)  \\right] \\left( s \\right)$. \n",
    "This is not the desired result, and we need to work around this issue to obtain the sought-after algebraic equation. The Laplace transformation if the derivative of an unknown function has a well-known form that involves the Laplace transform of the function itself, rather than its derivatives. For the $n$th derivative of a function $y(t)$, the formula is:  \n",
    "$$\\mathcal{L}_{t}\\left[\\dfrac{d^n}{d t^n} y{\\left(t \\right)}\\right]\\left(s\\right) = s^n \\mathcal{L}_{t} \\left[ y(t) \\right] (s) - \\sum_{m =0}^{n-1} s^{n-m-1} \\dfrac{d^m}{dt^m} y(t)$$\n",
    "By iterating through the SymPy expression tree for L_ode, and replacing the occurrences of $ \\mathcal{L}_{t}\\left[\\dfrac{d^n}{d t^n} y{\\left(t \\right)}\\right]\\left(s\\right) $ with expressions of the form given the formula above, we can obtain the algebraic form of the ODE that we seek. The following functions takes a Laplace-transformed ODE and performs the substitution of the unevaluated Laplace transforms of the derivatives of $y(t)$."
   ]
  },
  {
   "cell_type": "code",
   "execution_count": 15,
   "metadata": {},
   "outputs": [],
   "source": [
    "def laplace_transform_derivatives(e):\n",
    "    #Evaluate the unevaluated laplace transforms of derivatives of functions\n",
    "    if isinstance(e, LaplaceTransform):\n",
    "        if isinstance(e.args[0], Derivative):\n",
    "            d, t, s = e.args\n",
    "            n = len(d.args) -1\n",
    "            return ((s**n) * LaplaceTransform(d.args[0], t, s) -\n",
    "                    sum([s**(n-i) * diff(d.args[0], t, i-1).subs(t,0)\n",
    "                         for i in range(1, n+1)]))\n",
    "        \n",
    "    if isinstance(e, (Add, Mul)):\n",
    "        t = type(e)\n",
    "        return t(*[laplace_transform_derivatives(arg) for arg in e.args])\n",
    "    \n",
    "    return e"
   ]
  },
  {
   "cell_type": "code",
   "execution_count": 16,
   "metadata": {},
   "outputs": [
    {
     "data": {
      "image/png": "[encoded data removed]",
      "text/latex": [
       "$$s \\mathcal{L}_{t}\\left[y{\\left (t \\right )}\\right]\\left(s\\right) - \\mathcal{L}_{t}\\left[y{\\left (t \\right )}\\right]\\left(s\\right) - y{\\left (0 \\right )}$$"
      ],
      "text/plain": [
       "s⋅LaplaceTransform(y(t), t, s) - LaplaceTransform(y(t), t, s) - y(0)"
      ]
     },
     "execution_count": 16,
     "metadata": {},
     "output_type": "execute_result"
    }
   ],
   "source": [
    "L_ode2 = laplace_transform_derivatives(L_ode)\n",
    "L_ode2"
   ]
  },
  {
   "cell_type": "code",
   "execution_count": 17,
   "metadata": {},
   "outputs": [
    {
     "data": {
      "image/png": "[encoded data removed]",
      "text/latex": [
       "$$Y s - Y - y{\\left (0 \\right )}$$"
      ],
      "text/plain": [
       "Y⋅s - Y - y(0)"
      ]
     },
     "execution_count": 17,
     "metadata": {},
     "output_type": "execute_result"
    }
   ],
   "source": [
    "L_ode3 = L_ode2.subs(L_y, Y)\n",
    "L_ode3"
   ]
  },
  {
   "cell_type": "code",
   "execution_count": 18,
   "metadata": {},
   "outputs": [
    {
     "data": {
      "image/png": "[encoded data removed]",
      "text/latex": [
       "$$\\frac{3}{s - 1}$$"
      ],
      "text/plain": [
       "  3  \n",
       "─────\n",
       "s - 1"
      ]
     },
     "execution_count": 18,
     "metadata": {},
     "output_type": "execute_result"
    }
   ],
   "source": [
    "YFunc1 = solve(L_ode3.subs({y(0) : 3}), Y)[0]\n",
    "YFunc1"
   ]
  },
  {
   "cell_type": "code",
   "execution_count": 19,
   "metadata": {},
   "outputs": [
    {
     "data": {
      "image/png": "[encoded data removed]",
      "text/latex": [
       "$$3 e^{t}$$"
      ],
      "text/plain": [
       "   t\n",
       "3⋅ℯ "
      ]
     },
     "execution_count": 19,
     "metadata": {},
     "output_type": "execute_result"
    }
   ],
   "source": [
    "inverse_laplace_transform(YFunc1, s, t)"
   ]
  },
  {
   "cell_type": "markdown",
   "metadata": {},
   "source": [
    "***  \n",
    "  \n",
    "by Dr J T Wharton\n",
    "\n",
    "***"
   ]
  }
 ],
 "metadata": {
  "kernelspec": {
   "display_name": "Python 3",
   "language": "python",
   "name": "python3"
  },
  "language_info": {
   "codemirror_mode": {
    "name": "ipython",
    "version": 3
   },
   "file_extension": ".py",
   "mimetype": "text/x-python",
   "name": "python",
   "nbconvert_exporter": "python",
   "pygments_lexer": "ipython3",
   "version": "3.7.3"
  }
 },
 "nbformat": 4,
 "nbformat_minor": 4
}
