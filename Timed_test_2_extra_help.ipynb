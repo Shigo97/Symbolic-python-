{
 "cells": [
  {
   "cell_type": "code",
   "execution_count": 1,
   "id": "4688be91-1de3-4c18-bb8b-14a92b8a4cb9",
   "metadata": {},
   "outputs": [],
   "source": [
    "from sympy import *\n",
    "init_printing()\n",
    "x, y, z = symbols('x y z')"
   ]
  },
  {
   "cell_type": "code",
   "execution_count": 3,
   "id": "905f2d96-cf0e-4735-8416-5d1063c274fe",
   "metadata": {},
   "outputs": [
    {
     "data": {
      "image/png": "[encoded data removed]",
      "text/latex": [
       "$\\displaystyle 105 \\pi \\left(\\frac{x^{9}}{y^{8} z^{7}}\\right)^{0.5}$"
      ],
      "text/plain": [
       "             0.5\n",
       "      ⎛   9 ⎞   \n",
       "      ⎜  x  ⎟   \n",
       "105⋅π⋅⎜─────⎟   \n",
       "      ⎜ 8  7⎟   \n",
       "      ⎝y ⋅z ⎠   "
      ]
     },
     "execution_count": 3,
     "metadata": {},
     "output_type": "execute_result"
    }
   ],
   "source": [
    "P = 105*pi*(x**9/(y**8*z**7))**(1/2)\n",
    "P"
   ]
  },
  {
   "cell_type": "code",
   "execution_count": 5,
   "id": "8093f934-af28-4aca-b1e2-64a1c997ec2e",
   "metadata": {},
   "outputs": [
    {
     "data": {
      "image/png": "[encoded data removed]",
      "text/latex": [
       "$\\displaystyle \\frac{472.5 \\pi \\left(\\frac{x^{9}}{y^{8} z^{7}}\\right)^{0.5}}{x}$"
      ],
      "text/plain": [
       "               0.5\n",
       "        ⎛   9 ⎞   \n",
       "        ⎜  x  ⎟   \n",
       "472.5⋅π⋅⎜─────⎟   \n",
       "        ⎜ 8  7⎟   \n",
       "        ⎝y ⋅z ⎠   \n",
       "──────────────────\n",
       "        x         "
      ]
     },
     "execution_count": 5,
     "metadata": {},
     "output_type": "execute_result"
    }
   ],
   "source": [
    "dPdx = P.diff(x)\n",
    "dPdx"
   ]
  },
  {
   "cell_type": "code",
   "execution_count": 8,
   "id": "460b2456-02a8-4b5f-b335-f9bc066f91b4",
   "metadata": {},
   "outputs": [
    {
     "data": {
      "text/plain": [
       "'-420.0*pi*(x**9/(y**8*z**7))**0.5/y'"
      ]
     },
     "execution_count": 8,
     "metadata": {},
     "output_type": "execute_result"
    }
   ],
   "source": [
    "dPdy = P.diff(y)\n",
    "str(dPdy)"
   ]
  },
  {
   "cell_type": "code",
   "execution_count": 9,
   "id": "44ce4320-f554-4707-a19e-442fd2f4ac97",
   "metadata": {},
   "outputs": [
    {
     "data": {
      "text/plain": [
       "'-367.5*pi*(x**9/(y**8*z**7))**0.5/z'"
      ]
     },
     "execution_count": 9,
     "metadata": {},
     "output_type": "execute_result"
    }
   ],
   "source": [
    "dPdz = P.diff(z)\n",
    "str(dPdz)"
   ]
  },
  {
   "cell_type": "code",
   "execution_count": 12,
   "id": "de81db55-c4bf-4bff-acd3-ddc2885ebb63",
   "metadata": {},
   "outputs": [
    {
     "data": {
      "image/png": "[encoded data removed]",
      "text/latex": [
       "$\\displaystyle - 10.8675 \\pi \\left(\\frac{x^{9}}{y^{8} z^{7}}\\right)^{0.5}$"
      ],
      "text/plain": [
       "                  0.5\n",
       "           ⎛   9 ⎞   \n",
       "           ⎜  x  ⎟   \n",
       "-10.8675⋅π⋅⎜─────⎟   \n",
       "           ⎜ 8  7⎟   \n",
       "           ⎝y ⋅z ⎠   "
      ]
     },
     "execution_count": 12,
     "metadata": {},
     "output_type": "execute_result"
    }
   ],
   "source": [
    "dx = (2.1/100)*x\n",
    "dy = (2.5/100)*y\n",
    "dz = (2.8/100)*z\n",
    "dP = dPdx*dx + dPdy*dy + dPdz*dz\n",
    "dP"
   ]
  },
  {
   "cell_type": "code",
   "execution_count": 13,
   "id": "0f93a7e3-8924-4d28-b1f4-026ff3688d6b",
   "metadata": {},
   "outputs": [
    {
     "data": {
      "text/plain": [
       "'-10.8675*pi*(x**9/(y**8*z**7))**0.5'"
      ]
     },
     "execution_count": 13,
     "metadata": {},
     "output_type": "execute_result"
    }
   ],
   "source": [
    "str(dP)"
   ]
  },
  {
   "cell_type": "code",
   "execution_count": null,
   "id": "f3e65ec0-e88a-4466-ba58-45ffd4484020",
   "metadata": {},
   "outputs": [],
   "source": []
  }
 ],
 "metadata": {
  "kernelspec": {
   "display_name": "Python 3 (ipykernel)",
   "language": "python",
   "name": "python3"
  },
  "language_info": {
   "codemirror_mode": {
    "name": "ipython",
    "version": 3
   },
   "file_extension": ".py",
   "mimetype": "text/x-python",
   "name": "python",
   "nbconvert_exporter": "python",
   "pygments_lexer": "ipython3",
   "version": "3.9.7"
  }
 },
 "nbformat": 4,
 "nbformat_minor": 5
}
