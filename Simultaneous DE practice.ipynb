{
 "cells": [
  {
   "cell_type": "code",
   "execution_count": 1,
   "id": "3b133d5c-fdee-45da-98f2-d4a6c5ef2717",
   "metadata": {},
   "outputs": [],
   "source": [
    "from sympy import * \n",
    "init_printing()"
   ]
  },
  {
   "cell_type": "code",
   "execution_count": 24,
   "id": "e65310b0-25ce-455c-874f-590fcf4a962e",
   "metadata": {},
   "outputs": [],
   "source": [
    "a, b, c, d, t, C1, C2 = symbols('a b c d t C1 C2')\n",
    "x = Function('x')(t)\n",
    "y = Function('y')(t)\n",
    "dx = x.diff(t)\n",
    "dy = y.diff(t)"
   ]
  },
  {
   "cell_type": "code",
   "execution_count": 25,
   "id": "2b7361a7-8b7e-4c6f-a5b8-545d16452bf2",
   "metadata": {},
   "outputs": [],
   "source": [
    "# This question is concerned with finding the solution of the first order simultaneous equations\n",
    "# dxdt=ax+by \n",
    "# dydt=cx+dy \n",
    "# where a = 59, b = 16, c = -192, d = -53\n",
    "# (I)\t\n",
    "# Find the particular solutions to the differential equations which satisfy the initial conditions\n",
    "# x = 6 and y = 2 at t = 0.\n",
    "# For this part of the question give x as a function of t.\n",
    "# Omit the \"x = \" (8 marks)"
   ]
  },
  {
   "cell_type": "code",
   "execution_count": 26,
   "id": "93e12d1f-d4ea-40a6-8419-9954158acfcb",
   "metadata": {},
   "outputs": [
    {
     "data": {
      "image/png": "[encoded data removed]",
      "text/latex": [
       "$\\displaystyle 59 x{\\left(t \\right)} + 16 y{\\left(t \\right)} = \\frac{d}{d t} x{\\left(t \\right)}$"
      ],
      "text/plain": [
       "                    d       \n",
       "59⋅x(t) + 16⋅y(t) = ──(x(t))\n",
       "                    dt      "
      ]
     },
     "execution_count": 26,
     "metadata": {},
     "output_type": "execute_result"
    }
   ],
   "source": [
    "Eq1 = Eq( 59*x + 16*y , dx)\n",
    "Eq1"
   ]
  },
  {
   "cell_type": "code",
   "execution_count": 27,
   "id": "cc69d2f2-9e4e-481e-8e35-5464d1bec91f",
   "metadata": {},
   "outputs": [
    {
     "data": {
      "image/png": "[encoded data removed]",
      "text/latex": [
       "$\\displaystyle - 192 x{\\left(t \\right)} - 53 y{\\left(t \\right)} = \\frac{d}{d t} y{\\left(t \\right)}$"
      ],
      "text/plain": [
       "                      d       \n",
       "-192⋅x(t) - 53⋅y(t) = ──(y(t))\n",
       "                      dt      "
      ]
     },
     "execution_count": 27,
     "metadata": {},
     "output_type": "execute_result"
    }
   ],
   "source": [
    "Eq2 = Eq( -192*x + -53*y , dy )\n",
    "Eq2"
   ]
  },
  {
   "cell_type": "code",
   "execution_count": 28,
   "id": "2095e916-d618-4404-8119-85865fa489ec",
   "metadata": {},
   "outputs": [],
   "source": [
    "a = 59 \n",
    "b = 16\n",
    "c = -192\n",
    "d = -53"
   ]
  },
  {
   "cell_type": "code",
   "execution_count": 29,
   "id": "d114b4af-5876-401a-9bdb-15d87cb09380",
   "metadata": {},
   "outputs": [
    {
     "data": {
      "image/png": "[encoded data removed]",
      "text/latex": [
       "$\\displaystyle \\left[ x{\\left(t \\right)} = - \\frac{C_{1} e^{- 5 t}}{4} - \\frac{C_{2} e^{11 t}}{3}, \\  y{\\left(t \\right)} = C_{1} e^{- 5 t} + C_{2} e^{11 t}\\right]$"
      ],
      "text/plain": [
       "⎡             -5⋅t       11⋅t                            ⎤\n",
       "⎢         C₁⋅ℯ       C₂⋅ℯ                 -5⋅t       11⋅t⎥\n",
       "⎢x(t) = - ──────── - ────────, y(t) = C₁⋅ℯ     + C₂⋅ℯ    ⎥\n",
       "⎣            4          3                                ⎦"
      ]
     },
     "execution_count": 29,
     "metadata": {},
     "output_type": "execute_result"
    }
   ],
   "source": [
    "sol = dsolve([Eq1,Eq2],[x,y])\n",
    "sol"
   ]
  },
  {
   "cell_type": "code",
   "execution_count": 30,
   "id": "0964b84e-82d2-455a-8fe8-3d7c0b2bf12b",
   "metadata": {},
   "outputs": [
    {
     "data": {
      "image/png": "[encoded data removed]",
      "text/latex": [
       "$\\displaystyle 6 = - \\frac{C_{1}}{4} - \\frac{C_{2}}{3}$"
      ],
      "text/plain": [
       "      C₁   C₂\n",
       "6 = - ── - ──\n",
       "      4    3 "
      ]
     },
     "execution_count": 30,
     "metadata": {},
     "output_type": "execute_result"
    }
   ],
   "source": [
    "Xval = ((sol[0]).subs(x,6).subs(t,0))\n",
    "Xval"
   ]
  },
  {
   "cell_type": "code",
   "execution_count": 31,
   "id": "a855e8a6-402e-4191-a772-41f44823c74d",
   "metadata": {},
   "outputs": [
    {
     "data": {
      "image/png": "[encoded data removed]",
      "text/latex": [
       "$\\displaystyle 2 = C_{1} + C_{2}$"
      ],
      "text/plain": [
       "2 = C₁ + C₂"
      ]
     },
     "execution_count": 31,
     "metadata": {},
     "output_type": "execute_result"
    }
   ],
   "source": [
    "Yval = ((sol[1]).subs(y,2).subs(t,0))\n",
    "Yval"
   ]
  },
  {
   "cell_type": "code",
   "execution_count": 37,
   "id": "b32ed27e-8472-4d06-88b1-abc7bcc010fa",
   "metadata": {},
   "outputs": [
    {
     "data": {
      "image/png": "[encoded data removed]",
      "text/latex": [
       "$\\displaystyle \\left[ \\left\\{ C_{1} : 80, \\  C_{2} : -78\\right\\}\\right]$"
      ],
      "text/plain": [
       "[{C₁: 80, C₂: -78}]"
      ]
     },
     "execution_count": 37,
     "metadata": {},
     "output_type": "execute_result"
    }
   ],
   "source": [
    "Psol = [solve([Xval,Yval],[C1,C2])]\n",
    "Psol"
   ]
  },
  {
   "cell_type": "code",
   "execution_count": 39,
   "id": "be064377-ce59-46e7-9976-fd7a7618b491",
   "metadata": {},
   "outputs": [
    {
     "data": {
      "image/png": "[encoded data removed]",
      "text/latex": [
       "$\\displaystyle x{\\left(t \\right)} = 26 e^{11 t} - 20 e^{- 5 t}$"
      ],
      "text/plain": [
       "           11⋅t       -5⋅t\n",
       "x(t) = 26⋅ℯ     - 20⋅ℯ    "
      ]
     },
     "execution_count": 39,
     "metadata": {},
     "output_type": "execute_result"
    }
   ],
   "source": [
    "normal1 = (sol[0]).subs([(C1,Psol[0][C1]),(C2,Psol[0][C2])])\n",
    "normal1"
   ]
  },
  {
   "cell_type": "code",
   "execution_count": 40,
   "id": "fe07b643-4b34-4357-9054-96a422125ed3",
   "metadata": {},
   "outputs": [
    {
     "data": {
      "image/png": "[encoded data removed]",
      "text/latex": [
       "$\\displaystyle y{\\left(t \\right)} = - 78 e^{11 t} + 80 e^{- 5 t}$"
      ],
      "text/plain": [
       "             11⋅t       -5⋅t\n",
       "y(t) = - 78⋅ℯ     + 80⋅ℯ    "
      ]
     },
     "execution_count": 40,
     "metadata": {},
     "output_type": "execute_result"
    }
   ],
   "source": [
    "normal2 = (sol[1]).subs([(C1,Psol[0][C1]),(C2,Psol[0][C2])])\n",
    "normal2"
   ]
  },
  {
   "cell_type": "code",
   "execution_count": 42,
   "id": "1ca7c138-43aa-4629-bf39-74e024369ac0",
   "metadata": {},
   "outputs": [
    {
     "data": {
      "text/plain": [
       "'Eq(x(t), 26*exp(11*t) - 20*exp(-5*t))'"
      ]
     },
     "execution_count": 42,
     "metadata": {},
     "output_type": "execute_result"
    }
   ],
   "source": [
    "str(normal1)"
   ]
  },
  {
   "cell_type": "code",
   "execution_count": 43,
   "id": "e881ac55-c875-46bf-805e-dcb7a2e2a57a",
   "metadata": {},
   "outputs": [
    {
     "data": {
      "text/plain": [
       "'Eq(y(t), -78*exp(11*t) + 80*exp(-5*t))'"
      ]
     },
     "execution_count": 43,
     "metadata": {},
     "output_type": "execute_result"
    }
   ],
   "source": [
    "str(normal2)"
   ]
  },
  {
   "cell_type": "code",
   "execution_count": 46,
   "id": "22d698aa-0d27-4f1b-9015-24144edb79d7",
   "metadata": {},
   "outputs": [
    {
     "data": {
      "image/png": "[encoded data removed]",
      "text/latex": [
       "$\\displaystyle 27.2340546534413$"
      ],
      "text/plain": [
       "27.2340546534413"
      ]
     },
     "execution_count": 46,
     "metadata": {},
     "output_type": "execute_result"
    }
   ],
   "source": [
    "# What is the value of x at t = 0.046?\n",
    "ans = 26*exp(11*0.046) - 20*exp(-5*0.046)\n",
    "ans"
   ]
  },
  {
   "cell_type": "code",
   "execution_count": 50,
   "id": "1fc7c09a-b348-4e73-8bb6-8f143838bfc2",
   "metadata": {},
   "outputs": [
    {
     "data": {
      "image/png": "[encoded data removed]",
      "text/latex": [
       "$\\displaystyle -65.8114919102571$"
      ],
      "text/plain": [
       "-65.8114919102571"
      ]
     },
     "execution_count": 50,
     "metadata": {},
     "output_type": "execute_result"
    }
   ],
   "source": [
    "# What is the value of y at t = 0.046?\n",
    "ans = -78*exp(11*0.046) + 80*exp(-5*0.046)\n",
    "ans"
   ]
  },
  {
   "cell_type": "code",
   "execution_count": 52,
   "id": "5c231547-2fc1-43a6-b376-d19edb767bed",
   "metadata": {},
   "outputs": [],
   "source": [
    "# Initial temp of hot liquid is 65 Degree Cel.\n",
    "# Earlier in your studies, you modelled the cooling of a vessel containing liquid with a single first order differential equation based on Newton's law of cooling. This does not agree well with reality. The vessel and liquid are better modelled by a \"two compartment\" model; the compartments being the vessel and the liquid.\n",
    "\n",
    "# The empty vessel is initially at the temperature of the surroundings. This is taken as a base level of 0 degrees. A hot liquid is quickly poured in and this is initially at 65 degrees. Heat is transferred from the cooling liquid to the vessel and heat is also transferred from the vessel to the surroundings. Thus the liquid cools monotonically as time goes on. However, the vessel initially heats up (due to the hot liquid having been poured in) before cooling as the liquid cools. The purpose of this question is to investigate the temperatures of both the vessel and the liquid. \n",
    "\n",
    "# This question is concerned with the modelling of a cylindrical cup containing the liquid. The temperatures of the liquid and vessel measured relative to the surrounding temperature are given by  T1(t)  and  T2(t)   respectively at time  t , where time is measured in seconds. They are governed by the following pair of first order, coupled differential equations:\n",
    "# dT1dt=a T1+b T2dT2dt=c T1+d T2 \n",
    "# The coefficients are a, b, c and d are given below:\n",
    "\n",
    "# a=−(U At+hl  As)ml  cl \n",
    "# b=hl  Asml  cl \n",
    "# c=hl  Asmv  cv \n",
    "# d=−(hl+ha)  Asmv  cv \n",
    "# U=(1hl+1ha)−1 \n",
    "# where (in SI units)\n",
    "\n",
    "# mass of liquid   ml   =  0.22\n",
    "\n",
    "# mass of vessel   mv   =  0.24\n",
    "\n",
    "# specific heat of liquid   cl   =  4,193\n",
    "\n",
    "# specific heat of vessel   cv  =  920\n",
    "\n",
    "# convective heat transfer coefficient between liquid and air    ha   =  22\n",
    "\n",
    "# convective heat transfer coefficient between liquid and surface   hl   =  68\n",
    "\n",
    "# At  is the area of the circular top of the cylindrical vessel whose diameter is  0.073  metres\n",
    "\n",
    "# As is the curved surface area of the cylindrical vessel whose height is  0.0615  metres"
   ]
  },
  {
   "cell_type": "code",
   "execution_count": 53,
   "id": "f41ae24e-920b-4a31-b030-76bcd75e7f29",
   "metadata": {},
   "outputs": [],
   "source": [
    "a, b, c, d, U, At, As, t, ml, mv, cl, cv, ha, hl, r, h= symbols('a b c d U At As t ml mv cl cv ha hl r h')\n",
    "t, C1, C2 = symbols('t C1 C2')\n",
    "x = Function('x')(t)\n",
    "y = Function('y')(t)\n",
    "dx = x.diff(t)\n",
    "dy = y.diff(t)"
   ]
  },
  {
   "cell_type": "code",
   "execution_count": 57,
   "id": "98f4f640-8245-46fb-aae7-b3351baba715",
   "metadata": {},
   "outputs": [],
   "source": [
    "# r is diameter \n",
    "ml= Rational('0.22')\n",
    "mv=Rational('0.24')\n",
    "cl =Rational('4193')\n",
    "cv =Rational('920')\n",
    "ha =Rational('22')\n",
    "hl =Rational('68')\n",
    "r=Rational('0.073')\n",
    "h=Rational('0.0615')"
   ]
  },
  {
   "cell_type": "code",
   "execution_count": 58,
   "id": "94d313f7-74ed-48fb-bbb1-8c493ed9b738",
   "metadata": {},
   "outputs": [],
   "source": [
    "U= ((1/hl)+(1/ha))**-1\n",
    "At= pi * (r/2)**2\n",
    "As= 2* pi * h * (r/2)\n",
    "a= -(U*At + hl*As)/(ml * cl)\n",
    "b=(hl*As)/(ml * cl)\n",
    "c= (hl*As)/(mv*cv)\n",
    "d= -((hl+ha)*As)/(mv*cv)"
   ]
  },
  {
   "cell_type": "code",
   "execution_count": 59,
   "id": "51efdbc1-bfb2-4ef2-b953-60390b14a0ca",
   "metadata": {},
   "outputs": [
    {
     "data": {
      "image/png": "[encoded data removed]",
      "text/latex": [
       "$\\displaystyle - \\frac{14734393 \\pi}{41510700000}$"
      ],
      "text/plain": [
       "-14734393⋅π \n",
       "────────────\n",
       "41510700000 "
      ]
     },
     "execution_count": 59,
     "metadata": {},
     "output_type": "execute_result"
    }
   ],
   "source": [
    "a"
   ]
  },
  {
   "cell_type": "code",
   "execution_count": null,
   "id": "8757a379-6756-4187-a14c-a00e4aa9afd0",
   "metadata": {},
   "outputs": [],
   "source": []
  }
 ],
 "metadata": {
  "kernelspec": {
   "display_name": "Python 3 (ipykernel)",
   "language": "python",
   "name": "python3"
  },
  "language_info": {
   "codemirror_mode": {
    "name": "ipython",
    "version": 3
   },
   "file_extension": ".py",
   "mimetype": "text/x-python",
   "name": "python",
   "nbconvert_exporter": "python",
   "pygments_lexer": "ipython3",
   "version": "3.9.7"
  }
 },
 "nbformat": 4,
 "nbformat_minor": 5
}
