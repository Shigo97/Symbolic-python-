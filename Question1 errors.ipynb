{
 "cells": [
  {
   "cell_type": "code",
   "execution_count": 37,
   "id": "85189988-172b-4349-a826-41ecbecf34e1",
   "metadata": {},
   "outputs": [],
   "source": [
    "from sympy import *\n",
    "init_printing()\n",
    "(z, a, b) = symbols('z a b')"
   ]
  },
  {
   "cell_type": "code",
   "execution_count": 48,
   "id": "d3ec1ecb-2ff5-494e-9e15-02ac8fc5a1e3",
   "metadata": {},
   "outputs": [
    {
     "data": {
      "image/png": "[encoded data removed]",
      "text/latex": [
       "$\\displaystyle \\frac{4 a + 21 b}{10 a + 6 b}$"
      ],
      "text/plain": [
       "4⋅a + 21⋅b\n",
       "──────────\n",
       "10⋅a + 6⋅b"
      ]
     },
     "execution_count": 48,
     "metadata": {},
     "output_type": "execute_result"
    }
   ],
   "source": [
    "z = (4*a+21*b)/(10*a+6*b)\n",
    "z"
   ]
  },
  {
   "cell_type": "code",
   "execution_count": 58,
   "id": "93a4c09d-a9c3-4f3d-a544-87330fba880e",
   "metadata": {},
   "outputs": [
    {
     "data": {
      "image/png": "[encoded data removed]",
      "text/latex": [
       "$\\displaystyle 0.008 a \\left(- \\frac{10 \\left(4 a + 21 b\\right)}{\\left(10 a + 6 b\\right)^{2}} + \\frac{4}{10 a + 6 b}\\right) + 0.031 a \\left(- \\frac{6 \\left(4 a + 21 b\\right)}{\\left(10 a + 6 b\\right)^{2}} + \\frac{21}{10 a + 6 b}\\right)$"
      ],
      "text/plain": [
       "        ⎛  10⋅(4⋅a + 21⋅b)       4     ⎞           ⎛  6⋅(4⋅a + 21⋅b)       21 \n",
       "0.008⋅a⋅⎜- ─────────────── + ──────────⎟ + 0.031⋅a⋅⎜- ────────────── + ───────\n",
       "        ⎜               2    10⋅a + 6⋅b⎟           ⎜              2    10⋅a + \n",
       "        ⎝   (10⋅a + 6⋅b)               ⎠           ⎝  (10⋅a + 6⋅b)            \n",
       "\n",
       "   ⎞\n",
       "───⎟\n",
       "6⋅b⎟\n",
       "   ⎠"
      ]
     },
     "execution_count": 58,
     "metadata": {},
     "output_type": "execute_result"
    }
   ],
   "source": [
    "dzda = z.diff(a)\n",
    "dzdb = z.diff(b)\n",
    "da = (0.8/100)*a\n",
    "db = (3.1/100)*a\n",
    "dz = dzda*da + dzdb*db\n",
    "dz"
   ]
  },
  {
   "cell_type": "code",
   "execution_count": 59,
   "id": "ff010e01-6d7f-4d75-9b23-bdab5fde1b63",
   "metadata": {},
   "outputs": [],
   "source": [
    "Eq2 = Eq(dz.subs({b:22}))"
   ]
  },
  {
   "cell_type": "code",
   "execution_count": 60,
   "id": "506dbb05-136d-4cc1-a77d-c62d0f62539e",
   "metadata": {},
   "outputs": [
    {
     "data": {
      "image/png": "[encoded data removed]",
      "text/latex": [
       "$\\displaystyle \\left[ 0.0, \\  5.67741935483871\\right]$"
      ],
      "text/plain": [
       "[0.0, 5.67741935483871]"
      ]
     },
     "execution_count": 60,
     "metadata": {},
     "output_type": "execute_result"
    }
   ],
   "source": [
    "solve(Eq2, a)"
   ]
  }
 ],
 "metadata": {
  "kernelspec": {
   "display_name": "Python 3 (ipykernel)",
   "language": "python",
   "name": "python3"
  },
  "language_info": {
   "codemirror_mode": {
    "name": "ipython",
    "version": 3
   },
   "file_extension": ".py",
   "mimetype": "text/x-python",
   "name": "python",
   "nbconvert_exporter": "python",
   "pygments_lexer": "ipython3",
   "version": "3.9.7"
  }
 },
 "nbformat": 4,
 "nbformat_minor": 5
}
