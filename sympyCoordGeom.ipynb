{
 "cells": [
  {
   "cell_type": "markdown",
   "metadata": {},
   "source": [
    "# Pre Masters Maths 6601PMEC"
   ]
  },
  {
   "cell_type": "markdown",
   "metadata": {},
   "source": [
    "## Examples of Using SymPy Coordinate Geometry"
   ]
  },
  {
   "cell_type": "markdown",
   "metadata": {},
   "source": [
    "1.  Find the equations of the straight lines through the given points with the given gradients.  \n",
    "  a)  $(-2, 3)$, gradient 4"
   ]
  },
  {
   "cell_type": "code",
   "execution_count": 31,
   "metadata": {},
   "outputs": [],
   "source": [
    "from sympy import *\n",
    "init_printing()"
   ]
  },
  {
   "cell_type": "code",
   "execution_count": 32,
   "metadata": {},
   "outputs": [
    {
     "data": {
      "image/png": "[encoded data removed]",
      "text/latex": [
       "$\\displaystyle - 4 x + y - 11$"
      ],
      "text/plain": [
       "-4⋅x + y - 11"
      ]
     },
     "execution_count": 32,
     "metadata": {},
     "output_type": "execute_result"
    }
   ],
   "source": [
    "p1 = Point(-2, 3)\n",
    "Line(p1, slope=4).equation()"
   ]
  },
  {
   "cell_type": "markdown",
   "metadata": {},
   "source": [
    "2.  Find the equations of the lines joining the following points.  \n",
    "  a)  $(0, -7), \\quad (2, -5)$"
   ]
  },
  {
   "cell_type": "code",
   "execution_count": 33,
   "metadata": {},
   "outputs": [
    {
     "data": {
      "image/png": "[encoded data removed]",
      "text/latex": [
       "$\\displaystyle - 2 x + 2 y + 14$"
      ],
      "text/plain": [
       "-2⋅x + 2⋅y + 14"
      ]
     },
     "execution_count": 33,
     "metadata": {},
     "output_type": "execute_result"
    }
   ],
   "source": [
    "p1 = Point(0, -7)\n",
    "p2 = Point(2, -5)\n",
    "Line(p1, p2).equation()"
   ]
  },
  {
   "cell_type": "markdown",
   "metadata": {},
   "source": [
    "3.  a)  Find the equation of the line which passes through the point $(-2, -1)$ and is parallel to the line $3x - 9y = 4$"
   ]
  },
  {
   "cell_type": "code",
   "execution_count": 34,
   "metadata": {},
   "outputs": [],
   "source": [
    "p1 = Point(-2, -1)\n",
    "x, y = symbols('x y')\n",
    "line1 = Line(3*x - 9*y - 4)"
   ]
  },
  {
   "cell_type": "code",
   "execution_count": 35,
   "metadata": {},
   "outputs": [
    {
     "data": {
      "image/png": "[encoded data removed]",
      "text/latex": [
       "$\\displaystyle - \\frac{x}{3} + y + \\frac{1}{3}$"
      ],
      "text/plain": [
       "  x       1\n",
       "- ─ + y + ─\n",
       "  3       3"
      ]
     },
     "execution_count": 35,
     "metadata": {},
     "output_type": "execute_result"
    }
   ],
   "source": [
    "line1.parallel_line(p1).equation()"
   ]
  },
  {
   "cell_type": "markdown",
   "metadata": {},
   "source": [
    "3.  b)  Find the equation of the line which passes through the point $(-2, -1)$ and is perpendicular to the line $3x - 9y = 4$"
   ]
  },
  {
   "cell_type": "code",
   "execution_count": 36,
   "metadata": {},
   "outputs": [
    {
     "data": {
      "image/png": "[encoded data removed]",
      "text/latex": [
       "$\\displaystyle - x - \\frac{y}{3} - \\frac{7}{3}$"
      ],
      "text/plain": [
       "     y   7\n",
       "-x - ─ - ─\n",
       "     3   3"
      ]
     },
     "execution_count": 36,
     "metadata": {},
     "output_type": "execute_result"
    }
   ],
   "source": [
    "line1.perpendicular_line(p1).equation()"
   ]
  },
  {
   "cell_type": "markdown",
   "metadata": {},
   "source": [
    "4.  Find the coordinates of the foot of the perpendicular from the point $(-2, 4)$ line $x - 2y -5 =0$"
   ]
  },
  {
   "cell_type": "code",
   "execution_count": 37,
   "metadata": {},
   "outputs": [
    {
     "data": {
      "image/png": "[encoded data removed]",
      "text/latex": [
       "$\\displaystyle \\left[ Point2D\\left(1, -2\\right)\\right]$"
      ],
      "text/plain": [
       "[Point2D(1, -2)]"
      ]
     },
     "execution_count": 37,
     "metadata": {},
     "output_type": "execute_result"
    }
   ],
   "source": [
    "p1 = Point(-2, 4)\n",
    "line1 = Line(x - 2*y - 5)\n",
    "line2 = line1.perpendicular_line(p1)\n",
    "line1.intersection(line2)"
   ]
  },
  {
   "cell_type": "markdown",
   "metadata": {},
   "source": [
    "5.  Prove that the lines $$3x - 2y + 7 = 0$$ $$5x + 4y = 3$$ $$2x + 5y = 8$$ all meet at a single point (concurrent).  \n",
    "Find the equation of the line through the point of intersection which has gradient 3."
   ]
  },
  {
   "cell_type": "code",
   "execution_count": 38,
   "metadata": {},
   "outputs": [
    {
     "data": {
      "text/plain": [
       "True"
      ]
     },
     "execution_count": 38,
     "metadata": {},
     "output_type": "execute_result"
    }
   ],
   "source": [
    "line1 = Line(3*x - 2*y + 7)\n",
    "line2 = Line(5*x + 4*y - 3)\n",
    "line3 = Line(2*x + 5*y - 8)\n",
    "Line.are_concurrent(line1, line2, line3)"
   ]
  },
  {
   "cell_type": "code",
   "execution_count": 47,
   "metadata": {},
   "outputs": [
    {
     "data": {
      "image/png": "[encoded data removed]",
      "text/latex": [
       "$\\displaystyle Point2D\\left(-1, 2\\right)$"
      ],
      "text/plain": [
       "Point2D(-1, 2)"
      ]
     },
     "execution_count": 47,
     "metadata": {},
     "output_type": "execute_result"
    }
   ],
   "source": [
    "p1 = line1.intersection(line2)[0]\n",
    "p1"
   ]
  },
  {
   "cell_type": "code",
   "execution_count": 48,
   "metadata": {},
   "outputs": [
    {
     "data": {
      "image/png": "[encoded data removed]",
      "text/latex": [
       "$\\displaystyle \\left[ Point2D\\left(-1, 2\\right)\\right]$"
      ],
      "text/plain": [
       "[Point2D(-1, 2)]"
      ]
     },
     "execution_count": 48,
     "metadata": {},
     "output_type": "execute_result"
    }
   ],
   "source": [
    "line1.intersection(line3)"
   ]
  },
  {
   "cell_type": "code",
   "execution_count": 49,
   "metadata": {},
   "outputs": [
    {
     "data": {
      "image/png": "[encoded data removed]",
      "text/latex": [
       "$\\displaystyle - 3 x + y - 5$"
      ],
      "text/plain": [
       "-3⋅x + y - 5"
      ]
     },
     "execution_count": 49,
     "metadata": {},
     "output_type": "execute_result"
    }
   ],
   "source": [
    "Line(p1, slope=3).equation()"
   ]
  },
  {
   "cell_type": "markdown",
   "metadata": {},
   "source": [
    "6.  Find the equation of the perpendicular bisector of the line joining the points $(-2, 3)$ and $(8, -7)$."
   ]
  },
  {
   "cell_type": "code",
   "execution_count": 52,
   "metadata": {},
   "outputs": [
    {
     "data": {
      "image/png": "[encoded data removed]",
      "text/latex": [
       "$\\displaystyle - 10 x + 10 y + 50$"
      ],
      "text/plain": [
       "-10⋅x + 10⋅y + 50"
      ]
     },
     "execution_count": 52,
     "metadata": {},
     "output_type": "execute_result"
    }
   ],
   "source": [
    "p1 = Point(-2, 3)\n",
    "p2 = Point(8, -7)\n",
    "s1 = Segment(p1, p2)\n",
    "s1.perpendicular_bisector().equation()"
   ]
  },
  {
   "cell_type": "markdown",
   "metadata": {},
   "source": [
    "7.  The point $A(7, 5)$ is one vertex of a parallelogram $ABCD$. The equations of the sides $BC$ and $CD$ are $3y = 2x - 9$ and $2y = 3x - 1$ respectively. Find the coordinates of $B$ and $D$. Show that the diagonals cut at right angles."
   ]
  },
  {
   "cell_type": "code",
   "execution_count": 68,
   "metadata": {},
   "outputs": [
    {
     "data": {
      "image/png": "[encoded data removed]",
      "text/latex": [
       "$\\displaystyle - \\frac{2 x}{3} + y - \\frac{1}{3}$"
      ],
      "text/plain": [
       "  2⋅x       1\n",
       "- ─── + y - ─\n",
       "   3        3"
      ]
     },
     "execution_count": 68,
     "metadata": {},
     "output_type": "execute_result"
    }
   ],
   "source": [
    "ptA = Point(7, 5)\n",
    "lineBC = Line(3*y - 2*x + 9)\n",
    "lineCD = Line(2*y - 3*x + 1)\n",
    "lineAD = lineBC.parallel_line(ptA)\n",
    "lineAD.equation()"
   ]
  },
  {
   "cell_type": "code",
   "execution_count": 71,
   "metadata": {},
   "outputs": [
    {
     "data": {
      "image/png": "[encoded data removed]",
      "text/latex": [
       "$\\displaystyle \\left[ Point2D\\left(1, 1\\right)\\right]$"
      ],
      "text/plain": [
       "[Point2D(1, 1)]"
      ]
     },
     "execution_count": 71,
     "metadata": {},
     "output_type": "execute_result"
    }
   ],
   "source": [
    "ptD = lineAD.intersection(lineCD)\n",
    "ptD"
   ]
  },
  {
   "cell_type": "code",
   "execution_count": 72,
   "metadata": {},
   "outputs": [
    {
     "data": {
      "image/png": "[encoded data removed]",
      "text/latex": [
       "$\\displaystyle - \\frac{3 x}{2} + y + \\frac{11}{2}$"
      ],
      "text/plain": [
       "  3⋅x       11\n",
       "- ─── + y + ──\n",
       "   2        2 "
      ]
     },
     "execution_count": 72,
     "metadata": {},
     "output_type": "execute_result"
    }
   ],
   "source": [
    "lineAB = lineCD.parallel_line(ptA)\n",
    "lineAB.equation()"
   ]
  },
  {
   "cell_type": "code",
   "execution_count": 73,
   "metadata": {},
   "outputs": [
    {
     "data": {
      "image/png": "[encoded data removed]",
      "text/latex": [
       "$\\displaystyle \\left[ Point2D\\left(3, -1\\right)\\right]$"
      ],
      "text/plain": [
       "[Point2D(3, -1)]"
      ]
     },
     "execution_count": 73,
     "metadata": {},
     "output_type": "execute_result"
    }
   ],
   "source": [
    "ptB = lineAB.intersection(lineBC)\n",
    "ptB"
   ]
  },
  {
   "cell_type": "markdown",
   "metadata": {},
   "source": [
    "***   \n",
    "  \n",
    "by Dr J T Wharton\n",
    "\n",
    "***"
   ]
  }
 ],
 "metadata": {
  "kernelspec": {
   "display_name": "Python 3 (ipykernel)",
   "language": "python",
   "name": "python3"
  },
  "language_info": {
   "codemirror_mode": {
    "name": "ipython",
    "version": 3
   },
   "file_extension": ".py",
   "mimetype": "text/x-python",
   "name": "python",
   "nbconvert_exporter": "python",
   "pygments_lexer": "ipython3",
   "version": "3.9.7"
  }
 },
 "nbformat": 4,
 "nbformat_minor": 4
}
