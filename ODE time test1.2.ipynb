{
 "cells": [
  {
   "cell_type": "code",
   "execution_count": 1,
   "id": "872a228f-d0dc-4041-b196-84e1c835c4cd",
   "metadata": {},
   "outputs": [],
   "source": [
    "from sympy import *\n",
    "init_printing()\n",
    "x,t = symbols('x t')\n",
    "C1 = symbols('C1')\n",
    "y = Function('y')(x)\n",
    "dy = y.diff(x)\n",
    "dy2 = y.diff(x,2)"
   ]
  },
  {
   "cell_type": "code",
   "execution_count": 2,
   "id": "cdbdb9bd-a828-446b-bf48-4d9843120c87",
   "metadata": {},
   "outputs": [
    {
     "name": "stderr",
     "output_type": "stream",
     "text": [
      "D:\\Anaconda3\\lib\\site-packages\\IPython\\lib\\latextools.py:126: MatplotlibDeprecationWarning: \n",
      "The to_png function was deprecated in Matplotlib 3.4 and will be removed two minor releases later. Use mathtext.math_to_image instead.\n",
      "  mt.to_png(f, s, fontsize=12, dpi=dpi, color=color)\n",
      "D:\\Anaconda3\\lib\\site-packages\\IPython\\lib\\latextools.py:126: MatplotlibDeprecationWarning: \n",
      "The to_rgba function was deprecated in Matplotlib 3.4 and will be removed two minor releases later. Use mathtext.math_to_image instead.\n",
      "  mt.to_png(f, s, fontsize=12, dpi=dpi, color=color)\n",
      "D:\\Anaconda3\\lib\\site-packages\\IPython\\lib\\latextools.py:126: MatplotlibDeprecationWarning: \n",
      "The to_mask function was deprecated in Matplotlib 3.4 and will be removed two minor releases later. Use mathtext.math_to_image instead.\n",
      "  mt.to_png(f, s, fontsize=12, dpi=dpi, color=color)\n",
      "D:\\Anaconda3\\lib\\site-packages\\IPython\\lib\\latextools.py:126: MatplotlibDeprecationWarning: \n",
      "The MathtextBackendBitmap class was deprecated in Matplotlib 3.4 and will be removed two minor releases later. Use mathtext.math_to_image instead.\n",
      "  mt.to_png(f, s, fontsize=12, dpi=dpi, color=color)\n"
     ]
    },
    {
     "data": {
      "image/png": "[encoded data removed]",
      "text/latex": [
       "$\\displaystyle x \\frac{d}{d x} y{\\left(x \\right)} - 3 y{\\left(x \\right)} = x^{5}$"
      ],
      "text/plain": [
       "  d                    5\n",
       "x⋅──(y(x)) - 3⋅y(x) = x \n",
       "  dx                    "
      ]
     },
     "execution_count": 2,
     "metadata": {},
     "output_type": "execute_result"
    }
   ],
   "source": [
    "Eq1 = Eq(x*dy - 3*y , x**5)\n",
    "Eq1"
   ]
  },
  {
   "cell_type": "code",
   "execution_count": 3,
   "id": "3757e84a-a054-4552-8351-0ba36f45896d",
   "metadata": {},
   "outputs": [
    {
     "data": {
      "image/png": "[encoded data removed]",
      "text/latex": [
       "$\\displaystyle y{\\left(x \\right)} = x^{3} \\left(C_{1} + \\frac{x^{2}}{2}\\right)$"
      ],
      "text/plain": [
       "          ⎛      2⎞\n",
       "        3 ⎜     x ⎟\n",
       "y(x) = x ⋅⎜C₁ + ──⎟\n",
       "          ⎝     2 ⎠"
      ]
     },
     "execution_count": 3,
     "metadata": {},
     "output_type": "execute_result"
    }
   ],
   "source": [
    "gsol = dsolve(Eq1, y)\n",
    "gsol"
   ]
  },
  {
   "cell_type": "code",
   "execution_count": 4,
   "id": "8966bc90-992e-4451-b072-25043852aad0",
   "metadata": {},
   "outputs": [
    {
     "data": {
      "text/plain": [
       "'Eq(y(x), x**3*(C1 + x**2/2))'"
      ]
     },
     "execution_count": 4,
     "metadata": {},
     "output_type": "execute_result"
    }
   ],
   "source": [
    "str(gsol)"
   ]
  },
  {
   "cell_type": "code",
   "execution_count": 8,
   "id": "34e7f87a-5d39-4c30-9c31-5dd0b96a5398",
   "metadata": {},
   "outputs": [
    {
     "data": {
      "image/png": "[encoded data removed]",
      "text/latex": [
       "$\\displaystyle y{\\left(x \\right)} \\cot{\\left(x \\right)} + \\frac{d}{d x} y{\\left(x \\right)} = 2 \\sin{\\left(x \\right)} \\cos{\\left(x \\right)}$"
      ],
      "text/plain": [
       "              d                         \n",
       "y(x)⋅cot(x) + ──(y(x)) = 2⋅sin(x)⋅cos(x)\n",
       "              dx                        "
      ]
     },
     "execution_count": 8,
     "metadata": {},
     "output_type": "execute_result"
    }
   ],
   "source": [
    "Eq1 = Eq(dy + y*cot(x), 2*sin(x)*cos(x))\n",
    "Eq1"
   ]
  },
  {
   "cell_type": "code",
   "execution_count": 9,
   "id": "de66bec0-ff9b-484f-8526-1e6b8050b0af",
   "metadata": {},
   "outputs": [
    {
     "data": {
      "image/png": "[encoded data removed]",
      "text/latex": [
       "$\\displaystyle y{\\left(x \\right)} = \\frac{C_{1}}{\\sin{\\left(x \\right)}} + \\frac{2 \\sin^{2}{\\left(x \\right)}}{3}$"
      ],
      "text/plain": [
       "                     2   \n",
       "         C₁     2⋅sin (x)\n",
       "y(x) = ────── + ─────────\n",
       "       sin(x)       3    "
      ]
     },
     "execution_count": 9,
     "metadata": {},
     "output_type": "execute_result"
    }
   ],
   "source": [
    "gsol = dsolve(Eq1, y)\n",
    "gsol"
   ]
  },
  {
   "cell_type": "code",
   "execution_count": 10,
   "id": "14224024-e1e4-476b-9586-12003bde381f",
   "metadata": {},
   "outputs": [
    {
     "data": {
      "text/plain": [
       "'Eq(y(x), C1/sin(x) + 2*sin(x)**2/3)'"
      ]
     },
     "execution_count": 10,
     "metadata": {},
     "output_type": "execute_result"
    }
   ],
   "source": [
    "str(gsol)"
   ]
  },
  {
   "cell_type": "code",
   "execution_count": 11,
   "id": "44d8539d-fa04-4943-b1f8-3e463e9cf058",
   "metadata": {},
   "outputs": [],
   "source": [
    "x,t = symbols('x t')\n",
    "C1 = symbols('C1')\n",
    "x = Function('x')(t)\n",
    "dx = x.diff(t)"
   ]
  },
  {
   "cell_type": "code",
   "execution_count": 12,
   "id": "d5a2da8c-a61d-4cfe-899c-8cac24303358",
   "metadata": {},
   "outputs": [
    {
     "data": {
      "image/png": "[encoded data removed]",
      "text/latex": [
       "$\\displaystyle \\frac{d}{d t} x{\\left(t \\right)} - \\frac{x{\\left(t \\right)}}{t} = t^{2} - 3$"
      ],
      "text/plain": [
       "d          x(t)    2    \n",
       "──(x(t)) - ──── = t  - 3\n",
       "dt          t           "
      ]
     },
     "execution_count": 12,
     "metadata": {},
     "output_type": "execute_result"
    }
   ],
   "source": [
    "Eq1 = Eq(dx - x/t , t**2 - 3)\n",
    "Eq1"
   ]
  },
  {
   "cell_type": "code",
   "execution_count": 13,
   "id": "ff21bcae-647f-4fdc-a9e7-fcbe3e8cb26b",
   "metadata": {},
   "outputs": [
    {
     "data": {
      "image/png": "[encoded data removed]",
      "text/latex": [
       "$\\displaystyle x{\\left(t \\right)} = \\frac{t \\left(C_{1} + t^{2} - 6 \\log{\\left(t \\right)}\\right)}{2}$"
      ],
      "text/plain": [
       "         ⎛      2           ⎞\n",
       "       t⋅⎝C₁ + t  - 6⋅log(t)⎠\n",
       "x(t) = ──────────────────────\n",
       "                 2           "
      ]
     },
     "execution_count": 13,
     "metadata": {},
     "output_type": "execute_result"
    }
   ],
   "source": [
    "gsol = dsolve(Eq1, x)\n",
    "gsol"
   ]
  },
  {
   "cell_type": "code",
   "execution_count": 14,
   "id": "8b92698e-0444-4a49-ab0e-aaea531dbb33",
   "metadata": {},
   "outputs": [
    {
     "data": {
      "image/png": "[encoded data removed]",
      "text/latex": [
       "$\\displaystyle \\left[ -9\\right]$"
      ],
      "text/plain": [
       "[-9]"
      ]
     },
     "execution_count": 14,
     "metadata": {},
     "output_type": "execute_result"
    }
   ],
   "source": [
    "Psol = solve(gsol.subs({t:1 , x:-4}))\n",
    "Psol"
   ]
  },
  {
   "cell_type": "code",
   "execution_count": 15,
   "id": "27a3cb2a-c6df-4b3f-9e6d-fe1b015cd7e3",
   "metadata": {},
   "outputs": [
    {
     "data": {
      "text/plain": [
       "'[-9]'"
      ]
     },
     "execution_count": 15,
     "metadata": {},
     "output_type": "execute_result"
    }
   ],
   "source": [
    "str(Psol)"
   ]
  },
  {
   "cell_type": "code",
   "execution_count": 16,
   "id": "76d28390-968f-4c69-974c-14157759b033",
   "metadata": {},
   "outputs": [
    {
     "data": {
      "text/plain": [
       "'Eq(x(t), t*(C1 + t**2 - 6*log(t))/2)'"
      ]
     },
     "execution_count": 16,
     "metadata": {},
     "output_type": "execute_result"
    }
   ],
   "source": [
    "str(gsol)"
   ]
  },
  {
   "cell_type": "code",
   "execution_count": 17,
   "id": "a4bfa7c5-9a10-44fa-ae41-d0ffede88b49",
   "metadata": {},
   "outputs": [
    {
     "data": {
      "image/png": "[encoded data removed]",
      "text/latex": [
       "$\\displaystyle \\left[ \\right]$"
      ],
      "text/plain": [
       "[]"
      ]
     },
     "execution_count": 17,
     "metadata": {},
     "output_type": "execute_result"
    }
   ],
   "source": [
    "Psol1 = solve(gsol.subs({t:1 , x:-4 , C1:-9}))\n",
    "Psol1"
   ]
  },
  {
   "cell_type": "code",
   "execution_count": 18,
   "id": "c7890a33-3b51-40b2-84c4-92f64d67f1c8",
   "metadata": {},
   "outputs": [],
   "source": [
    "x,t = symbols('x t')\n",
    "C1 = symbols('C1')\n",
    "y = Function('y')(x)\n",
    "dy = y.diff(x)\n",
    "dy2 = y.diff(x,2)"
   ]
  },
  {
   "cell_type": "code",
   "execution_count": 19,
   "id": "b050fae5-0a5d-41d6-bc9f-4b9cbb696975",
   "metadata": {},
   "outputs": [
    {
     "data": {
      "image/png": "[encoded data removed]",
      "text/latex": [
       "$\\displaystyle x \\left(\\frac{d}{d x} y{\\left(x \\right)} + 1\\right) = x^{3} - 2 y{\\left(x \\right)}$"
      ],
      "text/plain": [
       "  ⎛d           ⎞    3         \n",
       "x⋅⎜──(y(x)) + 1⎟ = x  - 2⋅y(x)\n",
       "  ⎝dx          ⎠              "
      ]
     },
     "execution_count": 19,
     "metadata": {},
     "output_type": "execute_result"
    }
   ],
   "source": [
    "Eq1 = Eq( x* (dy + 1) , x**3 - 2*y)\n",
    "Eq1"
   ]
  },
  {
   "cell_type": "code",
   "execution_count": 20,
   "id": "b074397a-2472-4e66-b0cf-4e16fa98a38a",
   "metadata": {},
   "outputs": [
    {
     "data": {
      "image/png": "[encoded data removed]",
      "text/latex": [
       "$\\displaystyle y{\\left(x \\right)} = \\frac{C_{1}}{x^{2}} + \\frac{x^{3}}{5} - \\frac{x}{3}$"
      ],
      "text/plain": [
       "             3    \n",
       "       C₁   x    x\n",
       "y(x) = ── + ── - ─\n",
       "        2   5    3\n",
       "       x          "
      ]
     },
     "execution_count": 20,
     "metadata": {},
     "output_type": "execute_result"
    }
   ],
   "source": [
    "gsol = dsolve(Eq1, y )\n",
    "gsol"
   ]
  },
  {
   "cell_type": "code",
   "execution_count": 21,
   "id": "b04293da-91ab-4fa1-b343-231388ce08a2",
   "metadata": {},
   "outputs": [
    {
     "data": {
      "image/png": "[encoded data removed]",
      "text/latex": [
       "$\\displaystyle \\left[ \\frac{32}{15}\\right]$"
      ],
      "text/plain": [
       "⎡32⎤\n",
       "⎢──⎥\n",
       "⎣15⎦"
      ]
     },
     "execution_count": 21,
     "metadata": {},
     "output_type": "execute_result"
    }
   ],
   "source": [
    "Psol = solve(gsol.subs({y:2 , x:1 }))\n",
    "Psol"
   ]
  },
  {
   "cell_type": "code",
   "execution_count": 22,
   "id": "2bc9890e-e42e-483f-82b3-80b5edc9dee1",
   "metadata": {},
   "outputs": [
    {
     "data": {
      "text/plain": [
       "'Eq(y(x), C1/x**2 + x**3/5 - x/3)'"
      ]
     },
     "execution_count": 22,
     "metadata": {},
     "output_type": "execute_result"
    }
   ],
   "source": [
    "str(gsol)"
   ]
  },
  {
   "cell_type": "code",
   "execution_count": 23,
   "id": "a051a658-a74f-44c6-a142-893575207f42",
   "metadata": {},
   "outputs": [],
   "source": [
    "x,t = symbols('x t')\n",
    "C1 = symbols('C1')\n",
    "x = Function('x')(t)\n",
    "dx = x.diff(t)\n",
    "dx2 = x.diff(t,2)"
   ]
  },
  {
   "cell_type": "code",
   "execution_count": 24,
   "id": "64e3d9be-b72b-466f-887a-855a8f47f0e6",
   "metadata": {},
   "outputs": [
    {
     "data": {
      "image/png": "[encoded data removed]",
      "text/latex": [
       "$\\displaystyle 4 x{\\left(t \\right)} - 4 \\frac{d}{d t} x{\\left(t \\right)} + \\frac{d^{2}}{d t^{2}} x{\\left(t \\right)} = 0$"
      ],
      "text/plain": [
       "                        2          \n",
       "           d           d           \n",
       "4⋅x(t) - 4⋅──(x(t)) + ───(x(t)) = 0\n",
       "           dt           2          \n",
       "                      dt           "
      ]
     },
     "execution_count": 24,
     "metadata": {},
     "output_type": "execute_result"
    }
   ],
   "source": [
    "Eq1 = Eq( dx2 - 4*dx + 4*x , 0)\n",
    "Eq1"
   ]
  },
  {
   "cell_type": "code",
   "execution_count": 25,
   "id": "3f527ebf-0002-4cc8-877e-6c9cd4ed8b4b",
   "metadata": {},
   "outputs": [
    {
     "data": {
      "image/png": "[encoded data removed]",
      "text/latex": [
       "$\\displaystyle x{\\left(t \\right)} = \\left(C_{1} + C_{2} t\\right) e^{2 t}$"
      ],
      "text/plain": [
       "                    2⋅t\n",
       "x(t) = (C₁ + C₂⋅t)⋅ℯ   "
      ]
     },
     "execution_count": 25,
     "metadata": {},
     "output_type": "execute_result"
    }
   ],
   "source": [
    "gsol = dsolve(Eq1,x)\n",
    "gsol"
   ]
  },
  {
   "cell_type": "code",
   "execution_count": 26,
   "id": "6508954d-79a3-41e7-b38b-03c2791ff41f",
   "metadata": {},
   "outputs": [
    {
     "data": {
      "text/plain": [
       "'Eq(x(t), (C1 + C2*t)*exp(2*t))'"
      ]
     },
     "execution_count": 26,
     "metadata": {},
     "output_type": "execute_result"
    }
   ],
   "source": [
    "str(gsol)"
   ]
  },
  {
   "cell_type": "code",
   "execution_count": 27,
   "id": "0c9cd5d6-a20f-4aac-be05-ebdd55d8a0a8",
   "metadata": {},
   "outputs": [],
   "source": [
    "x = symbols('x')\n",
    "C1 = symbols('C1')\n",
    "y = Function('y')(x)\n",
    "dy = y.diff(x)\n",
    "dy2 = y.diff(x,2)"
   ]
  },
  {
   "cell_type": "code",
   "execution_count": 28,
   "id": "88a8ecd5-1935-4e93-91cd-dc078a756627",
   "metadata": {},
   "outputs": [
    {
     "data": {
      "image/png": "[encoded data removed]",
      "text/latex": [
       "$\\displaystyle 5 y{\\left(x \\right)} + \\frac{d}{d x} y{\\left(x \\right)} + \\frac{d^{2}}{d x^{2}} y{\\left(x \\right)} = 0$"
      ],
      "text/plain": [
       "                      2          \n",
       "         d           d           \n",
       "5⋅y(x) + ──(y(x)) + ───(y(x)) = 0\n",
       "         dx           2          \n",
       "                    dx           "
      ]
     },
     "execution_count": 28,
     "metadata": {},
     "output_type": "execute_result"
    }
   ],
   "source": [
    "Eq1 = Eq(dy2 + dy + 5*y , 0)\n",
    "Eq1"
   ]
  },
  {
   "cell_type": "code",
   "execution_count": 29,
   "id": "9d06ad71-2a24-4f64-a627-5ecd4da3c481",
   "metadata": {},
   "outputs": [
    {
     "data": {
      "image/png": "[encoded data removed]",
      "text/latex": [
       "$\\displaystyle y{\\left(x \\right)} = \\left(C_{1} \\sin{\\left(\\frac{\\sqrt{19} x}{2} \\right)} + C_{2} \\cos{\\left(\\frac{\\sqrt{19} x}{2} \\right)}\\right) e^{- \\frac{x}{2}}$"
      ],
      "text/plain": [
       "                                        -x \n",
       "                                        ───\n",
       "       ⎛      ⎛√19⋅x⎞         ⎛√19⋅x⎞⎞   2 \n",
       "y(x) = ⎜C₁⋅sin⎜─────⎟ + C₂⋅cos⎜─────⎟⎟⋅ℯ   \n",
       "       ⎝      ⎝  2  ⎠         ⎝  2  ⎠⎠     "
      ]
     },
     "execution_count": 29,
     "metadata": {},
     "output_type": "execute_result"
    }
   ],
   "source": [
    "gsol = dsolve(Eq1, y)\n",
    "gsol"
   ]
  },
  {
   "cell_type": "code",
   "execution_count": 30,
   "id": "9348a73d-2541-414f-b0c6-264df38fa6ea",
   "metadata": {},
   "outputs": [
    {
     "data": {
      "text/plain": [
       "'Eq(y(x), (C1*sin(sqrt(19)*x/2) + C2*cos(sqrt(19)*x/2))*exp(-x/2))'"
      ]
     },
     "execution_count": 30,
     "metadata": {},
     "output_type": "execute_result"
    }
   ],
   "source": [
    "str(gsol)"
   ]
  },
  {
   "cell_type": "code",
   "execution_count": 31,
   "id": "feadb796-221a-4205-bf33-1806e6bbfdd4",
   "metadata": {},
   "outputs": [],
   "source": [
    "t = symbols('t')\n",
    "C1 = symbols('C1')\n",
    "y = Function('y')(t)\n",
    "dy = y.diff(t)\n",
    "dy2 = y.diff(t,2)"
   ]
  },
  {
   "cell_type": "code",
   "execution_count": 32,
   "id": "5ddd085d-7403-49ec-9e4c-4e30da4fd418",
   "metadata": {},
   "outputs": [
    {
     "data": {
      "image/png": "[encoded data removed]",
      "text/latex": [
       "$\\displaystyle 9 y{\\left(t \\right)} + \\frac{d^{2}}{d t^{2}} y{\\left(t \\right)} = 0$"
      ],
      "text/plain": [
       "           2          \n",
       "          d           \n",
       "9⋅y(t) + ───(y(t)) = 0\n",
       "           2          \n",
       "         dt           "
      ]
     },
     "execution_count": 32,
     "metadata": {},
     "output_type": "execute_result"
    }
   ],
   "source": [
    "Eq1 = Eq( dy2 + 9*y , 0)\n",
    "Eq1"
   ]
  },
  {
   "cell_type": "code",
   "execution_count": 33,
   "id": "4ff5d965-6916-459a-8a89-8fd630a6f3b5",
   "metadata": {},
   "outputs": [
    {
     "data": {
      "image/png": "[encoded data removed]",
      "text/latex": [
       "$\\displaystyle y{\\left(t \\right)} = C_{1} \\sin{\\left(3 t \\right)} + C_{2} \\cos{\\left(3 t \\right)}$"
      ],
      "text/plain": [
       "y(t) = C₁⋅sin(3⋅t) + C₂⋅cos(3⋅t)"
      ]
     },
     "execution_count": 33,
     "metadata": {},
     "output_type": "execute_result"
    }
   ],
   "source": [
    "gsol = dsolve(Eq1,y)\n",
    "gsol"
   ]
  },
  {
   "cell_type": "code",
   "execution_count": 34,
   "id": "a967ad25-55c7-4f11-8268-46e837ee9cf9",
   "metadata": {},
   "outputs": [
    {
     "data": {
      "text/plain": [
       "'Eq(y(t), C1*sin(3*t) + C2*cos(3*t))'"
      ]
     },
     "execution_count": 34,
     "metadata": {},
     "output_type": "execute_result"
    }
   ],
   "source": [
    "str(gsol)"
   ]
  },
  {
   "cell_type": "code",
   "execution_count": 35,
   "id": "9c295b00-cdb3-457a-b742-bdbca9c4a596",
   "metadata": {},
   "outputs": [],
   "source": [
    "x = symbols('x')\n",
    "C1 = symbols('C1')\n",
    "y = Function('y')(x)\n",
    "dy = y.diff(x)\n",
    "dy2 = y.diff(x,2)"
   ]
  },
  {
   "cell_type": "code",
   "execution_count": 36,
   "id": "0b147d44-5ecf-47a0-aa3a-679a6fe5be0d",
   "metadata": {},
   "outputs": [
    {
     "data": {
      "image/png": "[encoded data removed]",
      "text/latex": [
       "$\\displaystyle - 2 \\frac{d}{d x} y{\\left(x \\right)} + \\frac{d^{2}}{d x^{2}} y{\\left(x \\right)} = 0$"
      ],
      "text/plain": [
       "                 2          \n",
       "    d           d           \n",
       "- 2⋅──(y(x)) + ───(y(x)) = 0\n",
       "    dx           2          \n",
       "               dx           "
      ]
     },
     "execution_count": 36,
     "metadata": {},
     "output_type": "execute_result"
    }
   ],
   "source": [
    "Eq1 = Eq( dy2 - 2*dy , 0)\n",
    "Eq1"
   ]
  },
  {
   "cell_type": "code",
   "execution_count": 37,
   "id": "ee98a872-d95b-4038-8edd-463ee87dcdc0",
   "metadata": {},
   "outputs": [
    {
     "data": {
      "image/png": "[encoded data removed]",
      "text/latex": [
       "$\\displaystyle y{\\left(x \\right)} = C_{1} + C_{2} e^{2 x}$"
      ],
      "text/plain": [
       "                2⋅x\n",
       "y(x) = C₁ + C₂⋅ℯ   "
      ]
     },
     "execution_count": 37,
     "metadata": {},
     "output_type": "execute_result"
    }
   ],
   "source": [
    "gsol = dsolve(Eq1, y)\n",
    "gsol"
   ]
  },
  {
   "cell_type": "code",
   "execution_count": 38,
   "id": "5676d6ea-dc72-4779-b4a9-50f65b303a63",
   "metadata": {},
   "outputs": [
    {
     "data": {
      "text/plain": [
       "'Eq(y(x), C1 + C2*exp(2*x))'"
      ]
     },
     "execution_count": 38,
     "metadata": {},
     "output_type": "execute_result"
    }
   ],
   "source": [
    "str(gsol)"
   ]
  },
  {
   "cell_type": "code",
   "execution_count": 39,
   "id": "774982c6-18b5-4202-b5c5-84f8f6e76a35",
   "metadata": {},
   "outputs": [],
   "source": [
    "x,t = symbols('x t')\n",
    "C1 = symbols('C1')\n",
    "x = Function('x')(t)\n",
    "dx = x.diff(t)\n",
    "dx2 = x.diff(t,2)"
   ]
  },
  {
   "cell_type": "code",
   "execution_count": 40,
   "id": "3b2cb572-1a69-4140-b2ac-c2f52e816fda",
   "metadata": {},
   "outputs": [
    {
     "data": {
      "image/png": "[encoded data removed]",
      "text/latex": [
       "$\\displaystyle - 16 x{\\left(t \\right)} + \\frac{d^{2}}{d t^{2}} x{\\left(t \\right)} = 0$"
      ],
      "text/plain": [
       "             2          \n",
       "            d           \n",
       "-16⋅x(t) + ───(x(t)) = 0\n",
       "             2          \n",
       "           dt           "
      ]
     },
     "execution_count": 40,
     "metadata": {},
     "output_type": "execute_result"
    }
   ],
   "source": [
    "Eq1 = Eq( dx2 - 16*x , 0)\n",
    "Eq1"
   ]
  },
  {
   "cell_type": "code",
   "execution_count": 41,
   "id": "f7fe0260-dd21-44f6-b72a-8760aad0f54b",
   "metadata": {},
   "outputs": [
    {
     "data": {
      "image/png": "[encoded data removed]",
      "text/latex": [
       "$\\displaystyle x{\\left(t \\right)} = C_{1} e^{- 4 t} + C_{2} e^{4 t}$"
      ],
      "text/plain": [
       "           -4⋅t       4⋅t\n",
       "x(t) = C₁⋅ℯ     + C₂⋅ℯ   "
      ]
     },
     "execution_count": 41,
     "metadata": {},
     "output_type": "execute_result"
    }
   ],
   "source": [
    "gsol = dsolve(Eq1, x)\n",
    "gsol"
   ]
  },
  {
   "cell_type": "code",
   "execution_count": 42,
   "id": "66fc6841-6d87-45fc-965f-65676ac0981f",
   "metadata": {},
   "outputs": [
    {
     "data": {
      "text/plain": [
       "'Eq(x(t), C1*exp(-4*t) + C2*exp(4*t))'"
      ]
     },
     "execution_count": 42,
     "metadata": {},
     "output_type": "execute_result"
    }
   ],
   "source": [
    "str(gsol)"
   ]
  },
  {
   "cell_type": "code",
   "execution_count": 43,
   "id": "faefc4f0-8f11-4d7b-807c-4e32702acf7e",
   "metadata": {},
   "outputs": [],
   "source": [
    "x = symbols('x')\n",
    "C1 = symbols('C1')\n",
    "y = Function('y')(x)\n",
    "dy = y.diff(x)\n",
    "dy2 = y.diff(x,2)"
   ]
  },
  {
   "cell_type": "code",
   "execution_count": 44,
   "id": "102af4a9-c2d1-4670-8317-571973e2af7d",
   "metadata": {},
   "outputs": [
    {
     "data": {
      "image/png": "[encoded data removed]",
      "text/latex": [
       "$\\displaystyle 2 x y{\\left(x \\right)} + \\frac{d}{d x} y{\\left(x \\right)} = 2 e^{- x^{2}}$"
      ],
      "text/plain": [
       "                           2\n",
       "           d             -x \n",
       "2⋅x⋅y(x) + ──(y(x)) = 2⋅ℯ   \n",
       "           dx               "
      ]
     },
     "execution_count": 44,
     "metadata": {},
     "output_type": "execute_result"
    }
   ],
   "source": [
    "Eq1 = Eq( dy + 2*x*y , 2*exp(-1*x**2))\n",
    "Eq1"
   ]
  },
  {
   "cell_type": "code",
   "execution_count": 45,
   "id": "e7d97c94-e169-44b3-879d-1faf0584eed3",
   "metadata": {},
   "outputs": [
    {
     "data": {
      "image/png": "[encoded data removed]",
      "text/latex": [
       "$\\displaystyle y{\\left(x \\right)} = \\left(C_{1} + 2 x\\right) e^{- x^{2}}$"
      ],
      "text/plain": [
       "                     2\n",
       "                   -x \n",
       "y(x) = (C₁ + 2⋅x)⋅ℯ   "
      ]
     },
     "execution_count": 45,
     "metadata": {},
     "output_type": "execute_result"
    }
   ],
   "source": [
    "gsol = dsolve(Eq1, y)\n",
    "gsol"
   ]
  },
  {
   "cell_type": "code",
   "execution_count": 46,
   "id": "016babdb-1461-4f3d-b228-f11b95b0a8c8",
   "metadata": {},
   "outputs": [
    {
     "data": {
      "text/plain": [
       "'Eq(y(x), (C1 + 2*x)*exp(-x**2))'"
      ]
     },
     "execution_count": 46,
     "metadata": {},
     "output_type": "execute_result"
    }
   ],
   "source": [
    "str(gsol)"
   ]
  },
  {
   "cell_type": "code",
   "execution_count": 53,
   "id": "8cca53f7-5856-49da-b654-c2113fe7378c",
   "metadata": {},
   "outputs": [],
   "source": [
    "t = symbols('t')\n",
    "C1, C2 = symbols('C1 C2')\n",
    "y = Function('y')(t)\n",
    "dy = y.diff(t)\n",
    "dy2 = y.diff(t,2)"
   ]
  },
  {
   "cell_type": "code",
   "execution_count": 54,
   "id": "4de0996b-fef5-48c7-a333-deb07b90deb2",
   "metadata": {},
   "outputs": [
    {
     "data": {
      "image/png": "[encoded data removed]",
      "text/latex": [
       "$\\displaystyle 90 y{\\left(t \\right)} + 10 \\frac{d}{d t} y{\\left(t \\right)} + 10 \\frac{d^{2}}{d t^{2}} y{\\left(t \\right)} = 0$"
      ],
      "text/plain": [
       "                             2          \n",
       "             d              d           \n",
       "90⋅y(t) + 10⋅──(y(t)) + 10⋅───(y(t)) = 0\n",
       "             dt              2          \n",
       "                           dt           "
      ]
     },
     "execution_count": 54,
     "metadata": {},
     "output_type": "execute_result"
    }
   ],
   "source": [
    "Eq1 = Eq( 10*dy2 + 10*dy + 90*y , 0)\n",
    "Eq1"
   ]
  },
  {
   "cell_type": "code",
   "execution_count": 55,
   "id": "dda8b1bb-eb27-45b7-a9f6-eb8d2981d1da",
   "metadata": {},
   "outputs": [
    {
     "data": {
      "image/png": "[encoded data removed]",
      "text/latex": [
       "$\\displaystyle y{\\left(t \\right)} = \\left(C_{1} \\sin{\\left(\\frac{\\sqrt{35} t}{2} \\right)} + C_{2} \\cos{\\left(\\frac{\\sqrt{35} t}{2} \\right)}\\right) e^{- \\frac{t}{2}}$"
      ],
      "text/plain": [
       "                                        -t \n",
       "                                        ───\n",
       "       ⎛      ⎛√35⋅t⎞         ⎛√35⋅t⎞⎞   2 \n",
       "y(t) = ⎜C₁⋅sin⎜─────⎟ + C₂⋅cos⎜─────⎟⎟⋅ℯ   \n",
       "       ⎝      ⎝  2  ⎠         ⎝  2  ⎠⎠     "
      ]
     },
     "execution_count": 55,
     "metadata": {},
     "output_type": "execute_result"
    }
   ],
   "source": [
    "gsol = dsolve(Eq1, y )\n",
    "gsol"
   ]
  },
  {
   "cell_type": "code",
   "execution_count": 56,
   "id": "0378106f-3011-435a-ba0a-f52cd2167c3f",
   "metadata": {},
   "outputs": [
    {
     "data": {
      "image/png": "[encoded data removed]",
      "text/latex": [
       "$\\displaystyle 0.16 = C_{2}$"
      ],
      "text/plain": [
       "0.16 = C₂"
      ]
     },
     "execution_count": 56,
     "metadata": {},
     "output_type": "execute_result"
    }
   ],
   "source": [
    "Eq3 = gsol.subs({t:0 , y:0.16 })\n",
    "Eq3"
   ]
  },
  {
   "cell_type": "code",
   "execution_count": 57,
   "id": "74043191-7fd4-44cd-b33d-3f27e816f8e6",
   "metadata": {},
   "outputs": [
    {
     "data": {
      "image/png": "[encoded data removed]",
      "text/latex": [
       "$\\displaystyle - \\frac{\\left(C_{1} \\sin{\\left(\\frac{\\sqrt{35} t}{2} \\right)} + C_{2} \\cos{\\left(\\frac{\\sqrt{35} t}{2} \\right)}\\right) e^{- \\frac{t}{2}}}{2} + \\left(\\frac{\\sqrt{35} C_{1} \\cos{\\left(\\frac{\\sqrt{35} t}{2} \\right)}}{2} - \\frac{\\sqrt{35} C_{2} \\sin{\\left(\\frac{\\sqrt{35} t}{2} \\right)}}{2}\\right) e^{- \\frac{t}{2}} = 0$"
      ],
      "text/plain": [
       "                                   -t                                         \n",
       "                                   ───                                        \n",
       "  ⎛      ⎛√35⋅t⎞         ⎛√35⋅t⎞⎞   2    ⎛          ⎛√35⋅t⎞             ⎛√35⋅t\n",
       "  ⎜C₁⋅sin⎜─────⎟ + C₂⋅cos⎜─────⎟⎟⋅ℯ      ⎜√35⋅C₁⋅cos⎜─────⎟   √35⋅C₂⋅sin⎜─────\n",
       "  ⎝      ⎝  2  ⎠         ⎝  2  ⎠⎠        ⎜          ⎝  2  ⎠             ⎝  2  \n",
       "- ──────────────────────────────────── + ⎜───────────────── - ────────────────\n",
       "                   2                     ⎝        2                   2       \n",
       "\n",
       "           \n",
       "           \n",
       "⎞⎞  -t     \n",
       "⎟⎟  ───    \n",
       "⎠⎟   2     \n",
       "─⎟⋅ℯ    = 0\n",
       " ⎠         "
      ]
     },
     "execution_count": 57,
     "metadata": {},
     "output_type": "execute_result"
    }
   ],
   "source": [
    "Eq4 = Eq( diff( gsol.rhs , t ).subs(y,0.16), 0)\n",
    "Eq4"
   ]
  },
  {
   "cell_type": "code",
   "execution_count": 58,
   "id": "874cc2df-e66b-4b97-a023-412a69296006",
   "metadata": {},
   "outputs": [
    {
     "data": {
      "image/png": "[encoded data removed]",
      "text/latex": [
       "$\\displaystyle \\left\\{ C_{1} : \\frac{23.6643191323985 \\sin{\\left(2.95803989154981 t \\right)}}{- 25.0 \\sin{\\left(2.95803989154981 t \\right)} + 147.90199457749 \\cos{\\left(2.95803989154981 t \\right)}} + \\frac{4.0 \\cos{\\left(2.95803989154981 t \\right)}}{- 25.0 \\sin{\\left(2.95803989154981 t \\right)} + 147.90199457749 \\cos{\\left(2.95803989154981 t \\right)}}, \\  C_{2} : 0.16\\right\\}$"
      ],
      "text/plain": [
       "⎧                    23.6643191323985⋅sin(2.95803989154981⋅t)                 \n",
       "⎨C₁: ─────────────────────────────────────────────────────────────────────── +\n",
       "⎩    -25.0⋅sin(2.95803989154981⋅t) + 147.90199457749⋅cos(2.95803989154981⋅t)  \n",
       "\n",
       "                       4.0⋅cos(2.95803989154981⋅t)                            \n",
       " ───────────────────────────────────────────────────────────────────────, C₂: \n",
       " -25.0⋅sin(2.95803989154981⋅t) + 147.90199457749⋅cos(2.95803989154981⋅t)      \n",
       "\n",
       "    ⎫\n",
       "0.16⎬\n",
       "    ⎭"
      ]
     },
     "execution_count": 58,
     "metadata": {},
     "output_type": "execute_result"
    }
   ],
   "source": [
    "Cval = solve([Eq3,Eq4] , [C1,C2])\n",
    "Cval"
   ]
  },
  {
   "cell_type": "code",
   "execution_count": 61,
   "id": "90cf2e7e-07e3-4a71-a1f6-3c113e9a3036",
   "metadata": {},
   "outputs": [
    {
     "data": {
      "text/plain": [
       "'{C1: 23.6643191323985*sin(2.95803989154981*t)/(-25.0*sin(2.95803989154981*t) + 147.90199457749*cos(2.95803989154981*t)) + 4.0*cos(2.95803989154981*t)/(-25.0*sin(2.95803989154981*t) + 147.90199457749*cos(2.95803989154981*t)), C2: 0.160000000000000}'"
      ]
     },
     "execution_count": 61,
     "metadata": {},
     "output_type": "execute_result"
    }
   ],
   "source": [
    "str(Cval)"
   ]
  },
  {
   "cell_type": "code",
   "execution_count": 62,
   "id": "b58dcfc1-ec27-4486-9246-763097eb254e",
   "metadata": {},
   "outputs": [],
   "source": [
    "y , x , C1 , C2 = symbols(' y x C1 C2 ')\n",
    "y = Function('y')(x)\n",
    "dy = y.diff(x)\n",
    "dy2 = y.diff(x, 2)"
   ]
  },
  {
   "cell_type": "code",
   "execution_count": 64,
   "id": "6883d611-2762-41d0-8781-9b4e5d6b5f84",
   "metadata": {},
   "outputs": [
    {
     "data": {
      "image/png": "[encoded data removed]",
      "text/latex": [
       "$\\displaystyle 4 y{\\left(x \\right)} + 5 \\frac{d}{d x} y{\\left(x \\right)} + \\frac{d^{2}}{d x^{2}} y{\\left(x \\right)} = 8$"
      ],
      "text/plain": [
       "                        2          \n",
       "           d           d           \n",
       "4⋅y(x) + 5⋅──(y(x)) + ───(y(x)) = 8\n",
       "           dx           2          \n",
       "                      dx           "
      ]
     },
     "execution_count": 64,
     "metadata": {},
     "output_type": "execute_result"
    }
   ],
   "source": [
    "Eq1 = Eq( dy2 + 5*dy + 4*y , 8 )\n",
    "Eq1"
   ]
  },
  {
   "cell_type": "code",
   "execution_count": 65,
   "id": "a16f96e2-a026-4c1c-ba78-1d57c78dc85d",
   "metadata": {},
   "outputs": [
    {
     "data": {
      "image/png": "[encoded data removed]",
      "text/latex": [
       "$\\displaystyle y{\\left(x \\right)} = C_{1} e^{- 4 x} + C_{2} e^{- x} + 2$"
      ],
      "text/plain": [
       "           -4⋅x       -x    \n",
       "y(x) = C₁⋅ℯ     + C₂⋅ℯ   + 2"
      ]
     },
     "execution_count": 65,
     "metadata": {},
     "output_type": "execute_result"
    }
   ],
   "source": [
    "gsol = dsolve(Eq1, y)\n",
    "gsol"
   ]
  },
  {
   "cell_type": "code",
   "execution_count": 66,
   "id": "084e7dd3-ad86-4b0e-b0b4-9c18ab20e1a2",
   "metadata": {},
   "outputs": [
    {
     "data": {
      "text/plain": [
       "'Eq(y(x), C1*exp(-4*x) + C2*exp(-x) + 2)'"
      ]
     },
     "execution_count": 66,
     "metadata": {},
     "output_type": "execute_result"
    }
   ],
   "source": [
    "str(gsol)"
   ]
  },
  {
   "cell_type": "code",
   "execution_count": 67,
   "id": "8b60eaf7-bf8d-422b-885e-b172cb28f340",
   "metadata": {},
   "outputs": [],
   "source": [
    "y , x , C1 , C2 = symbols(' y x C1 C2 ')\n",
    "y = Function('y')(x)\n",
    "dy = y.diff(x)\n",
    "dy2 = y.diff(x, 2)"
   ]
  },
  {
   "cell_type": "code",
   "execution_count": 68,
   "id": "974af2b1-9980-4164-9b61-9fb5bfb702e6",
   "metadata": {},
   "outputs": [
    {
     "data": {
      "image/png": "[encoded data removed]",
      "text/latex": [
       "$\\displaystyle y{\\left(x \\right)} + \\frac{d}{d x} y{\\left(x \\right)} + \\frac{d^{2}}{d x^{2}} y{\\left(x \\right)} = 4 \\cos{\\left(3 x \\right)}$"
      ],
      "text/plain": [
       "                    2                   \n",
       "       d           d                    \n",
       "y(x) + ──(y(x)) + ───(y(x)) = 4⋅cos(3⋅x)\n",
       "       dx           2                   \n",
       "                  dx                    "
      ]
     },
     "execution_count": 68,
     "metadata": {},
     "output_type": "execute_result"
    }
   ],
   "source": [
    "Eq1 = Eq( dy2 + dy + y , 4*cos(3*x))\n",
    "Eq1"
   ]
  },
  {
   "cell_type": "code",
   "execution_count": 69,
   "id": "52c09aec-0669-48bd-9b4c-3140b4090097",
   "metadata": {},
   "outputs": [
    {
     "data": {
      "image/png": "[encoded data removed]",
      "text/latex": [
       "$\\displaystyle y{\\left(x \\right)} = \\left(C_{1} \\sin{\\left(\\frac{\\sqrt{3} x}{2} \\right)} + C_{2} \\cos{\\left(\\frac{\\sqrt{3} x}{2} \\right)}\\right) e^{- \\frac{x}{2}} + \\frac{12 \\sin{\\left(3 x \\right)}}{73} - \\frac{32 \\cos{\\left(3 x \\right)}}{73}$"
      ],
      "text/plain": [
       "                                      -x                             \n",
       "                                      ───                            \n",
       "       ⎛      ⎛√3⋅x⎞         ⎛√3⋅x⎞⎞   2    12⋅sin(3⋅x)   32⋅cos(3⋅x)\n",
       "y(x) = ⎜C₁⋅sin⎜────⎟ + C₂⋅cos⎜────⎟⎟⋅ℯ    + ─────────── - ───────────\n",
       "       ⎝      ⎝ 2  ⎠         ⎝ 2  ⎠⎠             73            73    "
      ]
     },
     "execution_count": 69,
     "metadata": {},
     "output_type": "execute_result"
    }
   ],
   "source": [
    "gsol = dsolve(Eq1, y)\n",
    "gsol"
   ]
  },
  {
   "cell_type": "code",
   "execution_count": 70,
   "id": "fd0a3d44-271e-4d56-9dfb-b0311c43dc3c",
   "metadata": {},
   "outputs": [
    {
     "data": {
      "text/plain": [
       "'Eq(y(x), (C1*sin(sqrt(3)*x/2) + C2*cos(sqrt(3)*x/2))*exp(-x/2) + 12*sin(3*x)/73 - 32*cos(3*x)/73)'"
      ]
     },
     "execution_count": 70,
     "metadata": {},
     "output_type": "execute_result"
    }
   ],
   "source": [
    "str(gsol)"
   ]
  },
  {
   "cell_type": "code",
   "execution_count": 71,
   "id": "4ea6e477-40b2-4c7a-ac08-6d4736b97bf5",
   "metadata": {},
   "outputs": [],
   "source": [
    "t = symbols('t')\n",
    "C1, C2 = symbols('C1 C2')\n",
    "y = Function('y')(t)\n",
    "dy = y.diff(t)\n",
    "dy2 = y.diff(t,2)"
   ]
  },
  {
   "cell_type": "code",
   "execution_count": 72,
   "id": "2438d9b0-4ca1-4927-b69b-d909d735bf1f",
   "metadata": {},
   "outputs": [
    {
     "data": {
      "image/png": "[encoded data removed]",
      "text/latex": [
       "$\\displaystyle - 16 \\frac{d}{d t} y{\\left(t \\right)} + \\frac{d^{2}}{d t^{2}} y{\\left(t \\right)} = 9 e^{6 t}$"
      ],
      "text/plain": [
       "                  2               \n",
       "     d           d             6⋅t\n",
       "- 16⋅──(y(t)) + ───(y(t)) = 9⋅ℯ   \n",
       "     dt           2               \n",
       "                dt                "
      ]
     },
     "execution_count": 72,
     "metadata": {},
     "output_type": "execute_result"
    }
   ],
   "source": [
    "Eq1 =  Eq( dy2 - 16*dy , 9*exp(6*t))\n",
    "Eq1"
   ]
  },
  {
   "cell_type": "code",
   "execution_count": 73,
   "id": "a76da7da-13f8-4407-951f-fbbdcbb6d790",
   "metadata": {},
   "outputs": [
    {
     "data": {
      "image/png": "[encoded data removed]",
      "text/latex": [
       "$\\displaystyle y{\\left(t \\right)} = C_{1} + C_{2} e^{16 t} - \\frac{3 e^{6 t}}{20}$"
      ],
      "text/plain": [
       "                          6⋅t\n",
       "                16⋅t   3⋅ℯ   \n",
       "y(t) = C₁ + C₂⋅ℯ     - ──────\n",
       "                         20  "
      ]
     },
     "execution_count": 73,
     "metadata": {},
     "output_type": "execute_result"
    }
   ],
   "source": [
    "gsol = dsolve(Eq1, y)\n",
    "gsol"
   ]
  },
  {
   "cell_type": "code",
   "execution_count": 74,
   "id": "f3b0c22c-4ea4-4e12-b260-d1899fb5659d",
   "metadata": {},
   "outputs": [
    {
     "data": {
      "text/plain": [
       "'Eq(y(t), C1 + C2*exp(16*t) - 3*exp(6*t)/20)'"
      ]
     },
     "execution_count": 74,
     "metadata": {},
     "output_type": "execute_result"
    }
   ],
   "source": [
    "str(gsol)"
   ]
  },
  {
   "cell_type": "code",
   "execution_count": 75,
   "id": "dbcbbf2f-3c4e-4e4f-a144-54fd0894b052",
   "metadata": {},
   "outputs": [],
   "source": [
    "t = symbols('t')\n",
    "C1, C2 = symbols('C1 C2')\n",
    "y = Function('y')(t)\n",
    "dy = y.diff(t)\n",
    "dy2 = y.diff(t,2)"
   ]
  },
  {
   "cell_type": "code",
   "execution_count": 76,
   "id": "2df4f5ac-dfe7-404f-8571-c6220a545698",
   "metadata": {},
   "outputs": [
    {
     "data": {
      "image/png": "[encoded data removed]",
      "text/latex": [
       "$\\displaystyle y{\\left(t \\right)} - 2 \\frac{d}{d t} y{\\left(t \\right)} + \\frac{d^{2}}{d t^{2}} y{\\left(t \\right)} = e^{t}$"
      ],
      "text/plain": [
       "                      2           \n",
       "         d           d           t\n",
       "y(t) - 2⋅──(y(t)) + ───(y(t)) = ℯ \n",
       "         dt           2           \n",
       "                    dt            "
      ]
     },
     "execution_count": 76,
     "metadata": {},
     "output_type": "execute_result"
    }
   ],
   "source": [
    "Eq1 = Eq( dy2 - 2*dy + y , exp(t))\n",
    "Eq1"
   ]
  },
  {
   "cell_type": "code",
   "execution_count": 77,
   "id": "53783347-38f3-426a-a68a-29f2a65bf637",
   "metadata": {},
   "outputs": [
    {
     "data": {
      "image/png": "[encoded data removed]",
      "text/latex": [
       "$\\displaystyle y{\\left(t \\right)} = \\left(C_{1} + t \\left(C_{2} + \\frac{t}{2}\\right)\\right) e^{t}$"
      ],
      "text/plain": [
       "       ⎛       ⎛     t⎞⎞  t\n",
       "y(t) = ⎜C₁ + t⋅⎜C₂ + ─⎟⎟⋅ℯ \n",
       "       ⎝       ⎝     2⎠⎠   "
      ]
     },
     "execution_count": 77,
     "metadata": {},
     "output_type": "execute_result"
    }
   ],
   "source": [
    "gsol = dsolve(Eq1, y )\n",
    "gsol"
   ]
  },
  {
   "cell_type": "code",
   "execution_count": 78,
   "id": "9a89a232-7ca3-4b02-b7ea-122d1158d6f4",
   "metadata": {},
   "outputs": [
    {
     "data": {
      "text/plain": [
       "'Eq(y(t), (C1 + t*(C2 + t/2))*exp(t))'"
      ]
     },
     "execution_count": 78,
     "metadata": {},
     "output_type": "execute_result"
    }
   ],
   "source": [
    "str(gsol)"
   ]
  },
  {
   "cell_type": "code",
   "execution_count": 79,
   "id": "e5ef2d74-3e92-4635-ba92-0c85f2f68db9",
   "metadata": {},
   "outputs": [],
   "source": [
    "y , x , C1 , C2 = symbols(' y x C1 C2 ')\n",
    "y = Function('y')(x)\n",
    "dy = y.diff(x)\n",
    "dy2 = y.diff(x, 2)"
   ]
  },
  {
   "cell_type": "code",
   "execution_count": 80,
   "id": "f4d470b8-517e-4051-875d-a1c0173734e2",
   "metadata": {},
   "outputs": [
    {
     "data": {
      "image/png": "[encoded data removed]",
      "text/latex": [
       "$\\displaystyle 35 y{\\left(x \\right)} - 40 \\frac{d}{d x} y{\\left(x \\right)} + 5 \\frac{d^{2}}{d x^{2}} y{\\left(x \\right)} = 26 x$"
      ],
      "text/plain": [
       "                            2             \n",
       "             d             d              \n",
       "35⋅y(x) - 40⋅──(y(x)) + 5⋅───(y(x)) = 26⋅x\n",
       "             dx             2             \n",
       "                          dx              "
      ]
     },
     "execution_count": 80,
     "metadata": {},
     "output_type": "execute_result"
    }
   ],
   "source": [
    "Eq1 = Eq( 5*dy2 - 40*dy + 35*y , 26*x)\n",
    "Eq1"
   ]
  },
  {
   "cell_type": "code",
   "execution_count": 81,
   "id": "eee04b75-959f-4da7-90ea-d5c1072fcd63",
   "metadata": {},
   "outputs": [
    {
     "data": {
      "image/png": "[encoded data removed]",
      "text/latex": [
       "$\\displaystyle y{\\left(x \\right)} = C_{1} e^{x} + C_{2} e^{7 x} + \\frac{26 x}{35} + \\frac{208}{245}$"
      ],
      "text/plain": [
       "           x       7⋅x   26⋅x   208\n",
       "y(x) = C₁⋅ℯ  + C₂⋅ℯ    + ──── + ───\n",
       "                          35    245"
      ]
     },
     "execution_count": 81,
     "metadata": {},
     "output_type": "execute_result"
    }
   ],
   "source": [
    "gsol = dsolve(Eq1, y )\n",
    "gsol"
   ]
  },
  {
   "cell_type": "code",
   "execution_count": 82,
   "id": "18153300-6556-4bb5-baf1-2aedbc488c1f",
   "metadata": {},
   "outputs": [
    {
     "data": {
      "text/plain": [
       "'Eq(y(x), C1*exp(x) + C2*exp(7*x) + 26*x/35 + 208/245)'"
      ]
     },
     "execution_count": 82,
     "metadata": {},
     "output_type": "execute_result"
    }
   ],
   "source": [
    "str(gsol)"
   ]
  },
  {
   "cell_type": "code",
   "execution_count": 83,
   "id": "f3412910-6488-4d02-9962-88261ebebf5d",
   "metadata": {},
   "outputs": [
    {
     "data": {
      "image/png": "[encoded data removed]",
      "text/latex": [
       "$\\displaystyle 4 = C_{1} + C_{2} + \\frac{208}{245}$"
      ],
      "text/plain": [
       "              208\n",
       "4 = C₁ + C₂ + ───\n",
       "              245"
      ]
     },
     "execution_count": 83,
     "metadata": {},
     "output_type": "execute_result"
    }
   ],
   "source": [
    "Eq3 = gsol.subs({x:0 , y:4 })\n",
    "Eq3"
   ]
  },
  {
   "cell_type": "code",
   "execution_count": 92,
   "id": "e9659359-45e7-4618-a6f5-f8b8b426c8a2",
   "metadata": {},
   "outputs": [
    {
     "data": {
      "image/png": "[encoded data removed]",
      "text/latex": [
       "$\\displaystyle C_{1} e^{x} + 7 C_{2} e^{7 x} + \\frac{26}{35} = 1$"
      ],
      "text/plain": [
       "    x         7⋅x   26    \n",
       "C₁⋅ℯ  + 7⋅C₂⋅ℯ    + ── = 1\n",
       "                    35    "
      ]
     },
     "execution_count": 92,
     "metadata": {},
     "output_type": "execute_result"
    }
   ],
   "source": [
    "Eq4 = Eq( diff( gsol.rhs , x ).subs(y,4),1)\n",
    "Eq4"
   ]
  },
  {
   "cell_type": "code",
   "execution_count": 93,
   "id": "3cf66bef-3ca2-4217-96cb-41a9a2647315",
   "metadata": {},
   "outputs": [
    {
     "data": {
      "image/png": "[encoded data removed]",
      "text/latex": [
       "$\\displaystyle \\left\\{ C_{1} : \\frac{772 e^{7 x} - 9}{245 e^{7 x} - 35 e^{x}}, \\  C_{2} : \\frac{63 - 772 e^{x}}{1715 e^{7 x} - 245 e^{x}}\\right\\}$"
      ],
      "text/plain": [
       "⎧           7⋅x                         x    ⎫\n",
       "⎪      772⋅ℯ    - 9           63 - 772⋅ℯ     ⎪\n",
       "⎨C₁: ────────────────, C₂: ──────────────────⎬\n",
       "⎪         7⋅x       x            7⋅x        x⎪\n",
       "⎩    245⋅ℯ    - 35⋅ℯ       1715⋅ℯ    - 245⋅ℯ ⎭"
      ]
     },
     "execution_count": 93,
     "metadata": {},
     "output_type": "execute_result"
    }
   ],
   "source": [
    "Cvals = solve([Eq3,Eq4] , [C1,C2])\n",
    "Cvals"
   ]
  },
  {
   "cell_type": "code",
   "execution_count": 86,
   "id": "7bfba4a4-31b7-4a48-89db-69b42ebdff96",
   "metadata": {},
   "outputs": [
    {
     "data": {
      "text/plain": [
       "'{C1: (772*exp(7*x) - 9)/(245*exp(7*x) - 35*exp(x)), C2: (63 - 772*exp(x))/(1715*exp(7*x) - 245*exp(x))}'"
      ]
     },
     "execution_count": 86,
     "metadata": {},
     "output_type": "execute_result"
    }
   ],
   "source": [
    "str(Cvals)"
   ]
  },
  {
   "cell_type": "code",
   "execution_count": 89,
   "id": "1a9af2b0-dce5-4629-8821-e33cfd218c27",
   "metadata": {},
   "outputs": [
    {
     "ename": "KeyError",
     "evalue": "0",
     "output_type": "error",
     "traceback": [
      "\u001b[1;31m---------------------------------------------------------------------------\u001b[0m",
      "\u001b[1;31mKeyError\u001b[0m                                  Traceback (most recent call last)",
      "\u001b[1;32m~\\AppData\\Local\\Temp/ipykernel_15676/3424178022.py\u001b[0m in \u001b[0;36m<module>\u001b[1;34m\u001b[0m\n\u001b[1;32m----> 1\u001b[1;33m \u001b[0mgsol\u001b[0m\u001b[1;33m.\u001b[0m\u001b[0msubs\u001b[0m\u001b[1;33m(\u001b[0m\u001b[1;33m[\u001b[0m\u001b[1;33m(\u001b[0m\u001b[0mC1\u001b[0m\u001b[1;33m,\u001b[0m\u001b[0mCvals\u001b[0m\u001b[1;33m[\u001b[0m\u001b[1;36m0\u001b[0m\u001b[1;33m]\u001b[0m\u001b[1;33m[\u001b[0m\u001b[0mC1\u001b[0m\u001b[1;33m]\u001b[0m\u001b[1;33m)\u001b[0m\u001b[1;33m,\u001b[0m\u001b[1;33m(\u001b[0m\u001b[0mC2\u001b[0m\u001b[1;33m,\u001b[0m\u001b[0mCvals\u001b[0m\u001b[1;33m[\u001b[0m\u001b[1;36m0\u001b[0m\u001b[1;33m]\u001b[0m\u001b[1;33m[\u001b[0m\u001b[0mC2\u001b[0m\u001b[1;33m]\u001b[0m\u001b[1;33m)\u001b[0m\u001b[1;33m]\u001b[0m\u001b[1;33m)\u001b[0m\u001b[1;33m\u001b[0m\u001b[1;33m\u001b[0m\u001b[0m\n\u001b[0m",
      "\u001b[1;31mKeyError\u001b[0m: 0"
     ]
    }
   ],
   "source": [
    "gsol.subs([(C1,Cvals[0][C1]),(C2,Cvals[0][C2])])"
   ]
  },
  {
   "cell_type": "code",
   "execution_count": 94,
   "id": "4ccec8af-292e-4c19-9c90-5c1478cf32a9",
   "metadata": {},
   "outputs": [],
   "source": [
    "v,t = symbols('v t')\n",
    "C1, C2 = symbols('C1 C2')\n",
    "v = Function('v')(t)\n",
    "dv = v.diff(t)\n",
    "dv2 = v.diff(t,2)"
   ]
  },
  {
   "cell_type": "code",
   "execution_count": 95,
   "id": "e923e31f-9862-48fa-a658-4ff606161c83",
   "metadata": {},
   "outputs": [
    {
     "data": {
      "image/png": "[encoded data removed]",
      "text/latex": [
       "$\\displaystyle 29 v{\\left(t \\right)} + \\frac{d}{d t} v{\\left(t \\right)} = 812 - 812 e^{- t}$"
      ],
      "text/plain": [
       "          d                     -t\n",
       "29⋅v(t) + ──(v(t)) = 812 - 812⋅ℯ  \n",
       "          dt                      "
      ]
     },
     "execution_count": 95,
     "metadata": {},
     "output_type": "execute_result"
    }
   ],
   "source": [
    "Eq1 = Eq( dv + 29*v , 812*(1- exp(-t)))\n",
    "Eq1"
   ]
  },
  {
   "cell_type": "code",
   "execution_count": 96,
   "id": "87256980-25e4-41c7-93f3-d043eba48fb9",
   "metadata": {},
   "outputs": [
    {
     "data": {
      "image/png": "[encoded data removed]",
      "text/latex": [
       "$\\displaystyle v{\\left(t \\right)} = C_{1} e^{- 29 t} + 28 - 29 e^{- t}$"
      ],
      "text/plain": [
       "           -29⋅t            -t\n",
       "v(t) = C₁⋅ℯ      + 28 - 29⋅ℯ  "
      ]
     },
     "execution_count": 96,
     "metadata": {},
     "output_type": "execute_result"
    }
   ],
   "source": [
    "gsol = dsolve(Eq1, v)\n",
    "gsol"
   ]
  },
  {
   "cell_type": "code",
   "execution_count": 97,
   "id": "dc07f711-163c-4f40-8199-24a58ba491fd",
   "metadata": {},
   "outputs": [
    {
     "data": {
      "text/plain": [
       "'Eq(v(t), C1*exp(-29*t) + 28 - 29*exp(-t))'"
      ]
     },
     "execution_count": 97,
     "metadata": {},
     "output_type": "execute_result"
    }
   ],
   "source": [
    "str(gsol)"
   ]
  },
  {
   "cell_type": "code",
   "execution_count": 100,
   "id": "4991ef1c-4c79-436e-8750-0decb2aff12c",
   "metadata": {},
   "outputs": [
    {
     "ename": "TypeError",
     "evalue": "'float' object is not subscriptable",
     "output_type": "error",
     "traceback": [
      "\u001b[1;31m---------------------------------------------------------------------------\u001b[0m",
      "\u001b[1;31mTypeError\u001b[0m                                 Traceback (most recent call last)",
      "\u001b[1;32m~\\AppData\\Local\\Temp/ipykernel_15676/1470074922.py\u001b[0m in \u001b[0;36m<module>\u001b[1;34m\u001b[0m\n\u001b[1;32m----> 1\u001b[1;33m \u001b[0mEq3\u001b[0m \u001b[1;33m=\u001b[0m \u001b[0msolve\u001b[0m\u001b[1;33m(\u001b[0m\u001b[0mgsol\u001b[0m\u001b[1;33m.\u001b[0m\u001b[0msubs\u001b[0m\u001b[1;33m(\u001b[0m\u001b[1;33m{\u001b[0m\u001b[0mt\u001b[0m\u001b[1;33m,\u001b[0m\u001b[1;36m2.5\u001b[0m\u001b[1;33m}\u001b[0m\u001b[1;33m)\u001b[0m\u001b[1;33m)\u001b[0m\u001b[1;33m\u001b[0m\u001b[1;33m\u001b[0m\u001b[0m\n\u001b[0m\u001b[0;32m      2\u001b[0m \u001b[0mEq3\u001b[0m\u001b[1;33m\u001b[0m\u001b[1;33m\u001b[0m\u001b[0m\n",
      "\u001b[1;32mD:\\Anaconda3\\lib\\site-packages\\sympy\\core\\basic.py\u001b[0m in \u001b[0;36msubs\u001b[1;34m(self, *args, **kwargs)\u001b[0m\n\u001b[0;32m    901\u001b[0m         \u001b[0msequence\u001b[0m \u001b[1;33m=\u001b[0m \u001b[0mlist\u001b[0m\u001b[1;33m(\u001b[0m\u001b[0msequence\u001b[0m\u001b[1;33m)\u001b[0m\u001b[1;33m\u001b[0m\u001b[1;33m\u001b[0m\u001b[0m\n\u001b[0;32m    902\u001b[0m         \u001b[1;32mfor\u001b[0m \u001b[0mi\u001b[0m\u001b[1;33m,\u001b[0m \u001b[0ms\u001b[0m \u001b[1;32min\u001b[0m \u001b[0menumerate\u001b[0m\u001b[1;33m(\u001b[0m\u001b[0msequence\u001b[0m\u001b[1;33m)\u001b[0m\u001b[1;33m:\u001b[0m\u001b[1;33m\u001b[0m\u001b[1;33m\u001b[0m\u001b[0m\n\u001b[1;32m--> 903\u001b[1;33m             \u001b[1;32mif\u001b[0m \u001b[0misinstance\u001b[0m\u001b[1;33m(\u001b[0m\u001b[0ms\u001b[0m\u001b[1;33m[\u001b[0m\u001b[1;36m0\u001b[0m\u001b[1;33m]\u001b[0m\u001b[1;33m,\u001b[0m \u001b[0mstr\u001b[0m\u001b[1;33m)\u001b[0m\u001b[1;33m:\u001b[0m\u001b[1;33m\u001b[0m\u001b[1;33m\u001b[0m\u001b[0m\n\u001b[0m\u001b[0;32m    904\u001b[0m                 \u001b[1;31m# when old is a string we prefer Symbol\u001b[0m\u001b[1;33m\u001b[0m\u001b[1;33m\u001b[0m\u001b[0m\n\u001b[0;32m    905\u001b[0m                 \u001b[0ms\u001b[0m \u001b[1;33m=\u001b[0m \u001b[0mSymbol\u001b[0m\u001b[1;33m(\u001b[0m\u001b[0ms\u001b[0m\u001b[1;33m[\u001b[0m\u001b[1;36m0\u001b[0m\u001b[1;33m]\u001b[0m\u001b[1;33m)\u001b[0m\u001b[1;33m,\u001b[0m \u001b[0ms\u001b[0m\u001b[1;33m[\u001b[0m\u001b[1;36m1\u001b[0m\u001b[1;33m]\u001b[0m\u001b[1;33m\u001b[0m\u001b[1;33m\u001b[0m\u001b[0m\n",
      "\u001b[1;31mTypeError\u001b[0m: 'float' object is not subscriptable"
     ]
    }
   ],
   "source": [
    "Eq3 = solve(gsol.subs({t,2.5}))\n",
    "Eq3"
   ]
  },
  {
   "cell_type": "code",
   "execution_count": null,
   "id": "fedda626-448e-479f-a9a7-7d078154bc9a",
   "metadata": {},
   "outputs": [],
   "source": []
  }
 ],
 "metadata": {
  "kernelspec": {
   "display_name": "Python 3 (ipykernel)",
   "language": "python",
   "name": "python3"
  },
  "language_info": {
   "codemirror_mode": {
    "name": "ipython",
    "version": 3
   },
   "file_extension": ".py",
   "mimetype": "text/x-python",
   "name": "python",
   "nbconvert_exporter": "python",
   "pygments_lexer": "ipython3",
   "version": "3.9.7"
  }
 },
 "nbformat": 4,
 "nbformat_minor": 5
}
