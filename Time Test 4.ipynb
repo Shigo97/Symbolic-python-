{
 "cells": [
  {
   "cell_type": "code",
   "execution_count": 2,
   "id": "8b746817-6337-4664-ab5b-16710af81fe4",
   "metadata": {},
   "outputs": [],
   "source": [
    "from sympy import *\n",
    "x, y, z, G, i, j = symbols('x y z G, i, j')"
   ]
  },
  {
   "cell_type": "code",
   "execution_count": 9,
   "id": "89696fd4-328a-4acb-936c-5da44e4192c9",
   "metadata": {},
   "outputs": [],
   "source": [
    "from sympy.physics.vector import *\n",
    "R = ReferenceFrame('R')\n",
    "\n",
    "f1 = (-12*R[0]*R[1]*(R[2])**3) + 57*R[0]**2*R[1]\n",
    "\n",
    "grad = gradient(f1, R)"
   ]
  },
  {
   "cell_type": "code",
   "execution_count": 10,
   "id": "a353c22f-c5ab-46e4-a4ba-f7a6d2491c50",
   "metadata": {},
   "outputs": [
    {
     "data": {
      "text/latex": [
       "$\\displaystyle (114 R_{x} R_{y} - 12 R_{y} R_{z}^{3})\\mathbf{\\hat{r}_x} + (57 R_{x}^{2} - 12 R_{x} R_{z}^{3})\\mathbf{\\hat{r}_y} -  36 R_{x} R_{y} R_{z}^{2}\\mathbf{\\hat{r}_z}$"
      ],
      "text/plain": [
       "(114*R_x*R_y - 12*R_y*R_z**3)*R.x + (57*R_x**2 - 12*R_x*R_z**3)*R.y - 36*R_x*R_y*R_z**2*R.z"
      ]
     },
     "execution_count": 10,
     "metadata": {},
     "output_type": "execute_result"
    }
   ],
   "source": [
    "grad"
   ]
  },
  {
   "cell_type": "code",
   "execution_count": 11,
   "id": "355fe1a9-7dff-40d5-86f3-3fa41648aad2",
   "metadata": {},
   "outputs": [
    {
     "data": {
      "text/plain": [
       "'(114*R_x*R_y - 12*R_y*R_z**3)*R.x + (57*R_x**2 - 12*R_x*R_z**3)*R.y - 36*R_x*R_y*R_z**2*R.z'"
      ]
     },
     "execution_count": 11,
     "metadata": {},
     "output_type": "execute_result"
    }
   ],
   "source": [
    "str(grad)"
   ]
  },
  {
   "cell_type": "code",
   "execution_count": 12,
   "id": "b284bab9-dc76-467e-9e4b-fab9aed51687",
   "metadata": {},
   "outputs": [],
   "source": [
    "from sympy import *\n",
    "x, y, z, G, i, j = symbols('x y z G, i, j')\n",
    "from sympy.physics.vector import *\n",
    "R = ReferenceFrame('R')\n",
    "\n",
    "f1 = (R[0]**3*R[1]**2*R[2])\n",
    "\n",
    "grad = gradient(f1, R)"
   ]
  },
  {
   "cell_type": "code",
   "execution_count": 14,
   "id": "1238eff9-f83b-47ed-854c-2793db3893a8",
   "metadata": {},
   "outputs": [
    {
     "data": {
      "text/latex": [
       "$\\displaystyle 3 R_{x}^{2} R_{y}^{2} R_{z}\\mathbf{\\hat{r}_x} + 2 R_{x}^{3} R_{y} R_{z}\\mathbf{\\hat{r}_y} + R_{x}^{3} R_{y}^{2}\\mathbf{\\hat{r}_z}$"
      ],
      "text/plain": [
       "3*R_x**2*R_y**2*R_z*R.x + 2*R_x**3*R_y*R_z*R.y + R_x**3*R_y**2*R.z"
      ]
     },
     "execution_count": 14,
     "metadata": {},
     "output_type": "execute_result"
    }
   ],
   "source": [
    "grad"
   ]
  },
  {
   "cell_type": "code",
   "execution_count": 15,
   "id": "4d29952b-4438-4cb5-9c78-a84fb5f6bee1",
   "metadata": {},
   "outputs": [
    {
     "data": {
      "text/plain": [
       "'3*R_x**2*R_y**2*R_z*R.x + 2*R_x**3*R_y*R_z*R.y + R_x**3*R_y**2*R.z'"
      ]
     },
     "execution_count": 15,
     "metadata": {},
     "output_type": "execute_result"
    }
   ],
   "source": [
    "str(grad)"
   ]
  },
  {
   "cell_type": "code",
   "execution_count": 16,
   "id": "1bf22414-1961-4ef5-b554-3232638ddd73",
   "metadata": {},
   "outputs": [],
   "source": [
    "from sympy import *\n",
    "x, y, z, G, i, j = symbols('x y z G, i, j')\n",
    "from sympy.physics.vector import *\n",
    "R = ReferenceFrame('R')\n",
    "\n",
    "f1 = (-5*R[2]**2+49*R[0])\n",
    "\n",
    "grad = gradient(f1, R)"
   ]
  },
  {
   "cell_type": "code",
   "execution_count": 17,
   "id": "510d3697-209b-4407-bae3-a212577e9839",
   "metadata": {},
   "outputs": [
    {
     "data": {
      "text/latex": [
       "$\\displaystyle 49 R_{x} - 5 R_{z}^{2}$"
      ],
      "text/plain": [
       "49*R_x - 5*R_z**2"
      ]
     },
     "execution_count": 17,
     "metadata": {},
     "output_type": "execute_result"
    }
   ],
   "source": [
    "f1"
   ]
  },
  {
   "cell_type": "code",
   "execution_count": 19,
   "id": "4d35d750-e6f4-4550-b57a-d9fb7e1afd90",
   "metadata": {},
   "outputs": [
    {
     "data": {
      "text/plain": [
       "'49*R.x - 10*R_z*R.z'"
      ]
     },
     "execution_count": 19,
     "metadata": {},
     "output_type": "execute_result"
    }
   ],
   "source": [
    "str(grad)"
   ]
  },
  {
   "cell_type": "code",
   "execution_count": 29,
   "id": "d4402597-770c-4218-8f6d-134d463b70a6",
   "metadata": {},
   "outputs": [],
   "source": [
    "from sympy import *\n",
    "init_printing()\n",
    "t, s, C1 = symbols('t s C1')\n",
    "x = Function('x')(t)\n",
    "dx = x.diff(t)"
   ]
  },
  {
   "cell_type": "code",
   "execution_count": 30,
   "id": "9c8e26c9-48e8-42fa-b3fb-fe0b387f6b67",
   "metadata": {},
   "outputs": [
    {
     "data": {
      "image/png": "[encoded data removed]",
      "text/latex": [
       "$\\displaystyle 10 x{\\left(t \\right)} + \\frac{d}{d t} x{\\left(t \\right)} = 9 e^{6 t}$"
      ],
      "text/plain": [
       "          d             6⋅t\n",
       "10⋅x(t) + ──(x(t)) = 9⋅ℯ   \n",
       "          dt               "
      ]
     },
     "execution_count": 30,
     "metadata": {},
     "output_type": "execute_result"
    }
   ],
   "source": [
    "Eq1 = Eq( dx + 10*x , 9*exp(6*t))\n",
    "Eq1"
   ]
  },
  {
   "cell_type": "code",
   "execution_count": 31,
   "id": "8bf2c4d8-6119-4ae8-8aa9-5ab8dc92fa56",
   "metadata": {},
   "outputs": [
    {
     "data": {
      "image/png": "[encoded data removed]",
      "text/latex": [
       "$\\displaystyle x{\\left(t \\right)} = C_{1} e^{- 10 t} + \\frac{9 e^{6 t}}{16}$"
      ],
      "text/plain": [
       "                      6⋅t\n",
       "           -10⋅t   9⋅ℯ   \n",
       "x(t) = C₁⋅ℯ      + ──────\n",
       "                     16  "
      ]
     },
     "execution_count": 31,
     "metadata": {},
     "output_type": "execute_result"
    }
   ],
   "source": [
    "gsol = dsolve(Eq1, x)\n",
    "gsol"
   ]
  },
  {
   "cell_type": "code",
   "execution_count": 32,
   "id": "86b446f9-0147-4553-80cf-4cace859a545",
   "metadata": {},
   "outputs": [
    {
     "data": {
      "image/png": "[encoded data removed]",
      "text/latex": [
       "$\\displaystyle \\frac{23}{16}$"
      ],
      "text/plain": [
       "23\n",
       "──\n",
       "16"
      ]
     },
     "execution_count": 32,
     "metadata": {},
     "output_type": "execute_result"
    }
   ],
   "source": [
    "c1Eq1 = solve(gsol.subs({x:2, t:0}),C1)[0]\n",
    "c1Eq1"
   ]
  },
  {
   "cell_type": "code",
   "execution_count": 33,
   "id": "65d7b69e-cc08-437f-a306-c2e3a931f380",
   "metadata": {},
   "outputs": [
    {
     "data": {
      "image/png": "[encoded data removed]",
      "text/latex": [
       "$\\displaystyle x{\\left(t \\right)} = \\frac{9 e^{6 t}}{16} + \\frac{23 e^{- 10 t}}{16}$"
      ],
      "text/plain": [
       "          6⋅t       -10⋅t\n",
       "       9⋅ℯ      23⋅ℯ     \n",
       "x(t) = ────── + ─────────\n",
       "         16         16   "
      ]
     },
     "execution_count": 33,
     "metadata": {},
     "output_type": "execute_result"
    }
   ],
   "source": [
    "prtEq1 = gsol.subs(C1, c1Eq1)\n",
    "prtEq1"
   ]
  },
  {
   "cell_type": "code",
   "execution_count": 36,
   "id": "3fa0f9db-9d0e-412b-9ca7-5b54a7857331",
   "metadata": {},
   "outputs": [
    {
     "data": {
      "image/png": "[encoded data removed]",
      "text/latex": [
       "$\\displaystyle x{\\left(1.3 \\right)} = 1372.83861566301$"
      ],
      "text/plain": [
       "x(1.3) = 1372.83861566301"
      ]
     },
     "execution_count": 36,
     "metadata": {},
     "output_type": "execute_result"
    }
   ],
   "source": [
    "ans = prtEq1.subs(t,1.3)\n",
    "ans"
   ]
  },
  {
   "cell_type": "code",
   "execution_count": 38,
   "id": "eb01d02b-5d4d-4139-9248-f75535f32c86",
   "metadata": {},
   "outputs": [
    {
     "ename": "NameError",
     "evalue": "name 'laplace_transfrom' is not defined",
     "output_type": "error",
     "traceback": [
      "\u001b[1;31m---------------------------------------------------------------------------\u001b[0m",
      "\u001b[1;31mNameError\u001b[0m                                 Traceback (most recent call last)",
      "\u001b[1;32m~\\AppData\\Local\\Temp/ipykernel_568/3034028706.py\u001b[0m in \u001b[0;36m<module>\u001b[1;34m\u001b[0m\n\u001b[1;32m----> 1\u001b[1;33m \u001b[0mlaplace_transfrom\u001b[0m\u001b[1;33m(\u001b[0m\u001b[0mdx\u001b[0m \u001b[1;33m+\u001b[0m \u001b[1;36m10\u001b[0m\u001b[1;33m*\u001b[0m\u001b[0mx\u001b[0m \u001b[1;33m,\u001b[0m \u001b[1;36m9\u001b[0m\u001b[1;33m*\u001b[0m\u001b[0mexp\u001b[0m\u001b[1;33m(\u001b[0m\u001b[1;36m6\u001b[0m\u001b[1;33m*\u001b[0m\u001b[0mt\u001b[0m\u001b[1;33m)\u001b[0m\u001b[1;33m,\u001b[0m\u001b[0mt\u001b[0m\u001b[1;33m,\u001b[0m\u001b[0ms\u001b[0m\u001b[1;33m)\u001b[0m\u001b[1;33m\u001b[0m\u001b[1;33m\u001b[0m\u001b[0m\n\u001b[0m",
      "\u001b[1;31mNameError\u001b[0m: name 'laplace_transfrom' is not defined"
     ]
    }
   ],
   "source": [
    "laplace_transfrom(dx + 10*x , 9*exp(6*t),t,s)"
   ]
  },
  {
   "cell_type": "code",
   "execution_count": 41,
   "id": "f06188fd-acda-4ff9-b7a6-fef8de5cdc20",
   "metadata": {},
   "outputs": [
    {
     "ename": "AttributeError",
     "evalue": "'Equality' object has no attribute 'as_coeff_mul'",
     "output_type": "error",
     "traceback": [
      "\u001b[1;31m---------------------------------------------------------------------------\u001b[0m",
      "\u001b[1;31mAttributeError\u001b[0m                            Traceback (most recent call last)",
      "\u001b[1;32m~\\AppData\\Local\\Temp/ipykernel_568/2712651221.py\u001b[0m in \u001b[0;36m<module>\u001b[1;34m\u001b[0m\n\u001b[1;32m----> 1\u001b[1;33m \u001b[0mlaplace_transform\u001b[0m\u001b[1;33m(\u001b[0m\u001b[0mEq1\u001b[0m\u001b[1;33m,\u001b[0m \u001b[0mt\u001b[0m\u001b[1;33m,\u001b[0m \u001b[0ms\u001b[0m\u001b[1;33m)\u001b[0m\u001b[1;33m\u001b[0m\u001b[1;33m\u001b[0m\u001b[0m\n\u001b[0m",
      "\u001b[1;32mD:\\Anaconda3\\lib\\site-packages\\sympy\\integrals\\transforms.py\u001b[0m in \u001b[0;36mlaplace_transform\u001b[1;34m(f, t, s, legacy_matrix, **hints)\u001b[0m\n\u001b[0;32m   1254\u001b[0m                 \u001b[1;32mreturn\u001b[0m \u001b[0mtype\u001b[0m\u001b[1;33m(\u001b[0m\u001b[0mf\u001b[0m\u001b[1;33m)\u001b[0m\u001b[1;33m(\u001b[0m\u001b[1;33m*\u001b[0m\u001b[0mf\u001b[0m\u001b[1;33m.\u001b[0m\u001b[0mshape\u001b[0m\u001b[1;33m,\u001b[0m \u001b[0melements_trans\u001b[0m\u001b[1;33m)\u001b[0m\u001b[1;33m\u001b[0m\u001b[1;33m\u001b[0m\u001b[0m\n\u001b[0;32m   1255\u001b[0m \u001b[1;33m\u001b[0m\u001b[0m\n\u001b[1;32m-> 1256\u001b[1;33m     \u001b[1;32mreturn\u001b[0m \u001b[0mLaplaceTransform\u001b[0m\u001b[1;33m(\u001b[0m\u001b[0mf\u001b[0m\u001b[1;33m,\u001b[0m \u001b[0mt\u001b[0m\u001b[1;33m,\u001b[0m \u001b[0ms\u001b[0m\u001b[1;33m)\u001b[0m\u001b[1;33m.\u001b[0m\u001b[0mdoit\u001b[0m\u001b[1;33m(\u001b[0m\u001b[1;33m**\u001b[0m\u001b[0mhints\u001b[0m\u001b[1;33m)\u001b[0m\u001b[1;33m\u001b[0m\u001b[1;33m\u001b[0m\u001b[0m\n\u001b[0m\u001b[0;32m   1257\u001b[0m \u001b[1;33m\u001b[0m\u001b[0m\n\u001b[0;32m   1258\u001b[0m \u001b[1;33m\u001b[0m\u001b[0m\n",
      "\u001b[1;32mD:\\Anaconda3\\lib\\site-packages\\sympy\\integrals\\transforms.py\u001b[0m in \u001b[0;36mdoit\u001b[1;34m(self, **hints)\u001b[0m\n\u001b[0;32m    178\u001b[0m \u001b[1;33m\u001b[0m\u001b[0m\n\u001b[0;32m    179\u001b[0m         \u001b[1;31m# pull out constant coefficients\u001b[0m\u001b[1;33m\u001b[0m\u001b[1;33m\u001b[0m\u001b[0m\n\u001b[1;32m--> 180\u001b[1;33m         \u001b[0mcoeff\u001b[0m\u001b[1;33m,\u001b[0m \u001b[0mrest\u001b[0m \u001b[1;33m=\u001b[0m \u001b[0mfn\u001b[0m\u001b[1;33m.\u001b[0m\u001b[0mas_coeff_mul\u001b[0m\u001b[1;33m(\u001b[0m\u001b[0mself\u001b[0m\u001b[1;33m.\u001b[0m\u001b[0mfunction_variable\u001b[0m\u001b[1;33m)\u001b[0m\u001b[1;33m\u001b[0m\u001b[1;33m\u001b[0m\u001b[0m\n\u001b[0m\u001b[0;32m    181\u001b[0m         \u001b[1;32mreturn\u001b[0m \u001b[0mcoeff\u001b[0m\u001b[1;33m*\u001b[0m\u001b[0mself\u001b[0m\u001b[1;33m.\u001b[0m\u001b[0m__class__\u001b[0m\u001b[1;33m(\u001b[0m\u001b[1;33m*\u001b[0m\u001b[1;33m(\u001b[0m\u001b[1;33m[\u001b[0m\u001b[0mMul\u001b[0m\u001b[1;33m(\u001b[0m\u001b[1;33m*\u001b[0m\u001b[0mrest\u001b[0m\u001b[1;33m)\u001b[0m\u001b[1;33m]\u001b[0m \u001b[1;33m+\u001b[0m \u001b[0mlist\u001b[0m\u001b[1;33m(\u001b[0m\u001b[0mself\u001b[0m\u001b[1;33m.\u001b[0m\u001b[0margs\u001b[0m\u001b[1;33m[\u001b[0m\u001b[1;36m1\u001b[0m\u001b[1;33m:\u001b[0m\u001b[1;33m]\u001b[0m\u001b[1;33m)\u001b[0m\u001b[1;33m)\u001b[0m\u001b[1;33m)\u001b[0m\u001b[1;33m\u001b[0m\u001b[1;33m\u001b[0m\u001b[0m\n\u001b[0;32m    182\u001b[0m \u001b[1;33m\u001b[0m\u001b[0m\n",
      "\u001b[1;31mAttributeError\u001b[0m: 'Equality' object has no attribute 'as_coeff_mul'"
     ]
    }
   ],
   "source": [
    "laplace_transform(Eq1, t, s)"
   ]
  },
  {
   "cell_type": "code",
   "execution_count": 56,
   "id": "e6553d68-0760-4bed-bb0d-d746c8c5882b",
   "metadata": {},
   "outputs": [
    {
     "ename": "TypeError",
     "evalue": "expecting string or Symbol for name",
     "output_type": "error",
     "traceback": [
      "\u001b[1;31m---------------------------------------------------------------------------\u001b[0m",
      "\u001b[1;31mTypeError\u001b[0m                                 Traceback (most recent call last)",
      "\u001b[1;32m~\\AppData\\Local\\Temp/ipykernel_568/841288501.py\u001b[0m in \u001b[0;36m<module>\u001b[1;34m\u001b[0m\n\u001b[0;32m     12\u001b[0m \u001b[1;32mfor\u001b[0m \u001b[0mx\u001b[0m \u001b[1;32min\u001b[0m \u001b[0mxpoints2\u001b[0m\u001b[1;33m:\u001b[0m\u001b[1;33m\u001b[0m\u001b[1;33m\u001b[0m\u001b[0m\n\u001b[0;32m     13\u001b[0m     \u001b[0mypoints2\u001b[0m\u001b[1;33m.\u001b[0m\u001b[0mappend\u001b[0m\u001b[1;33m(\u001b[0m\u001b[0my\u001b[0m\u001b[1;33m)\u001b[0m\u001b[1;33m\u001b[0m\u001b[1;33m\u001b[0m\u001b[0m\n\u001b[1;32m---> 14\u001b[1;33m     \u001b[0my\u001b[0m \u001b[1;33m+=\u001b[0m \u001b[0mh\u001b[0m\u001b[1;33m*\u001b[0m\u001b[0mFunction\u001b[0m\u001b[1;33m(\u001b[0m\u001b[0mx\u001b[0m\u001b[1;33m,\u001b[0m\u001b[0my\u001b[0m\u001b[1;33m)\u001b[0m\u001b[1;33m\u001b[0m\u001b[1;33m\u001b[0m\u001b[0m\n\u001b[0m",
      "\u001b[1;32mD:\\Anaconda3\\lib\\site-packages\\sympy\\core\\cache.py\u001b[0m in \u001b[0;36mwrapper\u001b[1;34m(*args, **kwargs)\u001b[0m\n\u001b[0;32m     70\u001b[0m         \u001b[1;32mdef\u001b[0m \u001b[0mwrapper\u001b[0m\u001b[1;33m(\u001b[0m\u001b[1;33m*\u001b[0m\u001b[0margs\u001b[0m\u001b[1;33m,\u001b[0m \u001b[1;33m**\u001b[0m\u001b[0mkwargs\u001b[0m\u001b[1;33m)\u001b[0m\u001b[1;33m:\u001b[0m\u001b[1;33m\u001b[0m\u001b[1;33m\u001b[0m\u001b[0m\n\u001b[0;32m     71\u001b[0m             \u001b[1;32mtry\u001b[0m\u001b[1;33m:\u001b[0m\u001b[1;33m\u001b[0m\u001b[1;33m\u001b[0m\u001b[0m\n\u001b[1;32m---> 72\u001b[1;33m                 \u001b[0mretval\u001b[0m \u001b[1;33m=\u001b[0m \u001b[0mcfunc\u001b[0m\u001b[1;33m(\u001b[0m\u001b[1;33m*\u001b[0m\u001b[0margs\u001b[0m\u001b[1;33m,\u001b[0m \u001b[1;33m**\u001b[0m\u001b[0mkwargs\u001b[0m\u001b[1;33m)\u001b[0m\u001b[1;33m\u001b[0m\u001b[1;33m\u001b[0m\u001b[0m\n\u001b[0m\u001b[0;32m     73\u001b[0m             \u001b[1;32mexcept\u001b[0m \u001b[0mTypeError\u001b[0m \u001b[1;32mas\u001b[0m \u001b[0me\u001b[0m\u001b[1;33m:\u001b[0m\u001b[1;33m\u001b[0m\u001b[1;33m\u001b[0m\u001b[0m\n\u001b[0;32m     74\u001b[0m                 \u001b[1;32mif\u001b[0m \u001b[1;32mnot\u001b[0m \u001b[0me\u001b[0m\u001b[1;33m.\u001b[0m\u001b[0margs\u001b[0m \u001b[1;32mor\u001b[0m \u001b[1;32mnot\u001b[0m \u001b[0me\u001b[0m\u001b[1;33m.\u001b[0m\u001b[0margs\u001b[0m\u001b[1;33m[\u001b[0m\u001b[1;36m0\u001b[0m\u001b[1;33m]\u001b[0m\u001b[1;33m.\u001b[0m\u001b[0mstartswith\u001b[0m\u001b[1;33m(\u001b[0m\u001b[1;34m'unhashable type:'\u001b[0m\u001b[1;33m)\u001b[0m\u001b[1;33m:\u001b[0m\u001b[1;33m\u001b[0m\u001b[1;33m\u001b[0m\u001b[0m\n",
      "\u001b[1;32mD:\\Anaconda3\\lib\\site-packages\\sympy\\core\\function.py\u001b[0m in \u001b[0;36m__new__\u001b[1;34m(cls, *args, **options)\u001b[0m\n\u001b[0;32m    452\u001b[0m         \u001b[1;31m# Handle calls like Function('f')\u001b[0m\u001b[1;33m\u001b[0m\u001b[1;33m\u001b[0m\u001b[0m\n\u001b[0;32m    453\u001b[0m         \u001b[1;32mif\u001b[0m \u001b[0mcls\u001b[0m \u001b[1;32mis\u001b[0m \u001b[0mFunction\u001b[0m\u001b[1;33m:\u001b[0m\u001b[1;33m\u001b[0m\u001b[1;33m\u001b[0m\u001b[0m\n\u001b[1;32m--> 454\u001b[1;33m             \u001b[1;32mreturn\u001b[0m \u001b[0mUndefinedFunction\u001b[0m\u001b[1;33m(\u001b[0m\u001b[1;33m*\u001b[0m\u001b[0margs\u001b[0m\u001b[1;33m,\u001b[0m \u001b[1;33m**\u001b[0m\u001b[0moptions\u001b[0m\u001b[1;33m)\u001b[0m\u001b[1;33m\u001b[0m\u001b[1;33m\u001b[0m\u001b[0m\n\u001b[0m\u001b[0;32m    455\u001b[0m \u001b[1;33m\u001b[0m\u001b[0m\n\u001b[0;32m    456\u001b[0m         \u001b[0mn\u001b[0m \u001b[1;33m=\u001b[0m \u001b[0mlen\u001b[0m\u001b[1;33m(\u001b[0m\u001b[0margs\u001b[0m\u001b[1;33m)\u001b[0m\u001b[1;33m\u001b[0m\u001b[1;33m\u001b[0m\u001b[0m\n",
      "\u001b[1;32mD:\\Anaconda3\\lib\\site-packages\\sympy\\core\\function.py\u001b[0m in \u001b[0;36m__new__\u001b[1;34m(mcl, name, bases, __dict__, **kwargs)\u001b[0m\n\u001b[0;32m    895\u001b[0m             \u001b[0mname\u001b[0m \u001b[1;33m=\u001b[0m \u001b[0mname\u001b[0m\u001b[1;33m.\u001b[0m\u001b[0mname\u001b[0m\u001b[1;33m\u001b[0m\u001b[1;33m\u001b[0m\u001b[0m\n\u001b[0;32m    896\u001b[0m         \u001b[1;32melif\u001b[0m \u001b[1;32mnot\u001b[0m \u001b[0misinstance\u001b[0m\u001b[1;33m(\u001b[0m\u001b[0mname\u001b[0m\u001b[1;33m,\u001b[0m \u001b[0mstr\u001b[0m\u001b[1;33m)\u001b[0m\u001b[1;33m:\u001b[0m\u001b[1;33m\u001b[0m\u001b[1;33m\u001b[0m\u001b[0m\n\u001b[1;32m--> 897\u001b[1;33m             \u001b[1;32mraise\u001b[0m \u001b[0mTypeError\u001b[0m\u001b[1;33m(\u001b[0m\u001b[1;34m'expecting string or Symbol for name'\u001b[0m\u001b[1;33m)\u001b[0m\u001b[1;33m\u001b[0m\u001b[1;33m\u001b[0m\u001b[0m\n\u001b[0m\u001b[0;32m    898\u001b[0m         \u001b[1;32melse\u001b[0m\u001b[1;33m:\u001b[0m\u001b[1;33m\u001b[0m\u001b[1;33m\u001b[0m\u001b[0m\n\u001b[0;32m    899\u001b[0m             \u001b[0mcommutative\u001b[0m \u001b[1;33m=\u001b[0m \u001b[0massumptions\u001b[0m\u001b[1;33m.\u001b[0m\u001b[0mget\u001b[0m\u001b[1;33m(\u001b[0m\u001b[1;34m'commutative'\u001b[0m\u001b[1;33m,\u001b[0m \u001b[1;32mNone\u001b[0m\u001b[1;33m)\u001b[0m\u001b[1;33m\u001b[0m\u001b[1;33m\u001b[0m\u001b[0m\n",
      "\u001b[1;31mTypeError\u001b[0m: expecting string or Symbol for name"
     ]
    }
   ],
   "source": [
    "import numpy as np\n",
    "\n",
    "x = 2.5 # initial condition for x\n",
    "y = 3.0 # initial condition for y\n",
    "x_a = 0 #start of interval\n",
    "x_b = 5 #end of interval\n",
    "h = 0.9 # step size\n",
    "\n",
    "xpoints2 = np.arange(x_a, (x_b+h), h)\n",
    "ypoints2 = []\n",
    "\n",
    "for x in xpoints2:\n",
    "    ypoints2.append(y)\n",
    "    y += h*Function(x,y)"
   ]
  },
  {
   "cell_type": "code",
   "execution_count": 50,
   "id": "0a0971b5-2402-4523-9087-2facad10d48a",
   "metadata": {},
   "outputs": [
    {
     "data": {
      "image/png": "[encoded data removed]",
      "text/latex": [
       "$\\displaystyle \\left[ 3.0, \\  5.7, \\  10.83, \\  20.577\\right]$"
      ],
      "text/plain": [
       "[3.0, 5.7, 10.83, 20.576999999999998]"
      ]
     },
     "execution_count": 50,
     "metadata": {},
     "output_type": "execute_result"
    }
   ],
   "source": [
    "ypoints2 = np.arange(x_a, (x_b+h), h)"
   ]
  },
  {
   "cell_type": "code",
   "execution_count": 54,
   "id": "a19d6cae-86dc-46e2-88ba-67f1ed57d86b",
   "metadata": {},
   "outputs": [
    {
     "data": {
      "image/png": "[encoded data removed]",
      "text/latex": [
       "$\\displaystyle 30.75$"
      ],
      "text/plain": [
       "30.75"
      ]
     },
     "execution_count": 54,
     "metadata": {},
     "output_type": "execute_result"
    }
   ],
   "source": [
    "2.5*2.5 + 3*3*2.5 + 2"
   ]
  },
  {
   "cell_type": "code",
   "execution_count": 57,
   "id": "043e515c-376d-4242-bfc7-6e941b2b8975",
   "metadata": {},
   "outputs": [],
   "source": [
    "from sympy import *\n",
    "init_printing()\n",
    "t, s, C1 = symbols('t s C1')\n",
    "x = Function('x')(t)\n",
    "y = Function('y')(t)\n",
    "dx = x.diff(t)\n",
    "dy = y.diff(t)"
   ]
  },
  {
   "cell_type": "code",
   "execution_count": 58,
   "id": "6ebf5094-9c27-4124-b8e0-436c3b6acbe6",
   "metadata": {},
   "outputs": [
    {
     "data": {
      "image/png": "[encoded data removed]",
      "text/latex": [
       "$\\displaystyle 91.59$"
      ],
      "text/plain": [
       "91.58999999999999"
      ]
     },
     "execution_count": 58,
     "metadata": {},
     "output_type": "execute_result"
    }
   ],
   "source": [
    "2.5*3.4 + 3*3.4*7.95 + 2"
   ]
  },
  {
   "cell_type": "code",
   "execution_count": null,
   "id": "f13c3cb5-088f-4e1a-92f0-490c375b6d21",
   "metadata": {},
   "outputs": [],
   "source": []
  }
 ],
 "metadata": {
  "kernelspec": {
   "display_name": "Python 3 (ipykernel)",
   "language": "python",
   "name": "python3"
  },
  "language_info": {
   "codemirror_mode": {
    "name": "ipython",
    "version": 3
   },
   "file_extension": ".py",
   "mimetype": "text/x-python",
   "name": "python",
   "nbconvert_exporter": "python",
   "pygments_lexer": "ipython3",
   "version": "3.8.13"
  }
 },
 "nbformat": 4,
 "nbformat_minor": 5
}
