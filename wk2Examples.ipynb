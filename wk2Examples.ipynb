{
 "cells": [
  {
   "cell_type": "markdown",
   "metadata": {},
   "source": [
    "# Pre-Masters Maths 6601PMEC"
   ]
  },
  {
   "cell_type": "markdown",
   "metadata": {},
   "source": [
    "## Week 2 - 1st Order ODES"
   ]
  },
  {
   "cell_type": "markdown",
   "metadata": {},
   "source": [
    " __1. For each of the following equations find the integrating factor and use it to solve the differential equation.__  \n",
    "    (i) $\\dfrac{dy}{dx} + 2xy = 2e^{-x^2}$"
   ]
  },
  {
   "cell_type": "code",
   "execution_count": 1,
   "metadata": {},
   "outputs": [],
   "source": [
    "from sympy import *\n",
    "init_printing()\n",
    "x,t = symbols('x t')\n",
    "C1 = Symbol('C1')\n",
    "y = Function('y')(x)\n",
    "dydx = y.diff(x)"
   ]
  },
  {
   "cell_type": "code",
   "execution_count": 2,
   "metadata": {},
   "outputs": [
    {
     "data": {
      "image/png": "[encoded data removed]",
      "text/latex": [
       "$$2 x y{\\left (x \\right )} + \\frac{d}{d x} y{\\left (x \\right )} = 2 e^{- x^{2}}$$"
      ],
      "text/plain": [
       "                           2\n",
       "           d             -x \n",
       "2⋅x⋅y(x) + ──(y(x)) = 2⋅ℯ   \n",
       "           dx               "
      ]
     },
     "execution_count": 2,
     "metadata": {},
     "output_type": "execute_result"
    }
   ],
   "source": [
    "Eq1 = Eq(2*x*y + dydx, 2*exp(-x**2))\n",
    "Eq1"
   ]
  },
  {
   "cell_type": "markdown",
   "metadata": {},
   "source": [
    "The general solution is..."
   ]
  },
  {
   "cell_type": "code",
   "execution_count": 3,
   "metadata": {},
   "outputs": [
    {
     "data": {
      "image/png": "[encoded data removed]",
      "text/latex": [
       "$$y{\\left (x \\right )} = \\left(C_{1} + 2 x\\right) e^{- x^{2}}$$"
      ],
      "text/plain": [
       "                     2\n",
       "                   -x \n",
       "y(x) = (C₁ + 2⋅x)⋅ℯ   "
      ]
     },
     "execution_count": 3,
     "metadata": {},
     "output_type": "execute_result"
    }
   ],
   "source": [
    "dsolve(Eq1, y)"
   ]
  },
  {
   "cell_type": "markdown",
   "metadata": {},
   "source": [
    "(ii) $x \\left( \\dfrac{dy}{dx} + 1 \\right) = x^3 -2y $, given that $y(1)=3$"
   ]
  },
  {
   "cell_type": "code",
   "execution_count": 4,
   "metadata": {},
   "outputs": [
    {
     "data": {
      "image/png": "[encoded data removed]",
      "text/latex": [
       "$$x \\left(\\frac{d}{d x} y{\\left (x \\right )} + 1\\right) = x^{3} - 2 y{\\left (x \\right )}$$"
      ],
      "text/plain": [
       "  ⎛d           ⎞    3         \n",
       "x⋅⎜──(y(x)) + 1⎟ = x  - 2⋅y(x)\n",
       "  ⎝dx          ⎠              "
      ]
     },
     "execution_count": 4,
     "metadata": {},
     "output_type": "execute_result"
    }
   ],
   "source": [
    "Eq2 = Eq(x*(dydx + 1) , x**3 - 2*y)\n",
    "Eq2"
   ]
  },
  {
   "cell_type": "markdown",
   "metadata": {},
   "source": [
    "The general solution is..."
   ]
  },
  {
   "cell_type": "code",
   "execution_count": 5,
   "metadata": {},
   "outputs": [
    {
     "data": {
      "image/png": "[encoded data removed]",
      "text/latex": [
       "$$y{\\left (x \\right )} = \\frac{C_{1}}{x^{2}} + \\frac{x^{3}}{5} - \\frac{x}{3}$$"
      ],
      "text/plain": [
       "             3    \n",
       "       C₁   x    x\n",
       "y(x) = ── + ── - ─\n",
       "        2   5    3\n",
       "       x          "
      ]
     },
     "execution_count": 5,
     "metadata": {},
     "output_type": "execute_result"
    }
   ],
   "source": [
    "solEq2 = dsolve(Eq2, y)\n",
    "solEq2"
   ]
  },
  {
   "cell_type": "markdown",
   "metadata": {},
   "source": [
    "Solve for the constant using the known state conditions."
   ]
  },
  {
   "cell_type": "code",
   "execution_count": 6,
   "metadata": {},
   "outputs": [
    {
     "data": {
      "image/png": "[encoded data removed]",
      "text/latex": [
       "$$\\left [ \\frac{47}{15}\\right ]$$"
      ],
      "text/plain": [
       "⎡47⎤\n",
       "⎢──⎥\n",
       "⎣15⎦"
      ]
     },
     "execution_count": 6,
     "metadata": {},
     "output_type": "execute_result"
    }
   ],
   "source": [
    "C1val = solve( (solEq2.subs(y, 3) ).subs(x, 1),C1)\n",
    "C1val"
   ]
  },
  {
   "cell_type": "markdown",
   "metadata": {},
   "source": [
    "The particular solution is..."
   ]
  },
  {
   "cell_type": "code",
   "execution_count": 7,
   "metadata": {},
   "outputs": [
    {
     "data": {
      "image/png": "[encoded data removed]",
      "text/latex": [
       "$$y{\\left (x \\right )} = \\frac{x^{3}}{5} - \\frac{x}{3} + \\frac{47}{15 x^{2}}$$"
      ],
      "text/plain": [
       "        3            \n",
       "       x    x     47 \n",
       "y(x) = ── - ─ + ─────\n",
       "       5    3       2\n",
       "                15⋅x "
      ]
     },
     "execution_count": 7,
     "metadata": {},
     "output_type": "execute_result"
    }
   ],
   "source": [
    "solEq2.subs(C1, C1val[0])"
   ]
  },
  {
   "cell_type": "markdown",
   "metadata": {},
   "source": [
    "__Confused about which method to use? What other methods can I use to solve the first order ODE?__"
   ]
  },
  {
   "cell_type": "code",
   "execution_count": 8,
   "metadata": {},
   "outputs": [
    {
     "data": {
      "image/png": "[encoded data removed]",
      "text/latex": [
       "$$\\frac{\\frac{d}{d x} y{\\left (x \\right )}}{x^{2}} = 4 y{\\left (x \\right )} + 14$$"
      ],
      "text/plain": [
       "d                     \n",
       "──(y(x))              \n",
       "dx                    \n",
       "──────── = 4⋅y(x) + 14\n",
       "    2                 \n",
       "   x                  "
      ]
     },
     "execution_count": 8,
     "metadata": {},
     "output_type": "execute_result"
    }
   ],
   "source": [
    "Eq3 = Eq( x**(-2) * dydx, 14 + 4*y )\n",
    "Eq3"
   ]
  },
  {
   "cell_type": "markdown",
   "metadata": {},
   "source": [
    "Use the *classify_ode()* command to see what methods can be used to get a solution to the ODE."
   ]
  },
  {
   "cell_type": "code",
   "execution_count": 9,
   "metadata": {},
   "outputs": [
    {
     "data": {
      "text/plain": [
       "('separable',\n",
       " '1st_exact',\n",
       " '1st_linear',\n",
       " 'Bernoulli',\n",
       " 'almost_linear',\n",
       " '1st_power_series',\n",
       " 'lie_group',\n",
       " 'separable_Integral',\n",
       " '1st_exact_Integral',\n",
       " '1st_linear_Integral',\n",
       " 'Bernoulli_Integral',\n",
       " 'almost_linear_Integral')"
      ]
     },
     "execution_count": 9,
     "metadata": {},
     "output_type": "execute_result"
    }
   ],
   "source": [
    "classify_ode(Eq3)"
   ]
  },
  {
   "cell_type": "markdown",
   "metadata": {},
   "source": [
    "More information about each method given can be found here: https://docs.sympy.org/latest/modules/solvers/ode.html  \n",
    "  \n",
    "Now we can force SymPy to solve the ODE using a particular method, in the case below, the separation of variables method."
   ]
  },
  {
   "cell_type": "code",
   "execution_count": 10,
   "metadata": {},
   "outputs": [
    {
     "data": {
      "image/png": "[encoded data removed]",
      "text/latex": [
       "$$y{\\left (x \\right )} = \\frac{C_{1} e^{\\frac{4 x^{3}}{3}}}{4} - \\frac{7}{2}$$"
      ],
      "text/plain": [
       "              3    \n",
       "           4⋅x     \n",
       "           ────    \n",
       "            3      \n",
       "       C₁⋅ℯ       7\n",
       "y(x) = ──────── - ─\n",
       "          4       2"
      ]
     },
     "execution_count": 10,
     "metadata": {},
     "output_type": "execute_result"
    }
   ],
   "source": [
    "dsolve(Eq3, y, hint='separable')"
   ]
  },
  {
   "cell_type": "markdown",
   "metadata": {},
   "source": [
    "Or force SymPy this time, to use the integrating factor method..."
   ]
  },
  {
   "cell_type": "code",
   "execution_count": 11,
   "metadata": {},
   "outputs": [
    {
     "data": {
      "image/png": "[encoded data removed]",
      "text/latex": [
       "$$y{\\left (x \\right )} = \\left(C_{1} - \\frac{7 e^{- \\frac{4 x^{3}}{3}}}{2}\\right) e^{\\frac{4 x^{3}}{3}}$$"
      ],
      "text/plain": [
       "       ⎛            3 ⎞      \n",
       "       ⎜        -4⋅x  ⎟     3\n",
       "       ⎜        ──────⎟  4⋅x \n",
       "       ⎜          3   ⎟  ────\n",
       "       ⎜     7⋅ℯ      ⎟   3  \n",
       "y(x) = ⎜C₁ - ─────────⎟⋅ℯ    \n",
       "       ⎝         2    ⎠      "
      ]
     },
     "execution_count": 11,
     "metadata": {},
     "output_type": "execute_result"
    }
   ],
   "source": [
    "dsolve(Eq3, y, hint='1st_linear')"
   ]
  },
  {
   "cell_type": "markdown",
   "metadata": {},
   "source": [
    "For the ODE given below, the output of the *classify_ode()* command does not include the separation of variables hint, therefore this method cannot be used to solve the ODE. Therefore we can use the integration factor method instead (i.e. the hint '1st_linear')."
   ]
  },
  {
   "cell_type": "code",
   "execution_count": 12,
   "metadata": {},
   "outputs": [
    {
     "data": {
      "image/png": "[encoded data removed]",
      "text/latex": [
       "$$93 y{\\left (x \\right )} + \\frac{d}{d x} y{\\left (x \\right )} = 8556 - 8556 e^{- x}$$"
      ],
      "text/plain": [
       "          d                       -x\n",
       "93⋅y(x) + ──(y(x)) = 8556 - 8556⋅ℯ  \n",
       "          dx                        "
      ]
     },
     "execution_count": 12,
     "metadata": {},
     "output_type": "execute_result"
    }
   ],
   "source": [
    "Eq4 = Eq( dydx + 93*y, 8556*(1-exp(-x)))\n",
    "Eq4"
   ]
  },
  {
   "cell_type": "code",
   "execution_count": 13,
   "metadata": {},
   "outputs": [
    {
     "data": {
      "text/plain": [
       "('1st_linear',\n",
       " 'Bernoulli',\n",
       " 'almost_linear',\n",
       " '1st_power_series',\n",
       " 'lie_group',\n",
       " 'nth_linear_constant_coeff_undetermined_coefficients',\n",
       " 'nth_linear_constant_coeff_variation_of_parameters',\n",
       " '1st_linear_Integral',\n",
       " 'Bernoulli_Integral',\n",
       " 'almost_linear_Integral',\n",
       " 'nth_linear_constant_coeff_variation_of_parameters_Integral')"
      ]
     },
     "execution_count": 13,
     "metadata": {},
     "output_type": "execute_result"
    }
   ],
   "source": [
    "classify_ode(Eq4)"
   ]
  },
  {
   "cell_type": "code",
   "execution_count": 14,
   "metadata": {},
   "outputs": [
    {
     "data": {
      "image/png": "[encoded data removed]",
      "text/latex": [
       "$$y{\\left (x \\right )} = \\left(C_{1} + 92 e^{93 x} - 93 e^{92 x}\\right) e^{- 93 x}$$"
      ],
      "text/plain": [
       "       ⎛         93⋅x       92⋅x⎞  -93⋅x\n",
       "y(x) = ⎝C₁ + 92⋅ℯ     - 93⋅ℯ    ⎠⋅ℯ     "
      ]
     },
     "execution_count": 14,
     "metadata": {},
     "output_type": "execute_result"
    }
   ],
   "source": [
    "dsolve(Eq4, y, hint='1st_linear')"
   ]
  },
  {
   "cell_type": "markdown",
   "metadata": {},
   "source": [
    "***  \n",
    "  \n",
    "by Dr J T Wharton\n",
    "\n",
    "***"
   ]
  }
 ],
 "metadata": {
  "kernelspec": {
   "display_name": "Python 3 (ipykernel)",
   "language": "python",
   "name": "python3"
  },
  "language_info": {
   "codemirror_mode": {
    "name": "ipython",
    "version": 3
   },
   "file_extension": ".py",
   "mimetype": "text/x-python",
   "name": "python",
   "nbconvert_exporter": "python",
   "pygments_lexer": "ipython3",
   "version": "3.9.7"
  }
 },
 "nbformat": 4,
 "nbformat_minor": 4
}
