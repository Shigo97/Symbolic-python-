{
 "cells": [
  {
   "cell_type": "code",
   "execution_count": 1,
   "id": "bea2fee2-4390-488f-990f-cd221c36c8ce",
   "metadata": {},
   "outputs": [],
   "source": [
    "from sympy import *\n",
    "(x, y, z) = symbols('x y z')\n",
    "init_printing()"
   ]
  },
  {
   "cell_type": "code",
   "execution_count": 6,
   "id": "3303f95f-4632-41ac-9dab-800f9364cca6",
   "metadata": {},
   "outputs": [
    {
     "data": {
      "image/png": "[encoded data removed]",
      "text/latex": [
       "$\\displaystyle 8 x^{2} - 12 x y + 5 y^{2}$"
      ],
      "text/plain": [
       "   2               2\n",
       "8⋅x  - 12⋅x⋅y + 5⋅y "
      ]
     },
     "execution_count": 6,
     "metadata": {},
     "output_type": "execute_result"
    }
   ],
   "source": [
    "Eq1 =  8*x**2 - 12*x*y + 5*y**2 \n",
    "Eq1"
   ]
  },
  {
   "cell_type": "code",
   "execution_count": 7,
   "id": "24c7c3b5-847f-4183-81ad-bbe28f94b1ec",
   "metadata": {},
   "outputs": [
    {
     "data": {
      "image/png": "[encoded data removed]",
      "text/latex": [
       "$\\displaystyle 16 x - 12 y$"
      ],
      "text/plain": [
       "16⋅x - 12⋅y"
      ]
     },
     "execution_count": 7,
     "metadata": {},
     "output_type": "execute_result"
    }
   ],
   "source": [
    "Eq2 = diff(Eq1, x)\n",
    "Eq2"
   ]
  },
  {
   "cell_type": "code",
   "execution_count": 8,
   "id": "8f87d87f-e247-4208-a46f-ae4cd56b4c27",
   "metadata": {},
   "outputs": [
    {
     "data": {
      "image/png": "[encoded data removed]",
      "text/latex": [
       "$\\displaystyle - 12 x + 10 y$"
      ],
      "text/plain": [
       "-12⋅x + 10⋅y"
      ]
     },
     "execution_count": 8,
     "metadata": {},
     "output_type": "execute_result"
    }
   ],
   "source": [
    "Eq3 = diff(Eq1, y)\n",
    "Eq3"
   ]
  },
  {
   "cell_type": "code",
   "execution_count": 9,
   "id": "0aff40e0-8b19-40b5-9486-064f724c899f",
   "metadata": {},
   "outputs": [
    {
     "data": {
      "text/plain": [
       "'16*x - 12*y'"
      ]
     },
     "execution_count": 9,
     "metadata": {},
     "output_type": "execute_result"
    }
   ],
   "source": [
    "str(Eq2)"
   ]
  },
  {
   "cell_type": "code",
   "execution_count": 10,
   "id": "80300bbc-5e13-4442-a895-83ef09e00397",
   "metadata": {},
   "outputs": [
    {
     "data": {
      "text/plain": [
       "'-12*x + 10*y'"
      ]
     },
     "execution_count": 10,
     "metadata": {},
     "output_type": "execute_result"
    }
   ],
   "source": [
    "str(Eq3)"
   ]
  },
  {
   "cell_type": "code",
   "execution_count": 11,
   "id": "2f297413-a75b-402e-b187-311844e7b0d8",
   "metadata": {},
   "outputs": [
    {
     "data": {
      "image/png": "[encoded data removed]",
      "text/latex": [
       "$\\displaystyle 16$"
      ],
      "text/plain": [
       "16"
      ]
     },
     "execution_count": 11,
     "metadata": {},
     "output_type": "execute_result"
    }
   ],
   "source": [
    "Eq4 = diff(Eq2, x)\n",
    "Eq4"
   ]
  },
  {
   "cell_type": "code",
   "execution_count": 12,
   "id": "8403df52-b0ee-4a66-8b0f-6d0ffdd297fc",
   "metadata": {},
   "outputs": [
    {
     "data": {
      "image/png": "[encoded data removed]",
      "text/latex": [
       "$\\displaystyle 10$"
      ],
      "text/plain": [
       "10"
      ]
     },
     "execution_count": 12,
     "metadata": {},
     "output_type": "execute_result"
    }
   ],
   "source": [
    "Eq5 = diff(Eq3, y)\n",
    "Eq5"
   ]
  },
  {
   "cell_type": "code",
   "execution_count": 13,
   "id": "4142bc6b-ac1c-4cc1-af5e-2c0514aa3fb3",
   "metadata": {},
   "outputs": [],
   "source": [
    "from sympy import *\n",
    "(x, y, z) = symbols('x y z')\n",
    "init_printing()"
   ]
  },
  {
   "cell_type": "code",
   "execution_count": 14,
   "id": "7f6b07b5-c19b-4b1b-a008-d15a26ead651",
   "metadata": {},
   "outputs": [
    {
     "data": {
      "image/png": "[encoded data removed]",
      "text/latex": [
       "$\\displaystyle \\cos{\\left(9 x + 8 y \\right)}$"
      ],
      "text/plain": [
       "cos(9⋅x + 8⋅y)"
      ]
     },
     "execution_count": 14,
     "metadata": {},
     "output_type": "execute_result"
    }
   ],
   "source": [
    "Eq1 =  cos( 9*x + 8*y )\n",
    "Eq1"
   ]
  },
  {
   "cell_type": "code",
   "execution_count": 17,
   "id": "5c17c82e-c3d4-4042-b574-3c63dc0051f5",
   "metadata": {},
   "outputs": [
    {
     "data": {
      "text/plain": [
       "'-9*sin(9*x + 8*y)'"
      ]
     },
     "execution_count": 17,
     "metadata": {},
     "output_type": "execute_result"
    }
   ],
   "source": [
    "Eq2 = diff(Eq1, x)\n",
    "str(Eq2)"
   ]
  },
  {
   "cell_type": "code",
   "execution_count": 18,
   "id": "7d249162-2bc0-4dfe-85ba-5441074e56ba",
   "metadata": {},
   "outputs": [
    {
     "data": {
      "text/plain": [
       "'-8*sin(9*x + 8*y)'"
      ]
     },
     "execution_count": 18,
     "metadata": {},
     "output_type": "execute_result"
    }
   ],
   "source": [
    "Eq3 = diff(Eq1, y)\n",
    "str(Eq3)"
   ]
  },
  {
   "cell_type": "code",
   "execution_count": 19,
   "id": "beddf89e-b46f-423e-8470-cf0031db5b46",
   "metadata": {},
   "outputs": [
    {
     "data": {
      "text/plain": [
       "'-81*cos(9*x + 8*y)'"
      ]
     },
     "execution_count": 19,
     "metadata": {},
     "output_type": "execute_result"
    }
   ],
   "source": [
    "Eq4 = diff(Eq2, x)\n",
    "str(Eq4)"
   ]
  },
  {
   "cell_type": "code",
   "execution_count": 20,
   "id": "c93ca966-3ca5-45ea-a438-8e64023f2221",
   "metadata": {},
   "outputs": [
    {
     "data": {
      "text/plain": [
       "'-64*cos(9*x + 8*y)'"
      ]
     },
     "execution_count": 20,
     "metadata": {},
     "output_type": "execute_result"
    }
   ],
   "source": [
    "Eq5 = diff(Eq3, y)\n",
    "str(Eq5)"
   ]
  },
  {
   "cell_type": "code",
   "execution_count": 21,
   "id": "2506fe44-b405-4c75-a807-bbebc385f08b",
   "metadata": {},
   "outputs": [],
   "source": [
    "from sympy import *\n",
    "(x, y, z, P) = symbols('x y z P')\n",
    "init_printing()"
   ]
  },
  {
   "cell_type": "code",
   "execution_count": 23,
   "id": "bf44dd9d-1492-4958-83a0-890af7fdc727",
   "metadata": {},
   "outputs": [
    {
     "data": {
      "image/png": "[encoded data removed]",
      "text/latex": [
       "$\\displaystyle 105 \\pi \\sqrt{\\frac{x^{9}}{y^{8} z^{7}}}$"
      ],
      "text/plain": [
       "            _______\n",
       "           ╱    9  \n",
       "          ╱    x   \n",
       "105⋅π⋅   ╱   ───── \n",
       "        ╱     8  7 \n",
       "      ╲╱     y ⋅z  "
      ]
     },
     "execution_count": 23,
     "metadata": {},
     "output_type": "execute_result"
    }
   ],
   "source": [
    "Eq1 = 105*pi* sqrt(x**9/ (y**8*z**7))\n",
    "Eq1"
   ]
  },
  {
   "cell_type": "code",
   "execution_count": 29,
   "id": "49b83860-4bf7-4d23-8d53-a3e7dc440746",
   "metadata": {},
   "outputs": [
    {
     "data": {
      "image/png": "[encoded data removed]",
      "text/latex": [
       "$\\displaystyle \\frac{945 \\pi \\sqrt{\\frac{x^{9}}{y^{8} z^{7}}}}{2 x}$"
      ],
      "text/plain": [
       "            _______\n",
       "           ╱    9  \n",
       "          ╱    x   \n",
       "945⋅π⋅   ╱   ───── \n",
       "        ╱     8  7 \n",
       "      ╲╱     y ⋅z  \n",
       "───────────────────\n",
       "        2⋅x        "
      ]
     },
     "execution_count": 29,
     "metadata": {},
     "output_type": "execute_result"
    }
   ],
   "source": [
    "Eq2 = diff(Eq1, x)\n",
    "Eq2"
   ]
  },
  {
   "cell_type": "code",
   "execution_count": 30,
   "id": "6a69a6a6-8433-41a7-8f2c-5c45bc1403ed",
   "metadata": {},
   "outputs": [
    {
     "data": {
      "image/png": "[encoded data removed]",
      "text/latex": [
       "$\\displaystyle - \\frac{420 \\pi \\sqrt{\\frac{x^{9}}{y^{8} z^{7}}}}{y}$"
      ],
      "text/plain": [
       "             _______ \n",
       "            ╱    9   \n",
       "           ╱    x    \n",
       "-420⋅π⋅   ╱   ─────  \n",
       "         ╱     8  7  \n",
       "       ╲╱     y ⋅z   \n",
       "─────────────────────\n",
       "          y          "
      ]
     },
     "execution_count": 30,
     "metadata": {},
     "output_type": "execute_result"
    }
   ],
   "source": [
    "Eq3 = diff(Eq1, y)\n",
    "Eq3"
   ]
  },
  {
   "cell_type": "code",
   "execution_count": 31,
   "id": "155174b7-1b3e-49ca-a212-419cdf91f837",
   "metadata": {},
   "outputs": [
    {
     "data": {
      "image/png": "[encoded data removed]",
      "text/latex": [
       "$\\displaystyle - \\frac{735 \\pi \\sqrt{\\frac{x^{9}}{y^{8} z^{7}}}}{2 z}$"
      ],
      "text/plain": [
       "             _______ \n",
       "            ╱    9   \n",
       "           ╱    x    \n",
       "-735⋅π⋅   ╱   ─────  \n",
       "         ╱     8  7  \n",
       "       ╲╱     y ⋅z   \n",
       "─────────────────────\n",
       "         2⋅z         "
      ]
     },
     "execution_count": 31,
     "metadata": {},
     "output_type": "execute_result"
    }
   ],
   "source": [
    "Eq4 = diff(Eq1, z)\n",
    "Eq4"
   ]
  },
  {
   "cell_type": "code",
   "execution_count": 32,
   "id": "5268b882-bdd9-44e1-94e6-dc6f889ac0fa",
   "metadata": {},
   "outputs": [
    {
     "data": {
      "image/png": "[encoded data removed]",
      "text/latex": [
       "$\\displaystyle - 10.8675 \\pi \\sqrt{\\frac{x^{9}}{y^{8} z^{7}}}$"
      ],
      "text/plain": [
       "                 _______\n",
       "                ╱    9  \n",
       "               ╱    x   \n",
       "-10.8675⋅π⋅   ╱   ───── \n",
       "             ╱     8  7 \n",
       "           ╲╱     y ⋅z  "
      ]
     },
     "execution_count": 32,
     "metadata": {},
     "output_type": "execute_result"
    }
   ],
   "source": [
    "dx = (2.1/100)*x\n",
    "dy = (2.5/100)*y\n",
    "dz = (2.8/100)*z\n",
    "dP = Eq2*dx + Eq3*dy + Eq4*dz\n",
    "dP"
   ]
  },
  {
   "cell_type": "code",
   "execution_count": 33,
   "id": "60f149dd-d88a-4da5-ad43-f5141a1cca3d",
   "metadata": {},
   "outputs": [],
   "source": [
    "init_printing()\n",
    "(x, y, A, B, omega, sigma) = symbols('x, y, A, B, omega, sigma')"
   ]
  },
  {
   "cell_type": "code",
   "execution_count": 34,
   "id": "15ecfaef-6023-4c49-b299-a6476cf5c993",
   "metadata": {},
   "outputs": [
    {
     "data": {
      "image/png": "[encoded data removed]",
      "text/latex": [
       "$\\displaystyle A x^{2} y^{4} + B x^{4} y^{2}$"
      ],
      "text/plain": [
       "   2  4      4  2\n",
       "A⋅x ⋅y  + B⋅x ⋅y "
      ]
     },
     "execution_count": 34,
     "metadata": {},
     "output_type": "execute_result"
    }
   ],
   "source": [
    "state1 = A*x**2*y**4 + B*x**4*y**2 \n",
    "state1 "
   ]
  },
  {
   "cell_type": "code",
   "execution_count": 35,
   "id": "17491b34-058c-4094-bba7-31f7e17bebf6",
   "metadata": {},
   "outputs": [
    {
     "data": {
      "image/png": "[encoded data removed]",
      "text/latex": [
       "$\\displaystyle 2 y^{2} \\left(A y^{2} + 6 B x^{2}\\right)$"
      ],
      "text/plain": [
       "   2 ⎛   2        2⎞\n",
       "2⋅y ⋅⎝A⋅y  + 6⋅B⋅x ⎠"
      ]
     },
     "execution_count": 35,
     "metadata": {},
     "output_type": "execute_result"
    }
   ],
   "source": [
    "state2 = state1.diff( x , 2 )\n",
    "state2 "
   ]
  },
  {
   "cell_type": "code",
   "execution_count": 36,
   "id": "05d20678-6cff-47f2-bd51-70be50fd3681",
   "metadata": {},
   "outputs": [
    {
     "data": {
      "image/png": "[encoded data removed]",
      "text/latex": [
       "$\\displaystyle 2 x^{2} \\left(6 A y^{2} + B x^{2}\\right)$"
      ],
      "text/plain": [
       "   2 ⎛     2      2⎞\n",
       "2⋅x ⋅⎝6⋅A⋅y  + B⋅x ⎠"
      ]
     },
     "execution_count": 36,
     "metadata": {},
     "output_type": "execute_result"
    }
   ],
   "source": [
    "state3 = state1.diff( y , 2 )\n",
    "state3 "
   ]
  },
  {
   "cell_type": "code",
   "execution_count": 38,
   "id": "2640dd85-5166-4dfc-b398-9652d1adfed4",
   "metadata": {},
   "outputs": [
    {
     "data": {
      "text/plain": [
       "'2*y**2*(A*y**2 + 6*B*x**2)'"
      ]
     },
     "execution_count": 38,
     "metadata": {},
     "output_type": "execute_result"
    }
   ],
   "source": [
    "str(state2)"
   ]
  },
  {
   "cell_type": "code",
   "execution_count": 39,
   "id": "01af49ed-ffbe-4289-8d72-0a67f995b0a2",
   "metadata": {},
   "outputs": [
    {
     "data": {
      "text/plain": [
       "'2*x**2*(6*A*y**2 + B*x**2)'"
      ]
     },
     "execution_count": 39,
     "metadata": {},
     "output_type": "execute_result"
    }
   ],
   "source": [
    "str(state3)"
   ]
  },
  {
   "cell_type": "code",
   "execution_count": 40,
   "id": "0209211b-b1ee-4a76-be20-85152a9973f7",
   "metadata": {},
   "outputs": [],
   "source": [
    "from sympy import *\n",
    "(R, O, L) = symbols('R O L')\n",
    "init_printing()"
   ]
  },
  {
   "cell_type": "code",
   "execution_count": 41,
   "id": "9368447a-be03-47a5-8f0d-ffd88e8b68b2",
   "metadata": {},
   "outputs": [
    {
     "data": {
      "image/png": "[encoded data removed]",
      "text/latex": [
       "$\\displaystyle \\frac{O R^{4}}{L}$"
      ],
      "text/plain": [
       "   4\n",
       "O⋅R \n",
       "────\n",
       " L  "
      ]
     },
     "execution_count": 41,
     "metadata": {},
     "output_type": "execute_result"
    }
   ],
   "source": [
    "Eq1 = (R**4*O)/L\n",
    "Eq1"
   ]
  },
  {
   "cell_type": "code",
   "execution_count": 43,
   "id": "f6640143-0e0a-4e01-baf4-5f292e306581",
   "metadata": {},
   "outputs": [
    {
     "data": {
      "image/png": "[encoded data removed]",
      "text/latex": [
       "$\\displaystyle \\frac{0.08 O^{2} R^{6}}{L^{2}} + \\frac{0.02 R^{8}}{L^{2}} + \\frac{0.015 O^{2} R^{8}}{L^{4}}$"
      ],
      "text/plain": [
       "      2  6         8          2  8\n",
       "0.08⋅O ⋅R    0.02⋅R    0.015⋅O ⋅R \n",
       "────────── + ─────── + ───────────\n",
       "     2           2           4    \n",
       "    L           L           L     "
      ]
     },
     "execution_count": 43,
     "metadata": {},
     "output_type": "execute_result"
    }
   ],
   "source": [
    "dGdR = Eq1.diff(R)\n",
    "dGdO = Eq1.diff(O)\n",
    "dGdL = Eq1.diff(L)\n",
    "dR = (0.5/100)*dGdR\n",
    "dO = (2/100)*dGdO\n",
    "dL = (1.5/100)*dGdL\n",
    "dG = dGdR*dR + dGdO*dO + dGdL*dL\n",
    "dG"
   ]
  },
  {
   "cell_type": "code",
   "execution_count": 44,
   "id": "a0f800e5-9eb4-48e6-8fc4-af505fd76b41",
   "metadata": {},
   "outputs": [
    {
     "data": {
      "text/plain": [
       "'0.08*O**2*R**6/L**2 + 0.02*R**8/L**2 + 0.015*O**2*R**8/L**4'"
      ]
     },
     "execution_count": 44,
     "metadata": {},
     "output_type": "execute_result"
    }
   ],
   "source": [
    "str(dG)"
   ]
  },
  {
   "cell_type": "code",
   "execution_count": 45,
   "id": "f10a4ac6-f523-4173-98d5-f77e9ab7d02f",
   "metadata": {},
   "outputs": [],
   "source": [
    "from sympy import *\n",
    "(f, C, L) = symbols('f C L')\n",
    "init_printing()"
   ]
  },
  {
   "cell_type": "code",
   "execution_count": 46,
   "id": "cbb9cde3-e0a0-4815-825b-86e1dad1b1db",
   "metadata": {},
   "outputs": [
    {
     "data": {
      "image/png": "[encoded data removed]",
      "text/latex": [
       "$\\displaystyle \\frac{1}{2 \\pi \\sqrt{C L}}$"
      ],
      "text/plain": [
       "     1     \n",
       "───────────\n",
       "      _____\n",
       "2⋅π⋅╲╱ C⋅L "
      ]
     },
     "execution_count": 46,
     "metadata": {},
     "output_type": "execute_result"
    }
   ],
   "source": [
    "Eq1 = 1 / ( 2*pi * sqrt(L*C) )\n",
    "Eq1"
   ]
  },
  {
   "cell_type": "code",
   "execution_count": 48,
   "id": "6db0e34a-6cb9-4c95-a0d4-64763e14cae1",
   "metadata": {},
   "outputs": [
    {
     "data": {
      "image/png": "[encoded data removed]",
      "text/latex": [
       "$\\displaystyle \\frac{0.005}{\\pi \\sqrt{C L}}$"
      ],
      "text/plain": [
       "  0.005  \n",
       "─────────\n",
       "    _____\n",
       "π⋅╲╱ C⋅L "
      ]
     },
     "execution_count": 48,
     "metadata": {},
     "output_type": "execute_result"
    }
   ],
   "source": [
    "dfdC = Eq1.diff(C)\n",
    "dfdL = Eq1.diff(L)\n",
    "dC = (-0.5/100)*C\n",
    "dL = (-1.5/100)*L\n",
    "df = dfdC*dC + dfdL*dL\n",
    "df"
   ]
  },
  {
   "cell_type": "code",
   "execution_count": 49,
   "id": "4cf67137-a874-4049-9052-925cd51c8117",
   "metadata": {},
   "outputs": [
    {
     "data": {
      "text/plain": [
       "'0.005/(pi*sqrt(C*L))'"
      ]
     },
     "execution_count": 49,
     "metadata": {},
     "output_type": "execute_result"
    }
   ],
   "source": [
    "str(df)"
   ]
  },
  {
   "cell_type": "code",
   "execution_count": 50,
   "id": "1ad38605-536a-4963-a298-307b513c401a",
   "metadata": {},
   "outputs": [
    {
     "name": "stdout",
     "output_type": "stream",
     "text": [
      "0.5/(pi*f*sqrt(C*L)) %\n"
     ]
    }
   ],
   "source": [
    "print(str(100*(df/f)), '%')"
   ]
  },
  {
   "cell_type": "code",
   "execution_count": 51,
   "id": "15e51cbd-1311-45e0-94d6-ffbcfd822c06",
   "metadata": {},
   "outputs": [],
   "source": [
    "(x, y, z) = symbols('x y z')\n",
    "init_printing()"
   ]
  },
  {
   "cell_type": "code",
   "execution_count": 52,
   "id": "05c69bbc-c653-430d-9b3d-401c6906d44f",
   "metadata": {},
   "outputs": [
    {
     "data": {
      "image/png": "[encoded data removed]",
      "text/latex": [
       "$\\displaystyle x y - 4 x + \\frac{y^{2}}{2} - 7 y = z$"
      ],
      "text/plain": [
       "             2          \n",
       "            y           \n",
       "x⋅y - 4⋅x + ── - 7⋅y = z\n",
       "            2           "
      ]
     },
     "execution_count": 52,
     "metadata": {},
     "output_type": "execute_result"
    }
   ],
   "source": [
    "Eq1 = Eq( x*y + y**2/2 -7*y -4*x , z)\n",
    "Eq1"
   ]
  },
  {
   "cell_type": "code",
   "execution_count": 53,
   "id": "016cc0c2-57c4-4edc-bc38-a11b74335a6d",
   "metadata": {},
   "outputs": [],
   "source": [
    "x, y, v = symbols('x y v')\n",
    "init_printing()"
   ]
  },
  {
   "cell_type": "code",
   "execution_count": 54,
   "id": "0cff30a8-8f78-4638-8da3-5117185b11b5",
   "metadata": {},
   "outputs": [
    {
     "data": {
      "image/png": "[encoded data removed]",
      "text/latex": [
       "$\\displaystyle 4 x^{2} y - 40 x y - 12 x + 84 y = v$"
      ],
      "text/plain": [
       "   2                             \n",
       "4⋅x ⋅y - 40⋅x⋅y - 12⋅x + 84⋅y = v"
      ]
     },
     "execution_count": 54,
     "metadata": {},
     "output_type": "execute_result"
    }
   ],
   "source": [
    "Eq1 = Eq( 4 * x**2 * y -40*x*y + 84*y -12*x , v)\n",
    "Eq1"
   ]
  },
  {
   "cell_type": "code",
   "execution_count": 58,
   "id": "1985d607-bdfb-460d-908f-4576c743261c",
   "metadata": {},
   "outputs": [
    {
     "data": {
      "image/png": "[encoded data removed]",
      "text/latex": [
       "$\\displaystyle 8 x y - 40 y - 12$"
      ],
      "text/plain": [
       "8⋅x⋅y - 40⋅y - 12"
      ]
     },
     "execution_count": 58,
     "metadata": {},
     "output_type": "execute_result"
    }
   ],
   "source": [
    "Eq2 = diff(Eq1.lhs,x)\n",
    "Eq2 "
   ]
  },
  {
   "cell_type": "code",
   "execution_count": 59,
   "id": "af3f409f-3ccc-47c7-89af-73766f2ced96",
   "metadata": {},
   "outputs": [
    {
     "data": {
      "image/png": "[encoded data removed]",
      "text/latex": [
       "$\\displaystyle 4 x^{2} - 40 x + 84$"
      ],
      "text/plain": [
       "   2            \n",
       "4⋅x  - 40⋅x + 84"
      ]
     },
     "execution_count": 59,
     "metadata": {},
     "output_type": "execute_result"
    }
   ],
   "source": [
    "Eq3 = diff(Eq1.lhs,y)\n",
    "Eq3 "
   ]
  },
  {
   "cell_type": "code",
   "execution_count": 60,
   "id": "8258c2b3-ec62-4700-b901-10f338ac422e",
   "metadata": {},
   "outputs": [
    {
     "data": {
      "image/png": "[encoded data removed]",
      "text/latex": [
       "$\\displaystyle \\left[ \\left( 3, \\  - \\frac{3}{4}\\right), \\  \\left( 7, \\  \\frac{3}{4}\\right)\\right]$"
      ],
      "text/plain": [
       "[(3, -3/4), (7, 3/4)]"
      ]
     },
     "execution_count": 60,
     "metadata": {},
     "output_type": "execute_result"
    }
   ],
   "source": [
    "Cvals = solve([Eq2, Eq3], [x,y])\n",
    "Cvals"
   ]
  },
  {
   "cell_type": "code",
   "execution_count": null,
   "id": "134f0725-727f-4a6c-a910-3ed4e6cc0030",
   "metadata": {},
   "outputs": [],
   "source": [
    "1 - 7\n",
    "2 - 0.7500\n",
    "3 - 1\n",
    "4 - -84\n",
    "5 - 3\n",
    "6 - -0.7500\n",
    "7 - 1\n",
    "8 - "
   ]
  },
  {
   "cell_type": "code",
   "execution_count": 61,
   "id": "ca64e38d-629f-4f91-b73e-c66181539a7b",
   "metadata": {},
   "outputs": [
    {
     "data": {
      "image/png": "[encoded data removed]",
      "text/latex": [
       "$\\displaystyle -84 = v$"
      ],
      "text/plain": [
       "-84 = v"
      ]
     },
     "execution_count": 61,
     "metadata": {},
     "output_type": "execute_result"
    }
   ],
   "source": [
    "sol = Eq1.subs(x,7).subs(y, 3/4)\n",
    "sol"
   ]
  },
  {
   "cell_type": "code",
   "execution_count": 62,
   "id": "3c573083-0929-48c5-a12d-fa5a5658a1b8",
   "metadata": {},
   "outputs": [
    {
     "data": {
      "image/png": "[encoded data removed]",
      "text/latex": [
       "$\\displaystyle -36 = v$"
      ],
      "text/plain": [
       "-36 = v"
      ]
     },
     "execution_count": 62,
     "metadata": {},
     "output_type": "execute_result"
    }
   ],
   "source": [
    "sol = Eq1.subs(x,3).subs(y, -3/4)\n",
    "sol"
   ]
  },
  {
   "cell_type": "code",
   "execution_count": 63,
   "id": "c54df4b7-b1b7-4461-bb23-e548a515a886",
   "metadata": {},
   "outputs": [],
   "source": [
    "x, y, z = symbols('x y z')\n",
    "init_printing()"
   ]
  },
  {
   "cell_type": "code",
   "execution_count": 65,
   "id": "3dc46734-9d99-45d7-85ac-fba850016320",
   "metadata": {},
   "outputs": [
    {
     "data": {
      "image/png": "[encoded data removed]",
      "text/latex": [
       "$\\displaystyle x y z = 100$"
      ],
      "text/plain": [
       "x⋅y⋅z = 100"
      ]
     },
     "execution_count": 65,
     "metadata": {},
     "output_type": "execute_result"
    }
   ],
   "source": [
    "Eq0 = Eq(x*y*z,100)\n",
    "Eq0"
   ]
  },
  {
   "cell_type": "code",
   "execution_count": 66,
   "id": "5c0ada9c-38d8-41d1-ac39-be8ff82b859f",
   "metadata": {},
   "outputs": [
    {
     "data": {
      "image/png": "[encoded data removed]",
      "text/latex": [
       "$\\displaystyle \\left[ \\frac{100}{x y}\\right]$"
      ],
      "text/plain": [
       "⎡100⎤\n",
       "⎢───⎥\n",
       "⎣x⋅y⎦"
      ]
     },
     "execution_count": 66,
     "metadata": {},
     "output_type": "execute_result"
    }
   ],
   "source": [
    "Eq1 = solve( Eq0, z )\n",
    "Eq1"
   ]
  },
  {
   "cell_type": "code",
   "execution_count": 67,
   "id": "f4ea743b-706d-4fc5-aec4-a199c6f4cc10",
   "metadata": {},
   "outputs": [
    {
     "data": {
      "text/plain": [
       "'[100/(x*y)]'"
      ]
     },
     "execution_count": 67,
     "metadata": {},
     "output_type": "execute_result"
    }
   ],
   "source": [
    "str(Eq1)"
   ]
  },
  {
   "cell_type": "code",
   "execution_count": null,
   "id": "eeec07b6-6a97-455f-81b1-805a824212ce",
   "metadata": {},
   "outputs": [],
   "source": [
    "Eq2 = "
   ]
  }
 ],
 "metadata": {
  "kernelspec": {
   "display_name": "Python 3 (ipykernel)",
   "language": "python",
   "name": "python3"
  },
  "language_info": {
   "codemirror_mode": {
    "name": "ipython",
    "version": 3
   },
   "file_extension": ".py",
   "mimetype": "text/x-python",
   "name": "python",
   "nbconvert_exporter": "python",
   "pygments_lexer": "ipython3",
   "version": "3.9.7"
  }
 },
 "nbformat": 4,
 "nbformat_minor": 5
}
