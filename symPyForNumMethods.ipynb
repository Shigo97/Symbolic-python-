{
 "cells": [
  {
   "cell_type": "markdown",
   "metadata": {},
   "source": [
    "# Pre Masters Maths 6601PMEC"
   ]
  },
  {
   "cell_type": "markdown",
   "metadata": {},
   "source": [
    "## Examples of Using SymPy/SciPy Library for Numerical Methods"
   ]
  },
  {
   "cell_type": "markdown",
   "metadata": {},
   "source": [
    "1.  Prove that the trapezium rule with one trapezium gives the exact answer when evaluating the\n",
    "integral of a linear function:  \n",
    "$$ \\int_a^b (\\alpha + \\beta x) \\, dx$$\n",
    "where $a, b, \\alpha, \\beta$ are real numbers."
   ]
  },
  {
   "cell_type": "code",
   "execution_count": 57,
   "metadata": {},
   "outputs": [],
   "source": [
    "from sympy import *\n",
    "x = symbols('x')\n",
    "a, b, alpha, beta = symbols('a b alpha beta')"
   ]
  },
  {
   "cell_type": "code",
   "execution_count": 58,
   "metadata": {},
   "outputs": [
    {
     "data": {
      "text/latex": [
       "$\\displaystyle \\int\\limits_{a}^{b} \\left(\\alpha + \\beta x\\right)\\, dx$"
      ],
      "text/plain": [
       "Integral(alpha + beta*x, (x, a, b))"
      ]
     },
     "execution_count": 58,
     "metadata": {},
     "output_type": "execute_result"
    }
   ],
   "source": [
    "int1 = Integral( alpha + beta*x, (x, a, b) )\n",
    "int1"
   ]
  },
  {
   "cell_type": "markdown",
   "metadata": {},
   "source": [
    "Evaluated using the trapezium rule:"
   ]
  },
  {
   "cell_type": "code",
   "execution_count": 59,
   "metadata": {},
   "outputs": [
    {
     "data": {
      "text/latex": [
       "$\\displaystyle - \\frac{a^{2} \\beta}{2} - a \\alpha + \\alpha b + \\frac{b^{2} \\beta}{2}$"
      ],
      "text/plain": [
       "-a**2*beta/2 - a*alpha + alpha*b + b**2*beta/2"
      ]
     },
     "execution_count": 59,
     "metadata": {},
     "output_type": "execute_result"
    }
   ],
   "source": [
    "expand(int1.as_sum(1, 'trapezoid'))"
   ]
  },
  {
   "cell_type": "markdown",
   "metadata": {},
   "source": [
    "Evaluated directly:"
   ]
  },
  {
   "cell_type": "code",
   "execution_count": 60,
   "metadata": {},
   "outputs": [
    {
     "data": {
      "text/latex": [
       "$\\displaystyle - \\frac{a^{2} \\beta}{2} - a \\alpha + \\alpha b + \\frac{b^{2} \\beta}{2}$"
      ],
      "text/plain": [
       "-a**2*beta/2 - a*alpha + alpha*b + b**2*beta/2"
      ]
     },
     "execution_count": 60,
     "metadata": {},
     "output_type": "execute_result"
    }
   ],
   "source": [
    "int1.doit()"
   ]
  },
  {
   "cell_type": "markdown",
   "metadata": {},
   "source": [
    "Therefore they are the same..."
   ]
  },
  {
   "cell_type": "code",
   "execution_count": 61,
   "metadata": {},
   "outputs": [
    {
     "data": {
      "text/plain": [
       "True"
      ]
     },
     "execution_count": 61,
     "metadata": {},
     "output_type": "execute_result"
    }
   ],
   "source": [
    "expand(int1.as_sum(1, 'trapezoid')) == int1.doit()"
   ]
  },
  {
   "cell_type": "markdown",
   "metadata": {},
   "source": [
    "---\n",
    "2. Evaluate ${\\displaystyle \\int_0^1} \\sqrt{x} \\cos(x) \\, dx $ using Simpson's rule with 3 parabolae.  \n",
    "  \n",
    "  Unfortunately, there is no Simpson's rule functionality within the _as_sum_ command. You could either write a Python function to extend the functionality of SymPy or employ the _simps_ command from _scipy.integrate_. For more information on how to use this command, see: https://docs.scipy.org/doc/scipy/reference/generated/scipy.integrate.simps.html"
   ]
  },
  {
   "cell_type": "code",
   "execution_count": 62,
   "metadata": {},
   "outputs": [],
   "source": [
    "from scipy.integrate import simps\n",
    "import numpy as np"
   ]
  },
  {
   "cell_type": "code",
   "execution_count": 63,
   "metadata": {},
   "outputs": [
    {
     "data": {
      "text/plain": [
       "0.5257021644193366"
      ]
     },
     "execution_count": 63,
     "metadata": {},
     "output_type": "execute_result"
    }
   ],
   "source": [
    "strips = 3 * 2 # number of strips (2 for each parabola)\n",
    "X = np.linspace(0, 1, strips+1) #strips+1 because it linspace asks for the number of ordinates\n",
    "Y = np.sqrt(X) * np.cos(X)\n",
    "simps(Y, X)"
   ]
  },
  {
   "cell_type": "markdown",
   "metadata": {},
   "source": [
    "---\n",
    "4. Find an approximation to one of the solutions of the equation $e^x − x − 5 = 0$ using Newton’s method. Start with the initial guess $x = 1.5$ and give your answer correct to three decimal places."
   ]
  },
  {
   "cell_type": "code",
   "execution_count": 74,
   "metadata": {},
   "outputs": [
    {
     "data": {
      "text/latex": [
       "$\\displaystyle 1.937$"
      ],
      "text/plain": [
       "1.937"
      ]
     },
     "execution_count": 74,
     "metadata": {},
     "output_type": "execute_result"
    }
   ],
   "source": [
    "eq4 = exp(x) - x - 5\n",
    "nsolve(eq4, x, 1.5, solver='newton', prec=4)"
   ]
  },
  {
   "cell_type": "markdown",
   "metadata": {},
   "source": [
    "The _newton_ command from _scipy.optimize_ can also provide the same functionality. "
   ]
  },
  {
   "cell_type": "code",
   "execution_count": 75,
   "metadata": {},
   "outputs": [],
   "source": [
    "from scipy.optimize import newton"
   ]
  },
  {
   "cell_type": "code",
   "execution_count": 79,
   "metadata": {},
   "outputs": [
    {
     "data": {
      "text/plain": [
       "1.937"
      ]
     },
     "execution_count": 79,
     "metadata": {},
     "output_type": "execute_result"
    }
   ],
   "source": [
    "round( newton(lambdify(x, eq4), 1.5), 3)"
   ]
  },
  {
   "cell_type": "markdown",
   "metadata": {},
   "source": [
    "***   \n",
    "  \n",
    "by Dr J T Wharton\n",
    "\n",
    "***"
   ]
  }
 ],
 "metadata": {
  "kernelspec": {
   "display_name": "Python 3",
   "language": "python",
   "name": "python3"
  },
  "language_info": {
   "codemirror_mode": {
    "name": "ipython",
    "version": 3
   },
   "file_extension": ".py",
   "mimetype": "text/x-python",
   "name": "python",
   "nbconvert_exporter": "python",
   "pygments_lexer": "ipython3",
   "version": "3.7.3"
  }
 },
 "nbformat": 4,
 "nbformat_minor": 4
}
