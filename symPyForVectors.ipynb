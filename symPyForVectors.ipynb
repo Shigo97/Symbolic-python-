{
 "cells": [
  {
   "cell_type": "markdown",
   "metadata": {},
   "source": [
    "# Pre Masters Maths 6601PMEC"
   ]
  },
  {
   "cell_type": "markdown",
   "metadata": {},
   "source": [
    "## Examples of Using SymPy for Vectors"
   ]
  },
  {
   "cell_type": "markdown",
   "metadata": {},
   "source": [
    "1.  Given that __a__ joins the points (0,0) to (2,3), __b__ joins (1,3) to (4,7), __c__ joins (1,3) to (-1,-1), __d__ joins (1,2) to (3,1) and __e__ joins (1,2) to (-1,1).  \n",
    "  a.  Write down the five vectors in Cartesian form.  \n",
    "  b.  Determine the vectors __a__+__b__, __c__+__d__, __b__-__e__, __a__-__d__, __a__+__b__+__c__, 2 __a__-__b__+__c__."
   ]
  },
  {
   "cell_type": "code",
   "execution_count": 1,
   "metadata": {},
   "outputs": [],
   "source": [
    "from sympy import *\n",
    "init_printing()"
   ]
  },
  {
   "cell_type": "code",
   "execution_count": 2,
   "metadata": {},
   "outputs": [],
   "source": [
    "from sympy.vector import *\n",
    "A = CoordSys3D('A')"
   ]
  },
  {
   "cell_type": "code",
   "execution_count": 3,
   "metadata": {},
   "outputs": [
    {
     "data": {
      "image/png": "[encoded data removed]",
      "text/latex": [
       "$\\displaystyle (3)\\mathbf{\\hat{i}_{A}} + (4)\\mathbf{\\hat{j}_{A}}$"
      ],
      "text/plain": [
       "3*A.i + 4*A.j"
      ]
     },
     "execution_count": 3,
     "metadata": {},
     "output_type": "execute_result"
    }
   ],
   "source": [
    "a = 2*A.i + 3*A.j\n",
    "b = (4-1)*A.i + (7-3)*A.j\n",
    "b"
   ]
  },
  {
   "cell_type": "code",
   "execution_count": 4,
   "metadata": {},
   "outputs": [
    {
     "data": {
      "image/png": "[encoded data removed]",
      "text/latex": [
       "$\\displaystyle (5)\\mathbf{\\hat{i}_{A}} + (7)\\mathbf{\\hat{j}_{A}}$"
      ],
      "text/plain": [
       "5*A.i + 7*A.j"
      ]
     },
     "execution_count": 4,
     "metadata": {},
     "output_type": "execute_result"
    }
   ],
   "source": [
    "a + b"
   ]
  },
  {
   "cell_type": "markdown",
   "metadata": {},
   "source": [
    "2.  A particle is given three displacements in succession: $\\overrightarrow{OA}$, $\\overrightarrow{AB}$ and $\\overrightarrow{BC}$ respectively given by -3 __i__+__j__, __i__ - 3 __j__ + __k__ and -__i__ - __j__ - __k__. Find:  \n",
    "  a.  the position vector of $C$ i.e. $\\overrightarrow{OC}$,  \n",
    "  b.  the distance $| \\overrightarrow{OC} |$  \n",
    "  c.  the angle $\\overrightarrow{OC}$ makes with the coordinate axes using the direction cosines. Is this what you expect? (Draw a picture)."
   ]
  },
  {
   "cell_type": "markdown",
   "metadata": {},
   "source": [
    "The position vector $\\overrightarrow{OC}$ is"
   ]
  },
  {
   "cell_type": "code",
   "execution_count": 5,
   "metadata": {},
   "outputs": [
    {
     "data": {
      "image/png": "[encoded data removed]",
      "text/latex": [
       "$\\displaystyle (-3)\\mathbf{\\hat{i}_{A}} + (-3)\\mathbf{\\hat{j}_{A}}$"
      ],
      "text/plain": [
       "(-3)*A.i + (-3)*A.j"
      ]
     },
     "execution_count": 5,
     "metadata": {},
     "output_type": "execute_result"
    }
   ],
   "source": [
    "oa = -3*A.i + A.j\n",
    "ab = A.i - 3*A.j + A.k\n",
    "bc = -A.i - A.j - A.k\n",
    "oc = oa + ab + bc\n",
    "oc"
   ]
  },
  {
   "cell_type": "markdown",
   "metadata": {},
   "source": [
    "The distance $| \\overrightarrow{OC} |$  is"
   ]
  },
  {
   "cell_type": "code",
   "execution_count": 6,
   "metadata": {},
   "outputs": [
    {
     "data": {
      "image/png": "[encoded data removed]",
      "text/latex": [
       "$\\displaystyle 3 \\sqrt{2}$"
      ],
      "text/plain": [
       "3⋅√2"
      ]
     },
     "execution_count": 6,
     "metadata": {},
     "output_type": "execute_result"
    }
   ],
   "source": [
    "mag = oc.magnitude()\n",
    "mag"
   ]
  },
  {
   "cell_type": "markdown",
   "metadata": {},
   "source": [
    "To find the angle $\\overrightarrow{OC}$ makes with each coordinate axis, we can first use employ the _normalize()_ command to find the unit vector and hence the direction cosine for each axis."
   ]
  },
  {
   "cell_type": "code",
   "execution_count": 7,
   "metadata": {},
   "outputs": [
    {
     "data": {
      "image/png": "[encoded data removed]",
      "text/latex": [
       "$\\displaystyle (- \\frac{\\sqrt{2}}{2})\\mathbf{\\hat{i}_{A}} + (- \\frac{\\sqrt{2}}{2})\\mathbf{\\hat{j}_{A}}$"
      ],
      "text/plain": [
       "(-sqrt(2)/2)*A.i + (-sqrt(2)/2)*A.j"
      ]
     },
     "execution_count": 7,
     "metadata": {},
     "output_type": "execute_result"
    }
   ],
   "source": [
    "oc.normalize()"
   ]
  },
  {
   "cell_type": "markdown",
   "metadata": {},
   "source": [
    "Now to find the angle (in radians) between $\\overrightarrow{OC}$ and each axis."
   ]
  },
  {
   "cell_type": "code",
   "execution_count": 8,
   "metadata": {
    "scrolled": true
   },
   "outputs": [
    {
     "data": {
      "image/png": "[encoded data removed]",
      "text/latex": [
       "$\\displaystyle \\frac{3 \\pi}{4}$"
      ],
      "text/plain": [
       "3⋅π\n",
       "───\n",
       " 4 "
      ]
     },
     "execution_count": 8,
     "metadata": {},
     "output_type": "execute_result"
    }
   ],
   "source": [
    "ocHat = oc.normalize().to_matrix(A)\n",
    "alpha = acos(ocHat[0])\n",
    "alpha"
   ]
  },
  {
   "cell_type": "code",
   "execution_count": 9,
   "metadata": {},
   "outputs": [
    {
     "data": {
      "image/png": "[encoded data removed]",
      "text/latex": [
       "$\\displaystyle \\frac{3 \\pi}{4}$"
      ],
      "text/plain": [
       "3⋅π\n",
       "───\n",
       " 4 "
      ]
     },
     "execution_count": 9,
     "metadata": {},
     "output_type": "execute_result"
    }
   ],
   "source": [
    "beta = acos(ocHat[1])\n",
    "beta"
   ]
  },
  {
   "cell_type": "code",
   "execution_count": 10,
   "metadata": {},
   "outputs": [
    {
     "data": {
      "image/png": "[encoded data removed]",
      "text/latex": [
       "$\\displaystyle \\frac{\\pi}{2}$"
      ],
      "text/plain": [
       "π\n",
       "─\n",
       "2"
      ]
     },
     "execution_count": 10,
     "metadata": {},
     "output_type": "execute_result"
    }
   ],
   "source": [
    "gamma = acos(ocHat[2])\n",
    "gamma"
   ]
  },
  {
   "cell_type": "markdown",
   "metadata": {},
   "source": [
    "1.  Given __a__ = __i__ - 2 __j__ + 3 __k__, __b__ = 3 __i__ + 6 __j__ - 2 __k__ and __c__ = 3 __i__ + 2 __j__ - 6 __k__, find  \n",
    "  a.  __a__$\\cdot$__c__ and __a__$\\cdot$__b__  \n",
    "  b.  the angle between __a__ and __c__  \n",
    "  c.  Verify that __a__$\\cdot$(__b__ + __c__) = __a__$\\cdot$__b__ + __a__$\\cdot$__c__."
   ]
  },
  {
   "cell_type": "code",
   "execution_count": 11,
   "metadata": {},
   "outputs": [],
   "source": [
    "a = A.i - 2*A.j + 3*A.k\n",
    "b = 3*A.i + 6*A.j - 2*A.k\n",
    "c = 3*A.i + 2*A.j - 6*A.k"
   ]
  },
  {
   "cell_type": "markdown",
   "metadata": {},
   "source": [
    "__a__$\\cdot$__c__ = "
   ]
  },
  {
   "cell_type": "code",
   "execution_count": 12,
   "metadata": {},
   "outputs": [
    {
     "data": {
      "image/png": "[encoded data removed]",
      "text/latex": [
       "$\\displaystyle -19$"
      ],
      "text/plain": [
       "-19"
      ]
     },
     "execution_count": 12,
     "metadata": {},
     "output_type": "execute_result"
    }
   ],
   "source": [
    "a.dot(c)"
   ]
  },
  {
   "cell_type": "markdown",
   "metadata": {},
   "source": [
    "__a__$\\cdot$__b__ = "
   ]
  },
  {
   "cell_type": "code",
   "execution_count": 13,
   "metadata": {},
   "outputs": [
    {
     "data": {
      "image/png": "[encoded data removed]",
      "text/latex": [
       "$\\displaystyle -15$"
      ],
      "text/plain": [
       "-15"
      ]
     },
     "execution_count": 13,
     "metadata": {},
     "output_type": "execute_result"
    }
   ],
   "source": [
    "a.dot(b)"
   ]
  },
  {
   "cell_type": "markdown",
   "metadata": {},
   "source": [
    "The angle between __a__ and __c__ is"
   ]
  },
  {
   "cell_type": "code",
   "execution_count": 14,
   "metadata": {},
   "outputs": [
    {
     "data": {
      "image/png": "[encoded data removed]",
      "text/latex": [
       "$\\displaystyle - \\frac{19 \\sqrt{14}}{98}$"
      ],
      "text/plain": [
       "-19⋅√14 \n",
       "────────\n",
       "   98   "
      ]
     },
     "execution_count": 14,
     "metadata": {},
     "output_type": "execute_result"
    }
   ],
   "source": [
    "cosA = a.dot(c)/(a.magnitude()*c.magnitude())\n",
    "cosA"
   ]
  },
  {
   "cell_type": "code",
   "execution_count": 15,
   "metadata": {},
   "outputs": [
    {
     "data": {
      "image/png": "[encoded data removed]",
      "text/latex": [
       "$\\displaystyle 2.38244561573062$"
      ],
      "text/plain": [
       "2.38244561573062"
      ]
     },
     "execution_count": 15,
     "metadata": {},
     "output_type": "execute_result"
    }
   ],
   "source": [
    "acos(cosA).n()"
   ]
  },
  {
   "cell_type": "markdown",
   "metadata": {},
   "source": [
    "__a__$\\cdot$(__b__ + __c__) is"
   ]
  },
  {
   "cell_type": "code",
   "execution_count": 16,
   "metadata": {},
   "outputs": [
    {
     "data": {
      "image/png": "[encoded data removed]",
      "text/latex": [
       "$\\displaystyle -34$"
      ],
      "text/plain": [
       "-34"
      ]
     },
     "execution_count": 16,
     "metadata": {},
     "output_type": "execute_result"
    }
   ],
   "source": [
    "a.dot(b + c)"
   ]
  },
  {
   "cell_type": "markdown",
   "metadata": {},
   "source": [
    "__a__$\\cdot$__b__ + __a__$\\cdot$__c__ is"
   ]
  },
  {
   "cell_type": "code",
   "execution_count": 17,
   "metadata": {},
   "outputs": [
    {
     "data": {
      "image/png": "[encoded data removed]",
      "text/latex": [
       "$\\displaystyle -34$"
      ],
      "text/plain": [
       "-34"
      ]
     },
     "execution_count": 17,
     "metadata": {},
     "output_type": "execute_result"
    }
   ],
   "source": [
    "a.dot(b) + a.dot(c)"
   ]
  },
  {
   "cell_type": "markdown",
   "metadata": {},
   "source": [
    "Verify that __a__$\\cdot$(__b__ + __c__) = __a__$\\cdot$__b__ + __a__$\\cdot$__c__"
   ]
  },
  {
   "cell_type": "code",
   "execution_count": 18,
   "metadata": {},
   "outputs": [
    {
     "data": {
      "text/plain": [
       "True"
      ]
     },
     "execution_count": 18,
     "metadata": {},
     "output_type": "execute_result"
    }
   ],
   "source": [
    "a.dot(b + c) == a.dot(b) + a.dot(c)"
   ]
  },
  {
   "cell_type": "markdown",
   "metadata": {},
   "source": [
    "4.  Calculate the work done in moving an object along the vector 3 __i__ + 2 __j__ - 5 __k__ by a force 2 __i__ - __j__ - __k__."
   ]
  },
  {
   "cell_type": "code",
   "execution_count": 19,
   "metadata": {},
   "outputs": [],
   "source": [
    "s = 3*A.i + 2*A.j - 5*A.k\n",
    "F = 2*A.i - A.j - A.k"
   ]
  },
  {
   "cell_type": "code",
   "execution_count": 20,
   "metadata": {},
   "outputs": [
    {
     "data": {
      "image/png": "[encoded data removed]",
      "text/latex": [
       "$\\displaystyle 9$"
      ],
      "text/plain": [
       "9"
      ]
     },
     "execution_count": 20,
     "metadata": {},
     "output_type": "execute_result"
    }
   ],
   "source": [
    "F.dot(s)"
   ]
  },
  {
   "cell_type": "markdown",
   "metadata": {},
   "source": [
    "  7.  If __p__ = [1, 1, 1], __q__ = [0,-1,2] and __r__ = [2,2,1] find  \n",
    "    i.  __p__ x __q__"
   ]
  },
  {
   "cell_type": "code",
   "execution_count": 21,
   "metadata": {},
   "outputs": [],
   "source": [
    "p = A.i + A.j + A.k\n",
    "q = - A.j + 2*A.k"
   ]
  },
  {
   "cell_type": "code",
   "execution_count": 22,
   "metadata": {},
   "outputs": [
    {
     "data": {
      "image/png": "[encoded data removed]",
      "text/latex": [
       "$\\displaystyle (3)\\mathbf{\\hat{i}_{A}} + (-2)\\mathbf{\\hat{j}_{A}} - \\mathbf{\\hat{k}_{A}}$"
      ],
      "text/plain": [
       "3*A.i + (-2)*A.j + (-1)*A.k"
      ]
     },
     "execution_count": 22,
     "metadata": {},
     "output_type": "execute_result"
    }
   ],
   "source": [
    "p.cross(q)"
   ]
  },
  {
   "cell_type": "markdown",
   "metadata": {},
   "source": [
    "***   \n",
    "  \n",
    "by Dr J T Wharton\n",
    "\n",
    "***"
   ]
  }
 ],
 "metadata": {
  "kernelspec": {
   "display_name": "Python 3 (ipykernel)",
   "language": "python",
   "name": "python3"
  },
  "language_info": {
   "codemirror_mode": {
    "name": "ipython",
    "version": 3
   },
   "file_extension": ".py",
   "mimetype": "text/x-python",
   "name": "python",
   "nbconvert_exporter": "python",
   "pygments_lexer": "ipython3",
   "version": "3.9.7"
  }
 },
 "nbformat": 4,
 "nbformat_minor": 4
}
