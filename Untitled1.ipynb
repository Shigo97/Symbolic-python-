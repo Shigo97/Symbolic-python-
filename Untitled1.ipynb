{
 "cells": [
  {
   "cell_type": "code",
   "execution_count": 2,
   "id": "f207b362-5498-4176-b7b4-923941e1759c",
   "metadata": {},
   "outputs": [],
   "source": [
    "from sympy import *\n",
    "init_printing()\n",
    "t, C1, C2, C3, C4 = symbols('t C1 C2 C3 C4')\n",
    "x = Function('x')(t)\n",
    "y = Function('y')(t)\n",
    "dx = x.diff(t)\n",
    "dy = y.diff(t)\n",
    "dx2 = x.diff(t,2)\n",
    "dy2 = y.diff(t,2)"
   ]
  },
  {
   "cell_type": "code",
   "execution_count": 4,
   "id": "0fe5983f-f48e-47bf-9654-961cca33acbc",
   "metadata": {},
   "outputs": [
    {
     "data": {
      "image/png": "[encoded data removed]",
      "text/latex": [
       "$\\displaystyle \\frac{d}{d t} x{\\left(t \\right)} = 59 x{\\left(t \\right)} + 16 y{\\left(t \\right)}$"
      ],
      "text/plain": [
       "d                           \n",
       "──(x(t)) = 59⋅x(t) + 16⋅y(t)\n",
       "dt                          "
      ]
     },
     "execution_count": 4,
     "metadata": {},
     "output_type": "execute_result"
    }
   ],
   "source": [
    "Eq1 = Eq(dx, 59*x + 16*y )\n",
    "Eq1"
   ]
  },
  {
   "cell_type": "code",
   "execution_count": 5,
   "id": "b6921215-7e8d-443a-beff-36427cce7ae9",
   "metadata": {},
   "outputs": [
    {
     "data": {
      "image/png": "[encoded data removed]",
      "text/latex": [
       "$\\displaystyle \\frac{d}{d t} y{\\left(t \\right)} = - 192 x{\\left(t \\right)} - 53 y{\\left(t \\right)}$"
      ],
      "text/plain": [
       "d                             \n",
       "──(y(t)) = -192⋅x(t) - 53⋅y(t)\n",
       "dt                            "
      ]
     },
     "execution_count": 5,
     "metadata": {},
     "output_type": "execute_result"
    }
   ],
   "source": [
    "Eq2 = Eq(dy, -192*x + -53*y )\n",
    "Eq2"
   ]
  },
  {
   "cell_type": "code",
   "execution_count": 6,
   "id": "c840b147-ad27-437b-b1a8-225a565debb0",
   "metadata": {},
   "outputs": [
    {
     "data": {
      "image/png": "[encoded data removed]",
      "text/latex": [
       "$\\displaystyle \\left[ x{\\left(t \\right)} = - \\frac{C_{1} e^{- 5 t}}{4} - \\frac{C_{2} e^{11 t}}{3}, \\  y{\\left(t \\right)} = C_{1} e^{- 5 t} + C_{2} e^{11 t}\\right]$"
      ],
      "text/plain": [
       "⎡             -5⋅t       11⋅t                            ⎤\n",
       "⎢         C₁⋅ℯ       C₂⋅ℯ                 -5⋅t       11⋅t⎥\n",
       "⎢x(t) = - ──────── - ────────, y(t) = C₁⋅ℯ     + C₂⋅ℯ    ⎥\n",
       "⎣            4          3                                ⎦"
      ]
     },
     "execution_count": 6,
     "metadata": {},
     "output_type": "execute_result"
    }
   ],
   "source": [
    "genSol = dsolve([Eq1, Eq2], [x, y])\n",
    "genSol"
   ]
  },
  {
   "cell_type": "code",
   "execution_count": 15,
   "id": "86175d02-4219-4a02-b564-fb1ed1b02918",
   "metadata": {},
   "outputs": [
    {
     "data": {
      "image/png": "[encoded data removed]",
      "text/latex": [
       "$\\displaystyle 0.055 = - \\frac{C_{1}}{4} - \\frac{C_{2}}{3}$"
      ],
      "text/plain": [
       "          C₁   C₂\n",
       "0.055 = - ── - ──\n",
       "          4    3 "
      ]
     },
     "execution_count": 15,
     "metadata": {},
     "output_type": "execute_result"
    }
   ],
   "source": [
    "simEq1 = ((genSol[0]).subs(x,0.055)).subs(t,0) \n",
    "simEq1"
   ]
  },
  {
   "cell_type": "code",
   "execution_count": 16,
   "id": "8965992e-4135-4b0a-8572-1668dd012789",
   "metadata": {},
   "outputs": [
    {
     "data": {
      "image/png": "[encoded data removed]",
      "text/latex": [
       "$\\displaystyle 1 = C_{1} + C_{2}$"
      ],
      "text/plain": [
       "1 = C₁ + C₂"
      ]
     },
     "execution_count": 16,
     "metadata": {},
     "output_type": "execute_result"
    }
   ],
   "source": [
    "simEq2 = ((genSol[1]).subs(y,1)).subs(t,0)\n",
    "simEq2"
   ]
  },
  {
   "cell_type": "code",
   "execution_count": 17,
   "id": "97ba008c-d285-4c04-b044-2acda1d2b109",
   "metadata": {},
   "outputs": [
    {
     "data": {
      "image/png": "[encoded data removed]",
      "text/latex": [
       "$\\displaystyle \\left[ \\left\\{ C_{1} : 4.66, \\  C_{2} : -3.66\\right\\}\\right]$"
      ],
      "text/plain": [
       "[{C₁: 4.66, C₂: -3.66}]"
      ]
     },
     "execution_count": 17,
     "metadata": {},
     "output_type": "execute_result"
    }
   ],
   "source": [
    "const = solve([simEq1, simEq2], [C1, C2],dict=True)\n",
    "const"
   ]
  },
  {
   "cell_type": "code",
   "execution_count": 13,
   "id": "bed42a2e-b82c-4630-ad0b-080b9db564da",
   "metadata": {},
   "outputs": [
    {
     "data": {
      "text/plain": [
       "'Eq(-8, -C1/4 - C2/3)'"
      ]
     },
     "execution_count": 13,
     "metadata": {},
     "output_type": "execute_result"
    }
   ],
   "source": [
    "str(simEq1)"
   ]
  },
  {
   "cell_type": "code",
   "execution_count": 14,
   "id": "51c2d511-7c77-4783-a3cc-83e5bcbebb4d",
   "metadata": {},
   "outputs": [
    {
     "data": {
      "text/plain": [
       "'[Eq(x(t), -C1*exp(-5*t)/4 - C2*exp(11*t)/3), Eq(y(t), C1*exp(-5*t) + C2*exp(11*t))]'"
      ]
     },
     "execution_count": 14,
     "metadata": {},
     "output_type": "execute_result"
    }
   ],
   "source": [
    "str(genSol)"
   ]
  },
  {
   "cell_type": "code",
   "execution_count": 18,
   "id": "01e66190-278b-4219-b805-9a7bfc06d1e7",
   "metadata": {},
   "outputs": [
    {
     "data": {
      "image/png": "[encoded data removed]",
      "text/latex": [
       "$\\displaystyle \\left( \\frac{2 \\left(50 s \\left(\\left(s - 4\\right)^{2} + 16\\right) + \\left(s - 4\\right) \\left(s^{2} + 100\\right)^{2}\\right)}{\\left(s^{2} + 100\\right)^{2} \\left(\\left(s - 4\\right)^{2} + 16\\right)}, \\  0, \\  \\left|{2 \\arg{\\left(4 - s \\right)} + 2 \\pi}\\right| < \\pi\\right)$"
      ],
      "text/plain": [
       "⎛  ⎛                                         2⎞                             ⎞\n",
       "⎜  ⎜     ⎛       2     ⎞           ⎛ 2      ⎞ ⎟                             ⎟\n",
       "⎜2⋅⎝50⋅s⋅⎝(s - 4)  + 16⎠ + (s - 4)⋅⎝s  + 100⎠ ⎠                             ⎟\n",
       "⎜──────────────────────────────────────────────, 0, │2⋅arg(4 - s) + 2⋅π│ < π⎟\n",
       "⎜                   2                                                       ⎟\n",
       "⎜         ⎛ 2      ⎞  ⎛       2     ⎞                                       ⎟\n",
       "⎝         ⎝s  + 100⎠ ⋅⎝(s - 4)  + 16⎠                                       ⎠"
      ]
     },
     "execution_count": 18,
     "metadata": {},
     "output_type": "execute_result"
    }
   ],
   "source": [
    "from sympy import *\n",
    "init_printing()\n",
    "t, s = symbols('t s')\n",
    "Eq1 = laplace_transform( 5*t*sin(10*t) + 2*exp(4*t) * cos(4*t) , t, s)\n",
    "Eq1"
   ]
  },
  {
   "cell_type": "code",
   "execution_count": 19,
   "id": "76d0286e-7abf-4e98-8e16-0486492d0e3c",
   "metadata": {},
   "outputs": [
    {
     "data": {
      "text/plain": [
       "'(2*(50*s*((s - 4)**2 + 16) + (s - 4)*(s**2 + 100)**2)/((s**2 + 100)**2*((s - 4)**2 + 16)), 0, Abs(2*arg(4 - s) + 2*pi) < pi)'"
      ]
     },
     "execution_count": 19,
     "metadata": {},
     "output_type": "execute_result"
    }
   ],
   "source": [
    "str(Eq1)"
   ]
  },
  {
   "cell_type": "code",
   "execution_count": 22,
   "id": "b6429198-fe23-40ae-a18d-e0620f74dd75",
   "metadata": {},
   "outputs": [
    {
     "ename": "ValueError",
     "evalue": "Invalid limits given: ((7*exp(6*t), 0, oo),)",
     "output_type": "error",
     "traceback": [
      "\u001b[1;31m---------------------------------------------------------------------------\u001b[0m",
      "\u001b[1;31mValueError\u001b[0m                                Traceback (most recent call last)",
      "\u001b[1;32m~\\AppData\\Local\\Temp/ipykernel_16320/629128765.py\u001b[0m in \u001b[0;36m<module>\u001b[1;34m\u001b[0m\n\u001b[0;32m      9\u001b[0m \u001b[0mdx2\u001b[0m \u001b[1;33m=\u001b[0m \u001b[0mx\u001b[0m\u001b[1;33m.\u001b[0m\u001b[0mdiff\u001b[0m\u001b[1;33m(\u001b[0m\u001b[0mt\u001b[0m\u001b[1;33m,\u001b[0m\u001b[1;36m2\u001b[0m\u001b[1;33m)\u001b[0m\u001b[1;33m\u001b[0m\u001b[1;33m\u001b[0m\u001b[0m\n\u001b[0;32m     10\u001b[0m \u001b[0mdy2\u001b[0m \u001b[1;33m=\u001b[0m \u001b[0my\u001b[0m\u001b[1;33m.\u001b[0m\u001b[0mdiff\u001b[0m\u001b[1;33m(\u001b[0m\u001b[0mt\u001b[0m\u001b[1;33m,\u001b[0m\u001b[1;36m2\u001b[0m\u001b[1;33m)\u001b[0m\u001b[1;33m\u001b[0m\u001b[1;33m\u001b[0m\u001b[0m\n\u001b[1;32m---> 11\u001b[1;33m \u001b[0mEq1\u001b[0m \u001b[1;33m=\u001b[0m \u001b[0mlaplace_transform\u001b[0m\u001b[1;33m(\u001b[0m \u001b[0mdx\u001b[0m \u001b[1;33m+\u001b[0m \u001b[1;36m2\u001b[0m\u001b[1;33m*\u001b[0m\u001b[0mx\u001b[0m \u001b[1;33m,\u001b[0m \u001b[1;36m7\u001b[0m\u001b[1;33m*\u001b[0m\u001b[0mexp\u001b[0m\u001b[1;33m(\u001b[0m\u001b[1;36m6\u001b[0m\u001b[1;33m*\u001b[0m\u001b[0mt\u001b[0m\u001b[1;33m)\u001b[0m\u001b[1;33m,\u001b[0m \u001b[0mt\u001b[0m\u001b[1;33m,\u001b[0m \u001b[0moo\u001b[0m\u001b[1;33m)\u001b[0m\u001b[1;33m\u001b[0m\u001b[1;33m\u001b[0m\u001b[0m\n\u001b[0m\u001b[0;32m     12\u001b[0m \u001b[0mEq1\u001b[0m\u001b[1;33m\u001b[0m\u001b[1;33m\u001b[0m\u001b[0m\n",
      "\u001b[1;32mD:\\Anaconda3\\lib\\site-packages\\sympy\\integrals\\transforms.py\u001b[0m in \u001b[0;36mlaplace_transform\u001b[1;34m(f, t, s, legacy_matrix, **hints)\u001b[0m\n\u001b[0;32m   1254\u001b[0m                 \u001b[1;32mreturn\u001b[0m \u001b[0mtype\u001b[0m\u001b[1;33m(\u001b[0m\u001b[0mf\u001b[0m\u001b[1;33m)\u001b[0m\u001b[1;33m(\u001b[0m\u001b[1;33m*\u001b[0m\u001b[0mf\u001b[0m\u001b[1;33m.\u001b[0m\u001b[0mshape\u001b[0m\u001b[1;33m,\u001b[0m \u001b[0melements_trans\u001b[0m\u001b[1;33m)\u001b[0m\u001b[1;33m\u001b[0m\u001b[1;33m\u001b[0m\u001b[0m\n\u001b[0;32m   1255\u001b[0m \u001b[1;33m\u001b[0m\u001b[0m\n\u001b[1;32m-> 1256\u001b[1;33m     \u001b[1;32mreturn\u001b[0m \u001b[0mLaplaceTransform\u001b[0m\u001b[1;33m(\u001b[0m\u001b[0mf\u001b[0m\u001b[1;33m,\u001b[0m \u001b[0mt\u001b[0m\u001b[1;33m,\u001b[0m \u001b[0ms\u001b[0m\u001b[1;33m)\u001b[0m\u001b[1;33m.\u001b[0m\u001b[0mdoit\u001b[0m\u001b[1;33m(\u001b[0m\u001b[1;33m**\u001b[0m\u001b[0mhints\u001b[0m\u001b[1;33m)\u001b[0m\u001b[1;33m\u001b[0m\u001b[1;33m\u001b[0m\u001b[0m\n\u001b[0m\u001b[0;32m   1257\u001b[0m \u001b[1;33m\u001b[0m\u001b[0m\n\u001b[0;32m   1258\u001b[0m \u001b[1;33m\u001b[0m\u001b[0m\n",
      "\u001b[1;32mD:\\Anaconda3\\lib\\site-packages\\sympy\\integrals\\transforms.py\u001b[0m in \u001b[0;36mdoit\u001b[1;34m(self, **hints)\u001b[0m\n\u001b[0;32m    134\u001b[0m         \u001b[1;32mif\u001b[0m \u001b[0mtry_directly\u001b[0m\u001b[1;33m:\u001b[0m\u001b[1;33m\u001b[0m\u001b[1;33m\u001b[0m\u001b[0m\n\u001b[0;32m    135\u001b[0m             \u001b[1;32mtry\u001b[0m\u001b[1;33m:\u001b[0m\u001b[1;33m\u001b[0m\u001b[1;33m\u001b[0m\u001b[0m\n\u001b[1;32m--> 136\u001b[1;33m                 return self._compute_transform(self.function,\n\u001b[0m\u001b[0;32m    137\u001b[0m                     self.function_variable, self.transform_variable, **hints)\n\u001b[0;32m    138\u001b[0m             \u001b[1;32mexcept\u001b[0m \u001b[0mIntegralTransformError\u001b[0m\u001b[1;33m:\u001b[0m\u001b[1;33m\u001b[0m\u001b[1;33m\u001b[0m\u001b[0m\n",
      "\u001b[1;32mD:\\Anaconda3\\lib\\site-packages\\sympy\\integrals\\transforms.py\u001b[0m in \u001b[0;36m_compute_transform\u001b[1;34m(self, f, t, s, **hints)\u001b[0m\n\u001b[0;32m   1155\u001b[0m \u001b[1;33m\u001b[0m\u001b[0m\n\u001b[0;32m   1156\u001b[0m     \u001b[1;32mdef\u001b[0m \u001b[0m_compute_transform\u001b[0m\u001b[1;33m(\u001b[0m\u001b[0mself\u001b[0m\u001b[1;33m,\u001b[0m \u001b[0mf\u001b[0m\u001b[1;33m,\u001b[0m \u001b[0mt\u001b[0m\u001b[1;33m,\u001b[0m \u001b[0ms\u001b[0m\u001b[1;33m,\u001b[0m \u001b[1;33m**\u001b[0m\u001b[0mhints\u001b[0m\u001b[1;33m)\u001b[0m\u001b[1;33m:\u001b[0m\u001b[1;33m\u001b[0m\u001b[1;33m\u001b[0m\u001b[0m\n\u001b[1;32m-> 1157\u001b[1;33m         \u001b[1;32mreturn\u001b[0m \u001b[0m_laplace_transform\u001b[0m\u001b[1;33m(\u001b[0m\u001b[0mf\u001b[0m\u001b[1;33m,\u001b[0m \u001b[0mt\u001b[0m\u001b[1;33m,\u001b[0m \u001b[0ms\u001b[0m\u001b[1;33m,\u001b[0m \u001b[1;33m**\u001b[0m\u001b[0mhints\u001b[0m\u001b[1;33m)\u001b[0m\u001b[1;33m\u001b[0m\u001b[1;33m\u001b[0m\u001b[0m\n\u001b[0m\u001b[0;32m   1158\u001b[0m \u001b[1;33m\u001b[0m\u001b[0m\n\u001b[0;32m   1159\u001b[0m     \u001b[1;32mdef\u001b[0m \u001b[0m_as_integral\u001b[0m\u001b[1;33m(\u001b[0m\u001b[0mself\u001b[0m\u001b[1;33m,\u001b[0m \u001b[0mf\u001b[0m\u001b[1;33m,\u001b[0m \u001b[0mt\u001b[0m\u001b[1;33m,\u001b[0m \u001b[0ms\u001b[0m\u001b[1;33m)\u001b[0m\u001b[1;33m:\u001b[0m\u001b[1;33m\u001b[0m\u001b[1;33m\u001b[0m\u001b[0m\n",
      "\u001b[1;32mD:\\Anaconda3\\lib\\site-packages\\sympy\\integrals\\transforms.py\u001b[0m in \u001b[0;36mwrapper\u001b[1;34m(noconds, *args, **kwargs)\u001b[0m\n\u001b[0;32m    222\u001b[0m         \u001b[1;33m@\u001b[0m\u001b[0mwraps\u001b[0m\u001b[1;33m(\u001b[0m\u001b[0mfunc\u001b[0m\u001b[1;33m)\u001b[0m\u001b[1;33m\u001b[0m\u001b[1;33m\u001b[0m\u001b[0m\n\u001b[0;32m    223\u001b[0m         \u001b[1;32mdef\u001b[0m \u001b[0mwrapper\u001b[0m\u001b[1;33m(\u001b[0m\u001b[1;33m*\u001b[0m\u001b[0margs\u001b[0m\u001b[1;33m,\u001b[0m \u001b[0mnoconds\u001b[0m\u001b[1;33m=\u001b[0m\u001b[0mdefault\u001b[0m\u001b[1;33m,\u001b[0m \u001b[1;33m**\u001b[0m\u001b[0mkwargs\u001b[0m\u001b[1;33m)\u001b[0m\u001b[1;33m:\u001b[0m\u001b[1;33m\u001b[0m\u001b[1;33m\u001b[0m\u001b[0m\n\u001b[1;32m--> 224\u001b[1;33m             \u001b[0mres\u001b[0m \u001b[1;33m=\u001b[0m \u001b[0mfunc\u001b[0m\u001b[1;33m(\u001b[0m\u001b[1;33m*\u001b[0m\u001b[0margs\u001b[0m\u001b[1;33m,\u001b[0m \u001b[1;33m**\u001b[0m\u001b[0mkwargs\u001b[0m\u001b[1;33m)\u001b[0m\u001b[1;33m\u001b[0m\u001b[1;33m\u001b[0m\u001b[0m\n\u001b[0m\u001b[0;32m    225\u001b[0m             \u001b[1;32mif\u001b[0m \u001b[0mnoconds\u001b[0m\u001b[1;33m:\u001b[0m\u001b[1;33m\u001b[0m\u001b[1;33m\u001b[0m\u001b[0m\n\u001b[0;32m    226\u001b[0m                 \u001b[1;32mreturn\u001b[0m \u001b[0mres\u001b[0m\u001b[1;33m[\u001b[0m\u001b[1;36m0\u001b[0m\u001b[1;33m]\u001b[0m\u001b[1;33m\u001b[0m\u001b[1;33m\u001b[0m\u001b[0m\n",
      "\u001b[1;32mD:\\Anaconda3\\lib\\site-packages\\sympy\\integrals\\transforms.py\u001b[0m in \u001b[0;36m_laplace_transform\u001b[1;34m(f, t, s_, simplify)\u001b[0m\n\u001b[0;32m   1041\u001b[0m             \u001b[1;32melse\u001b[0m\u001b[1;33m:\u001b[0m\u001b[1;33m\u001b[0m\u001b[1;33m\u001b[0m\u001b[0m\n\u001b[0;32m   1042\u001b[0m                 \u001b[0mdeltanonzero\u001b[0m\u001b[1;33m.\u001b[0m\u001b[0mappend\u001b[0m\u001b[1;33m(\u001b[0m\u001b[0mdirac_func\u001b[0m\u001b[1;33m*\u001b[0m\u001b[0mdirac_coeff\u001b[0m\u001b[1;33m)\u001b[0m\u001b[1;33m\u001b[0m\u001b[1;33m\u001b[0m\u001b[0m\n\u001b[1;32m-> 1043\u001b[1;33m     F = Add(integrate(exp(-s*t) * Add(integratable, *deltanonzero), (t, 0, oo)),\n\u001b[0m\u001b[0;32m   1044\u001b[0m             Add(*deltazero))\n\u001b[0;32m   1045\u001b[0m \u001b[1;33m\u001b[0m\u001b[0m\n",
      "\u001b[1;32mD:\\Anaconda3\\lib\\site-packages\\sympy\\integrals\\integrals.py\u001b[0m in \u001b[0;36mintegrate\u001b[1;34m(meijerg, conds, risch, heurisch, manual, *args, **kwargs)\u001b[0m\n\u001b[0;32m   1547\u001b[0m         \u001b[1;34m'manual'\u001b[0m\u001b[1;33m:\u001b[0m \u001b[0mmanual\u001b[0m\u001b[1;33m\u001b[0m\u001b[1;33m\u001b[0m\u001b[0m\n\u001b[0;32m   1548\u001b[0m         }\n\u001b[1;32m-> 1549\u001b[1;33m     \u001b[0mintegral\u001b[0m \u001b[1;33m=\u001b[0m \u001b[0mIntegral\u001b[0m\u001b[1;33m(\u001b[0m\u001b[1;33m*\u001b[0m\u001b[0margs\u001b[0m\u001b[1;33m,\u001b[0m \u001b[1;33m**\u001b[0m\u001b[0mkwargs\u001b[0m\u001b[1;33m)\u001b[0m\u001b[1;33m\u001b[0m\u001b[1;33m\u001b[0m\u001b[0m\n\u001b[0m\u001b[0;32m   1550\u001b[0m \u001b[1;33m\u001b[0m\u001b[0m\n\u001b[0;32m   1551\u001b[0m     \u001b[1;32mif\u001b[0m \u001b[0misinstance\u001b[0m\u001b[1;33m(\u001b[0m\u001b[0mintegral\u001b[0m\u001b[1;33m,\u001b[0m \u001b[0mIntegral\u001b[0m\u001b[1;33m)\u001b[0m\u001b[1;33m:\u001b[0m\u001b[1;33m\u001b[0m\u001b[1;33m\u001b[0m\u001b[0m\n",
      "\u001b[1;32mD:\\Anaconda3\\lib\\site-packages\\sympy\\integrals\\integrals.py\u001b[0m in \u001b[0;36m__new__\u001b[1;34m(cls, function, *symbols, **assumptions)\u001b[0m\n\u001b[0;32m     89\u001b[0m                 useinstead=\"the as_expr or integrate methods of Poly\").warn()\n\u001b[0;32m     90\u001b[0m \u001b[1;33m\u001b[0m\u001b[0m\n\u001b[1;32m---> 91\u001b[1;33m         \u001b[0mobj\u001b[0m \u001b[1;33m=\u001b[0m \u001b[0mAddWithLimits\u001b[0m\u001b[1;33m.\u001b[0m\u001b[0m__new__\u001b[0m\u001b[1;33m(\u001b[0m\u001b[0mcls\u001b[0m\u001b[1;33m,\u001b[0m \u001b[0mfunction\u001b[0m\u001b[1;33m,\u001b[0m \u001b[1;33m*\u001b[0m\u001b[0msymbols\u001b[0m\u001b[1;33m,\u001b[0m \u001b[1;33m**\u001b[0m\u001b[0massumptions\u001b[0m\u001b[1;33m)\u001b[0m\u001b[1;33m\u001b[0m\u001b[1;33m\u001b[0m\u001b[0m\n\u001b[0m\u001b[0;32m     92\u001b[0m         \u001b[1;32mreturn\u001b[0m \u001b[0mobj\u001b[0m\u001b[1;33m\u001b[0m\u001b[1;33m\u001b[0m\u001b[0m\n\u001b[0;32m     93\u001b[0m \u001b[1;33m\u001b[0m\u001b[0m\n",
      "\u001b[1;32mD:\\Anaconda3\\lib\\site-packages\\sympy\\concrete\\expr_with_limits.py\u001b[0m in \u001b[0;36m__new__\u001b[1;34m(cls, function, *symbols, **assumptions)\u001b[0m\n\u001b[0;32m    496\u001b[0m \u001b[1;33m\u001b[0m\u001b[0m\n\u001b[0;32m    497\u001b[0m     \u001b[1;32mdef\u001b[0m \u001b[0m__new__\u001b[0m\u001b[1;33m(\u001b[0m\u001b[0mcls\u001b[0m\u001b[1;33m,\u001b[0m \u001b[0mfunction\u001b[0m\u001b[1;33m,\u001b[0m \u001b[1;33m*\u001b[0m\u001b[0msymbols\u001b[0m\u001b[1;33m,\u001b[0m \u001b[1;33m**\u001b[0m\u001b[0massumptions\u001b[0m\u001b[1;33m)\u001b[0m\u001b[1;33m:\u001b[0m\u001b[1;33m\u001b[0m\u001b[1;33m\u001b[0m\u001b[0m\n\u001b[1;32m--> 498\u001b[1;33m         \u001b[0mpre\u001b[0m \u001b[1;33m=\u001b[0m \u001b[0m_common_new\u001b[0m\u001b[1;33m(\u001b[0m\u001b[0mcls\u001b[0m\u001b[1;33m,\u001b[0m \u001b[0mfunction\u001b[0m\u001b[1;33m,\u001b[0m \u001b[1;33m*\u001b[0m\u001b[0msymbols\u001b[0m\u001b[1;33m,\u001b[0m \u001b[1;33m**\u001b[0m\u001b[0massumptions\u001b[0m\u001b[1;33m)\u001b[0m\u001b[1;33m\u001b[0m\u001b[1;33m\u001b[0m\u001b[0m\n\u001b[0m\u001b[0;32m    499\u001b[0m         \u001b[1;32mif\u001b[0m \u001b[0mtype\u001b[0m\u001b[1;33m(\u001b[0m\u001b[0mpre\u001b[0m\u001b[1;33m)\u001b[0m \u001b[1;32mis\u001b[0m \u001b[0mtuple\u001b[0m\u001b[1;33m:\u001b[0m\u001b[1;33m\u001b[0m\u001b[1;33m\u001b[0m\u001b[0m\n\u001b[0;32m    500\u001b[0m             \u001b[0mfunction\u001b[0m\u001b[1;33m,\u001b[0m \u001b[0mlimits\u001b[0m\u001b[1;33m,\u001b[0m \u001b[0morientation\u001b[0m \u001b[1;33m=\u001b[0m \u001b[0mpre\u001b[0m\u001b[1;33m\u001b[0m\u001b[1;33m\u001b[0m\u001b[0m\n",
      "\u001b[1;32mD:\\Anaconda3\\lib\\site-packages\\sympy\\concrete\\expr_with_limits.py\u001b[0m in \u001b[0;36m_common_new\u001b[1;34m(cls, function, *symbols, **assumptions)\u001b[0m\n\u001b[0;32m     46\u001b[0m \u001b[1;33m\u001b[0m\u001b[0m\n\u001b[0;32m     47\u001b[0m     \u001b[1;32mif\u001b[0m \u001b[0msymbols\u001b[0m\u001b[1;33m:\u001b[0m\u001b[1;33m\u001b[0m\u001b[1;33m\u001b[0m\u001b[0m\n\u001b[1;32m---> 48\u001b[1;33m         \u001b[0mlimits\u001b[0m\u001b[1;33m,\u001b[0m \u001b[0morientation\u001b[0m \u001b[1;33m=\u001b[0m \u001b[0m_process_limits\u001b[0m\u001b[1;33m(\u001b[0m\u001b[1;33m*\u001b[0m\u001b[0msymbols\u001b[0m\u001b[1;33m)\u001b[0m\u001b[1;33m\u001b[0m\u001b[1;33m\u001b[0m\u001b[0m\n\u001b[0m\u001b[0;32m     49\u001b[0m         \u001b[1;32mfor\u001b[0m \u001b[0mi\u001b[0m\u001b[1;33m,\u001b[0m \u001b[0mli\u001b[0m \u001b[1;32min\u001b[0m \u001b[0menumerate\u001b[0m\u001b[1;33m(\u001b[0m\u001b[0mlimits\u001b[0m\u001b[1;33m)\u001b[0m\u001b[1;33m:\u001b[0m\u001b[1;33m\u001b[0m\u001b[1;33m\u001b[0m\u001b[0m\n\u001b[0;32m     50\u001b[0m             \u001b[1;32mif\u001b[0m \u001b[0mlen\u001b[0m\u001b[1;33m(\u001b[0m\u001b[0mli\u001b[0m\u001b[1;33m)\u001b[0m \u001b[1;33m==\u001b[0m \u001b[1;36m4\u001b[0m\u001b[1;33m:\u001b[0m\u001b[1;33m\u001b[0m\u001b[1;33m\u001b[0m\u001b[0m\n",
      "\u001b[1;32mD:\\Anaconda3\\lib\\site-packages\\sympy\\concrete\\expr_with_limits.py\u001b[0m in \u001b[0;36m_process_limits\u001b[1;34m(*symbols)\u001b[0m\n\u001b[0;32m    154\u001b[0m                         \u001b[1;32mcontinue\u001b[0m\u001b[1;33m\u001b[0m\u001b[1;33m\u001b[0m\u001b[0m\n\u001b[0;32m    155\u001b[0m \u001b[1;33m\u001b[0m\u001b[0m\n\u001b[1;32m--> 156\u001b[1;33m         \u001b[1;32mraise\u001b[0m \u001b[0mValueError\u001b[0m\u001b[1;33m(\u001b[0m\u001b[1;34m'Invalid limits given: %s'\u001b[0m \u001b[1;33m%\u001b[0m \u001b[0mstr\u001b[0m\u001b[1;33m(\u001b[0m\u001b[0msymbols\u001b[0m\u001b[1;33m)\u001b[0m\u001b[1;33m)\u001b[0m\u001b[1;33m\u001b[0m\u001b[1;33m\u001b[0m\u001b[0m\n\u001b[0m\u001b[0;32m    157\u001b[0m \u001b[1;33m\u001b[0m\u001b[0m\n\u001b[0;32m    158\u001b[0m     \u001b[1;32mreturn\u001b[0m \u001b[0mlimits\u001b[0m\u001b[1;33m,\u001b[0m \u001b[0morientation\u001b[0m\u001b[1;33m\u001b[0m\u001b[1;33m\u001b[0m\u001b[0m\n",
      "\u001b[1;31mValueError\u001b[0m: Invalid limits given: ((7*exp(6*t), 0, oo),)"
     ]
    }
   ],
   "source": [
    "from sympy import *\n",
    "init_printing()\n",
    "s = symbols(' s')\n",
    "t, C1, C2, C3, C4 = symbols('t C1 C2 C3 C4')\n",
    "x = Function('x')(t)\n",
    "y = Function('y')(t)\n",
    "dx = x.diff(t)\n",
    "dy = y.diff(t)\n",
    "dx2 = x.diff(t,2)\n",
    "dy2 = y.diff(t,2)\n",
    "Eq1 = laplace_transform( dx + 2*x , 7*exp(6*t), t, oo)\n",
    "Eq1"
   ]
  },
  {
   "cell_type": "code",
   "execution_count": 29,
   "id": "b851f515-59f0-4bc1-a53d-94620826ab47",
   "metadata": {},
   "outputs": [],
   "source": [
    "from sympy import *\n",
    "(x, y, z) = symbols('x y z')\n",
    "init_printing()\n",
    "t, C1, C2, C3, C4 = symbols('t C1 C2 C3 C4')\n",
    "x = Function('x')(t)\n",
    "dx = x.diff(t)"
   ]
  },
  {
   "cell_type": "code",
   "execution_count": 30,
   "id": "9108b43b-fd43-43e2-a484-e3af34bcfed4",
   "metadata": {},
   "outputs": [
    {
     "data": {
      "image/png": "[encoded data removed]",
      "text/latex": [
       "$\\displaystyle - x{\\left(t \\right)} + \\frac{d}{d t} x{\\left(t \\right)} = t^{2} - 3$"
      ],
      "text/plain": [
       "        d           2    \n",
       "-x(t) + ──(x(t)) = t  - 3\n",
       "        dt               "
      ]
     },
     "execution_count": 30,
     "metadata": {},
     "output_type": "execute_result"
    }
   ],
   "source": [
    "Eq1 =  Eq(dx -x  , t**2 -3)\n",
    "Eq1"
   ]
  },
  {
   "cell_type": "code",
   "execution_count": 34,
   "id": "e053bece-d0ee-475f-8de4-05b3c74440da",
   "metadata": {},
   "outputs": [
    {
     "data": {
      "image/png": "[encoded data removed]",
      "text/latex": [
       "$\\displaystyle x{\\left(t \\right)} = C_{1} e^{t} - t^{2} - 2 t + 1$"
      ],
      "text/plain": [
       "           t    2          \n",
       "x(t) = C₁⋅ℯ  - t  - 2⋅t + 1"
      ]
     },
     "execution_count": 34,
     "metadata": {},
     "output_type": "execute_result"
    }
   ],
   "source": [
    "gsol = dsolve( Eq1 , x )\n",
    "gsol"
   ]
  },
  {
   "cell_type": "code",
   "execution_count": 35,
   "id": "f4d54d5c-b881-4964-a7ef-c3e4f1f6d605",
   "metadata": {},
   "outputs": [
    {
     "data": {
      "image/png": "[encoded data removed]",
      "text/latex": [
       "$\\displaystyle \\left[ \\left(t^{2} + 2 t + x{\\left(t \\right)} - 1\\right) e^{- t}\\right]$"
      ],
      "text/plain": [
       "⎡⎛ 2                 ⎞  -t⎤\n",
       "⎣⎝t  + 2⋅t + x(t) - 1⎠⋅ℯ  ⎦"
      ]
     },
     "execution_count": 35,
     "metadata": {},
     "output_type": "execute_result"
    }
   ],
   "source": [
    "solve(gsol,C1)"
   ]
  },
  {
   "cell_type": "code",
   "execution_count": 36,
   "id": "8dd9ece4-c04a-40ea-8caf-626b6e5df6bf",
   "metadata": {},
   "outputs": [
    {
     "data": {
      "image/png": "[encoded data removed]",
      "text/latex": [
       "$\\displaystyle -2 = e C_{1} - 2$"
      ],
      "text/plain": [
       "-2 = ℯ⋅C₁ - 2"
      ]
     },
     "execution_count": 36,
     "metadata": {},
     "output_type": "execute_result"
    }
   ],
   "source": [
    "gsol1 = gsol.subs({x : -2, t : 1})\n",
    "gsol1"
   ]
  },
  {
   "cell_type": "code",
   "execution_count": 38,
   "id": "cf5f7643-400e-4b9f-bc32-860978019cee",
   "metadata": {},
   "outputs": [
    {
     "data": {
      "text/plain": [
       "'Eq(-2, E*C1 - 2)'"
      ]
     },
     "execution_count": 38,
     "metadata": {},
     "output_type": "execute_result"
    }
   ],
   "source": [
    "str(gsol1)"
   ]
  },
  {
   "cell_type": "code",
   "execution_count": 39,
   "id": "60137843-70c1-4581-ac06-a8c07cfccabc",
   "metadata": {},
   "outputs": [],
   "source": [
    "from sympy import *\n",
    "init_printing()\n",
    "x,t = symbols('x t')\n",
    "C1 = Symbol('C1')\n",
    "C2 = Symbol('C2')\n",
    "y = Function('y')(x)\n",
    "dydx=y.diff(x)\n",
    "d2ydx2=y.diff(x,2)"
   ]
  },
  {
   "cell_type": "code",
   "execution_count": 40,
   "id": "d298d882-52a1-4031-bd0d-16ce1e8c39d7",
   "metadata": {},
   "outputs": [
    {
     "data": {
      "image/png": "[encoded data removed]",
      "text/latex": [
       "$\\displaystyle - 2 \\frac{d}{d x} y{\\left(x \\right)} + \\frac{d^{2}}{d x^{2}} y{\\left(x \\right)}$"
      ],
      "text/plain": [
       "                 2      \n",
       "    d           d       \n",
       "- 2⋅──(y(x)) + ───(y(x))\n",
       "    dx           2      \n",
       "               dx       "
      ]
     },
     "execution_count": 40,
     "metadata": {},
     "output_type": "execute_result"
    }
   ],
   "source": [
    "Eq1 = d2ydx2 - 2*dydx \n",
    "Eq1"
   ]
  },
  {
   "cell_type": "code",
   "execution_count": 43,
   "id": "521e02e9-ebd0-4f9a-a0e4-96ca0a54258c",
   "metadata": {},
   "outputs": [
    {
     "data": {
      "image/png": "[encoded data removed]",
      "text/latex": [
       "$\\displaystyle y{\\left(x \\right)} = C_{1} + C_{2} e^{2 x}$"
      ],
      "text/plain": [
       "                2⋅x\n",
       "y(x) = C₁ + C₂⋅ℯ   "
      ]
     },
     "execution_count": 43,
     "metadata": {},
     "output_type": "execute_result"
    }
   ],
   "source": [
    "a = expand( dsolve(Eq1, y) )\n",
    "a"
   ]
  },
  {
   "cell_type": "code",
   "execution_count": 44,
   "id": "5bdd242e-20bd-45e3-86de-e9ce4f304f67",
   "metadata": {},
   "outputs": [
    {
     "data": {
      "text/plain": [
       "'Eq(y(x), C1 + C2*exp(2*x))'"
      ]
     },
     "execution_count": 44,
     "metadata": {},
     "output_type": "execute_result"
    }
   ],
   "source": [
    "str(a)"
   ]
  },
  {
   "cell_type": "code",
   "execution_count": 45,
   "id": "f76d0e93-6df7-43c0-badc-6f5310e06eaa",
   "metadata": {},
   "outputs": [],
   "source": [
    "from sympy import *\n",
    "(x, y, z) = symbols('x y z')\n",
    "init_printing()\n",
    "t, C1, C2, C3, C4 = symbols('t C1 C2 C3 C4')\n",
    "y = Function('y')(t)\n",
    "dy = y.diff(t)\n",
    "dy2 = y.diff(t,2)"
   ]
  },
  {
   "cell_type": "code",
   "execution_count": 46,
   "id": "5fe76d60-9532-4e9c-ae1d-b9e52ee37689",
   "metadata": {},
   "outputs": [
    {
     "data": {
      "image/png": "[encoded data removed]",
      "text/latex": [
       "$\\displaystyle 9 y{\\left(t \\right)} + \\frac{d^{2}}{d t^{2}} y{\\left(t \\right)}$"
      ],
      "text/plain": [
       "           2      \n",
       "          d       \n",
       "9⋅y(t) + ───(y(t))\n",
       "           2      \n",
       "         dt       "
      ]
     },
     "execution_count": 46,
     "metadata": {},
     "output_type": "execute_result"
    }
   ],
   "source": [
    "Eq1 = dy2 +9*y\n",
    "Eq1"
   ]
  },
  {
   "cell_type": "code",
   "execution_count": 47,
   "id": "a1555242-604a-4cca-b036-b3b3dcf8b814",
   "metadata": {},
   "outputs": [
    {
     "data": {
      "image/png": "[encoded data removed]",
      "text/latex": [
       "$\\displaystyle y{\\left(t \\right)} = C_{1} \\sin{\\left(3 t \\right)} + C_{2} \\cos{\\left(3 t \\right)}$"
      ],
      "text/plain": [
       "y(t) = C₁⋅sin(3⋅t) + C₂⋅cos(3⋅t)"
      ]
     },
     "execution_count": 47,
     "metadata": {},
     "output_type": "execute_result"
    }
   ],
   "source": [
    "a = expand( dsolve(Eq1, y) )\n",
    "a"
   ]
  },
  {
   "cell_type": "code",
   "execution_count": 48,
   "id": "361168c2-c6f1-4be7-afac-c7d07642e474",
   "metadata": {},
   "outputs": [
    {
     "data": {
      "text/plain": [
       "'Eq(y(t), C1*sin(3*t) + C2*cos(3*t))'"
      ]
     },
     "execution_count": 48,
     "metadata": {},
     "output_type": "execute_result"
    }
   ],
   "source": [
    "str(a)"
   ]
  },
  {
   "cell_type": "code",
   "execution_count": 49,
   "id": "533f9c87-b28e-4d78-9394-343f001aee90",
   "metadata": {},
   "outputs": [],
   "source": [
    "from sympy import *\n",
    "(x, y, z) = symbols('x y z')\n",
    "init_printing()\n",
    "t, C1, C2, C3, C4 = symbols('t C1 C2 C3 C4')\n",
    "y = Function('y')(t)\n",
    "dy = y.diff(t)\n",
    "dy2 = y.diff(t,2)"
   ]
  },
  {
   "cell_type": "code",
   "execution_count": 50,
   "id": "d6d513ef-f94a-404a-988d-fba08a090869",
   "metadata": {},
   "outputs": [
    {
     "data": {
      "image/png": "[encoded data removed]",
      "text/latex": [
       "$\\displaystyle y{\\left(t \\right)} - 2 \\frac{d}{d t} y{\\left(t \\right)} + \\frac{d^{2}}{d t^{2}} y{\\left(t \\right)} = e^{t}$"
      ],
      "text/plain": [
       "                      2           \n",
       "         d           d           t\n",
       "y(t) - 2⋅──(y(t)) + ───(y(t)) = ℯ \n",
       "         dt           2           \n",
       "                    dt            "
      ]
     },
     "execution_count": 50,
     "metadata": {},
     "output_type": "execute_result"
    }
   ],
   "source": [
    "Eq1 = Eq(dy2 -2*dy + y , exp(t))\n",
    "Eq1"
   ]
  },
  {
   "cell_type": "code",
   "execution_count": 51,
   "id": "e0f01442-8542-4f2b-b061-f660652fa3d4",
   "metadata": {},
   "outputs": [
    {
     "data": {
      "image/png": "[encoded data removed]",
      "text/latex": [
       "$\\displaystyle y{\\left(t \\right)} = C_{1} e^{t} + C_{2} t e^{t} + \\frac{t^{2} e^{t}}{2}$"
      ],
      "text/plain": [
       "                          2  t\n",
       "           t         t   t ⋅ℯ \n",
       "y(t) = C₁⋅ℯ  + C₂⋅t⋅ℯ  + ─────\n",
       "                           2  "
      ]
     },
     "execution_count": 51,
     "metadata": {},
     "output_type": "execute_result"
    }
   ],
   "source": [
    "a = expand( dsolve(Eq1, y) )\n",
    "a"
   ]
  },
  {
   "cell_type": "code",
   "execution_count": 52,
   "id": "b9b50888-26e8-4004-92ed-0db6513549ea",
   "metadata": {},
   "outputs": [
    {
     "data": {
      "text/plain": [
       "'Eq(y(t), C1*exp(t) + C2*t*exp(t) + t**2*exp(t)/2)'"
      ]
     },
     "execution_count": 52,
     "metadata": {},
     "output_type": "execute_result"
    }
   ],
   "source": [
    "str(a)"
   ]
  },
  {
   "cell_type": "code",
   "execution_count": 53,
   "id": "97df933a-62cb-4232-a027-93eeb71add57",
   "metadata": {},
   "outputs": [],
   "source": [
    "from sympy import *\n",
    "(x, y, z) = symbols('x y z')\n",
    "init_printing()\n",
    "t, C1, C2, C3, C4 = symbols('t C1 C2 C3 C4')\n",
    "y = Function('y')(x)\n",
    "dy = y.diff(x)\n",
    "dy2 = y.diff(x,2)"
   ]
  },
  {
   "cell_type": "code",
   "execution_count": 54,
   "id": "6eace2b3-abba-40bd-92ff-2dec92722b18",
   "metadata": {},
   "outputs": [
    {
     "data": {
      "image/png": "[encoded data removed]",
      "text/latex": [
       "$\\displaystyle 35 y{\\left(x \\right)} - 40 \\frac{d}{d x} y{\\left(x \\right)} + 5 \\frac{d^{2}}{d x^{2}} y{\\left(x \\right)} = 26 x$"
      ],
      "text/plain": [
       "                            2             \n",
       "             d             d              \n",
       "35⋅y(x) - 40⋅──(y(x)) + 5⋅───(y(x)) = 26⋅x\n",
       "             dx             2             \n",
       "                          dx              "
      ]
     },
     "execution_count": 54,
     "metadata": {},
     "output_type": "execute_result"
    }
   ],
   "source": [
    "Eq1 = Eq(5*dy2 -40*dy + 35*y , 26*x)\n",
    "Eq1"
   ]
  },
  {
   "cell_type": "code",
   "execution_count": 55,
   "id": "9c31413d-ec03-4cec-868b-d1bae613e223",
   "metadata": {},
   "outputs": [
    {
     "data": {
      "image/png": "[encoded data removed]",
      "text/latex": [
       "$\\displaystyle y{\\left(x \\right)} = C_{1} e^{x} + C_{2} e^{7 x} + \\frac{26 x}{35} + \\frac{208}{245}$"
      ],
      "text/plain": [
       "           x       7⋅x   26⋅x   208\n",
       "y(x) = C₁⋅ℯ  + C₂⋅ℯ    + ──── + ───\n",
       "                          35    245"
      ]
     },
     "execution_count": 55,
     "metadata": {},
     "output_type": "execute_result"
    }
   ],
   "source": [
    "a = expand( dsolve(Eq1, y) )\n",
    "a"
   ]
  },
  {
   "cell_type": "code",
   "execution_count": 59,
   "id": "83588207-5edc-425d-8f3f-0a4451a2d5ec",
   "metadata": {},
   "outputs": [
    {
     "ename": "SyntaxError",
     "evalue": "invalid syntax (Temp/ipykernel_16320/2899508175.py, line 1)",
     "output_type": "error",
     "traceback": [
      "\u001b[1;36m  File \u001b[1;32m\"C:\\Users\\Lenovo\\AppData\\Local\\Temp/ipykernel_16320/2899508175.py\"\u001b[1;36m, line \u001b[1;32m1\u001b[0m\n\u001b[1;33m    A = Matrix([[S(-64/11), (3/11)S], [72/11, -79/11]])\u001b[0m\n\u001b[1;37m                                  ^\u001b[0m\n\u001b[1;31mSyntaxError\u001b[0m\u001b[1;31m:\u001b[0m invalid syntax\n"
     ]
    }
   ],
   "source": [
    "A = Matrix([[S(-64/11), (3/11)S], [72/11, -79/11]])\n",
    "A"
   ]
  },
  {
   "cell_type": "code",
   "execution_count": 60,
   "id": "7610db1e-1e3d-4dc1-9e99-cb2efa0da0a7",
   "metadata": {},
   "outputs": [],
   "source": [
    "from sympy import *\n",
    "x, y, z, G, i, j = symbols('x y z G, i, j')\n",
    "from sympy.physics.vector import *\n",
    "R = ReferenceFrame('R')\n",
    "\n",
    "f1 = (R[0]**3*R[1]**2*R[2])\n",
    "\n",
    "grad = gradient(f1, R)"
   ]
  },
  {
   "cell_type": "code",
   "execution_count": 61,
   "id": "2f4c43e1-6013-4e9f-8a0f-3855c88dd991",
   "metadata": {},
   "outputs": [
    {
     "data": {
      "image/png": "[encoded data removed]",
      "text/latex": [
       "$\\displaystyle R_{x}^{3} R_{y}^{2} R_{z}$"
      ],
      "text/plain": [
       "  3    2    \n",
       "Rₓ ⋅R_y ⋅R_z"
      ]
     },
     "execution_count": 61,
     "metadata": {},
     "output_type": "execute_result"
    }
   ],
   "source": [
    "f1"
   ]
  },
  {
   "cell_type": "code",
   "execution_count": 62,
   "id": "0639cc3a-65c9-4297-b2b9-cb7085613c82",
   "metadata": {},
   "outputs": [
    {
     "data": {
      "text/plain": [
       "'3*R_x**2*R_y**2*R_z*R.x + 2*R_x**3*R_y*R_z*R.y + R_x**3*R_y**2*R.z'"
      ]
     },
     "execution_count": 62,
     "metadata": {},
     "output_type": "execute_result"
    }
   ],
   "source": [
    "str(grad)"
   ]
  },
  {
   "cell_type": "code",
   "execution_count": null,
   "id": "4e91daa7-5b23-4516-8c95-6f0b314cf6ea",
   "metadata": {},
   "outputs": [],
   "source": []
  }
 ],
 "metadata": {
  "kernelspec": {
   "display_name": "Python 3 (ipykernel)",
   "language": "python",
   "name": "python3"
  },
  "language_info": {
   "codemirror_mode": {
    "name": "ipython",
    "version": 3
   },
   "file_extension": ".py",
   "mimetype": "text/x-python",
   "name": "python",
   "nbconvert_exporter": "python",
   "pygments_lexer": "ipython3",
   "version": "3.9.7"
  }
 },
 "nbformat": 4,
 "nbformat_minor": 5
}
