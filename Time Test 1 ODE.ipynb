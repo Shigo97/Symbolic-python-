{
 "cells": [
  {
   "cell_type": "code",
   "execution_count": 1,
   "id": "ebf8e546-0082-4a89-ad20-a6d9a6795742",
   "metadata": {},
   "outputs": [],
   "source": [
    "from sympy import *\n",
    "init_printing()\n",
    "x,t = symbols('x t')\n",
    "C1 = symbols('C1')\n",
    "y = Function('y')(x)\n",
    "dy = y.diff(x)\n",
    "dy2 = y.diff(x,2)"
   ]
  },
  {
   "cell_type": "code",
   "execution_count": 2,
   "id": "d0dec110-89f9-4b4c-aca2-ce53a94affa5",
   "metadata": {},
   "outputs": [
    {
     "name": "stderr",
     "output_type": "stream",
     "text": [
      "D:\\Anaconda3\\lib\\site-packages\\IPython\\lib\\latextools.py:126: MatplotlibDeprecationWarning: \n",
      "The to_png function was deprecated in Matplotlib 3.4 and will be removed two minor releases later. Use mathtext.math_to_image instead.\n",
      "  mt.to_png(f, s, fontsize=12, dpi=dpi, color=color)\n",
      "D:\\Anaconda3\\lib\\site-packages\\IPython\\lib\\latextools.py:126: MatplotlibDeprecationWarning: \n",
      "The to_rgba function was deprecated in Matplotlib 3.4 and will be removed two minor releases later. Use mathtext.math_to_image instead.\n",
      "  mt.to_png(f, s, fontsize=12, dpi=dpi, color=color)\n",
      "D:\\Anaconda3\\lib\\site-packages\\IPython\\lib\\latextools.py:126: MatplotlibDeprecationWarning: \n",
      "The to_mask function was deprecated in Matplotlib 3.4 and will be removed two minor releases later. Use mathtext.math_to_image instead.\n",
      "  mt.to_png(f, s, fontsize=12, dpi=dpi, color=color)\n",
      "D:\\Anaconda3\\lib\\site-packages\\IPython\\lib\\latextools.py:126: MatplotlibDeprecationWarning: \n",
      "The MathtextBackendBitmap class was deprecated in Matplotlib 3.4 and will be removed two minor releases later. Use mathtext.math_to_image instead.\n",
      "  mt.to_png(f, s, fontsize=12, dpi=dpi, color=color)\n"
     ]
    },
    {
     "data": {
      "image/png": "[encoded data removed]",
      "text/latex": [
       "$\\displaystyle 2 x y{\\left(x \\right)} + \\frac{d}{d x} y{\\left(x \\right)} = 2 e^{- x^{2}}$"
      ],
      "text/plain": [
       "                           2\n",
       "           d             -x \n",
       "2⋅x⋅y(x) + ──(y(x)) = 2⋅ℯ   \n",
       "           dx               "
      ]
     },
     "execution_count": 2,
     "metadata": {},
     "output_type": "execute_result"
    }
   ],
   "source": [
    "Eq1 = Eq(dy + 2*x*y , 2*exp(-1*x**2))\n",
    "Eq1"
   ]
  },
  {
   "cell_type": "code",
   "execution_count": 3,
   "id": "0c1603c9-34b2-4dd8-8363-5a048007229a",
   "metadata": {},
   "outputs": [
    {
     "data": {
      "image/png": "[encoded data removed]",
      "text/latex": [
       "$\\displaystyle \\left[ - \\frac{\\frac{d}{d x} y{\\left(x \\right)}}{2 x} + \\frac{e^{- x^{2}}}{x}\\right]$"
      ],
      "text/plain": [
       "⎡  d             2⎤\n",
       "⎢  ──(y(x))    -x ⎥\n",
       "⎢  dx         ℯ   ⎥\n",
       "⎢- ──────── + ────⎥\n",
       "⎣    2⋅x       x  ⎦"
      ]
     },
     "execution_count": 3,
     "metadata": {},
     "output_type": "execute_result"
    }
   ],
   "source": [
    "gsol = solve(Eq1, y)\n",
    "gsol"
   ]
  },
  {
   "cell_type": "code",
   "execution_count": 4,
   "id": "eed18d55-0429-4641-b5c7-43af8275d5e4",
   "metadata": {},
   "outputs": [
    {
     "data": {
      "text/plain": [
       "'[-Derivative(y(x), x)/(2*x) + exp(-x**2)/x]'"
      ]
     },
     "execution_count": 4,
     "metadata": {},
     "output_type": "execute_result"
    }
   ],
   "source": [
    "str(gsol)"
   ]
  },
  {
   "cell_type": "code",
   "execution_count": 7,
   "id": "00ea5acd-2f11-4976-9b0c-572a4b4e08fc",
   "metadata": {},
   "outputs": [],
   "source": [
    "init_printing()\n",
    "v, m, t, g, k = symbols('v m t g k')\n",
    "v = Function('v')(t)\n",
    "dv = v.diff(t)\n",
    "dv2 = v.diff(t,2)"
   ]
  },
  {
   "cell_type": "code",
   "execution_count": 8,
   "id": "329613dc-4f60-4d85-b503-f9ddf7fd51b7",
   "metadata": {},
   "outputs": [
    {
     "data": {
      "image/png": "[encoded data removed]",
      "text/latex": [
       "$\\displaystyle m \\frac{d}{d t} v{\\left(t \\right)} = g m - k v^{2}{\\left(t \\right)}$"
      ],
      "text/plain": [
       "  d                   2   \n",
       "m⋅──(v(t)) = g⋅m - k⋅v (t)\n",
       "  dt                      "
      ]
     },
     "execution_count": 8,
     "metadata": {},
     "output_type": "execute_result"
    }
   ],
   "source": [
    "Eq1 = Eq(m*dv , m*g - k*v**2)\n",
    "Eq1"
   ]
  },
  {
   "cell_type": "code",
   "execution_count": 15,
   "id": "82ed4c88-a774-4657-827a-44e027d55967",
   "metadata": {},
   "outputs": [
    {
     "data": {
      "image/png": "[encoded data removed]",
      "text/latex": [
       "$\\displaystyle v{\\left(t \\right)} = - \\frac{\\sqrt{g} \\sqrt{m}}{\\sqrt{k} \\tanh{\\left(\\frac{\\sqrt{g} \\sqrt{k} \\log{\\left(C_{1} e^{- 2 t} \\right)}}{2 \\sqrt{m}} \\right)}}$"
      ],
      "text/plain": [
       "                 -√g⋅√m            \n",
       "v(t) = ────────────────────────────\n",
       "              ⎛         ⎛    -2⋅t⎞⎞\n",
       "              ⎜√g⋅√k⋅log⎝C₁⋅ℯ    ⎠⎟\n",
       "       √k⋅tanh⎜───────────────────⎟\n",
       "              ⎝        2⋅√m       ⎠"
      ]
     },
     "execution_count": 15,
     "metadata": {},
     "output_type": "execute_result"
    }
   ],
   "source": [
    "gsol = dsolve(Eq1 , v)\n",
    "gsol"
   ]
  },
  {
   "cell_type": "code",
   "execution_count": 17,
   "id": "ddeafdcd-510b-4a99-be2f-58f05c6222b7",
   "metadata": {},
   "outputs": [
    {
     "data": {
      "image/png": "[encoded data removed]",
      "text/latex": [
       "$\\displaystyle v{\\left(t \\right)} = - \\frac{12.6042213865488 \\sqrt{23}}{\\tanh{\\left(0.016919797187378 \\sqrt{23} \\log{\\left(C_{1} e^{- 2 t} \\right)} \\right)}}$"
      ],
      "text/plain": [
       "                 -12.6042213865488⋅√23          \n",
       "v(t) = ─────────────────────────────────────────\n",
       "           ⎛                         ⎛    -2⋅t⎞⎞\n",
       "       tanh⎝0.016919797187378⋅√23⋅log⎝C₁⋅ℯ    ⎠⎠"
      ]
     },
     "execution_count": 17,
     "metadata": {},
     "output_type": "execute_result"
    }
   ],
   "source": [
    "Psol = gsol.subs([(g,9.81) , (m,92) , (k,0.247)])\n",
    "Psol"
   ]
  },
  {
   "cell_type": "code",
   "execution_count": 18,
   "id": "e5253020-f40f-4aac-9651-a94be426bbd8",
   "metadata": {},
   "outputs": [
    {
     "data": {
      "text/plain": [
       "'Eq(v(t), -12.6042213865488*sqrt(23)/tanh(0.016919797187378*sqrt(23)*log(C1*exp(-2*t))))'"
      ]
     },
     "execution_count": 18,
     "metadata": {},
     "output_type": "execute_result"
    }
   ],
   "source": [
    "str(Psol)"
   ]
  },
  {
   "cell_type": "code",
   "execution_count": 19,
   "id": "3934a521-6058-4022-a07d-1614481db7d3",
   "metadata": {},
   "outputs": [
    {
     "data": {
      "image/png": "[encoded data removed]",
      "text/latex": [
       "$\\displaystyle v{\\left(3 \\right)} = - \\frac{12.6042213865488 \\sqrt{23}}{\\tanh{\\left(0.016919797187378 \\sqrt{23} \\log{\\left(\\frac{C_{1}}{e^{6}} \\right)} \\right)}}$"
      ],
      "text/plain": [
       "                -12.6042213865488⋅√23         \n",
       "v(3) = ───────────────────────────────────────\n",
       "           ⎛                         ⎛    -6⎞⎞\n",
       "       tanh⎝0.016919797187378⋅√23⋅log⎝C₁⋅ℯ  ⎠⎠"
      ]
     },
     "execution_count": 19,
     "metadata": {},
     "output_type": "execute_result"
    }
   ],
   "source": [
    "Psol2 = Psol.subs([(t,3)])\n",
    "Psol2"
   ]
  },
  {
   "cell_type": "code",
   "execution_count": null,
   "id": "dd62389e-d51e-43a7-9472-ed48afc0e5a7",
   "metadata": {},
   "outputs": [],
   "source": [
    "str(Psol2)"
   ]
  },
  {
   "cell_type": "code",
   "execution_count": null,
   "id": "955a4112-6c7c-4b7f-b818-bc78307513a0",
   "metadata": {},
   "outputs": [],
   "source": [
    "C1 = symbols('C1')\n",
    "\n",
    "Cval = solve(Psol, C1)\n",
    "Cval"
   ]
  },
  {
   "cell_type": "code",
   "execution_count": null,
   "id": "11fa7ead-e97c-471b-b92e-c5881dcd7ad9",
   "metadata": {},
   "outputs": [],
   "source": []
  },
  {
   "cell_type": "code",
   "execution_count": null,
   "id": "d2e28edc-c30b-4e7a-9359-0939758394be",
   "metadata": {},
   "outputs": [],
   "source": []
  }
 ],
 "metadata": {
  "kernelspec": {
   "display_name": "Python 3 (ipykernel)",
   "language": "python",
   "name": "python3"
  },
  "language_info": {
   "codemirror_mode": {
    "name": "ipython",
    "version": 3
   },
   "file_extension": ".py",
   "mimetype": "text/x-python",
   "name": "python",
   "nbconvert_exporter": "python",
   "pygments_lexer": "ipython3",
   "version": "3.9.7"
  }
 },
 "nbformat": 4,
 "nbformat_minor": 5
}
