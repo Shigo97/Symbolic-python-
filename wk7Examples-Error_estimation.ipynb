{
 "cells": [
  {
   "cell_type": "markdown",
   "metadata": {},
   "source": [
    "# Pre-Masters Maths 6601PMEC"
   ]
  },
  {
   "cell_type": "markdown",
   "metadata": {},
   "source": [
    "## Week 7 - Simultaneous Differential Equations"
   ]
  },
  {
   "cell_type": "markdown",
   "metadata": {},
   "source": [
    "1. Find the solutions of the following simultaneous differential equations:  \n",
    "a) $$\\frac{dx}{dt} = 3x + 2y \\quad \\frac{dy}{dt}=x+4y$$\n",
    "if $x(0)=1$ and $y(0)=4$."
   ]
  },
  {
   "cell_type": "code",
   "execution_count": 7,
   "metadata": {},
   "outputs": [],
   "source": [
    "from sympy import *\n",
    "init_printing()\n",
    "t, m, C1, C2 = symbols('t m C1 C2')\n",
    "x = Function('x')(t)\n",
    "y = Function('y')(t)\n",
    "dxdt = x.diff(t)\n",
    "dydt = y.diff(t)"
   ]
  },
  {
   "cell_type": "markdown",
   "metadata": {},
   "source": [
    "### Method 1 - Using SymPy to perform the \"by hand\" method."
   ]
  },
  {
   "cell_type": "code",
   "execution_count": 15,
   "metadata": {},
   "outputs": [
    {
     "data": {
      "text/latex": [
       "$\\displaystyle \\left[\\begin{matrix}3 & 2\\\\1 & 4\\end{matrix}\\right]$"
      ],
      "text/plain": [
       "⎡3  2⎤\n",
       "⎢    ⎥\n",
       "⎣1  4⎦"
      ]
     },
     "execution_count": 15,
     "metadata": {},
     "output_type": "execute_result"
    }
   ],
   "source": [
    "M = Matrix( [ [3, 2], [1, 4] ] )\n",
    "M"
   ]
  },
  {
   "cell_type": "code",
   "execution_count": 16,
   "metadata": {},
   "outputs": [
    {
     "data": {
      "text/latex": [
       "$\\displaystyle \\left[ \\left( 2, \\  1, \\  \\left[ \\left[\\begin{matrix}-2\\\\1\\end{matrix}\\right]\\right]\\right), \\  \\left( 5, \\  1, \\  \\left[ \\left[\\begin{matrix}1\\\\1\\end{matrix}\\right]\\right]\\right)\\right]$"
      ],
      "text/plain": [
       "⎡⎛      ⎡⎡-2⎤⎤⎞  ⎛      ⎡⎡1⎤⎤⎞⎤\n",
       "⎢⎜2, 1, ⎢⎢  ⎥⎥⎟, ⎜5, 1, ⎢⎢ ⎥⎥⎟⎥\n",
       "⎣⎝      ⎣⎣1 ⎦⎦⎠  ⎝      ⎣⎣1⎦⎦⎠⎦"
      ]
     },
     "execution_count": 16,
     "metadata": {},
     "output_type": "execute_result"
    }
   ],
   "source": [
    "eig = M.eigenvects()\n",
    "eig"
   ]
  },
  {
   "cell_type": "code",
   "execution_count": 17,
   "metadata": {},
   "outputs": [],
   "source": [
    "eigVal1 = eig[0][0]\n",
    "eigVec1 = eig[0][2][0]\n",
    "eigVal2 = eig[1][0]\n",
    "eigVec2 = eig[1][2][0]"
   ]
  },
  {
   "cell_type": "code",
   "execution_count": null,
   "metadata": {},
   "outputs": [],
   "source": [
    "M[[1,2,12]["
   ]
  },
  {
   "cell_type": "code",
   "execution_count": 5,
   "metadata": {},
   "outputs": [
    {
     "data": {
      "image/png": "[encoded data removed]",
      "text/latex": [
       "$$x{\\left (t \\right )} = - 2 C_{1} e^{2 t} + C_{2} e^{5 t}$$"
      ],
      "text/plain": [
       "               2⋅t       5⋅t\n",
       "x(t) = - 2⋅C₁⋅ℯ    + C₂⋅ℯ   "
      ]
     },
     "execution_count": 5,
     "metadata": {},
     "output_type": "execute_result"
    }
   ],
   "source": [
    "genSol1 = C1*eigVec1*exp(eigVal1*t) + C2*eigVec2*exp(eigVal2*t)\n",
    "xGenSol = Eq( x, genSol1[0])\n",
    "xGenSol"
   ]
  },
  {
   "cell_type": "code",
   "execution_count": 6,
   "metadata": {},
   "outputs": [
    {
     "data": {
      "image/png": "[encoded data removed]",
      "text/latex": [
       "$$y{\\left (t \\right )} = C_{1} e^{2 t} + C_{2} e^{5 t}$$"
      ],
      "text/plain": [
       "           2⋅t       5⋅t\n",
       "y(t) = C₁⋅ℯ    + C₂⋅ℯ   "
      ]
     },
     "execution_count": 6,
     "metadata": {},
     "output_type": "execute_result"
    }
   ],
   "source": [
    "yGenSol = Eq( y, genSol1[1])\n",
    "yGenSol"
   ]
  },
  {
   "cell_type": "code",
   "execution_count": 7,
   "metadata": {},
   "outputs": [
    {
     "data": {
      "image/png": "[encoded data removed]",
      "text/latex": [
       "$$\\left [ \\left \\{ C_{1} : 1, \\quad C_{2} : 3\\right \\}\\right ]$$"
      ],
      "text/plain": [
       "[{C₁: 1, C₂: 3}]"
      ]
     },
     "execution_count": 7,
     "metadata": {},
     "output_type": "execute_result"
    }
   ],
   "source": [
    "const1 = solve([(xGenSol.subs(x,1)).subs(t,0), (yGenSol.subs(y,4)).subs(t,0)], [C1, C2],dict=True)\n",
    "const1"
   ]
  },
  {
   "cell_type": "code",
   "execution_count": 8,
   "metadata": {},
   "outputs": [
    {
     "data": {
      "image/png": "[encoded data removed]",
      "text/latex": [
       "$$x{\\left (t \\right )} = 3 e^{5 t} - 2 e^{2 t}$$"
      ],
      "text/plain": [
       "          5⋅t      2⋅t\n",
       "x(t) = 3⋅ℯ    - 2⋅ℯ   "
      ]
     },
     "execution_count": 8,
     "metadata": {},
     "output_type": "execute_result"
    }
   ],
   "source": [
    "xGenSol.subs([(C1,const1[0][C1]),(C2,const1[0][C2])])"
   ]
  },
  {
   "cell_type": "code",
   "execution_count": 9,
   "metadata": {},
   "outputs": [
    {
     "data": {
      "image/png": "[encoded data removed]",
      "text/latex": [
       "$$y{\\left (t \\right )} = 3 e^{5 t} + e^{2 t}$$"
      ],
      "text/plain": [
       "          5⋅t    2⋅t\n",
       "y(t) = 3⋅ℯ    + ℯ   "
      ]
     },
     "execution_count": 9,
     "metadata": {},
     "output_type": "execute_result"
    }
   ],
   "source": [
    "yGenSol.subs([(C1,const1[0][C1]),(C2,const1[0][C2])])"
   ]
  },
  {
   "cell_type": "markdown",
   "metadata": {},
   "source": [
    "### Method 2 - Using SymPy dsolve command"
   ]
  },
  {
   "cell_type": "code",
   "execution_count": 10,
   "metadata": {},
   "outputs": [
    {
     "data": {
      "image/png": "[encoded data removed]",
      "text/latex": [
       "$$\\frac{d}{d t} x{\\left (t \\right )} = 3 x{\\left (t \\right )} + 2 y{\\left (t \\right )}$$"
      ],
      "text/plain": [
       "d                         \n",
       "──(x(t)) = 3⋅x(t) + 2⋅y(t)\n",
       "dt                        "
      ]
     },
     "execution_count": 10,
     "metadata": {},
     "output_type": "execute_result"
    }
   ],
   "source": [
    "Eq1 = Eq( dxdt , 3*x + 2*y )\n",
    "Eq1"
   ]
  },
  {
   "cell_type": "code",
   "execution_count": 11,
   "metadata": {},
   "outputs": [
    {
     "data": {
      "image/png": "[encoded data removed]",
      "text/latex": [
       "$$\\frac{d}{d t} y{\\left (t \\right )} = x{\\left (t \\right )} + 4 y{\\left (t \\right )}$$"
      ],
      "text/plain": [
       "d                       \n",
       "──(y(t)) = x(t) + 4⋅y(t)\n",
       "dt                      "
      ]
     },
     "execution_count": 11,
     "metadata": {},
     "output_type": "execute_result"
    }
   ],
   "source": [
    "Eq2 = Eq( dydt, x + 4*y )\n",
    "Eq2"
   ]
  },
  {
   "cell_type": "code",
   "execution_count": 12,
   "metadata": {},
   "outputs": [
    {
     "data": {
      "image/png": "[encoded data removed]",
      "text/latex": [
       "$$\\left [ x{\\left (t \\right )} = 2 C_{1} e^{5 t} + 2 C_{2} e^{2 t}, \\quad y{\\left (t \\right )} = 2 C_{1} e^{5 t} - C_{2} e^{2 t}\\right ]$$"
      ],
      "text/plain": [
       "⎡             5⋅t         2⋅t               5⋅t       2⋅t⎤\n",
       "⎣x(t) = 2⋅C₁⋅ℯ    + 2⋅C₂⋅ℯ   , y(t) = 2⋅C₁⋅ℯ    - C₂⋅ℯ   ⎦"
      ]
     },
     "execution_count": 12,
     "metadata": {},
     "output_type": "execute_result"
    }
   ],
   "source": [
    "genSol = dsolve([Eq1, Eq2], [x, y])\n",
    "genSol"
   ]
  },
  {
   "cell_type": "code",
   "execution_count": 13,
   "metadata": {},
   "outputs": [
    {
     "data": {
      "image/png": "[encoded data removed]",
      "text/latex": [
       "$$1 = 2 C_{1} + 2 C_{2}$$"
      ],
      "text/plain": [
       "1 = 2⋅C₁ + 2⋅C₂"
      ]
     },
     "execution_count": 13,
     "metadata": {},
     "output_type": "execute_result"
    }
   ],
   "source": [
    "simEq1 = ((genSol[0]).subs(x,1)).subs(t,0)\n",
    "simEq1"
   ]
  },
  {
   "cell_type": "code",
   "execution_count": 14,
   "metadata": {},
   "outputs": [
    {
     "data": {
      "image/png": "[encoded data removed]",
      "text/latex": [
       "$$4 = 2 C_{1} - C_{2}$$"
      ],
      "text/plain": [
       "4 = 2⋅C₁ - C₂"
      ]
     },
     "execution_count": 14,
     "metadata": {},
     "output_type": "execute_result"
    }
   ],
   "source": [
    "simEq2 = ((genSol[1]).subs(y,4)).subs(t,0)\n",
    "simEq2"
   ]
  },
  {
   "cell_type": "code",
   "execution_count": 15,
   "metadata": {},
   "outputs": [
    {
     "data": {
      "image/png": "[encoded data removed]",
      "text/latex": [
       "$$\\left [ \\left \\{ C_{1} : \\frac{3}{2}, \\quad C_{2} : -1\\right \\}\\right ]$$"
      ],
      "text/plain": [
       "[{C₁: 3/2, C₂: -1}]"
      ]
     },
     "execution_count": 15,
     "metadata": {},
     "output_type": "execute_result"
    }
   ],
   "source": [
    "const = solve([simEq1, simEq2], [C1, C2],dict=True)\n",
    "const"
   ]
  },
  {
   "cell_type": "code",
   "execution_count": 16,
   "metadata": {},
   "outputs": [
    {
     "data": {
      "image/png": "[encoded data removed]",
      "text/latex": [
       "$$x{\\left (t \\right )} = 3 e^{5 t} - 2 e^{2 t}$$"
      ],
      "text/plain": [
       "          5⋅t      2⋅t\n",
       "x(t) = 3⋅ℯ    - 2⋅ℯ   "
      ]
     },
     "execution_count": 16,
     "metadata": {},
     "output_type": "execute_result"
    }
   ],
   "source": [
    "(genSol[0]).subs([(C1,const[0][C1]),(C2,const[0][C2])])"
   ]
  },
  {
   "cell_type": "code",
   "execution_count": 17,
   "metadata": {},
   "outputs": [
    {
     "data": {
      "image/png": "[encoded data removed]",
      "text/latex": [
       "$$y{\\left (t \\right )} = 3 e^{5 t} + e^{2 t}$$"
      ],
      "text/plain": [
       "          5⋅t    2⋅t\n",
       "y(t) = 3⋅ℯ    + ℯ   "
      ]
     },
     "execution_count": 17,
     "metadata": {},
     "output_type": "execute_result"
    }
   ],
   "source": [
    "(genSol[1]).subs([(C1,const[0][C1]),(C2,const[0][C2])])"
   ]
  },
  {
   "cell_type": "markdown",
   "metadata": {},
   "source": [
    "***  \n",
    "  \n",
    "by Dr J T Wharton\n",
    "\n",
    "***"
   ]
  }
 ],
 "metadata": {
  "kernelspec": {
   "display_name": "Python 3 (ipykernel)",
   "language": "python",
   "name": "python3"
  },
  "language_info": {
   "codemirror_mode": {
    "name": "ipython",
    "version": 3
   },
   "file_extension": ".py",
   "mimetype": "text/x-python",
   "name": "python",
   "nbconvert_exporter": "python",
   "pygments_lexer": "ipython3",
   "version": "3.9.7"
  }
 },
 "nbformat": 4,
 "nbformat_minor": 4
}
