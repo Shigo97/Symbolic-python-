{
 "cells": [
  {
   "cell_type": "markdown",
   "metadata": {},
   "source": [
    "# Pre Masters Maths 6601PMEC"
   ]
  },
  {
   "cell_type": "markdown",
   "metadata": {},
   "source": [
    "## Examples of Using SymPy for Integration 1"
   ]
  },
  {
   "cell_type": "markdown",
   "metadata": {},
   "source": [
    "1. ${\\displaystyle \\int} \\dfrac{1}{3 \\sqrt{x}} \\, dx$"
   ]
  },
  {
   "cell_type": "code",
   "execution_count": 1,
   "metadata": {},
   "outputs": [],
   "source": [
    "from sympy import *\n",
    "x, y, z = symbols('x y z')"
   ]
  },
  {
   "cell_type": "code",
   "execution_count": 2,
   "metadata": {},
   "outputs": [
    {
     "data": {
      "text/latex": [
       "$\\displaystyle \\frac{2 \\sqrt{x}}{3}$"
      ],
      "text/plain": [
       "2*sqrt(x)/3"
      ]
     },
     "execution_count": 2,
     "metadata": {},
     "output_type": "execute_result"
    }
   ],
   "source": [
    "integrate( 1/(3*sqrt(x)) )"
   ]
  },
  {
   "cell_type": "markdown",
   "metadata": {},
   "source": [
    "3. ${\\displaystyle \\int} \\sin(2 \\theta) \\, d \\theta$"
   ]
  },
  {
   "cell_type": "code",
   "execution_count": 3,
   "metadata": {},
   "outputs": [
    {
     "data": {
      "text/latex": [
       "$\\displaystyle - \\frac{\\cos{\\left(2 \\theta \\right)}}{2}$"
      ],
      "text/plain": [
       "-cos(2*theta)/2"
      ]
     },
     "execution_count": 3,
     "metadata": {},
     "output_type": "execute_result"
    }
   ],
   "source": [
    "th = symbols('theta')\n",
    "integrate( sin(2*th) )"
   ]
  },
  {
   "cell_type": "markdown",
   "metadata": {},
   "source": [
    "8. Find the area enclosed by the curve $y = 2x^2 - x + 3$, the $x$ axis and ordinates $x=-1$ and $x=2$.  \n",
    "  \n",
    "  This problem is represented by the integral $$ \\int_{-1}^{2} 2x^2 - x + 3 \\, dx$$"
   ]
  },
  {
   "cell_type": "code",
   "execution_count": 4,
   "metadata": {},
   "outputs": [
    {
     "data": {
      "text/latex": [
       "$\\displaystyle \\frac{27}{2}$"
      ],
      "text/plain": [
       "27/2"
      ]
     },
     "execution_count": 4,
     "metadata": {},
     "output_type": "execute_result"
    }
   ],
   "source": [
    "integrate( 2*x**2 - x + 3, (x, -1, 2))"
   ]
  },
  {
   "cell_type": "markdown",
   "metadata": {},
   "source": [
    "10. Find the area between the curves $9y^2 = 16x$ and $x^2 = 6y$.  \n",
    "  \n",
    "  The first step is to solve these equations simultaneously in order to find the intersecting points."
   ]
  },
  {
   "cell_type": "code",
   "execution_count": 5,
   "metadata": {},
   "outputs": [],
   "source": [
    "eq10a = Eq( 9*y**2, 16*x )\n",
    "eq10b = Eq( x**2, 6*y )"
   ]
  },
  {
   "cell_type": "code",
   "execution_count": 6,
   "metadata": {},
   "outputs": [
    {
     "data": {
      "text/plain": [
       "[{x: 0, y: 0},\n",
       " {x: 4, y: 8/3},\n",
       " {x: 9*(-4/3 - 4*sqrt(3)*I/3)**2/16, y: -4/3 - 4*sqrt(3)*I/3},\n",
       " {x: 9*(-4/3 + 4*sqrt(3)*I/3)**2/16, y: -4/3 + 4*sqrt(3)*I/3}]"
      ]
     },
     "execution_count": 6,
     "metadata": {},
     "output_type": "execute_result"
    }
   ],
   "source": [
    "intersectPts = solve( {eq10a, eq10b})\n",
    "intersectPts"
   ]
  },
  {
   "cell_type": "markdown",
   "metadata": {},
   "source": [
    "Combine the equations to create an integrand functions in terms of $x$."
   ]
  },
  {
   "cell_type": "code",
   "execution_count": 7,
   "metadata": {},
   "outputs": [
    {
     "data": {
      "text/latex": [
       "$\\displaystyle \\frac{4 \\sqrt{x}}{3} - \\frac{x^{2}}{6}$"
      ],
      "text/plain": [
       "4*sqrt(x)/3 - x**2/6"
      ]
     },
     "execution_count": 7,
     "metadata": {},
     "output_type": "execute_result"
    }
   ],
   "source": [
    "integrand = solve(eq10a, y)[1] - solve(eq10b, y)[0]\n",
    "integrand"
   ]
  },
  {
   "cell_type": "markdown",
   "metadata": {},
   "source": [
    "Now to integrate the function for the limits of the intersecting $x$-values."
   ]
  },
  {
   "cell_type": "code",
   "execution_count": 8,
   "metadata": {},
   "outputs": [
    {
     "data": {
      "text/latex": [
       "$\\displaystyle \\frac{32}{9}$"
      ],
      "text/plain": [
       "32/9"
      ]
     },
     "execution_count": 8,
     "metadata": {},
     "output_type": "execute_result"
    }
   ],
   "source": [
    "integrate( integrand , (x, intersectPts[0][x], intersectPts[1][x]) )"
   ]
  },
  {
   "cell_type": "markdown",
   "metadata": {},
   "source": [
    "Evaluate the following integrals by substitution:  \n",
    "  1.  ${\\displaystyle \\int} \\sin(5x + 12) \\, dx$"
   ]
  },
  {
   "cell_type": "code",
   "execution_count": 9,
   "metadata": {},
   "outputs": [],
   "source": [
    "x, u = symbols('x u')"
   ]
  },
  {
   "cell_type": "code",
   "execution_count": 10,
   "metadata": {},
   "outputs": [
    {
     "data": {
      "text/latex": [
       "$\\displaystyle \\int \\sin{\\left(5 x + 12 \\right)}\\, dx$"
      ],
      "text/plain": [
       "Integral(sin(5*x + 12), x)"
      ]
     },
     "execution_count": 10,
     "metadata": {},
     "output_type": "execute_result"
    }
   ],
   "source": [
    "int1 = Integral( sin(5*x + 12), x)\n",
    "int1"
   ]
  },
  {
   "cell_type": "code",
   "execution_count": 11,
   "metadata": {},
   "outputs": [
    {
     "data": {
      "text/latex": [
       "$\\displaystyle \\int \\frac{\\sin{\\left(u \\right)}}{5}\\, du$"
      ],
      "text/plain": [
       "Integral(sin(u)/5, u)"
      ]
     },
     "execution_count": 11,
     "metadata": {},
     "output_type": "execute_result"
    }
   ],
   "source": [
    "uSub = 5*x + 12\n",
    "int1.transform(uSub, u)"
   ]
  },
  {
   "cell_type": "code",
   "execution_count": 12,
   "metadata": {},
   "outputs": [
    {
     "data": {
      "text/latex": [
       "$\\displaystyle - \\frac{\\sin{\\left(u \\right)}}{5}$"
      ],
      "text/plain": [
       "-sin(u)/5"
      ]
     },
     "execution_count": 12,
     "metadata": {},
     "output_type": "execute_result"
    }
   ],
   "source": [
    "integrate(int1.transform(uSub, u))"
   ]
  },
  {
   "cell_type": "code",
   "execution_count": 13,
   "metadata": {},
   "outputs": [
    {
     "data": {
      "text/latex": [
       "$\\displaystyle - \\frac{\\cos{\\left(5 x + 12 \\right)}}{5}$"
      ],
      "text/plain": [
       "-cos(5*x + 12)/5"
      ]
     },
     "execution_count": 13,
     "metadata": {},
     "output_type": "execute_result"
    }
   ],
   "source": [
    "int1.transform(uSub, u).doit().subs(u, uSub)"
   ]
  },
  {
   "cell_type": "markdown",
   "metadata": {},
   "source": [
    "---"
   ]
  },
  {
   "cell_type": "markdown",
   "metadata": {},
   "source": [
    "  2.  ${\\displaystyle \\int} 2x \\sqrt{1 + x^2} \\, dx$"
   ]
  },
  {
   "cell_type": "code",
   "execution_count": 14,
   "metadata": {},
   "outputs": [
    {
     "data": {
      "text/latex": [
       "$\\displaystyle \\int 2 x \\sqrt{x^{2} + 1}\\, dx$"
      ],
      "text/plain": [
       "Integral(2*x*sqrt(x**2 + 1), x)"
      ]
     },
     "execution_count": 14,
     "metadata": {},
     "output_type": "execute_result"
    }
   ],
   "source": [
    "int2 = Integral( 2*x * sqrt(1 + x**2), x )\n",
    "int2"
   ]
  },
  {
   "cell_type": "code",
   "execution_count": 15,
   "metadata": {},
   "outputs": [
    {
     "data": {
      "text/latex": [
       "$\\displaystyle \\int \\sqrt{u}\\, du$"
      ],
      "text/plain": [
       "Integral(sqrt(u), u)"
      ]
     },
     "execution_count": 15,
     "metadata": {},
     "output_type": "execute_result"
    }
   ],
   "source": [
    "uSub = x**2 + 1\n",
    "int2.transform(uSub, u)"
   ]
  },
  {
   "cell_type": "code",
   "execution_count": 16,
   "metadata": {},
   "outputs": [
    {
     "data": {
      "text/latex": [
       "$\\displaystyle \\frac{2 \\left(x^{2} + 1\\right)^{\\frac{3}{2}}}{3}$"
      ],
      "text/plain": [
       "2*(x**2 + 1)**(3/2)/3"
      ]
     },
     "execution_count": 16,
     "metadata": {},
     "output_type": "execute_result"
    }
   ],
   "source": [
    "uSub = x**2 + 1\n",
    "int2.transform(uSub, u).doit().subs(u, uSub)"
   ]
  },
  {
   "cell_type": "markdown",
   "metadata": {},
   "source": [
    "---"
   ]
  },
  {
   "cell_type": "markdown",
   "metadata": {},
   "source": [
    "11.  ${\\displaystyle \\int} \\dfrac{4x + 3}{(2x^2 + 3x - 1)^4} \\, dx$"
   ]
  },
  {
   "cell_type": "code",
   "execution_count": 17,
   "metadata": {},
   "outputs": [
    {
     "data": {
      "text/latex": [
       "$\\displaystyle \\int \\frac{4 x + 3}{\\left(2 x^{2} + 3 x - 1\\right)^{4}}\\, dx$"
      ],
      "text/plain": [
       "Integral((4*x + 3)/(2*x**2 + 3*x - 1)**4, x)"
      ]
     },
     "execution_count": 17,
     "metadata": {},
     "output_type": "execute_result"
    }
   ],
   "source": [
    "int3 = Integral( (4*x + 3)/(2*x**2 + 3*x - 1)**4 , x)\n",
    "int3"
   ]
  },
  {
   "cell_type": "code",
   "execution_count": 18,
   "metadata": {},
   "outputs": [
    {
     "ename": "ValueError",
     "evalue": "\nThe mapping between F(x) and f(u) did not give a unique integrand.",
     "output_type": "error",
     "traceback": [
      "\u001b[0;31m---------------------------------------------------------------------------\u001b[0m",
      "\u001b[0;31mValueError\u001b[0m                                Traceback (most recent call last)",
      "\u001b[0;32m<ipython-input-18-5ded27fc779f>\u001b[0m in \u001b[0;36m<module>\u001b[0;34m\u001b[0m\n\u001b[1;32m      1\u001b[0m \u001b[0muSub\u001b[0m \u001b[0;34m=\u001b[0m \u001b[0;36m2\u001b[0m\u001b[0;34m*\u001b[0m\u001b[0mx\u001b[0m\u001b[0;34m**\u001b[0m\u001b[0;36m2\u001b[0m \u001b[0;34m+\u001b[0m \u001b[0;36m3\u001b[0m\u001b[0;34m*\u001b[0m\u001b[0mx\u001b[0m \u001b[0;34m-\u001b[0m \u001b[0;36m1\u001b[0m\u001b[0;34m\u001b[0m\u001b[0;34m\u001b[0m\u001b[0m\n\u001b[0;32m----> 2\u001b[0;31m \u001b[0mint3\u001b[0m\u001b[0;34m.\u001b[0m\u001b[0mtransform\u001b[0m\u001b[0;34m(\u001b[0m\u001b[0muSub\u001b[0m\u001b[0;34m,\u001b[0m \u001b[0mu\u001b[0m\u001b[0;34m)\u001b[0m\u001b[0;34m\u001b[0m\u001b[0;34m\u001b[0m\u001b[0m\n\u001b[0m",
      "\u001b[0;32m~/anaconda3/lib/python3.7/site-packages/sympy/integrals/integrals.py\u001b[0m in \u001b[0;36mtransform\u001b[0;34m(self, x, u)\u001b[0m\n\u001b[1;32m    311\u001b[0m             raise ValueError(filldedent('''\n\u001b[1;32m    312\u001b[0m             \u001b[0mThe\u001b[0m \u001b[0mmapping\u001b[0m \u001b[0mbetween\u001b[0m \u001b[0mF\u001b[0m\u001b[0;34m(\u001b[0m\u001b[0mx\u001b[0m\u001b[0;34m)\u001b[0m \u001b[0;32mand\u001b[0m \u001b[0mf\u001b[0m\u001b[0;34m(\u001b[0m\u001b[0mu\u001b[0m\u001b[0;34m)\u001b[0m \u001b[0mdid\u001b[0m \u001b[0;32mnot\u001b[0m \u001b[0mgive\u001b[0m\u001b[0;34m\u001b[0m\u001b[0;34m\u001b[0m\u001b[0m\n\u001b[0;32m--> 313\u001b[0;31m             a unique integrand.'''))\n\u001b[0m\u001b[1;32m    314\u001b[0m         \u001b[0mnewfunc\u001b[0m \u001b[0;34m=\u001b[0m \u001b[0mnewfuncs\u001b[0m\u001b[0;34m.\u001b[0m\u001b[0mpop\u001b[0m\u001b[0;34m(\u001b[0m\u001b[0;34m)\u001b[0m\u001b[0;34m\u001b[0m\u001b[0;34m\u001b[0m\u001b[0m\n\u001b[1;32m    315\u001b[0m \u001b[0;34m\u001b[0m\u001b[0m\n",
      "\u001b[0;31mValueError\u001b[0m: \nThe mapping between F(x) and f(u) did not give a unique integrand."
     ]
    }
   ],
   "source": [
    "uSub = 2*x**2 + 3*x - 1\n",
    "int3.transform(uSub, u)"
   ]
  },
  {
   "cell_type": "markdown",
   "metadata": {},
   "source": [
    "This time, the _transform_ command has produced the error: \"The mapping between F(x) and f(u) did not give a unique integrand.\" That is because if you rearrange the expression $u = 2x^2 + 3x - 1$, so that $x$ is the subject, you will find that there is not a unique solution.  \n",
    "Using the _solve_ command, all the solutions are presented for this transposition. One of the solutions can then be chosen for the substitution."
   ]
  },
  {
   "cell_type": "code",
   "execution_count": 19,
   "metadata": {},
   "outputs": [
    {
     "data": {
      "text/plain": [
       "[-sqrt(8*u + 17)/4 - 3/4, sqrt(8*u + 17)/4 - 3/4]"
      ]
     },
     "execution_count": 19,
     "metadata": {},
     "output_type": "execute_result"
    }
   ],
   "source": [
    "solve(Eq(u, uSub), x)"
   ]
  },
  {
   "cell_type": "markdown",
   "metadata": {},
   "source": [
    "Therefore, the transformed integral, in terms of $u$, is:"
   ]
  },
  {
   "cell_type": "code",
   "execution_count": 20,
   "metadata": {},
   "outputs": [
    {
     "data": {
      "text/latex": [
       "$\\displaystyle \\int \\frac{1}{u^{4}}\\, du$"
      ],
      "text/plain": [
       "Integral(u**(-4), u)"
      ]
     },
     "execution_count": 20,
     "metadata": {},
     "output_type": "execute_result"
    }
   ],
   "source": [
    "simplify( int3.transform(x, solve(Eq(u, uSub), x)[1]) )"
   ]
  },
  {
   "cell_type": "code",
   "execution_count": 21,
   "metadata": {},
   "outputs": [
    {
     "data": {
      "text/latex": [
       "$\\displaystyle - \\frac{1}{3 \\left(2 x^{2} + 3 x - 1\\right)^{3}}$"
      ],
      "text/plain": [
       "-1/(3*(2*x**2 + 3*x - 1)**3)"
      ]
     },
     "execution_count": 21,
     "metadata": {},
     "output_type": "execute_result"
    }
   ],
   "source": [
    "simplify( int3.transform(x, solve(Eq(u, uSub), x)[1]) ).doit().subs(u, uSub)"
   ]
  },
  {
   "cell_type": "markdown",
   "metadata": {},
   "source": [
    "---"
   ]
  },
  {
   "cell_type": "markdown",
   "metadata": {},
   "source": [
    "Evaluate the following using the method of partial fractions:  \n",
    "  \n",
    "  28.  $ {\\displaystyle \\int} \\dfrac{2x^2 + 2x + 1}{x^2 (x + 1)} \\, dx$"
   ]
  },
  {
   "cell_type": "code",
   "execution_count": 22,
   "metadata": {},
   "outputs": [
    {
     "data": {
      "text/latex": [
       "$\\displaystyle \\frac{1}{x + 1} + \\frac{1}{x} + \\frac{1}{x^{2}}$"
      ],
      "text/plain": [
       "1/(x + 1) + 1/x + x**(-2)"
      ]
     },
     "execution_count": 22,
     "metadata": {},
     "output_type": "execute_result"
    }
   ],
   "source": [
    "apart( (2*x**2 + 2*x + 1)/(x**2*(x + 1)) )"
   ]
  },
  {
   "cell_type": "code",
   "execution_count": 23,
   "metadata": {},
   "outputs": [
    {
     "data": {
      "text/latex": [
       "$\\displaystyle \\int \\left(\\frac{1}{x + 1} + \\frac{1}{x} + \\frac{1}{x^{2}}\\right)\\, dx$"
      ],
      "text/plain": [
       "Integral(1/(x + 1) + 1/x + x**(-2), x)"
      ]
     },
     "execution_count": 23,
     "metadata": {},
     "output_type": "execute_result"
    }
   ],
   "source": [
    "int4 = Integral( apart( (2*x**2 + 2*x + 1)/(x**2*(x + 1)) ), x )\n",
    "int4"
   ]
  },
  {
   "cell_type": "code",
   "execution_count": 24,
   "metadata": {},
   "outputs": [
    {
     "data": {
      "text/latex": [
       "$\\displaystyle \\log{\\left(x^{2} + x \\right)} - \\frac{1}{x}$"
      ],
      "text/plain": [
       "log(x**2 + x) - 1/x"
      ]
     },
     "execution_count": 24,
     "metadata": {},
     "output_type": "execute_result"
    }
   ],
   "source": [
    "int4.doit()"
   ]
  },
  {
   "cell_type": "markdown",
   "metadata": {},
   "source": [
    "***   \n",
    "  \n",
    "by Dr J T Wharton\n",
    "\n",
    "***"
   ]
  }
 ],
 "metadata": {
  "kernelspec": {
   "display_name": "Python 3 (ipykernel)",
   "language": "python",
   "name": "python3"
  },
  "language_info": {
   "codemirror_mode": {
    "name": "ipython",
    "version": 3
   },
   "file_extension": ".py",
   "mimetype": "text/x-python",
   "name": "python",
   "nbconvert_exporter": "python",
   "pygments_lexer": "ipython3",
   "version": "3.9.7"
  }
 },
 "nbformat": 4,
 "nbformat_minor": 4
}
