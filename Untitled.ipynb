{
 "cells": [
  {
   "cell_type": "code",
   "execution_count": 1,
   "id": "670851c0-5734-42a8-8f08-6e67353cd17b",
   "metadata": {},
   "outputs": [],
   "source": [
    "from sympy import *\n",
    "init_printing()\n",
    "v, m, t, g, k = symbols('v m t g k')\n",
    "v = Function('v')(t)\n",
    "dv = v.diff(t)\n",
    "dv2 = v.diff(t,2)"
   ]
  },
  {
   "cell_type": "code",
   "execution_count": 2,
   "id": "5dff391c-e373-4fbe-a484-87ba73bc9331",
   "metadata": {},
   "outputs": [
    {
     "name": "stderr",
     "output_type": "stream",
     "text": [
      "D:\\Anaconda3\\lib\\site-packages\\IPython\\lib\\latextools.py:126: MatplotlibDeprecationWarning: \n",
      "The to_png function was deprecated in Matplotlib 3.4 and will be removed two minor releases later. Use mathtext.math_to_image instead.\n",
      "  mt.to_png(f, s, fontsize=12, dpi=dpi, color=color)\n",
      "D:\\Anaconda3\\lib\\site-packages\\IPython\\lib\\latextools.py:126: MatplotlibDeprecationWarning: \n",
      "The to_rgba function was deprecated in Matplotlib 3.4 and will be removed two minor releases later. Use mathtext.math_to_image instead.\n",
      "  mt.to_png(f, s, fontsize=12, dpi=dpi, color=color)\n",
      "D:\\Anaconda3\\lib\\site-packages\\IPython\\lib\\latextools.py:126: MatplotlibDeprecationWarning: \n",
      "The to_mask function was deprecated in Matplotlib 3.4 and will be removed two minor releases later. Use mathtext.math_to_image instead.\n",
      "  mt.to_png(f, s, fontsize=12, dpi=dpi, color=color)\n",
      "D:\\Anaconda3\\lib\\site-packages\\IPython\\lib\\latextools.py:126: MatplotlibDeprecationWarning: \n",
      "The MathtextBackendBitmap class was deprecated in Matplotlib 3.4 and will be removed two minor releases later. Use mathtext.math_to_image instead.\n",
      "  mt.to_png(f, s, fontsize=12, dpi=dpi, color=color)\n"
     ]
    },
    {
     "data": {
      "image/png": "[encoded data removed]",
      "text/latex": [
       "$\\displaystyle m \\frac{d}{d t} v{\\left(t \\right)} = g m - k v^{2}{\\left(t \\right)}$"
      ],
      "text/plain": [
       "  d                   2   \n",
       "m⋅──(v(t)) = g⋅m - k⋅v (t)\n",
       "  dt                      "
      ]
     },
     "execution_count": 2,
     "metadata": {},
     "output_type": "execute_result"
    }
   ],
   "source": [
    "Eq1 = Eq(m*dv , m*g - k*v**2)\n",
    "Eq1"
   ]
  },
  {
   "cell_type": "code",
   "execution_count": 3,
   "id": "076a9474-5e56-41dd-bc88-7807578419ef",
   "metadata": {},
   "outputs": [
    {
     "data": {
      "image/png": "[encoded data removed]",
      "text/latex": [
       "$\\displaystyle v{\\left(t \\right)} = - \\frac{\\sqrt{g} \\sqrt{m}}{\\sqrt{k} \\tanh{\\left(\\frac{\\sqrt{g} \\sqrt{k} \\log{\\left(C_{1} e^{- 2 t} \\right)}}{2 \\sqrt{m}} \\right)}}$"
      ],
      "text/plain": [
       "                 -√g⋅√m            \n",
       "v(t) = ────────────────────────────\n",
       "              ⎛         ⎛    -2⋅t⎞⎞\n",
       "              ⎜√g⋅√k⋅log⎝C₁⋅ℯ    ⎠⎟\n",
       "       √k⋅tanh⎜───────────────────⎟\n",
       "              ⎝        2⋅√m       ⎠"
      ]
     },
     "execution_count": 3,
     "metadata": {},
     "output_type": "execute_result"
    }
   ],
   "source": [
    "gsol = dsolve(Eq1 , v)\n",
    "gsol"
   ]
  },
  {
   "cell_type": "code",
   "execution_count": null,
   "id": "e27fe5fe-b628-4cce-8eba-24887639fb6f",
   "metadata": {},
   "outputs": [],
   "source": []
  }
 ],
 "metadata": {
  "kernelspec": {
   "display_name": "Python 3 (ipykernel)",
   "language": "python",
   "name": "python3"
  },
  "language_info": {
   "codemirror_mode": {
    "name": "ipython",
    "version": 3
   },
   "file_extension": ".py",
   "mimetype": "text/x-python",
   "name": "python",
   "nbconvert_exporter": "python",
   "pygments_lexer": "ipython3",
   "version": "3.9.7"
  }
 },
 "nbformat": 4,
 "nbformat_minor": 5
}
