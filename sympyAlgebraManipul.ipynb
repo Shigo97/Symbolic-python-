{
 "cells": [
  {
   "cell_type": "markdown",
   "metadata": {},
   "source": [
    "# Pre Masters Maths 6601PMEC"
   ]
  },
  {
   "cell_type": "markdown",
   "metadata": {},
   "source": [
    "## Examples of Using SymPy for Basic Algebraic Manipulation"
   ]
  },
  {
   "cell_type": "code",
   "execution_count": 2,
   "metadata": {},
   "outputs": [],
   "source": [
    "from sympy import *\n",
    "init_printing()\n",
    "a, b, c = symbols('a b c')"
   ]
  },
  {
   "cell_type": "markdown",
   "metadata": {},
   "source": [
    "1.  Simplify the following:  \n",
    "    a)  $5ab \\times 6a^2b$"
   ]
  },
  {
   "cell_type": "code",
   "execution_count": 3,
   "metadata": {},
   "outputs": [
    {
     "data": {
      "image/png": "[encoded data removed]",
      "text/latex": [
       "$\\displaystyle 30 a^{3} b^{2}$"
      ],
      "text/plain": [
       "    3  2\n",
       "30⋅a ⋅b "
      ]
     },
     "execution_count": 3,
     "metadata": {},
     "output_type": "execute_result"
    }
   ],
   "source": [
    "5*a*b * 6*a**2*b"
   ]
  },
  {
   "cell_type": "markdown",
   "metadata": {},
   "source": [
    "  c)  $(4 \\times 3ab) \\div 6ab^2$"
   ]
  },
  {
   "cell_type": "code",
   "execution_count": 4,
   "metadata": {},
   "outputs": [
    {
     "data": {
      "image/png": "[encoded data removed]",
      "text/latex": [
       "$\\displaystyle \\frac{2}{b}$"
      ],
      "text/plain": [
       "2\n",
       "─\n",
       "b"
      ]
     },
     "execution_count": 4,
     "metadata": {},
     "output_type": "execute_result"
    }
   ],
   "source": [
    "(4 * 3*a*b) / (6*a*b**2)"
   ]
  },
  {
   "cell_type": "markdown",
   "metadata": {},
   "source": [
    "  i) $(abc)^\\frac{1}{3} \\div (a^2 b^2 c^2)^\\frac{2}{3}$"
   ]
  },
  {
   "cell_type": "code",
   "execution_count": 5,
   "metadata": {},
   "outputs": [
    {
     "data": {
      "image/png": "[encoded data removed]",
      "text/latex": [
       "$\\displaystyle \\frac{\\sqrt[3]{a b c}}{\\left(a^{2} b^{2} c^{2}\\right)^{\\frac{2}{3}}}$"
      ],
      "text/plain": [
       "  3 _______  \n",
       "  ╲╱ a⋅b⋅c   \n",
       "─────────────\n",
       "          2/3\n",
       "⎛ 2  2  2⎞   \n",
       "⎝a ⋅b ⋅c ⎠   "
      ]
     },
     "execution_count": 5,
     "metadata": {},
     "output_type": "execute_result"
    }
   ],
   "source": [
    "(a*b*c)**(S(1)/3) / (a**2 * b**2 * c**2)**(S(2)/3)"
   ]
  },
  {
   "cell_type": "markdown",
   "metadata": {},
   "source": [
    "As per the tutorial \"SymPy Tutorial\" notebook, we need to force the symbols $a, b, c$ to be positive in order for it to fully simplify."
   ]
  },
  {
   "cell_type": "code",
   "execution_count": 6,
   "metadata": {},
   "outputs": [],
   "source": [
    "a, b, c = symbols('a b c', positive=True)"
   ]
  },
  {
   "cell_type": "code",
   "execution_count": 7,
   "metadata": {},
   "outputs": [
    {
     "data": {
      "image/png": "[encoded data removed]",
      "text/latex": [
       "$\\displaystyle \\frac{1}{a b c}$"
      ],
      "text/plain": [
       "  1  \n",
       "─────\n",
       "a⋅b⋅c"
      ]
     },
     "execution_count": 7,
     "metadata": {},
     "output_type": "execute_result"
    }
   ],
   "source": [
    "(a*b*c)**(S(1)/3) / (a**2 * b**2 * c**2)**(S(2)/3)"
   ]
  },
  {
   "cell_type": "markdown",
   "metadata": {},
   "source": [
    "  l)  $(6 \\sqrt{yz} /p) \\times (19p / y^\\frac{5}{2}) \\div (38z^{-\\frac{3}{2}} p^{-1})$"
   ]
  },
  {
   "cell_type": "code",
   "execution_count": 8,
   "metadata": {},
   "outputs": [
    {
     "data": {
      "image/png": "[encoded data removed]",
      "text/latex": [
       "$\\displaystyle \\frac{3 p z^{2}}{y^{2}}$"
      ],
      "text/plain": [
       "     2\n",
       "3⋅p⋅z \n",
       "──────\n",
       "   2  \n",
       "  y   "
      ]
     },
     "execution_count": 8,
     "metadata": {},
     "output_type": "execute_result"
    }
   ],
   "source": [
    "y, z, p = symbols('y z p', positive=True)\n",
    "(6 * sqrt(y*z) / p) * (19*p / y**(S(5)/2) ) / ( 38*z**(-(S(3)/2)) * p**(-1) )"
   ]
  },
  {
   "cell_type": "markdown",
   "metadata": {},
   "source": [
    "2.  With $a =1, b=4, c=27$ evaluate the following:  \n",
    "  a)  $6a^2 + 2bc -2c^\\frac{1}{3}$"
   ]
  },
  {
   "cell_type": "code",
   "execution_count": 9,
   "metadata": {},
   "outputs": [
    {
     "data": {
      "image/png": "[encoded data removed]",
      "text/latex": [
       "$\\displaystyle 6 a^{2} + 2 b c - 2 \\sqrt[3]{c}$"
      ],
      "text/plain": [
       "   2             3 ___\n",
       "6⋅a  + 2⋅b⋅c - 2⋅╲╱ c "
      ]
     },
     "execution_count": 9,
     "metadata": {},
     "output_type": "execute_result"
    }
   ],
   "source": [
    "eq1 = 6*a**2 + 2*b*c - 2*c**(S(1)/3)\n",
    "eq1"
   ]
  },
  {
   "cell_type": "code",
   "execution_count": 10,
   "metadata": {},
   "outputs": [
    {
     "data": {
      "image/png": "[encoded data removed]",
      "text/latex": [
       "$\\displaystyle 216$"
      ],
      "text/plain": [
       "216"
      ]
     },
     "execution_count": 10,
     "metadata": {},
     "output_type": "execute_result"
    }
   ],
   "source": [
    "eq1.subs({a : 1, b : 4, c : 27})"
   ]
  },
  {
   "cell_type": "markdown",
   "metadata": {},
   "source": [
    "3. Simplify the following expressions:  \n",
    "  a) $(x + 1)(x + 2) - (x + 3)(x + 4)$"
   ]
  },
  {
   "cell_type": "code",
   "execution_count": 11,
   "metadata": {},
   "outputs": [
    {
     "data": {
      "image/png": "[encoded data removed]",
      "text/latex": [
       "$\\displaystyle - 4 x - 10$"
      ],
      "text/plain": [
       "-4⋅x - 10"
      ]
     },
     "execution_count": 11,
     "metadata": {},
     "output_type": "execute_result"
    }
   ],
   "source": [
    "x = symbols('x')\n",
    "expand( (x + 1)*(x + 2) - (x + 3)*(x + 4) )"
   ]
  },
  {
   "cell_type": "markdown",
   "metadata": {},
   "source": [
    "4.  Simplify the following fractions:  \n",
    "  a) $\\dfrac{2x}{5} + \\dfrac{x}{9}$"
   ]
  },
  {
   "cell_type": "code",
   "execution_count": 12,
   "metadata": {},
   "outputs": [
    {
     "data": {
      "image/png": "[encoded data removed]",
      "text/latex": [
       "$\\displaystyle \\frac{23 x}{45}$"
      ],
      "text/plain": [
       "23⋅x\n",
       "────\n",
       " 45 "
      ]
     },
     "execution_count": 12,
     "metadata": {},
     "output_type": "execute_result"
    }
   ],
   "source": [
    "(2*x)/5 + x/9"
   ]
  },
  {
   "cell_type": "markdown",
   "metadata": {},
   "source": [
    "  e)  $\\dfrac{x - 1}{x - 3} + \\dfrac{x - 1}{(x - 3)^2}$"
   ]
  },
  {
   "cell_type": "code",
   "execution_count": 13,
   "metadata": {},
   "outputs": [
    {
     "data": {
      "image/png": "[encoded data removed]",
      "text/latex": [
       "$\\displaystyle \\frac{x - 1}{x - 3} + \\frac{x - 1}{\\left(x - 3\\right)^{2}}$"
      ],
      "text/plain": [
       "x - 1    x - 1  \n",
       "───── + ────────\n",
       "x - 3          2\n",
       "        (x - 3) "
      ]
     },
     "execution_count": 13,
     "metadata": {},
     "output_type": "execute_result"
    }
   ],
   "source": [
    "eq2 = (x - 1)/(x - 3) + (x - 1)/(x - 3)**2\n",
    "eq2"
   ]
  },
  {
   "cell_type": "code",
   "execution_count": 14,
   "metadata": {},
   "outputs": [
    {
     "data": {
      "image/png": "[encoded data removed]",
      "text/latex": [
       "$\\displaystyle \\frac{x^{2} - 3 x + 2}{x^{2} - 6 x + 9}$"
      ],
      "text/plain": [
       " 2          \n",
       "x  - 3⋅x + 2\n",
       "────────────\n",
       " 2          \n",
       "x  - 6⋅x + 9"
      ]
     },
     "execution_count": 14,
     "metadata": {},
     "output_type": "execute_result"
    }
   ],
   "source": [
    "simplify(expand(eq2))"
   ]
  },
  {
   "cell_type": "markdown",
   "metadata": {},
   "source": [
    "5.  Factorise the following expressions:  \n",
    "  a) $4x^3yz + 6x^2y^2z^2 + 2xyz - 2xy^3z^2$"
   ]
  },
  {
   "cell_type": "code",
   "execution_count": 15,
   "metadata": {},
   "outputs": [
    {
     "data": {
      "image/png": "[encoded data removed]",
      "text/latex": [
       "$\\displaystyle 2 x y z \\left(2 x^{2} + 3 x y z - y^{2} z + 1\\right)$"
      ],
      "text/plain": [
       "        ⎛   2              2      ⎞\n",
       "2⋅x⋅y⋅z⋅⎝2⋅x  + 3⋅x⋅y⋅z - y ⋅z + 1⎠"
      ]
     },
     "execution_count": 15,
     "metadata": {},
     "output_type": "execute_result"
    }
   ],
   "source": [
    "factor( 4*x**3 * y*z + 6*x**2 *y**2 * z**2 + 2*x*y*z - 2*x*y**3 * z**2 )"
   ]
  },
  {
   "cell_type": "markdown",
   "metadata": {},
   "source": [
    "6. Solve the equations  \n",
    "  a)  $2(3x - 3) - 4(3x - 2) = -10$"
   ]
  },
  {
   "cell_type": "code",
   "execution_count": 16,
   "metadata": {},
   "outputs": [
    {
     "data": {
      "image/png": "[encoded data removed]",
      "text/latex": [
       "$\\displaystyle \\left[ 2\\right]$"
      ],
      "text/plain": [
       "[2]"
      ]
     },
     "execution_count": 16,
     "metadata": {},
     "output_type": "execute_result"
    }
   ],
   "source": [
    "solve( Eq( 2*(3*x - 3) - 4*(3*x - 2), -10) )"
   ]
  },
  {
   "cell_type": "markdown",
   "metadata": {},
   "source": [
    "  d)  $x + y = 3, \\quad x^2 - y^2 = -3$"
   ]
  },
  {
   "cell_type": "code",
   "execution_count": 17,
   "metadata": {},
   "outputs": [
    {
     "data": {
      "image/png": "[encoded data removed]",
      "text/latex": [
       "$\\displaystyle x + y = 3$"
      ],
      "text/plain": [
       "x + y = 3"
      ]
     },
     "execution_count": 17,
     "metadata": {},
     "output_type": "execute_result"
    }
   ],
   "source": [
    "x, y = symbols('x y')\n",
    "eq3 = Eq( x + y, 3 )\n",
    "eq3"
   ]
  },
  {
   "cell_type": "code",
   "execution_count": 18,
   "metadata": {},
   "outputs": [
    {
     "data": {
      "image/png": "[encoded data removed]",
      "text/latex": [
       "$\\displaystyle x^{2} - y^{2} = -3$"
      ],
      "text/plain": [
       " 2    2     \n",
       "x  - y  = -3"
      ]
     },
     "execution_count": 18,
     "metadata": {},
     "output_type": "execute_result"
    }
   ],
   "source": [
    "eq4 = Eq( x**2 - y**2, -3 )\n",
    "eq4"
   ]
  },
  {
   "cell_type": "code",
   "execution_count": 19,
   "metadata": {},
   "outputs": [
    {
     "data": {
      "image/png": "[encoded data removed]",
      "text/latex": [
       "$\\displaystyle \\left[ \\left\\{ x : 1, \\  y : 2\\right\\}\\right]$"
      ],
      "text/plain": [
       "[{x: 1, y: 2}]"
      ]
     },
     "execution_count": 19,
     "metadata": {},
     "output_type": "execute_result"
    }
   ],
   "source": [
    "solve({eq3, eq4}, {x, y})"
   ]
  },
  {
   "cell_type": "markdown",
   "metadata": {},
   "source": [
    "7.  For each of the following quadratic equations, predict the nature of the solutions. Where the solutions are real, find them using the all of the three methods – factorization, completing the square and the formula  \n",
    "  a)  $x^2 - x - 20 = 0$"
   ]
  },
  {
   "cell_type": "code",
   "execution_count": 20,
   "metadata": {},
   "outputs": [
    {
     "data": {
      "image/png": "[encoded data removed]",
      "text/latex": [
       "$\\displaystyle x^{2} - x - 20$"
      ],
      "text/plain": [
       " 2         \n",
       "x  - x - 20"
      ]
     },
     "execution_count": 20,
     "metadata": {},
     "output_type": "execute_result"
    }
   ],
   "source": [
    "eq5 = x**2 - x - 20\n",
    "eq5"
   ]
  },
  {
   "cell_type": "code",
   "execution_count": 21,
   "metadata": {},
   "outputs": [
    {
     "data": {
      "image/png": "[encoded data removed]",
      "text/latex": [
       "$\\displaystyle 81$"
      ],
      "text/plain": [
       "81"
      ]
     },
     "execution_count": 21,
     "metadata": {},
     "output_type": "execute_result"
    }
   ],
   "source": [
    "discriminant(eq5)"
   ]
  },
  {
   "cell_type": "code",
   "execution_count": 22,
   "metadata": {},
   "outputs": [
    {
     "data": {
      "image/png": "[encoded data removed]",
      "text/latex": [
       "$\\displaystyle \\left(x - 5\\right) \\left(x + 4\\right)$"
      ],
      "text/plain": [
       "(x - 5)⋅(x + 4)"
      ]
     },
     "execution_count": 22,
     "metadata": {},
     "output_type": "execute_result"
    }
   ],
   "source": [
    "factor(eq5)"
   ]
  },
  {
   "cell_type": "code",
   "execution_count": 23,
   "metadata": {},
   "outputs": [
    {
     "data": {
      "image/png": "[encoded data removed]",
      "text/latex": [
       "$\\displaystyle \\left[ \\left( \\frac{1}{2}, \\  \\frac{81}{4}\\right)\\right]$"
      ],
      "text/plain": [
       "[(1/2, 81/4)]"
      ]
     },
     "execution_count": 23,
     "metadata": {},
     "output_type": "execute_result"
    }
   ],
   "source": [
    "h, k = symbols('h k')\n",
    "solve( (x-h)**2 - k  - (eq5), [h,k] )"
   ]
  },
  {
   "cell_type": "code",
   "execution_count": 24,
   "metadata": {},
   "outputs": [
    {
     "data": {
      "image/png": "[encoded data removed]",
      "text/latex": [
       "$\\displaystyle \\left[ -4, \\  5\\right]$"
      ],
      "text/plain": [
       "[-4, 5]"
      ]
     },
     "execution_count": 24,
     "metadata": {},
     "output_type": "execute_result"
    }
   ],
   "source": [
    "solve(eq5)"
   ]
  },
  {
   "cell_type": "markdown",
   "metadata": {},
   "source": [
    "8. Below are some formulae encountered in engineering. Make the letter indicated the subject of the formula:  \n",
    "  a)  $n = \\dfrac{2(G + 3K)}{(3K - 2G)} \\quad (K)$"
   ]
  },
  {
   "cell_type": "code",
   "execution_count": 25,
   "metadata": {},
   "outputs": [
    {
     "data": {
      "image/png": "[encoded data removed]",
      "text/latex": [
       "$\\displaystyle n = \\frac{2 G + 6 K}{- 2 G + 3 K}$"
      ],
      "text/plain": [
       "    2⋅G + 6⋅K \n",
       "n = ──────────\n",
       "    -2⋅G + 3⋅K"
      ]
     },
     "execution_count": 25,
     "metadata": {},
     "output_type": "execute_result"
    }
   ],
   "source": [
    "G, K, n = symbols('G K n')\n",
    "eq6 = Eq( n, (2*(G + 3*K)) / (3*K - 2*G))\n",
    "eq6"
   ]
  },
  {
   "cell_type": "code",
   "execution_count": 26,
   "metadata": {},
   "outputs": [
    {
     "data": {
      "image/png": "[encoded data removed]",
      "text/latex": [
       "$\\displaystyle K = \\frac{2 G \\left(n + 1\\right)}{3 \\left(n - 2\\right)}$"
      ],
      "text/plain": [
       "    2⋅G⋅(n + 1)\n",
       "K = ───────────\n",
       "     3⋅(n - 2) "
      ]
     },
     "execution_count": 26,
     "metadata": {},
     "output_type": "execute_result"
    }
   ],
   "source": [
    "Eq(K, solve(eq6, K)[0])"
   ]
  },
  {
   "cell_type": "markdown",
   "metadata": {},
   "source": [
    "***   \n",
    "  \n",
    "by Dr J T Wharton\n",
    "\n",
    "***"
   ]
  }
 ],
 "metadata": {
  "kernelspec": {
   "display_name": "Python 3",
   "language": "python",
   "name": "python3"
  },
  "language_info": {
   "codemirror_mode": {
    "name": "ipython",
    "version": 3
   },
   "file_extension": ".py",
   "mimetype": "text/x-python",
   "name": "python",
   "nbconvert_exporter": "python",
   "pygments_lexer": "ipython3",
   "version": "3.6.9"
  }
 },
 "nbformat": 4,
 "nbformat_minor": 4
}
