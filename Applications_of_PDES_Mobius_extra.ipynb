{
 "cells": [
  {
   "cell_type": "code",
   "execution_count": 59,
   "id": "7751268b",
   "metadata": {},
   "outputs": [],
   "source": [
    "from sympy import *\n",
    "import numpy as np\n",
    "import matplotlib.cm as cm\n",
    "import matplotlib.pyplot as plt\n",
    "x, y, z = symbols('x y z')\n",
    "init_printing()"
   ]
  },
  {
   "cell_type": "code",
   "execution_count": 60,
   "id": "f6cc71a6",
   "metadata": {},
   "outputs": [
    {
     "data": {
      "image/png": "[encoded data removed]",
      "text/latex": [
       "$\\displaystyle 5 x^{2} + 3 x y + 2 x + 4 y^{2} + 7 y$"
      ],
      "text/plain": [
       "   2                    2      \n",
       "5⋅x  + 3⋅x⋅y + 2⋅x + 4⋅y  + 7⋅y"
      ]
     },
     "execution_count": 60,
     "metadata": {},
     "output_type": "execute_result"
    }
   ],
   "source": [
    "z = 5*x**2 + 3*x*y + 4*y**2 + 2*x +7*y\n",
    "z"
   ]
  },
  {
   "cell_type": "code",
   "execution_count": 61,
   "id": "5d7913ea",
   "metadata": {},
   "outputs": [
    {
     "data": {
      "image/png": "[encoded data removed]",
      "text/latex": [
       "$\\displaystyle 10 x + 3 y + 2$"
      ],
      "text/plain": [
       "10⋅x + 3⋅y + 2"
      ]
     },
     "execution_count": 61,
     "metadata": {},
     "output_type": "execute_result"
    }
   ],
   "source": [
    "dzdx = z.diff(x)\n",
    "dzdx\n"
   ]
  },
  {
   "cell_type": "code",
   "execution_count": 62,
   "id": "71b22f22",
   "metadata": {},
   "outputs": [
    {
     "data": {
      "image/png": "[encoded data removed]",
      "text/latex": [
       "$\\displaystyle 3 x + 8 y + 7$"
      ],
      "text/plain": [
       "3⋅x + 8⋅y + 7"
      ]
     },
     "execution_count": 62,
     "metadata": {},
     "output_type": "execute_result"
    }
   ],
   "source": [
    "dzdy = z.diff(y)\n",
    "dzdy"
   ]
  },
  {
   "cell_type": "code",
   "execution_count": 63,
   "id": "bf871f93",
   "metadata": {},
   "outputs": [
    {
     "data": {
      "image/png": "[encoded data removed]",
      "text/latex": [
       "$\\displaystyle 71$"
      ],
      "text/plain": [
       "71"
      ]
     },
     "execution_count": 63,
     "metadata": {},
     "output_type": "execute_result"
    }
   ],
   "source": [
    "d2zdx2 = z.diff(x, 2)\n",
    "d2zdy2 = z.diff(y, 2)\n",
    "d2zdxdy = z.diff(x, y)\n",
    "Delta = d2zdx2*d2zdy2 - d2zdxdy**2\n",
    "Delta"
   ]
  },
  {
   "cell_type": "code",
   "execution_count": 64,
   "id": "2e74365b",
   "metadata": {},
   "outputs": [
    {
     "data": {
      "image/png": "[encoded data removed]",
      "text/latex": [
       "$\\displaystyle \\left[ \\left\\{ x : \\frac{5}{71}, \\  y : - \\frac{64}{71}\\right\\}\\right]$"
      ],
      "text/plain": [
       "⎡⎧            -64 ⎫⎤\n",
       "⎢⎨x: 5/71, y: ────⎬⎥\n",
       "⎣⎩             71 ⎭⎦"
      ]
     },
     "execution_count": 64,
     "metadata": {},
     "output_type": "execute_result"
    }
   ],
   "source": [
    "sym.solve([dzdx,dzdy],[x,y],dict=True)"
   ]
  },
  {
   "cell_type": "markdown",
   "id": "0c1c0f8b",
   "metadata": {},
   "source": [
    "if  $\\Delta < 0$, the point is a saddle point.\n",
    "  \n",
    "Therefore the saddle point is located at:"
   ]
  },
  {
   "cell_type": "code",
   "execution_count": 65,
   "id": "58bc28b7",
   "metadata": {},
   "outputs": [
    {
     "data": {
      "image/png": "[encoded data removed]",
      "text/latex": [
       "$\\displaystyle -3.08450704225352$"
      ],
      "text/plain": [
       "-3.08450704225352"
      ]
     },
     "execution_count": 65,
     "metadata": {},
     "output_type": "execute_result"
    }
   ],
   "source": [
    "result =z.subs([(x, 5/71), (y, -64/71)])\n",
    "result"
   ]
  },
  {
   "cell_type": "markdown",
   "id": "5c637641",
   "metadata": {},
   "source": [
    "# Question 2 Mobius"
   ]
  },
  {
   "cell_type": "code",
   "execution_count": 28,
   "id": "9403ab67",
   "metadata": {},
   "outputs": [],
   "source": [
    "x, y, z, v = symbols('x y z v')"
   ]
  },
  {
   "cell_type": "code",
   "execution_count": 29,
   "id": "935dd735",
   "metadata": {},
   "outputs": [
    {
     "data": {
      "image/png": "[encoded data removed]",
      "text/latex": [
       "$\\displaystyle x y z = 100$"
      ],
      "text/plain": [
       "x⋅y⋅z = 100"
      ]
     },
     "execution_count": 29,
     "metadata": {},
     "output_type": "execute_result"
    }
   ],
   "source": [
    "Eq0 = Eq(x*y*z,100)\n",
    "Eq0"
   ]
  },
  {
   "cell_type": "code",
   "execution_count": 30,
   "id": "fdfaf4f1",
   "metadata": {},
   "outputs": [
    {
     "data": {
      "image/png": "[encoded data removed]",
      "text/latex": [
       "$\\displaystyle x y + \\frac{200}{y} + \\frac{200}{x}$"
      ],
      "text/plain": [
       "      200   200\n",
       "x⋅y + ─── + ───\n",
       "       y     x "
      ]
     },
     "execution_count": 30,
     "metadata": {},
     "output_type": "execute_result"
    }
   ],
   "source": [
    "Eq1 = (x*y+200/y+200/x) \n",
    "Eq1"
   ]
  },
  {
   "cell_type": "code",
   "execution_count": 31,
   "id": "b10dc671",
   "metadata": {},
   "outputs": [
    {
     "data": {
      "image/png": "[encoded data removed]",
      "text/latex": [
       "$\\displaystyle x - \\frac{200}{y^{2}}$"
      ],
      "text/plain": [
       "    200\n",
       "x - ───\n",
       "      2\n",
       "     y "
      ]
     },
     "execution_count": 31,
     "metadata": {},
     "output_type": "execute_result"
    }
   ],
   "source": [
    "Eq2 = Eq1.diff(y)\n",
    "Eq2"
   ]
  },
  {
   "cell_type": "code",
   "execution_count": 32,
   "id": "12703021",
   "metadata": {},
   "outputs": [
    {
     "data": {
      "image/png": "[encoded data removed]",
      "text/latex": [
       "$\\displaystyle y - \\frac{200}{x^{2}}$"
      ],
      "text/plain": [
       "    200\n",
       "y - ───\n",
       "      2\n",
       "     x "
      ]
     },
     "execution_count": 32,
     "metadata": {},
     "output_type": "execute_result"
    }
   ],
   "source": [
    "Eq3 = Eq1.diff(x)\n",
    "Eq3\n"
   ]
  },
  {
   "cell_type": "code",
   "execution_count": 33,
   "id": "081b07b4",
   "metadata": {},
   "outputs": [
    {
     "data": {
      "image/png": "[encoded data removed]",
      "text/latex": [
       "$\\displaystyle \\left[ \\left( 2 \\cdot 5^{\\frac{2}{3}}, \\  2 \\cdot 5^{\\frac{2}{3}}\\right), \\  \\left( - 5^{\\frac{2}{3}} - \\sqrt{3} \\cdot 5^{\\frac{2}{3}} i, \\  - 5^{\\frac{2}{3}} - \\sqrt{3} \\cdot 5^{\\frac{2}{3}} i\\right), \\  \\left( - 5^{\\frac{2}{3}} + \\sqrt{3} \\cdot 5^{\\frac{2}{3}} i, \\  - 5^{\\frac{2}{3}} + \\sqrt{3} \\cdot 5^{\\frac{2}{3}} i\\right)\\right]$"
      ],
      "text/plain": [
       "⎡⎛   2/3     2/3⎞  ⎛   2/3       2/3       2/3       2/3  ⎞  ⎛   2/3       2/3\n",
       "⎣⎝2⋅5   , 2⋅5   ⎠, ⎝- 5    - √3⋅5   ⋅ⅈ, - 5    - √3⋅5   ⋅ⅈ⎠, ⎝- 5    + √3⋅5   \n",
       "\n",
       "       2/3       2/3  ⎞⎤\n",
       "⋅ⅈ, - 5    + √3⋅5   ⋅ⅈ⎠⎦"
      ]
     },
     "execution_count": 33,
     "metadata": {},
     "output_type": "execute_result"
    }
   ],
   "source": [
    "Cvals = solve([Eq2, Eq3], [x,y])\n",
    "Cvals"
   ]
  },
  {
   "cell_type": "code",
   "execution_count": 34,
   "id": "8fcef07d",
   "metadata": {},
   "outputs": [
    {
     "data": {
      "image/png": "[encoded data removed]",
      "text/latex": [
       "$\\displaystyle \\left[ 2.92401773821287\\right]$"
      ],
      "text/plain": [
       "[2.92401773821287]"
      ]
     },
     "execution_count": 34,
     "metadata": {},
     "output_type": "execute_result"
    }
   ],
   "source": [
    "solve(Eq0.subs({x:2*5**(2/3) , y:2*5**(2/3) }),z)"
   ]
  },
  {
   "cell_type": "code",
   "execution_count": 38,
   "id": "567d4929",
   "metadata": {},
   "outputs": [
    {
     "data": {
      "image/png": "[encoded data removed]",
      "text/latex": [
       "$\\displaystyle 102.598556800602$"
      ],
      "text/plain": [
       "102.598556800602"
      ]
     },
     "execution_count": 38,
     "metadata": {},
     "output_type": "execute_result"
    }
   ],
   "source": [
    "Eq6 = Eq1.subs({x:2*5**(2/3), y:2*5**(2/3),z: 2.9240})\n",
    "Eq6"
   ]
  },
  {
   "cell_type": "markdown",
   "id": "2ed49c3e",
   "metadata": {},
   "source": [
    "# Question 4 Mobius"
   ]
  },
  {
   "cell_type": "code",
   "execution_count": 46,
   "id": "74a821ad",
   "metadata": {},
   "outputs": [
    {
     "data": {
      "image/png": "[encoded data removed]",
      "text/latex": [
       "$\\displaystyle 4 x^{2} y - 40 x y - 12 x + 84 y$"
      ],
      "text/plain": [
       "   2                         \n",
       "4⋅x ⋅y - 40⋅x⋅y - 12⋅x + 84⋅y"
      ]
     },
     "execution_count": 46,
     "metadata": {},
     "output_type": "execute_result"
    }
   ],
   "source": [
    "x, y, z = symbols('x y z')\n",
    "z= 4*x**2*y -40*x*y + 84*y -12*x\n",
    "z"
   ]
  },
  {
   "cell_type": "code",
   "execution_count": 48,
   "id": "98cca116",
   "metadata": {},
   "outputs": [
    {
     "data": {
      "image/png": "[encoded data removed]",
      "text/latex": [
       "$\\displaystyle 8 x y - 40 y - 12$"
      ],
      "text/plain": [
       "8⋅x⋅y - 40⋅y - 12"
      ]
     },
     "execution_count": 48,
     "metadata": {},
     "output_type": "execute_result"
    }
   ],
   "source": [
    "dzdx = z.diff(x)\n",
    "dzdy = z.diff(y)\n"
   ]
  },
  {
   "cell_type": "code",
   "execution_count": 49,
   "id": "2be71d2c",
   "metadata": {},
   "outputs": [
    {
     "data": {
      "image/png": "[encoded data removed]",
      "text/latex": [
       "$\\displaystyle 8 x y - 40 y - 12$"
      ],
      "text/plain": [
       "8⋅x⋅y - 40⋅y - 12"
      ]
     },
     "execution_count": 49,
     "metadata": {},
     "output_type": "execute_result"
    }
   ],
   "source": [
    "dzdx"
   ]
  },
  {
   "cell_type": "code",
   "execution_count": 50,
   "id": "4c0d8991",
   "metadata": {},
   "outputs": [
    {
     "data": {
      "image/png": "[encoded data removed]",
      "text/latex": [
       "$\\displaystyle 4 x^{2} - 40 x + 84$"
      ],
      "text/plain": [
       "   2            \n",
       "4⋅x  - 40⋅x + 84"
      ]
     },
     "execution_count": 50,
     "metadata": {},
     "output_type": "execute_result"
    }
   ],
   "source": [
    "dzdy"
   ]
  },
  {
   "cell_type": "code",
   "execution_count": 51,
   "id": "6bfcc867",
   "metadata": {},
   "outputs": [
    {
     "data": {
      "image/png": "[encoded data removed]",
      "text/latex": [
       "$\\displaystyle \\left[ \\left( 3, \\  - \\frac{3}{4}\\right), \\  \\left( 7, \\  \\frac{3}{4}\\right)\\right]$"
      ],
      "text/plain": [
       "[(3, -3/4), (7, 3/4)]"
      ]
     },
     "execution_count": 51,
     "metadata": {},
     "output_type": "execute_result"
    }
   ],
   "source": [
    "Cvals = solve([dzdx, dzdy], [x,y])\n",
    "Cvals"
   ]
  },
  {
   "cell_type": "code",
   "execution_count": 52,
   "id": "ffe928c1",
   "metadata": {},
   "outputs": [
    {
     "data": {
      "image/png": "[encoded data removed]",
      "text/latex": [
       "$\\displaystyle - 64 \\left(x - 5\\right)^{2}$"
      ],
      "text/plain": [
       "           2\n",
       "-64⋅(x - 5) "
      ]
     },
     "execution_count": 52,
     "metadata": {},
     "output_type": "execute_result"
    }
   ],
   "source": [
    "d2zdx2 = z.diff(x, 2)\n",
    "d2zdy2 = z.diff(y, 2)\n",
    "d2zdxdy = z.diff(x, y)\n",
    "Delta = d2zdx2*d2zdy2 - d2zdxdy**2\n",
    "Delta"
   ]
  },
  {
   "cell_type": "code",
   "execution_count": 57,
   "id": "23251521",
   "metadata": {},
   "outputs": [
    {
     "data": {
      "image/png": "[encoded data removed]",
      "text/latex": [
       "$\\displaystyle -84$"
      ],
      "text/plain": [
       "-84"
      ]
     },
     "execution_count": 57,
     "metadata": {},
     "output_type": "execute_result"
    }
   ],
   "source": [
    "vel = z.subs({x:7, y:3/4})\n",
    "vel"
   ]
  },
  {
   "cell_type": "code",
   "execution_count": 58,
   "id": "3b72c8e9",
   "metadata": {},
   "outputs": [
    {
     "data": {
      "image/png": "[encoded data removed]",
      "text/latex": [
       "$\\displaystyle -36$"
      ],
      "text/plain": [
       "-36"
      ]
     },
     "execution_count": 58,
     "metadata": {},
     "output_type": "execute_result"
    }
   ],
   "source": [
    "vel = z.subs({x:3, y:-3/4})\n",
    "vel"
   ]
  },
  {
   "cell_type": "code",
   "execution_count": null,
   "id": "b7b418c5",
   "metadata": {},
   "outputs": [],
   "source": []
  }
 ],
 "metadata": {
  "kernelspec": {
   "display_name": "Python 3 (ipykernel)",
   "language": "python",
   "name": "python3"
  },
  "language_info": {
   "codemirror_mode": {
    "name": "ipython",
    "version": 3
   },
   "file_extension": ".py",
   "mimetype": "text/x-python",
   "name": "python",
   "nbconvert_exporter": "python",
   "pygments_lexer": "ipython3",
   "version": "3.9.7"
  }
 },
 "nbformat": 4,
 "nbformat_minor": 5
}
