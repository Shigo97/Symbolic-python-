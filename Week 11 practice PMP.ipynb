{
 "cells": [
  {
   "cell_type": "code",
   "execution_count": 1,
   "id": "f8cd3f80-0994-4214-b906-9315e5894cae",
   "metadata": {},
   "outputs": [],
   "source": [
    "from sympy import *\n",
    "init_printing()\n",
    "lam, x, y = symbols('lambda x y')\n",
    "A = Matrix([[S(-64)/11, S(3)/11], [S(72)/11, S(-79)/11]])"
   ]
  },
  {
   "cell_type": "code",
   "execution_count": 8,
   "id": "22c3e282-94b9-4239-807c-939ce84cc8d7",
   "metadata": {},
   "outputs": [
    {
     "data": {
      "image/png": "[encoded data removed]",
      "text/latex": [
       "$\\displaystyle \\left\\{ -8 : 1, \\  -5 : 1\\right\\}$"
      ],
      "text/plain": [
       "{-8: 1, -5: 1}"
      ]
     },
     "execution_count": 8,
     "metadata": {},
     "output_type": "execute_result"
    }
   ],
   "source": [
    "A.eigenvals()"
   ]
  },
  {
   "cell_type": "code",
   "execution_count": 3,
   "id": "e7eb6ec7-e206-4ab4-b4a2-def106780f32",
   "metadata": {},
   "outputs": [
    {
     "data": {
      "text/latex": [
       "$\\displaystyle \\left[ \\left( -8, \\  1, \\  \\left[ \\left[\\begin{matrix}- \\frac{1}{8}\\\\1\\end{matrix}\\right]\\right]\\right), \\  \\left( -5, \\  1, \\  \\left[ \\left[\\begin{matrix}\\frac{1}{3}\\\\1\\end{matrix}\\right]\\right]\\right)\\right]$"
      ],
      "text/plain": [
       "⎡⎛       ⎡⎡-1/8⎤⎤⎞  ⎛       ⎡⎡1/3⎤⎤⎞⎤\n",
       "⎢⎜-8, 1, ⎢⎢    ⎥⎥⎟, ⎜-5, 1, ⎢⎢   ⎥⎥⎟⎥\n",
       "⎣⎝       ⎣⎣ 1  ⎦⎦⎠  ⎝       ⎣⎣ 1 ⎦⎦⎠⎦"
      ]
     },
     "execution_count": 3,
     "metadata": {},
     "output_type": "execute_result"
    }
   ],
   "source": [
    "eigVec = A.eigenvects()\n",
    "eigVec"
   ]
  },
  {
   "cell_type": "code",
   "execution_count": 4,
   "id": "37ea0acd-6dc0-44eb-89ec-9b94365a07fd",
   "metadata": {},
   "outputs": [
    {
     "data": {
      "image/png": "[encoded data removed]",
      "text/latex": [
       "$\\displaystyle \\operatorname{PurePoly}{\\left( \\lambda^{2} + 13 \\lambda + 40, \\lambda, domain=\\mathbb{Z} \\right)}$"
      ],
      "text/plain": [
       "PurePoly(lambda**2 + 13*lambda + 40, lambda, domain='ZZ')"
      ]
     },
     "execution_count": 4,
     "metadata": {},
     "output_type": "execute_result"
    }
   ],
   "source": [
    "p = A.charpoly(lam)\n",
    "p"
   ]
  },
  {
   "cell_type": "code",
   "execution_count": null,
   "id": "0ae60637-d722-4661-8830-73cf23c13453",
   "metadata": {},
   "outputs": [],
   "source": []
  },
  {
   "cell_type": "code",
   "execution_count": 5,
   "id": "5441577d-41cb-4645-9754-0d2677dccf08",
   "metadata": {},
   "outputs": [
    {
     "data": {
      "text/plain": [
       "\"PurePoly(lambda**2 + 13*lambda + 40, lambda, domain='ZZ')\""
      ]
     },
     "execution_count": 5,
     "metadata": {},
     "output_type": "execute_result"
    }
   ],
   "source": [
    "str(p)"
   ]
  },
  {
   "cell_type": "code",
   "execution_count": 6,
   "id": "3d098f21-7438-417c-bff2-099107c8f9b1",
   "metadata": {},
   "outputs": [],
   "source": [
    "#  Questin 1 of Several variable and PDE mobius assignment\n",
    "# The value of  z  is calculated from the following formula:\n",
    "# z=(4a+21b)(10a+6b) \n",
    "# a  is increased by 0.8%\n",
    "# b  is increased by 3.1% of  a \n",
    "# Using partial differentiation, find an expression for the percentage change in  z  in terms of  a  and  b .\n",
    "# b  is measured as 22.\n",
    "# What non-zero value of  a  would result in a zero percentage change in  z  "
   ]
  },
  {
   "cell_type": "code",
   "execution_count": 7,
   "id": "c4d62d2b-3623-40a9-839d-df8143899c59",
   "metadata": {},
   "outputs": [],
   "source": [
    "from sympy import *\n",
    "init_printing()\n",
    "( q, h, x, y, ) = symbols('q h x y')\n",
    "x = Function('x')(h)\n",
    "y = Function('y')(h)\n",
    "dxdh = h.diff(x, 0)\n",
    "dydh = h.diff(y, 0)"
   ]
  },
  {
   "cell_type": "code",
   "execution_count": 4,
   "id": "8d605da0-f3d4-4f4d-b61f-fe0c8c8c7a30",
   "metadata": {},
   "outputs": [
    {
     "name": "stderr",
     "output_type": "stream",
     "text": [
      "D:\\Anaconda3\\lib\\site-packages\\sympy\\core\\relational.py:495: SymPyDeprecationWarning: \n",
      "\n",
      "Eq(expr) with rhs default to 0 has been deprecated since SymPy 1.5.\n",
      "Use Eq(expr, 0) instead. See\n",
      "https://github.com/sympy/sympy/issues/16587 for more info.\n",
      "\n",
      "  SymPyDeprecationWarning(\n",
      "D:\\Anaconda3\\lib\\site-packages\\IPython\\lib\\latextools.py:126: MatplotlibDeprecationWarning: \n",
      "The to_png function was deprecated in Matplotlib 3.4 and will be removed two minor releases later. Use mathtext.math_to_image instead.\n",
      "  mt.to_png(f, s, fontsize=12, dpi=dpi, color=color)\n",
      "D:\\Anaconda3\\lib\\site-packages\\IPython\\lib\\latextools.py:126: MatplotlibDeprecationWarning: \n",
      "The to_rgba function was deprecated in Matplotlib 3.4 and will be removed two minor releases later. Use mathtext.math_to_image instead.\n",
      "  mt.to_png(f, s, fontsize=12, dpi=dpi, color=color)\n",
      "D:\\Anaconda3\\lib\\site-packages\\IPython\\lib\\latextools.py:126: MatplotlibDeprecationWarning: \n",
      "The to_mask function was deprecated in Matplotlib 3.4 and will be removed two minor releases later. Use mathtext.math_to_image instead.\n",
      "  mt.to_png(f, s, fontsize=12, dpi=dpi, color=color)\n",
      "D:\\Anaconda3\\lib\\site-packages\\IPython\\lib\\latextools.py:126: MatplotlibDeprecationWarning: \n",
      "The MathtextBackendBitmap class was deprecated in Matplotlib 3.4 and will be removed two minor releases later. Use mathtext.math_to_image instead.\n",
      "  mt.to_png(f, s, fontsize=12, dpi=dpi, color=color)\n"
     ]
    },
    {
     "data": {
      "image/png": "[encoded data removed]",
      "text/latex": [
       "$\\displaystyle \\frac{q}{54 h^{5}} = 0$"
      ],
      "text/plain": [
       "  q      \n",
       "───── = 0\n",
       "    5    \n",
       "54⋅h     "
      ]
     },
     "execution_count": 4,
     "metadata": {},
     "output_type": "execute_result"
    }
   ],
   "source": [
    "Eq1 = Eq( q*h / ( h**2 + dxdh**2 + dydh**2 )**3/2)\n",
    "Eq1"
   ]
  },
  {
   "cell_type": "code",
   "execution_count": null,
   "id": "73e3da6d-a927-403b-9e9a-e7b4798704c7",
   "metadata": {},
   "outputs": [],
   "source": [
    "# Question 2 error estimation mobius\n",
    "from sympy import *\n",
    "init_printing()\n",
    "(z, a, b) = symbols('z a b')"
   ]
  }
 ],
 "metadata": {
  "kernelspec": {
   "display_name": "Python 3 (ipykernel)",
   "language": "python",
   "name": "python3"
  },
  "language_info": {
   "codemirror_mode": {
    "name": "ipython",
    "version": 3
   },
   "file_extension": ".py",
   "mimetype": "text/x-python",
   "name": "python",
   "nbconvert_exporter": "python",
   "pygments_lexer": "ipython3",
   "version": "3.9.7"
  }
 },
 "nbformat": 4,
 "nbformat_minor": 5
}
