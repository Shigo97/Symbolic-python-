{
 "cells": [
  {
   "cell_type": "markdown",
   "metadata": {},
   "source": [
    "# Pre Masters Maths 6601PMEC"
   ]
  },
  {
   "cell_type": "markdown",
   "metadata": {},
   "source": [
    "## Examples of Using SymPy for Complex Numbers"
   ]
  },
  {
   "cell_type": "markdown",
   "metadata": {},
   "source": [
    "1.  Find the two complex solutions of the equation $x^2 + x + 2 = 0$"
   ]
  },
  {
   "cell_type": "code",
   "execution_count": 1,
   "metadata": {},
   "outputs": [],
   "source": [
    "from sympy import * \n",
    "init_printing()\n",
    "x = symbols('x')"
   ]
  },
  {
   "cell_type": "code",
   "execution_count": 2,
   "metadata": {},
   "outputs": [
    {
     "data": {
      "image/png": "[encoded data removed]",
      "text/latex": [
       "$\\displaystyle \\left[ - \\frac{1}{2} - \\frac{\\sqrt{7} i}{2}, \\  - \\frac{1}{2} + \\frac{\\sqrt{7} i}{2}\\right]$"
      ],
      "text/plain": [
       "⎡  1   √7⋅ⅈ    1   √7⋅ⅈ⎤\n",
       "⎢- ─ - ────, - ─ + ────⎥\n",
       "⎣  2    2      2    2  ⎦"
      ]
     },
     "execution_count": 2,
     "metadata": {},
     "output_type": "execute_result"
    }
   ],
   "source": [
    "solve(x**2 + x + 2)"
   ]
  },
  {
   "cell_type": "markdown",
   "metadata": {},
   "source": [
    "2.  Find $z_1 + z_2$, $z_1 - z_2$, $z_1 z_2$, $\\dfrac{z_1}{z_2}$, $\\dfrac{z_2}{z_1}$ for each of the following values of $z_1$ and $z_2$:   \n",
    "  i)  $z_1 = 1 + j \\quad z_2 = 2 - 3j$"
   ]
  },
  {
   "cell_type": "code",
   "execution_count": 3,
   "metadata": {},
   "outputs": [],
   "source": [
    "z1 = 1 + I\n",
    "z2 = 2 - 3*I"
   ]
  },
  {
   "cell_type": "code",
   "execution_count": 4,
   "metadata": {},
   "outputs": [
    {
     "data": {
      "image/png": "[encoded data removed]",
      "text/latex": [
       "$\\displaystyle 3 - 2 i$"
      ],
      "text/plain": [
       "3 - 2⋅ⅈ"
      ]
     },
     "execution_count": 4,
     "metadata": {},
     "output_type": "execute_result"
    }
   ],
   "source": [
    "z1 + z2"
   ]
  },
  {
   "cell_type": "code",
   "execution_count": 5,
   "metadata": {},
   "outputs": [
    {
     "data": {
      "image/png": "[encoded data removed]",
      "text/latex": [
       "$\\displaystyle -1 + 4 i$"
      ],
      "text/plain": [
       "-1 + 4⋅ⅈ"
      ]
     },
     "execution_count": 5,
     "metadata": {},
     "output_type": "execute_result"
    }
   ],
   "source": [
    "z1 - z2"
   ]
  },
  {
   "cell_type": "code",
   "execution_count": 7,
   "metadata": {},
   "outputs": [
    {
     "data": {
      "image/png": "[encoded data removed]",
      "text/latex": [
       "$\\displaystyle 5 - i$"
      ],
      "text/plain": [
       "5 - ⅈ"
      ]
     },
     "execution_count": 7,
     "metadata": {},
     "output_type": "execute_result"
    }
   ],
   "source": [
    "expand(z1 * z2)"
   ]
  },
  {
   "cell_type": "code",
   "execution_count": 9,
   "metadata": {},
   "outputs": [
    {
     "data": {
      "image/png": "[encoded data removed]",
      "text/latex": [
       "$\\displaystyle - \\frac{1}{13} + \\frac{5 i}{13}$"
      ],
      "text/plain": [
       "  1    5⋅ⅈ\n",
       "- ── + ───\n",
       "  13    13"
      ]
     },
     "execution_count": 9,
     "metadata": {},
     "output_type": "execute_result"
    }
   ],
   "source": [
    "expand(z1 / z2)"
   ]
  },
  {
   "cell_type": "code",
   "execution_count": 10,
   "metadata": {},
   "outputs": [
    {
     "data": {
      "image/png": "[encoded data removed]",
      "text/latex": [
       "$\\displaystyle - \\frac{1}{2} - \\frac{5 i}{2}$"
      ],
      "text/plain": [
       "  1   5⋅ⅈ\n",
       "- ─ - ───\n",
       "  2    2 "
      ]
     },
     "execution_count": 10,
     "metadata": {},
     "output_type": "execute_result"
    }
   ],
   "source": [
    "expand(z2 / z1)"
   ]
  },
  {
   "cell_type": "markdown",
   "metadata": {},
   "source": [
    "3.  If $z_1 = 1 + j$ ohm and $z_2 = 3 + 4j$ ohm are impedances connected in parallel in a circuit, find the total impedance $Z$ in the circuit given that $\\dfrac{1}{Z} = \\dfrac{1}{z_1} + \\dfrac{1}{z_2}$"
   ]
  },
  {
   "cell_type": "code",
   "execution_count": 12,
   "metadata": {},
   "outputs": [
    {
     "data": {
      "image/png": "[encoded data removed]",
      "text/latex": [
       "$\\displaystyle \\left[ \\frac{31}{41} + \\frac{33 i}{41}\\right]$"
      ],
      "text/plain": [
       "⎡31   33⋅ⅈ⎤\n",
       "⎢── + ────⎥\n",
       "⎣41    41 ⎦"
      ]
     },
     "execution_count": 12,
     "metadata": {},
     "output_type": "execute_result"
    }
   ],
   "source": [
    "z1 = 1 + I\n",
    "z2 = 3 + 4*I\n",
    "Z = symbols('Z')\n",
    "eq = Eq(1/Z, 1/z1 + 1/z2)\n",
    "solve(eq, Z)"
   ]
  },
  {
   "cell_type": "markdown",
   "metadata": {},
   "source": [
    "Find the polar form of the following complex numbers:  \n",
    "  1.  $1 + j$"
   ]
  },
  {
   "cell_type": "markdown",
   "metadata": {},
   "source": [
    "The _abs_ command can be used to find the modulus of the complex number."
   ]
  },
  {
   "cell_type": "code",
   "execution_count": 2,
   "metadata": {},
   "outputs": [
    {
     "data": {
      "image/png": "[encoded data removed]",
      "text/latex": [
       "$\\displaystyle \\sqrt{2}$"
      ],
      "text/plain": [
       "√2"
      ]
     },
     "execution_count": 2,
     "metadata": {},
     "output_type": "execute_result"
    }
   ],
   "source": [
    "eq = 1 + I\n",
    "abs(eq)"
   ]
  },
  {
   "cell_type": "markdown",
   "metadata": {},
   "source": [
    "The _arg_ command can be used to find the argument of the complex number."
   ]
  },
  {
   "cell_type": "code",
   "execution_count": 3,
   "metadata": {},
   "outputs": [
    {
     "data": {
      "image/png": "[encoded data removed]",
      "text/latex": [
       "$\\displaystyle \\frac{\\pi}{4}$"
      ],
      "text/plain": [
       "π\n",
       "─\n",
       "4"
      ]
     },
     "execution_count": 3,
     "metadata": {},
     "output_type": "execute_result"
    }
   ],
   "source": [
    "arg(eq)"
   ]
  },
  {
   "cell_type": "markdown",
   "metadata": {},
   "source": [
    "Find the cartesian form of the following complex numbers:  \n",
    "  1.  $2.236 ( \\cos(2.678) + j \\sin(2.678) )$"
   ]
  },
  {
   "cell_type": "code",
   "execution_count": 4,
   "metadata": {},
   "outputs": [
    {
     "data": {
      "image/png": "[encoded data removed]",
      "text/latex": [
       "$\\displaystyle -2.0 + 1.0 i$"
      ],
      "text/plain": [
       "-2.0 + 1.0⋅ⅈ"
      ]
     },
     "execution_count": 4,
     "metadata": {},
     "output_type": "execute_result"
    }
   ],
   "source": [
    "N( 2.236 * ( cos(2.678) + I * sin(2.678) ), 3 )"
   ]
  },
  {
   "cell_type": "markdown",
   "metadata": {},
   "source": [
    "Find all roots of the following equations:  \n",
    "  1.  $z^3 = 1$"
   ]
  },
  {
   "cell_type": "code",
   "execution_count": 5,
   "metadata": {},
   "outputs": [],
   "source": [
    "z = symbols('z')"
   ]
  },
  {
   "cell_type": "code",
   "execution_count": 6,
   "metadata": {},
   "outputs": [
    {
     "data": {
      "image/png": "[encoded data removed]",
      "text/latex": [
       "$\\displaystyle \\left[ 1, \\  - \\frac{1}{2} - \\frac{\\sqrt{3} i}{2}, \\  - \\frac{1}{2} + \\frac{\\sqrt{3} i}{2}\\right]$"
      ],
      "text/plain": [
       "⎡     1   √3⋅ⅈ    1   √3⋅ⅈ⎤\n",
       "⎢1, - ─ - ────, - ─ + ────⎥\n",
       "⎣     2    2      2    2  ⎦"
      ]
     },
     "execution_count": 6,
     "metadata": {},
     "output_type": "execute_result"
    }
   ],
   "source": [
    "solve(z**3 - 1)"
   ]
  },
  {
   "cell_type": "markdown",
   "metadata": {},
   "source": [
    "  2.  $z^4 = j$"
   ]
  },
  {
   "cell_type": "code",
   "execution_count": 7,
   "metadata": {},
   "outputs": [
    {
     "data": {
      "image/png": "[encoded data removed]",
      "text/latex": [
       "$\\displaystyle \\left[ - \\sqrt{\\frac{1}{2} - \\frac{\\sqrt{2}}{4}} + i \\sqrt{\\frac{\\sqrt{2}}{4} + \\frac{1}{2}}, \\  \\sqrt{\\frac{1}{2} - \\frac{\\sqrt{2}}{4}} - i \\sqrt{\\frac{\\sqrt{2}}{4} + \\frac{1}{2}}, \\  - \\sqrt{\\frac{\\sqrt{2}}{4} + \\frac{1}{2}} - i \\sqrt{\\frac{1}{2} - \\frac{\\sqrt{2}}{4}}, \\  \\sqrt{\\frac{\\sqrt{2}}{4} + \\frac{1}{2}} + i \\sqrt{\\frac{1}{2} - \\frac{\\sqrt{2}}{4}}\\right]$"
      ],
      "text/plain": [
       "⎡      ________         ________      ________         ________        _______\n",
       "⎢     ╱ 1   √2         ╱ √2   1      ╱ 1   √2         ╱ √2   1        ╱ √2   1\n",
       "⎢-   ╱  ─ - ──  + ⅈ⋅  ╱  ── + ─ ,   ╱  ─ - ──  - ⅈ⋅  ╱  ── + ─ , -   ╱  ── + ─\n",
       "⎣  ╲╱   2   4       ╲╱   4    2   ╲╱   2   4       ╲╱   4    2     ╲╱   4    2\n",
       "\n",
       "_         ________      ________         ________⎤\n",
       "         ╱ 1   √2      ╱ √2   1         ╱ 1   √2 ⎥\n",
       "  - ⅈ⋅  ╱  ─ - ── ,   ╱  ── + ─  + ⅈ⋅  ╱  ─ - ── ⎥\n",
       "      ╲╱   2   4    ╲╱   4    2      ╲╱   2   4  ⎦"
      ]
     },
     "execution_count": 7,
     "metadata": {},
     "output_type": "execute_result"
    }
   ],
   "source": [
    "solve(z**4 - I)"
   ]
  },
  {
   "cell_type": "markdown",
   "metadata": {},
   "source": [
    "or the numerical solution..."
   ]
  },
  {
   "cell_type": "code",
   "execution_count": 8,
   "metadata": {},
   "outputs": [
    {
     "data": {
      "image/png": "[encoded data removed]",
      "text/latex": [
       "$\\displaystyle \\left\\{-0.923879532511287 - 0.38268343236509 i, -0.38268343236509 + 0.923879532511287 i, 0.38268343236509 - 0.923879532511287 i, 0.923879532511287 + 0.38268343236509 i\\right\\}$"
      ],
      "text/plain": [
       "{-0.923879532511287 - 0.38268343236509⋅ⅈ, -0.38268343236509 + 0.92387953251128\n",
       "7⋅ⅈ, 0.38268343236509 - 0.923879532511287⋅ⅈ, 0.923879532511287 + 0.38268343236\n",
       "509⋅ⅈ}"
      ]
     },
     "execution_count": 8,
     "metadata": {},
     "output_type": "execute_result"
    }
   ],
   "source": [
    "solveset(z**4 - I).n()"
   ]
  },
  {
   "cell_type": "markdown",
   "metadata": {},
   "source": [
    "***   \n",
    "  \n",
    "by Dr J T Wharton\n",
    "\n",
    "***"
   ]
  }
 ],
 "metadata": {
  "kernelspec": {
   "display_name": "Python 3 (ipykernel)",
   "language": "python",
   "name": "python3"
  },
  "language_info": {
   "codemirror_mode": {
    "name": "ipython",
    "version": 3
   },
   "file_extension": ".py",
   "mimetype": "text/x-python",
   "name": "python",
   "nbconvert_exporter": "python",
   "pygments_lexer": "ipython3",
   "version": "3.9.7"
  }
 },
 "nbformat": 4,
 "nbformat_minor": 4
}
