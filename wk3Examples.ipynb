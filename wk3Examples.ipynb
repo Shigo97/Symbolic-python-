{
 "cells": [
  {
   "cell_type": "markdown",
   "metadata": {},
   "source": [
    "# Pre-Masters Maths 6601PMEC"
   ]
  },
  {
   "cell_type": "markdown",
   "metadata": {},
   "source": [
    "## Week 3 - 2nd Order ODES"
   ]
  },
  {
   "cell_type": "markdown",
   "metadata": {},
   "source": [
    " __1. Obtain the general solutions, that is, the complementary functions, of the folowing homogeneous equations:__  \n",
    "    (a) $\\dfrac{d^2y}{dx^2} - 3 \\dfrac{dy}{dx} + 2y = 0$"
   ]
  },
  {
   "cell_type": "code",
   "execution_count": 19,
   "metadata": {},
   "outputs": [],
   "source": [
    "from sympy import *\n",
    "init_printing()\n",
    "x,t = symbols('x t')\n",
    "C1 = Symbol('C1')\n",
    "C2 = Symbol('C2')\n",
    "y = Function('y')(x)\n",
    "dydx=y.diff(x)\n",
    "d2ydx2=y.diff(x,2)"
   ]
  },
  {
   "cell_type": "code",
   "execution_count": 20,
   "metadata": {},
   "outputs": [
    {
     "data": {
      "image/png": "[encoded data removed]",
      "text/latex": [
       "$$2 y{\\left (x \\right )} - 3 \\frac{d}{d x} y{\\left (x \\right )} + \\frac{d^{2}}{d x^{2}} y{\\left (x \\right )}$$"
      ],
      "text/plain": [
       "                        2      \n",
       "           d           d       \n",
       "2⋅y(x) - 3⋅──(y(x)) + ───(y(x))\n",
       "           dx           2      \n",
       "                      dx       "
      ]
     },
     "execution_count": 20,
     "metadata": {},
     "output_type": "execute_result"
    }
   ],
   "source": [
    "Eq1 = d2ydx2 - 3*dydx + 2*y\n",
    "Eq1"
   ]
  },
  {
   "cell_type": "code",
   "execution_count": 21,
   "metadata": {},
   "outputs": [
    {
     "data": {
      "image/png": "[encoded data removed]",
      "text/latex": [
       "$$y{\\left (x \\right )} = C_{1} e^{x} + C_{2} e^{2 x}$$"
      ],
      "text/plain": [
       "           x       2⋅x\n",
       "y(x) = C₁⋅ℯ  + C₂⋅ℯ   "
      ]
     },
     "execution_count": 21,
     "metadata": {},
     "output_type": "execute_result"
    }
   ],
   "source": [
    "expand( dsolve(Eq1, y) )"
   ]
  },
  {
   "cell_type": "markdown",
   "metadata": {},
   "source": [
    "b) $\\dfrac{d^2 y}{dx^2} + 7 \\dfrac{dy}{dx} + 6y = 0$"
   ]
  },
  {
   "cell_type": "code",
   "execution_count": 22,
   "metadata": {},
   "outputs": [
    {
     "data": {
      "image/png": "[encoded data removed]",
      "text/latex": [
       "$$6 y{\\left (x \\right )} + 7 \\frac{d}{d x} y{\\left (x \\right )} + \\frac{d^{2}}{d x^{2}} y{\\left (x \\right )}$$"
      ],
      "text/plain": [
       "                        2      \n",
       "           d           d       \n",
       "6⋅y(x) + 7⋅──(y(x)) + ───(y(x))\n",
       "           dx           2      \n",
       "                      dx       "
      ]
     },
     "execution_count": 22,
     "metadata": {},
     "output_type": "execute_result"
    }
   ],
   "source": [
    "Eq2 = d2ydx2 + 7*dydx + 6*y\n",
    "Eq2"
   ]
  },
  {
   "cell_type": "code",
   "execution_count": 23,
   "metadata": {},
   "outputs": [
    {
     "data": {
      "image/png": "[encoded data removed]",
      "text/latex": [
       "$$y{\\left (x \\right )} = C_{1} e^{- x} + C_{2} e^{- 6 x}$$"
      ],
      "text/plain": [
       "           -x       -6⋅x\n",
       "y(x) = C₁⋅ℯ   + C₂⋅ℯ    "
      ]
     },
     "execution_count": 23,
     "metadata": {},
     "output_type": "execute_result"
    }
   ],
   "source": [
    "expand( dsolve(Eq2, y) )"
   ]
  },
  {
   "cell_type": "markdown",
   "metadata": {},
   "source": [
    "__4. Find the general solution of the following equations:__  "
   ]
  },
  {
   "cell_type": "markdown",
   "metadata": {},
   "source": [
    "b) $\\dfrac{d^2 y}{dx^2} + 5 \\dfrac{dy}{dx} + 4y = 8$"
   ]
  },
  {
   "cell_type": "code",
   "execution_count": 24,
   "metadata": {},
   "outputs": [
    {
     "data": {
      "image/png": "[encoded data removed]",
      "text/latex": [
       "$$4 y{\\left (x \\right )} + 5 \\frac{d}{d x} y{\\left (x \\right )} + \\frac{d^{2}}{d x^{2}} y{\\left (x \\right )} = 8$$"
      ],
      "text/plain": [
       "                        2          \n",
       "           d           d           \n",
       "4⋅y(x) + 5⋅──(y(x)) + ───(y(x)) = 8\n",
       "           dx           2          \n",
       "                      dx           "
      ]
     },
     "execution_count": 24,
     "metadata": {},
     "output_type": "execute_result"
    }
   ],
   "source": [
    "Eq3 = Eq(d2ydx2 + 5*dydx + 4*y, 8)\n",
    "Eq3"
   ]
  },
  {
   "cell_type": "code",
   "execution_count": 25,
   "metadata": {},
   "outputs": [
    {
     "data": {
      "image/png": "[encoded data removed]",
      "text/latex": [
       "$$y{\\left (x \\right )} = C_{1} e^{- 4 x} + C_{2} e^{- x} + 2$$"
      ],
      "text/plain": [
       "           -4⋅x       -x    \n",
       "y(x) = C₁⋅ℯ     + C₂⋅ℯ   + 2"
      ]
     },
     "execution_count": 25,
     "metadata": {},
     "output_type": "execute_result"
    }
   ],
   "source": [
    "dsolve(Eq3, y)"
   ]
  },
  {
   "cell_type": "markdown",
   "metadata": {},
   "source": [
    "__8. Obtain the general solution of the equation__ $ \\dfrac{d^2 y}{dx^2} +3 \\dfrac{dy}{dx} +2y = 10 \\cos(2x)$ __. Find the particular solution satisfying__ $y(0)=1, \\, \\dfrac{dy}{dx}(0)=0.$"
   ]
  },
  {
   "cell_type": "code",
   "execution_count": 26,
   "metadata": {},
   "outputs": [
    {
     "data": {
      "image/png": "[encoded data removed]",
      "text/latex": [
       "$$2 y{\\left (x \\right )} + 3 \\frac{d}{d x} y{\\left (x \\right )} + \\frac{d^{2}}{d x^{2}} y{\\left (x \\right )} = 10 \\cos{\\left (2 x \\right )}$$"
      ],
      "text/plain": [
       "                        2                    \n",
       "           d           d                     \n",
       "2⋅y(x) + 3⋅──(y(x)) + ───(y(x)) = 10⋅cos(2⋅x)\n",
       "           dx           2                    \n",
       "                      dx                     "
      ]
     },
     "execution_count": 26,
     "metadata": {},
     "output_type": "execute_result"
    }
   ],
   "source": [
    "Eq4 = Eq( d2ydx2 + 3*dydx + 2*y, 10*cos(2*x))\n",
    "Eq4"
   ]
  },
  {
   "cell_type": "markdown",
   "metadata": {},
   "source": [
    "Solve for the general solution..."
   ]
  },
  {
   "cell_type": "code",
   "execution_count": 27,
   "metadata": {},
   "outputs": [
    {
     "data": {
      "image/png": "[encoded data removed]",
      "text/latex": [
       "$$y{\\left (x \\right )} = C_{1} e^{- 2 x} + C_{2} e^{- x} + \\frac{3 \\sin{\\left (2 x \\right )}}{2} - \\frac{\\cos{\\left (2 x \\right )}}{2}$$"
      ],
      "text/plain": [
       "           -2⋅x       -x   3⋅sin(2⋅x)   cos(2⋅x)\n",
       "y(x) = C₁⋅ℯ     + C₂⋅ℯ   + ────────── - ────────\n",
       "                               2           2    "
      ]
     },
     "execution_count": 27,
     "metadata": {},
     "output_type": "execute_result"
    }
   ],
   "source": [
    "solEq4 = dsolve(Eq4, y)\n",
    "solEq4"
   ]
  },
  {
   "cell_type": "markdown",
   "metadata": {},
   "source": [
    "Substitute for the two known states:"
   ]
  },
  {
   "cell_type": "code",
   "execution_count": 28,
   "metadata": {},
   "outputs": [
    {
     "data": {
      "image/png": "[encoded data removed]",
      "text/latex": [
       "$$1 = C_{1} + C_{2} - \\frac{1}{2}$$"
      ],
      "text/plain": [
       "1 = C₁ + C₂ - 1/2"
      ]
     },
     "execution_count": 28,
     "metadata": {},
     "output_type": "execute_result"
    }
   ],
   "source": [
    "state1 = ( solEq4.subs(y, 1) ).subs(x, 0)\n",
    "state1"
   ]
  },
  {
   "cell_type": "code",
   "execution_count": 29,
   "metadata": {},
   "outputs": [
    {
     "data": {
      "image/png": "[encoded data removed]",
      "text/latex": [
       "$$- 2 C_{1} - C_{2} + 3$$"
      ],
      "text/plain": [
       "-2⋅C₁ - C₂ + 3"
      ]
     },
     "execution_count": 29,
     "metadata": {},
     "output_type": "execute_result"
    }
   ],
   "source": [
    "state2 = ( diff(solEq4.rhs, x) ).subs(x, 0)\n",
    "state2"
   ]
  },
  {
   "cell_type": "markdown",
   "metadata": {},
   "source": [
    "Solve the two equations simultaneously to obtain the values of the two constants."
   ]
  },
  {
   "cell_type": "code",
   "execution_count": 30,
   "metadata": {},
   "outputs": [
    {
     "data": {
      "image/png": "[encoded data removed]",
      "text/latex": [
       "$$\\left [ \\left \\{ C_{1} : \\frac{3}{2}, \\quad C_{2} : 0\\right \\}\\right ]$$"
      ],
      "text/plain": [
       "[{C₁: 3/2, C₂: 0}]"
      ]
     },
     "execution_count": 30,
     "metadata": {},
     "output_type": "execute_result"
    }
   ],
   "source": [
    "C = solve([state1, state2], [C1, C2], dict=True)\n",
    "C"
   ]
  },
  {
   "cell_type": "markdown",
   "metadata": {},
   "source": [
    "Substituting the constants into the general solution, resulting in the particular solution."
   ]
  },
  {
   "cell_type": "code",
   "execution_count": 31,
   "metadata": {},
   "outputs": [
    {
     "data": {
      "image/png": "[encoded data removed]",
      "text/latex": [
       "$$y{\\left (x \\right )} = \\frac{3 \\sin{\\left (2 x \\right )}}{2} - \\frac{\\cos{\\left (2 x \\right )}}{2} + \\frac{3 e^{- 2 x}}{2}$$"
      ],
      "text/plain": [
       "                                  -2⋅x\n",
       "       3⋅sin(2⋅x)   cos(2⋅x)   3⋅ℯ    \n",
       "y(x) = ────────── - ──────── + ───────\n",
       "           2           2          2   "
      ]
     },
     "execution_count": 31,
     "metadata": {},
     "output_type": "execute_result"
    }
   ],
   "source": [
    "solEq4.subs([(C1,C[0][C1]),(C2,C[0][C2])])"
   ]
  },
  {
   "cell_type": "markdown",
   "metadata": {},
   "source": [
    "***  \n",
    "  \n",
    "by Dr J T Wharton\n",
    "\n",
    "***"
   ]
  }
 ],
 "metadata": {
  "kernelspec": {
   "display_name": "Python 3 (ipykernel)",
   "language": "python",
   "name": "python3"
  },
  "language_info": {
   "codemirror_mode": {
    "name": "ipython",
    "version": 3
   },
   "file_extension": ".py",
   "mimetype": "text/x-python",
   "name": "python",
   "nbconvert_exporter": "python",
   "pygments_lexer": "ipython3",
   "version": "3.9.7"
  }
 },
 "nbformat": 4,
 "nbformat_minor": 4
}
