{
 "cells": [
  {
   "cell_type": "markdown",
   "metadata": {},
   "source": [
    "# Pre-Masters Maths 6601PMEC"
   ]
  },
  {
   "cell_type": "markdown",
   "metadata": {},
   "source": [
    "## Week 5 - Error Estimation"
   ]
  },
  {
   "cell_type": "markdown",
   "metadata": {},
   "source": [
    " __1. The moment of inertia, $I$, of a body is given by $\\dfrac{b d^{3}}{12}$ where $b$ and $d$ are dimensions of the body. If $b = 5\\text{m}$, $d = 0.8\\text{m}$ and the change in $b$ is $5\\text{cm}$ and that in $d$ is $0.8\\text{cm}$, find the approximate change in $I$.__ "
   ]
  },
  {
   "cell_type": "code",
   "execution_count": 1,
   "metadata": {},
   "outputs": [],
   "source": [
    "from sympy import *\n",
    "init_printing()\n",
    "b, d = symbols('b d')"
   ]
  },
  {
   "cell_type": "code",
   "execution_count": 2,
   "metadata": {},
   "outputs": [
    {
     "data": {
      "image/png": "[encoded data removed]",
      "text/latex": [
       "$$\\frac{b d^{3}}{12}$$"
      ],
      "text/plain": [
       "   3\n",
       "b⋅d \n",
       "────\n",
       " 12 "
      ]
     },
     "execution_count": 2,
     "metadata": {},
     "output_type": "execute_result"
    }
   ],
   "source": [
    "I = (b*d**3)/12\n",
    "I"
   ]
  },
  {
   "cell_type": "code",
   "execution_count": 3,
   "metadata": {},
   "outputs": [
    {
     "data": {
      "image/png": "[encoded data removed]",
      "text/latex": [
       "$$0.002 b d^{2} + 0.00416666666666667 d^{3}$$"
      ],
      "text/plain": [
       "         2                        3\n",
       "0.002⋅b⋅d  + 0.00416666666666667⋅d "
      ]
     },
     "execution_count": 3,
     "metadata": {},
     "output_type": "execute_result"
    }
   ],
   "source": [
    "dIdb = I.diff(b)\n",
    "dIdd = I.diff(d)\n",
    "db = 0.05\n",
    "dd = 0.008\n",
    "dI = dIdb*db + dIdd*dd\n",
    "dI"
   ]
  },
  {
   "cell_type": "markdown",
   "metadata": {},
   "source": [
    "Therefore the approximate error in $I$ is"
   ]
  },
  {
   "cell_type": "code",
   "execution_count": 6,
   "metadata": {},
   "outputs": [
    {
     "name": "stdout",
     "output_type": "stream",
     "text": [
      "0.00853333333333334 m^4\n"
     ]
    }
   ],
   "source": [
    "print(str(dI.subs([(b,5),(d,0.8)])) , 'm^4')"
   ]
  },
  {
   "cell_type": "markdown",
   "metadata": {},
   "source": [
    "__. The modulus of rigidity, $G$, of a shaft of length $L$ and radius $R$ is given by $G = \\dfrac{R^4 \\theta}{L}$ where $\\theta$ is the angle of twist. Find the approximate percentage change in $G$, if $R$ is reduced by $0.5\\%$, $\\theta$ is increased by $2\\%$ and $L$ is increased by $1.5\\%$.__  "
   ]
  },
  {
   "cell_type": "code",
   "execution_count": 7,
   "metadata": {},
   "outputs": [
    {
     "data": {
      "image/png": "[encoded data removed]",
      "text/latex": [
       "$$\\frac{R^{4} \\theta}{L}$$"
      ],
      "text/plain": [
       " 4  \n",
       "R ⋅θ\n",
       "────\n",
       " L  "
      ]
     },
     "execution_count": 7,
     "metadata": {},
     "output_type": "execute_result"
    }
   ],
   "source": [
    "R, th, L = symbols('R theta L')\n",
    "G = (R**4 * th)/L\n",
    "G"
   ]
  },
  {
   "cell_type": "code",
   "execution_count": 8,
   "metadata": {},
   "outputs": [
    {
     "data": {
      "image/png": "[encoded data removed]",
      "text/latex": [
       "$$- \\frac{0.015 R^{4} \\theta}{L}$$"
      ],
      "text/plain": [
       "        4   \n",
       "-0.015⋅R ⋅θ \n",
       "────────────\n",
       "     L      "
      ]
     },
     "execution_count": 8,
     "metadata": {},
     "output_type": "execute_result"
    }
   ],
   "source": [
    "dGdR = G.diff(R)\n",
    "dGdth = G.diff(th)\n",
    "dGdL = G.diff(L)\n",
    "dR = (-0.5/100)*R\n",
    "dth = (2/100)*th\n",
    "dL = (1.5/100)*L\n",
    "dG = dGdR*dR + dGdth*dth + dGdL*dL\n",
    "dG"
   ]
  },
  {
   "cell_type": "markdown",
   "metadata": {},
   "source": [
    "Therefore the approximate percentage change in $G$ is"
   ]
  },
  {
   "cell_type": "code",
   "execution_count": 9,
   "metadata": {},
   "outputs": [
    {
     "name": "stdout",
     "output_type": "stream",
     "text": [
      "-1.50000000000000 %\n"
     ]
    }
   ],
   "source": [
    "print(str(100*(dG/G)), '%')"
   ]
  },
  {
   "cell_type": "markdown",
   "metadata": {},
   "source": [
    "***  \n",
    "  \n",
    "by Dr J T Wharton\n",
    "\n",
    "***"
   ]
  }
 ],
 "metadata": {
  "kernelspec": {
   "display_name": "Python 3 (ipykernel)",
   "language": "python",
   "name": "python3"
  },
  "language_info": {
   "codemirror_mode": {
    "name": "ipython",
    "version": 3
   },
   "file_extension": ".py",
   "mimetype": "text/x-python",
   "name": "python",
   "nbconvert_exporter": "python",
   "pygments_lexer": "ipython3",
   "version": "3.9.7"
  }
 },
 "nbformat": 4,
 "nbformat_minor": 4
}
