{
 "cells": [
  {
   "cell_type": "markdown",
   "metadata": {},
   "source": [
    "# Pre-Masters Maths 6601PMEC"
   ]
  },
  {
   "cell_type": "markdown",
   "metadata": {},
   "source": [
    "## __Case Study 2: Vehicle Dynamics__"
   ]
  },
  {
   "cell_type": "markdown",
   "metadata": {},
   "source": [
    "A vehicle is brought to rest by a buffer stop. By applying Newton’s second law we obtain the second order differential equation\n",
    "$$ 2000 \\ddot{x} + 18000x + 5000 = 0$$\n",
    "where $x$ is the distance by which the buffer is compressed. Given the initial conditions, when $t=0$, both $x=0$ and $\\dot{x}=0$, find the expression for $x$ in terms of $t$.  \n",
    "(Remember that $\\dot{x}$ represents the first derivative with respect to time and $\\ddot{x}$ represents the second derivative with respect to time.)"
   ]
  },
  {
   "cell_type": "code",
   "execution_count": 2,
   "metadata": {},
   "outputs": [],
   "source": [
    "from sympy import *\n",
    "init_printing()\n",
    "t, C1, C2 = symbols('t, C1, C2')\n",
    "x = Function('x')(t)\n",
    "dxdt = x.diff(t)\n",
    "d2xdt2 = x.diff(t,2)"
   ]
  },
  {
   "cell_type": "code",
   "execution_count": 3,
   "metadata": {},
   "outputs": [
    {
     "data": {
      "image/png": "[encoded data removed]",
      "text/latex": [
       "$$18000 x{\\left (t \\right )} + 2000 \\frac{d^{2}}{d t^{2}} x{\\left (t \\right )} + 5000$$"
      ],
      "text/plain": [
       "                    2             \n",
       "                   d              \n",
       "18000⋅x(t) + 2000⋅───(x(t)) + 5000\n",
       "                    2             \n",
       "                  dt              "
      ]
     },
     "execution_count": 3,
     "metadata": {},
     "output_type": "execute_result"
    }
   ],
   "source": [
    "Eq1 = 2000*d2xdt2 + 18000*x + 5000\n",
    "Eq1"
   ]
  },
  {
   "cell_type": "markdown",
   "metadata": {},
   "source": [
    "__Solution__  \n",
    "Dividing the given differential equation by $10^3$ yields:\n",
    "$$ 2\\ddot{x} + 18x + 5 = 0$$\n",
    "$$ 2 \\dfrac{d^2 x}{dt^2} + 18x = - 5 $$\n",
    "The differential equation is now in standard form $\\left( \\text{i.e. } a \\dfrac{d^2 y}{dx^2} + b \\dfrac{dy}{dx} + cy = f(x) \\right)$."
   ]
  },
  {
   "cell_type": "markdown",
   "metadata": {},
   "source": [
    "__Complementary function__\n",
    "\n",
    "For now assume $f(t)=0$... $$ 2 \\dfrac{d^2 x}{dt^2} + 18x = 0 $$\n",
    "\n",
    "The auxiliary equation is $$ a m^2 + b m +c = 0$$ where $a=2$, $b=0$ and $c=18$.\n",
    "$$ \\therefore 2m^2 + 18 = 0$$\n",
    "$$ m^2 + 9 = 0$$\n",
    "$$ m^2 = - 9$$\n",
    "$$ m = \\pm \\sqrt{-9} = \\pm \\sqrt{-1} \\sqrt{9} = \\pm 3 j$$"
   ]
  },
  {
   "cell_type": "markdown",
   "metadata": {},
   "source": [
    "Due to the auxiliary equation having complex roots ($m_{1,2}=\\alpha \\pm \\beta j$), then the complementary function takes on the form: $$y = e^{ \\alpha x} (A \\cos (\\beta x)+B \\sin (\\beta x) )$$ where $A$ and $B$ are arbitrary constants."
   ]
  },
  {
   "cell_type": "markdown",
   "metadata": {},
   "source": [
    "Therefore the complementary function is $$ x = A \\cos (3 t ) + B \\sin ( t) $$"
   ]
  },
  {
   "cell_type": "markdown",
   "metadata": {},
   "source": [
    "#### __Particular Integral__"
   ]
  },
  {
   "cell_type": "markdown",
   "metadata": {},
   "source": [
    "For the equation $ 2 \\dfrac{d^2 x}{dt^2} + 18x = - 5 \\, $ try $\\, x_p = H$ (a constant) and $\\dfrac{d^2 x_p}{dt^2}=\\dfrac{d^2 H}{dt^2}$ = 0. $$ \\therefore 0 + 18H = -5$$ $$\\therefore H = - \\frac{5}{18}$$"
   ]
  },
  {
   "cell_type": "markdown",
   "metadata": {},
   "source": [
    "#### __General Solution__"
   ]
  },
  {
   "cell_type": "markdown",
   "metadata": {},
   "source": [
    "__Remember!__ General Solution = Complementary Function + Particular Integral\n",
    "$$ x = A \\cos (3 t ) + B \\sin ( t) - \\frac{5}{18} $$"
   ]
  },
  {
   "cell_type": "code",
   "execution_count": 4,
   "metadata": {},
   "outputs": [
    {
     "data": {
      "image/png": "[encoded data removed]",
      "text/latex": [
       "$$x{\\left (t \\right )} = C_{1} \\sin{\\left (3 t \\right )} + C_{2} \\cos{\\left (3 t \\right )} - \\frac{5}{18}$$"
      ],
      "text/plain": [
       "x(t) = C₁⋅sin(3⋅t) + C₂⋅cos(3⋅t) - 5/18"
      ]
     },
     "execution_count": 4,
     "metadata": {},
     "output_type": "execute_result"
    }
   ],
   "source": [
    "solEq1 = dsolve(Eq1,x)\n",
    "solEq1"
   ]
  },
  {
   "cell_type": "markdown",
   "metadata": {},
   "source": [
    "#### __Particular Solution__  \n",
    "Given that the initial conditions are: \n",
    "$$\\text{when } t = 0 \\text{ both } x=0 \\text{ and } \\frac{dx}{dt}=0$$"
   ]
  },
  {
   "cell_type": "code",
   "execution_count": 5,
   "metadata": {},
   "outputs": [
    {
     "data": {
      "image/png": "[encoded data removed]",
      "text/latex": [
       "$$\\left [ \\frac{5}{18}\\right ]$$"
      ],
      "text/plain": [
       "[5/18]"
      ]
     },
     "execution_count": 5,
     "metadata": {},
     "output_type": "execute_result"
    }
   ],
   "source": [
    "C2val = solve((solEq1.subs(x,0)).subs(t,0),C2)\n",
    "C2val"
   ]
  },
  {
   "cell_type": "code",
   "execution_count": 6,
   "metadata": {},
   "outputs": [
    {
     "data": {
      "image/png": "[encoded data removed]",
      "text/latex": [
       "$$\\left [ 0\\right ]$$"
      ],
      "text/plain": [
       "[0]"
      ]
     },
     "execution_count": 6,
     "metadata": {},
     "output_type": "execute_result"
    }
   ],
   "source": [
    "C1val = solve((diff(solEq1.rhs,t)).subs(t,0),C1)\n",
    "C1val"
   ]
  },
  {
   "cell_type": "code",
   "execution_count": 7,
   "metadata": {},
   "outputs": [
    {
     "data": {
      "image/png": "[encoded data removed]",
      "text/latex": [
       "$$x{\\left (t \\right )} = \\frac{5 \\cos{\\left (3 t \\right )}}{18} - \\frac{5}{18}$$"
      ],
      "text/plain": [
       "       5⋅cos(3⋅t)   5 \n",
       "x(t) = ────────── - ──\n",
       "           18       18"
      ]
     },
     "execution_count": 7,
     "metadata": {},
     "output_type": "execute_result"
    }
   ],
   "source": [
    "Eq2 = solEq1.subs([(C1, C1val[0]),(C2, C2val[0])])\n",
    "Eq2"
   ]
  },
  {
   "cell_type": "code",
   "execution_count": 9,
   "metadata": {
    "scrolled": true
   },
   "outputs": [
    {
     "data": {
      "image/png": "[encoded data removed]",
      "text/plain": [
       "<matplotlib.figure.Figure at 0x7f433302f668>"
      ]
     },
     "metadata": {
      "needs_background": "light"
     },
     "output_type": "display_data"
    },
    {
     "data": {
      "text/plain": [
       "<sympy.plotting.plot.Plot at 0x7f433302f588>"
      ]
     },
     "execution_count": 9,
     "metadata": {},
     "output_type": "execute_result"
    }
   ],
   "source": [
    "plot(Eq2.rhs, (t, 0, pi/3))"
   ]
  },
  {
   "cell_type": "markdown",
   "metadata": {},
   "source": [
    "***  \n",
    "Case study taken from Singh, K. (2011). Engineering Mathematics Through Applications. 2nd ed. Basingstoke: Palgrave Macmillan . p760-761.\n",
    "\n",
    "\n",
    "by Dr J T Wharton\n",
    "\n",
    "***"
   ]
  }
 ],
 "metadata": {
  "kernelspec": {
   "display_name": "Python 3 (ipykernel)",
   "language": "python",
   "name": "python3"
  },
  "language_info": {
   "codemirror_mode": {
    "name": "ipython",
    "version": 3
   },
   "file_extension": ".py",
   "mimetype": "text/x-python",
   "name": "python",
   "nbconvert_exporter": "python",
   "pygments_lexer": "ipython3",
   "version": "3.9.7"
  }
 },
 "nbformat": 4,
 "nbformat_minor": 2
}
