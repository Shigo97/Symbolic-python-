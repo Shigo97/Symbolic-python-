{
 "cells": [
  {
   "cell_type": "code",
   "execution_count": 1,
   "id": "d04dd9c1-bf36-40bb-a89e-12df26d387b0",
   "metadata": {
    "tags": []
   },
   "outputs": [],
   "source": [
    "from sympy import *\n",
    "init_printing()\n",
    "(v, t, C1, C2) = symbols(' v t C1 C2')\n",
    "v = Function('v')(t)\n",
    "dv = v.diff(t)"
   ]
  },
  {
   "cell_type": "code",
   "execution_count": 4,
   "id": "55430535-0ff4-4b95-b068-8d8b01b209ee",
   "metadata": {},
   "outputs": [
    {
     "data": {
      "image/png": "[encoded data removed]",
      "text/latex": [
       "$\\displaystyle 55 v{\\left(t \\right)} + \\frac{d}{d t} v{\\left(t \\right)} = 2970 - 2970 e^{- t}$"
      ],
      "text/plain": [
       "          d                       -t\n",
       "55⋅v(t) + ──(v(t)) = 2970 - 2970⋅ℯ  \n",
       "          dt                        "
      ]
     },
     "execution_count": 4,
     "metadata": {},
     "output_type": "execute_result"
    }
   ],
   "source": [
    "Eq1 = Eq(dv + 55*v, 2970*(1-exp(-t)))\n",
    "Eq1"
   ]
  },
  {
   "cell_type": "code",
   "execution_count": 8,
   "id": "2e3ba24e-7fa3-4bfa-838a-cbc33ee9fa08",
   "metadata": {},
   "outputs": [
    {
     "data": {
      "image/png": "[encoded data removed]",
      "text/latex": [
       "$\\displaystyle v{\\left(t \\right)} = C_{1} e^{- 55 t} + 54 - 55 e^{- t}$"
      ],
      "text/plain": [
       "           -55⋅t            -t\n",
       "v(t) = C₁⋅ℯ      + 54 - 55⋅ℯ  "
      ]
     },
     "execution_count": 8,
     "metadata": {},
     "output_type": "execute_result"
    }
   ],
   "source": [
    "gsol = dsolve(Eq1, v)\n",
    "gsol"
   ]
  },
  {
   "cell_type": "code",
   "execution_count": 9,
   "id": "51d11d83-a316-4194-b1e9-5d78a93f5388",
   "metadata": {},
   "outputs": [
    {
     "data": {
      "text/plain": [
       "'Eq(v(t), C1*exp(-55*t) + 54 - 55*exp(-t))'"
      ]
     },
     "execution_count": 9,
     "metadata": {},
     "output_type": "execute_result"
    }
   ],
   "source": [
    "str(gsol)"
   ]
  },
  {
   "cell_type": "code",
   "execution_count": 10,
   "id": "1d051794-5f65-46df-8e51-f54557c2fe12",
   "metadata": {},
   "outputs": [
    {
     "data": {
      "image/png": "[encoded data removed]",
      "text/latex": [
       "$\\displaystyle 0 = C_{1} - 1$"
      ],
      "text/plain": [
       "0 = C₁ - 1"
      ]
     },
     "execution_count": 10,
     "metadata": {},
     "output_type": "execute_result"
    }
   ],
   "source": [
    "Eq2 = gsol.subs({t:0, v:0})\n",
    "Eq2"
   ]
  },
  {
   "cell_type": "code",
   "execution_count": 11,
   "id": "f19f6d19-9016-42b2-8e90-7a7c21040042",
   "metadata": {},
   "outputs": [
    {
     "data": {
      "image/png": "[encoded data removed]",
      "text/latex": [
       "$\\displaystyle \\left[ 1\\right]$"
      ],
      "text/plain": [
       "[1]"
      ]
     },
     "execution_count": 11,
     "metadata": {},
     "output_type": "execute_result"
    }
   ],
   "source": [
    "Eq3 = solve(Eq2, C1)\n",
    "Eq3"
   ]
  },
  {
   "cell_type": "code",
   "execution_count": 13,
   "id": "105e416c-9665-4d3c-b149-09e764c23c10",
   "metadata": {},
   "outputs": [
    {
     "data": {
      "image/png": "[encoded data removed]",
      "text/latex": [
       "$\\displaystyle v{\\left(t \\right)} = 54 - 55 e^{- t} + e^{- 55 t}$"
      ],
      "text/plain": [
       "                -t    -55⋅t\n",
       "v(t) = 54 - 55⋅ℯ   + ℯ     "
      ]
     },
     "execution_count": 13,
     "metadata": {},
     "output_type": "execute_result"
    }
   ],
   "source": [
    "Eq4 = Eq(v, exp(-55*t) + 54 - 55*exp(-t))\n",
    "Eq4"
   ]
  },
  {
   "cell_type": "code",
   "execution_count": 14,
   "id": "9bd04d72-2c53-4a4d-a222-c23d8105207a",
   "metadata": {},
   "outputs": [
    {
     "data": {
      "image/png": "[encoded data removed]",
      "text/latex": [
       "$\\displaystyle v{\\left(3.2 \\right)} = 51.7580787811899$"
      ],
      "text/plain": [
       "v(3.2) = 51.7580787811899"
      ]
     },
     "execution_count": 14,
     "metadata": {},
     "output_type": "execute_result"
    }
   ],
   "source": [
    "Eq5 = Eq4.subs({t:3.2})\n",
    "Eq5"
   ]
  }
 ],
 "metadata": {
  "kernelspec": {
   "display_name": "Python 3 (ipykernel)",
   "language": "python",
   "name": "python3"
  },
  "language_info": {
   "codemirror_mode": {
    "name": "ipython",
    "version": 3
   },
   "file_extension": ".py",
   "mimetype": "text/x-python",
   "name": "python",
   "nbconvert_exporter": "python",
   "pygments_lexer": "ipython3",
   "version": "3.9.7"
  }
 },
 "nbformat": 4,
 "nbformat_minor": 5
}
