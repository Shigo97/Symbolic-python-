{
 "cells": [
  {
   "cell_type": "code",
   "execution_count": 5,
   "id": "71c4d910-a89a-4bfa-bf64-c7314cad7cf7",
   "metadata": {},
   "outputs": [],
   "source": [
    "from sympy import *\n",
    "x, y, z, v = symbols('x y z v')\n",
    "init_printing()"
   ]
  },
  {
   "cell_type": "code",
   "execution_count": 10,
   "id": "f553db62-f888-4279-be91-5148d346ffb9",
   "metadata": {
    "tags": []
   },
   "outputs": [
    {
     "data": {
      "image/png": "[encoded data removed]",
      "text/latex": [
       "$\\displaystyle \\left[ \\frac{100}{x y}\\right]$"
      ],
      "text/plain": [
       "⎡100⎤\n",
       "⎢───⎥\n",
       "⎣x⋅y⎦"
      ]
     },
     "execution_count": 10,
     "metadata": {},
     "output_type": "execute_result"
    }
   ],
   "source": [
    "Eq0 = solve(Eq(x*y*z,100),z)\n",
    "Eq0"
   ]
  },
  {
   "cell_type": "code",
   "execution_count": 16,
   "id": "96581a28-e038-4e2d-9ab5-6f58b900b4f8",
   "metadata": {
    "tags": []
   },
   "outputs": [
    {
     "data": {
      "image/png": "[encoded data removed]",
      "text/latex": [
       "$\\displaystyle x y + \\frac{200}{y} + \\frac{200}{x}$"
      ],
      "text/plain": [
       "      200   200\n",
       "x⋅y + ─── + ───\n",
       "       y     x "
      ]
     },
     "execution_count": 34,
     "metadata": {},
     "output_type": "execute_result"
    }
   ],
   "source": [
    "Eq1 = (x*y+200/y+200/x) \n",
    "Eq1"
   ]
  },
  {
   "cell_type": "code",
   "execution_count": 87,
   "id": "363bc2bb-df3d-403d-8a13-33c45ee68d95",
   "metadata": {},
   "outputs": [
    {
     "data": {
      "image/png": "[encoded data removed]",
      "text/latex": [
       "$\\displaystyle x - \\frac{200}{y^{2}}$"
      ],
      "text/plain": [
       "    200\n",
       "x - ───\n",
       "      2\n",
       "     y "
      ]
     },
     "execution_count": 87,
     "metadata": {},
     "output_type": "execute_result"
    }
   ],
   "source": [
    "Eq2 = Eq1.diff(y)\n",
    "Eq2"
   ]
  },
  {
   "cell_type": "code",
   "execution_count": 88,
   "id": "b50292dc-6afa-472a-9e44-65f285a6eb59",
   "metadata": {},
   "outputs": [
    {
     "data": {
      "image/png": "[encoded data removed]",
      "text/latex": [
       "$\\displaystyle y - \\frac{200}{x^{2}}$"
      ],
      "text/plain": [
       "    200\n",
       "y - ───\n",
       "      2\n",
       "     x "
      ]
     },
     "execution_count": 88,
     "metadata": {},
     "output_type": "execute_result"
    }
   ],
   "source": [
    "Eq3 = Eq1.diff(x)\n",
    "Eq3"
   ]
  },
  {
   "cell_type": "code",
   "execution_count": 97,
   "id": "d0beb381-1369-4df1-bcbb-caf0f82e602a",
   "metadata": {},
   "outputs": [
    {
     "data": {
      "image/png": "[encoded data removed]",
      "text/latex": [
       "$\\displaystyle \\left[ \\left( 2 \\cdot 5^{\\frac{2}{3}}, \\  2 \\cdot 5^{\\frac{2}{3}}\\right), \\  \\left( - 5^{\\frac{2}{3}} - \\sqrt{3} \\cdot 5^{\\frac{2}{3}} i, \\  - 5^{\\frac{2}{3}} - \\sqrt{3} \\cdot 5^{\\frac{2}{3}} i\\right), \\  \\left( - 5^{\\frac{2}{3}} + \\sqrt{3} \\cdot 5^{\\frac{2}{3}} i, \\  - 5^{\\frac{2}{3}} + \\sqrt{3} \\cdot 5^{\\frac{2}{3}} i\\right)\\right]$"
      ],
      "text/plain": [
       "⎡⎛   2/3     2/3⎞  ⎛   2/3       2/3       2/3       2/3  ⎞  ⎛   2/3       2/3\n",
       "⎣⎝2⋅5   , 2⋅5   ⎠, ⎝- 5    - √3⋅5   ⋅ⅈ, - 5    - √3⋅5   ⋅ⅈ⎠, ⎝- 5    + √3⋅5   \n",
       "\n",
       "       2/3       2/3  ⎞⎤\n",
       "⋅ⅈ, - 5    + √3⋅5   ⋅ⅈ⎠⎦"
      ]
     },
     "execution_count": 97,
     "metadata": {},
     "output_type": "execute_result"
    }
   ],
   "source": [
    "Cvals = solve([Eq2, Eq3], [x,y])\n",
    "Cvals"
   ]
  },
  {
   "cell_type": "code",
   "execution_count": 102,
   "id": "1332f493-61eb-4fb7-92a8-e87c50d29aa0",
   "metadata": {},
   "outputs": [
    {
     "data": {
      "image/png": "[encoded data removed]",
      "text/latex": [
       "$\\displaystyle \\left[ 2.92401773821287\\right]$"
      ],
      "text/plain": [
       "[2.92401773821287]"
      ]
     },
     "execution_count": 102,
     "metadata": {},
     "output_type": "execute_result"
    }
   ],
   "source": [
    "solve(Eq0.subs({x:2*5**(2/3) , y:2*5**(2/3) }),z)"
   ]
  },
  {
   "cell_type": "code",
   "execution_count": 96,
   "id": "ccc010f1-d783-4dc7-b340-9656c48dfc71",
   "metadata": {},
   "outputs": [
    {
     "data": {
      "image/png": "[encoded data removed]",
      "text/latex": [
       "$\\displaystyle 102.598556800602$"
      ],
      "text/plain": [
       "102.598556800602"
      ]
     },
     "execution_count": 96,
     "metadata": {},
     "output_type": "execute_result"
    }
   ],
   "source": [
    "Eq6 = Eq1.subs({x:2*5**(2/3), y:2*5**(2/3) })\n",
    "Eq6"
   ]
  }
 ],
 "metadata": {
  "kernelspec": {
   "display_name": "Python 3 (ipykernel)",
   "language": "python",
   "name": "python3"
  },
  "language_info": {
   "codemirror_mode": {
    "name": "ipython",
    "version": 3
   },
   "file_extension": ".py",
   "mimetype": "text/x-python",
   "name": "python",
   "nbconvert_exporter": "python",
   "pygments_lexer": "ipython3",
   "version": "3.9.7"
  }
 },
 "nbformat": 4,
 "nbformat_minor": 5
}
