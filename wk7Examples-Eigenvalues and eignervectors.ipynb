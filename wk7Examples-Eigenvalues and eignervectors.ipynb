{
 "cells": [
  {
   "cell_type": "markdown",
   "metadata": {},
   "source": [
    "# Pre-Masters Maths 6601PMEC"
   ]
  },
  {
   "cell_type": "markdown",
   "metadata": {},
   "source": [
    "## Week 7 - Eigenvalues and Eigenvectors"
   ]
  },
  {
   "cell_type": "markdown",
   "metadata": {},
   "source": [
    " __This notebook will demonstrate how to calculate eigenvalues and eigenvectors using SymPy with the example matrix that is given below $$A =  \\begin{bmatrix}  3 & 2 \\\\ 1 & 4 \\end{bmatrix} $$__ "
   ]
  },
  {
   "cell_type": "markdown",
   "metadata": {},
   "source": [
    "### Method 1 - Using SymPy to repeat the \"by hand\" method."
   ]
  },
  {
   "cell_type": "code",
   "execution_count": 11,
   "metadata": {},
   "outputs": [
    {
     "data": {
      "text/latex": [
       "$\\displaystyle \\left[\\begin{matrix}- \\frac{64}{11} & \\frac{3}{11}\\\\\\frac{72}{11} & - \\frac{79}{11}\\end{matrix}\\right]$"
      ],
      "text/plain": [
       "⎡-64       ⎤\n",
       "⎢────  3/11⎥\n",
       "⎢ 11       ⎥\n",
       "⎢          ⎥\n",
       "⎢ 72   -79 ⎥\n",
       "⎢ ──   ────⎥\n",
       "⎣ 11    11 ⎦"
      ]
     },
     "execution_count": 11,
     "metadata": {},
     "output_type": "execute_result"
    }
   ],
   "source": [
    "from sympy import *\n",
    "init_printing()\n",
    "lam, x, y = symbols('lambda x y')\n",
    "A = Matrix([[S(-64)/11, S(3)/11], [S(72)/11, S(-79)/11]])\n",
    "A"
   ]
  },
  {
   "cell_type": "code",
   "execution_count": 12,
   "metadata": {},
   "outputs": [
    {
     "data": {
      "image/png": "[encoded data removed]",
      "text/latex": [
       "$\\displaystyle \\operatorname{PurePoly}{\\left( \\lambda^{2} + 13 \\lambda + 40, \\lambda, domain=\\mathbb{Z} \\right)}$"
      ],
      "text/plain": [
       "PurePoly(lambda**2 + 13*lambda + 40, lambda, domain='ZZ')"
      ]
     },
     "execution_count": 12,
     "metadata": {},
     "output_type": "execute_result"
    }
   ],
   "source": [
    "p = A.charpoly(lam)\n",
    "p"
   ]
  },
  {
   "cell_type": "code",
   "execution_count": 13,
   "metadata": {},
   "outputs": [
    {
     "data": {
      "image/png": "[encoded data removed]",
      "text/latex": [
       "$\\displaystyle \\left\\{ -8 : 1, \\  -5 : 1\\right\\}$"
      ],
      "text/plain": [
       "{-8: 1, -5: 1}"
      ]
     },
     "execution_count": 13,
     "metadata": {},
     "output_type": "execute_result"
    }
   ],
   "source": [
    "Val = A.eigenvals()\n",
    "Val"
   ]
  },
  {
   "cell_type": "markdown",
   "metadata": {},
   "source": [
    "Therefore the two eigenvalues are:"
   ]
  },
  {
   "cell_type": "code",
   "execution_count": 8,
   "metadata": {},
   "outputs": [
    {
     "data": {
      "image/png": "[encoded data removed]",
      "text/latex": [
       "$\\displaystyle \\left[ -8, \\  -5\\right]$"
      ],
      "text/plain": [
       "[-8, -5]"
      ]
     },
     "execution_count": 8,
     "metadata": {},
     "output_type": "execute_result"
    }
   ],
   "source": [
    "eigVal = solve(factor(p), lam)\n",
    "eigVal"
   ]
  },
  {
   "cell_type": "markdown",
   "metadata": {},
   "source": [
    "To find the eigenvector belonging to the eigenvalue 2:"
   ]
  },
  {
   "cell_type": "code",
   "execution_count": 9,
   "metadata": {},
   "outputs": [
    {
     "data": {
      "text/latex": [
       "$\\displaystyle \\left[\\begin{matrix}\\frac{24 x}{11} + \\frac{3 y}{11}\\\\\\frac{72 x}{11} + \\frac{9 y}{11}\\end{matrix}\\right]$"
      ],
      "text/plain": [
       "⎡24⋅x   3⋅y⎤\n",
       "⎢──── + ───⎥\n",
       "⎢ 11     11⎥\n",
       "⎢          ⎥\n",
       "⎢72⋅x   9⋅y⎥\n",
       "⎢──── + ───⎥\n",
       "⎣ 11     11⎦"
      ]
     },
     "execution_count": 9,
     "metadata": {},
     "output_type": "execute_result"
    }
   ],
   "source": [
    "lamMat1 = (A-eigVal[0]*eye(2))*Matrix([[x],[y]])\n",
    "lamMat1"
   ]
  },
  {
   "cell_type": "code",
   "execution_count": 10,
   "metadata": {},
   "outputs": [
    {
     "data": {
      "image/png": "[encoded data removed]",
      "text/latex": [
       "$\\displaystyle \\left[ \\left\\{ x : - \\frac{y}{8}\\right\\}\\right]$"
      ],
      "text/plain": [
       "⎡⎧   -y ⎫⎤\n",
       "⎢⎨x: ───⎬⎥\n",
       "⎣⎩    8 ⎭⎦"
      ]
     },
     "execution_count": 10,
     "metadata": {},
     "output_type": "execute_result"
    }
   ],
   "source": [
    "solve(lamMat1[0])"
   ]
  },
  {
   "cell_type": "markdown",
   "metadata": {},
   "source": [
    "Therefore the eigenvector belonging to the eigenvalue of 2 is $ \\begin{bmatrix}  -2 \\\\ 1 \\end{bmatrix} $"
   ]
  },
  {
   "cell_type": "markdown",
   "metadata": {},
   "source": [
    "To find the eigenvector belonging to the eigenvalue 5:"
   ]
  },
  {
   "cell_type": "code",
   "execution_count": 8,
   "metadata": {},
   "outputs": [
    {
     "data": {
      "text/latex": [
       "$\\displaystyle \\left[\\begin{matrix}- \\frac{9 x}{11} + \\frac{3 y}{11}\\\\\\frac{72 x}{11} - \\frac{24 y}{11}\\end{matrix}\\right]$"
      ],
      "text/plain": [
       "⎡  9⋅x   3⋅y⎤\n",
       "⎢- ─── + ───⎥\n",
       "⎢   11    11⎥\n",
       "⎢           ⎥\n",
       "⎢72⋅x   24⋅y⎥\n",
       "⎢──── - ────⎥\n",
       "⎣ 11     11 ⎦"
      ]
     },
     "execution_count": 8,
     "metadata": {},
     "output_type": "execute_result"
    }
   ],
   "source": [
    "lamMat2 = (A-eigVal[1]*eye(2))*Matrix([[x],[y]])\n",
    "lamMat2"
   ]
  },
  {
   "cell_type": "code",
   "execution_count": 9,
   "metadata": {},
   "outputs": [
    {
     "data": {
      "image/png": "[encoded data removed]",
      "text/latex": [
       "$\\displaystyle \\left[ \\left\\{ x : \\frac{y}{3}\\right\\}\\right]$"
      ],
      "text/plain": [
       "⎡⎧   y⎫⎤\n",
       "⎢⎨x: ─⎬⎥\n",
       "⎣⎩   3⎭⎦"
      ]
     },
     "execution_count": 9,
     "metadata": {},
     "output_type": "execute_result"
    }
   ],
   "source": [
    "solve(lamMat2[0])"
   ]
  },
  {
   "cell_type": "markdown",
   "metadata": {},
   "source": [
    "Therefore the eigenvector belonging to the eigenvalue of 5 is $ \\begin{bmatrix}  1 \\\\ 1 \\end{bmatrix} $  \n",
    "Always check that the answers satisfy $\\mathbf{A v}= \\lambda \\mathbf{v}$"
   ]
  },
  {
   "cell_type": "code",
   "execution_count": null,
   "metadata": {},
   "outputs": [],
   "source": [
    "eigVec1 =Matrix([[-2],[1]])\n",
    "A*eigVec1==eigVal[0]*eigVec1"
   ]
  },
  {
   "cell_type": "code",
   "execution_count": null,
   "metadata": {},
   "outputs": [],
   "source": [
    "eigVec2 =Matrix([[1],[1]])\n",
    "A*eigVec2==eigVal[1]*eigVec2"
   ]
  },
  {
   "cell_type": "markdown",
   "metadata": {},
   "source": [
    "### Method 2 - Using SymPy commands"
   ]
  },
  {
   "cell_type": "code",
   "execution_count": null,
   "metadata": {},
   "outputs": [],
   "source": [
    "A.eigenvals()"
   ]
  },
  {
   "cell_type": "code",
   "execution_count": null,
   "metadata": {},
   "outputs": [],
   "source": [
    "eigVec = A.eigenvects()\n",
    "eigVec"
   ]
  },
  {
   "cell_type": "markdown",
   "metadata": {},
   "source": [
    "The above *eigenvects()* command provides both of the eigenvalues with its corresponding eigenvector."
   ]
  },
  {
   "cell_type": "markdown",
   "metadata": {},
   "source": [
    "Therefore the first eigenvalue is"
   ]
  },
  {
   "cell_type": "code",
   "execution_count": null,
   "metadata": {},
   "outputs": [],
   "source": [
    "eigVec[0][0]"
   ]
  },
  {
   "cell_type": "markdown",
   "metadata": {},
   "source": [
    "and its corresponding eigenvector is"
   ]
  },
  {
   "cell_type": "code",
   "execution_count": 5,
   "metadata": {},
   "outputs": [
    {
     "ename": "NameError",
     "evalue": "name 'eigVec' is not defined",
     "output_type": "error",
     "traceback": [
      "\u001b[1;31m---------------------------------------------------------------------------\u001b[0m",
      "\u001b[1;31mNameError\u001b[0m                                 Traceback (most recent call last)",
      "\u001b[1;32m~\\AppData\\Local\\Temp/ipykernel_21060/926106905.py\u001b[0m in \u001b[0;36m<module>\u001b[1;34m\u001b[0m\n\u001b[1;32m----> 1\u001b[1;33m \u001b[0meigVec\u001b[0m\u001b[1;33m[\u001b[0m\u001b[1;36m0\u001b[0m\u001b[1;33m]\u001b[0m\u001b[1;33m[\u001b[0m\u001b[1;36m2\u001b[0m\u001b[1;33m]\u001b[0m\u001b[1;33m[\u001b[0m\u001b[1;36m0\u001b[0m\u001b[1;33m]\u001b[0m\u001b[1;33m\u001b[0m\u001b[1;33m\u001b[0m\u001b[0m\n\u001b[0m",
      "\u001b[1;31mNameError\u001b[0m: name 'eigVec' is not defined"
     ]
    }
   ],
   "source": [
    "eigVec[0][2][0]"
   ]
  },
  {
   "cell_type": "markdown",
   "metadata": {},
   "source": [
    "Therefore the second eigenvalue is"
   ]
  },
  {
   "cell_type": "code",
   "execution_count": 11,
   "metadata": {},
   "outputs": [
    {
     "data": {
      "image/png": "[encoded data removed]",
      "text/latex": [
       "$\\displaystyle 5$"
      ],
      "text/plain": [
       "5"
      ]
     },
     "execution_count": 11,
     "metadata": {},
     "output_type": "execute_result"
    }
   ],
   "source": [
    "eigVec[1][0]"
   ]
  },
  {
   "cell_type": "markdown",
   "metadata": {},
   "source": [
    "and its corresponding eigenvector is"
   ]
  },
  {
   "cell_type": "code",
   "execution_count": 12,
   "metadata": {},
   "outputs": [
    {
     "data": {
      "text/latex": [
       "$\\displaystyle \\left[\\begin{matrix}1\\\\1\\end{matrix}\\right]$"
      ],
      "text/plain": [
       "⎡1⎤\n",
       "⎢ ⎥\n",
       "⎣1⎦"
      ]
     },
     "execution_count": 12,
     "metadata": {},
     "output_type": "execute_result"
    }
   ],
   "source": [
    "eigVec[1][2][0]"
   ]
  },
  {
   "cell_type": "markdown",
   "metadata": {},
   "source": [
    "Now apply the *eigenvects()* command with another matrix"
   ]
  },
  {
   "cell_type": "code",
   "execution_count": 13,
   "metadata": {},
   "outputs": [
    {
     "data": {
      "text/latex": [
       "$\\displaystyle \\left[\\begin{matrix}-2 & 1\\\\1 & 1\\end{matrix}\\right]$"
      ],
      "text/plain": [
       "⎡-2  1⎤\n",
       "⎢     ⎥\n",
       "⎣1   1⎦"
      ]
     },
     "execution_count": 13,
     "metadata": {},
     "output_type": "execute_result"
    }
   ],
   "source": [
    "B = Matrix([[-2, 1], [1, 1]])\n",
    "B"
   ]
  },
  {
   "cell_type": "code",
   "execution_count": 14,
   "metadata": {},
   "outputs": [
    {
     "data": {
      "text/latex": [
       "$\\displaystyle \\left[ \\left( - \\frac{1}{2} + \\frac{\\sqrt{13}}{2}, \\  1, \\  \\left[ \\left[\\begin{matrix}- \\frac{3}{2} + \\frac{\\sqrt{13}}{2}\\\\1\\end{matrix}\\right]\\right]\\right), \\  \\left( - \\frac{\\sqrt{13}}{2} - \\frac{1}{2}, \\  1, \\  \\left[ \\left[\\begin{matrix}- \\frac{\\sqrt{13}}{2} - \\frac{3}{2}\\\\1\\end{matrix}\\right]\\right]\\right)\\right]$"
      ],
      "text/plain": [
       "⎡⎛              ⎡⎡  3   √13⎤⎤⎞  ⎛              ⎡⎡  √13   3⎤⎤⎞⎤\n",
       "⎢⎜  1   √13     ⎢⎢- ─ + ───⎥⎥⎟  ⎜  √13   1     ⎢⎢- ─── - ─⎥⎥⎟⎥\n",
       "⎢⎜- ─ + ───, 1, ⎢⎢  2    2 ⎥⎥⎟, ⎜- ─── - ─, 1, ⎢⎢   2    2⎥⎥⎟⎥\n",
       "⎢⎜  2    2      ⎢⎢         ⎥⎥⎟  ⎜   2    2     ⎢⎢         ⎥⎥⎟⎥\n",
       "⎣⎝              ⎣⎣    1    ⎦⎦⎠  ⎝              ⎣⎣    1    ⎦⎦⎠⎦"
      ]
     },
     "execution_count": 14,
     "metadata": {},
     "output_type": "execute_result"
    }
   ],
   "source": [
    "eigVec2 = B.eigenvects()\n",
    "eigVec2"
   ]
  },
  {
   "cell_type": "markdown",
   "metadata": {},
   "source": [
    "Therefore the first eigenvector is"
   ]
  },
  {
   "cell_type": "code",
   "execution_count": 15,
   "metadata": {},
   "outputs": [
    {
     "data": {
      "image/png": "[encoded data removed]",
      "text/latex": [
       "$\\displaystyle - \\frac{1}{2} + \\frac{\\sqrt{13}}{2}$"
      ],
      "text/plain": [
       "  1   √13\n",
       "- ─ + ───\n",
       "  2    2 "
      ]
     },
     "execution_count": 15,
     "metadata": {},
     "output_type": "execute_result"
    }
   ],
   "source": [
    "eigVec2[0][0]"
   ]
  },
  {
   "cell_type": "markdown",
   "metadata": {},
   "source": [
    "and its corresponding eigenvector is"
   ]
  },
  {
   "cell_type": "code",
   "execution_count": 16,
   "metadata": {},
   "outputs": [
    {
     "data": {
      "text/latex": [
       "$\\displaystyle \\left[\\begin{matrix}- \\frac{3}{2} + \\frac{\\sqrt{13}}{2}\\\\1\\end{matrix}\\right]$"
      ],
      "text/plain": [
       "⎡  3   √13⎤\n",
       "⎢- ─ + ───⎥\n",
       "⎢  2    2 ⎥\n",
       "⎢         ⎥\n",
       "⎣    1    ⎦"
      ]
     },
     "execution_count": 16,
     "metadata": {},
     "output_type": "execute_result"
    }
   ],
   "source": [
    "eigVec2[0][2][0]"
   ]
  },
  {
   "cell_type": "markdown",
   "metadata": {},
   "source": [
    "or in approximated form"
   ]
  },
  {
   "cell_type": "code",
   "execution_count": 17,
   "metadata": {},
   "outputs": [
    {
     "data": {
      "text/latex": [
       "$\\displaystyle \\left[\\begin{matrix}0.302775637731995\\\\1.0\\end{matrix}\\right]$"
      ],
      "text/plain": [
       "⎡0.302775637731995⎤\n",
       "⎢                 ⎥\n",
       "⎣       1.0       ⎦"
      ]
     },
     "execution_count": 17,
     "metadata": {},
     "output_type": "execute_result"
    }
   ],
   "source": [
    "N(eigVec2[0][2][0])"
   ]
  },
  {
   "cell_type": "markdown",
   "metadata": {},
   "source": [
    "Therefore the second eigenvector is"
   ]
  },
  {
   "cell_type": "code",
   "execution_count": 18,
   "metadata": {},
   "outputs": [
    {
     "data": {
      "image/png": "[encoded data removed]",
      "text/latex": [
       "$\\displaystyle - \\frac{\\sqrt{13}}{2} - \\frac{1}{2}$"
      ],
      "text/plain": [
       "  √13   1\n",
       "- ─── - ─\n",
       "   2    2"
      ]
     },
     "execution_count": 18,
     "metadata": {},
     "output_type": "execute_result"
    }
   ],
   "source": [
    "eigVec2[1][0]"
   ]
  },
  {
   "cell_type": "markdown",
   "metadata": {},
   "source": [
    "and its corresponding eigenvector is"
   ]
  },
  {
   "cell_type": "code",
   "execution_count": 19,
   "metadata": {},
   "outputs": [
    {
     "data": {
      "text/latex": [
       "$\\displaystyle \\left[\\begin{matrix}- \\frac{\\sqrt{13}}{2} - \\frac{3}{2}\\\\1\\end{matrix}\\right]$"
      ],
      "text/plain": [
       "⎡  √13   3⎤\n",
       "⎢- ─── - ─⎥\n",
       "⎢   2    2⎥\n",
       "⎢         ⎥\n",
       "⎣    1    ⎦"
      ]
     },
     "execution_count": 19,
     "metadata": {},
     "output_type": "execute_result"
    }
   ],
   "source": [
    "eigVec2[1][2][0]"
   ]
  },
  {
   "cell_type": "markdown",
   "metadata": {},
   "source": [
    "or in approximated form"
   ]
  },
  {
   "cell_type": "code",
   "execution_count": 20,
   "metadata": {},
   "outputs": [
    {
     "data": {
      "text/latex": [
       "$\\displaystyle \\left[\\begin{matrix}-3.30277563773199\\\\1.0\\end{matrix}\\right]$"
      ],
      "text/plain": [
       "⎡-3.30277563773199⎤\n",
       "⎢                 ⎥\n",
       "⎣       1.0       ⎦"
      ]
     },
     "execution_count": 20,
     "metadata": {},
     "output_type": "execute_result"
    }
   ],
   "source": [
    "N(eigVec2[1][2][0])"
   ]
  },
  {
   "cell_type": "markdown",
   "metadata": {},
   "source": [
    "***  \n",
    "  \n",
    "by Dr J T Wharton\n",
    "\n",
    "***"
   ]
  }
 ],
 "metadata": {
  "kernelspec": {
   "display_name": "Python 3 (ipykernel)",
   "language": "python",
   "name": "python3"
  },
  "language_info": {
   "codemirror_mode": {
    "name": "ipython",
    "version": 3
   },
   "file_extension": ".py",
   "mimetype": "text/x-python",
   "name": "python",
   "nbconvert_exporter": "python",
   "pygments_lexer": "ipython3",
   "version": "3.9.7"
  }
 },
 "nbformat": 4,
 "nbformat_minor": 4
}
