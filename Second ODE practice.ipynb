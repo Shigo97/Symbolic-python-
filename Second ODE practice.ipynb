{
 "cells": [
  {
   "cell_type": "code",
   "execution_count": 36,
   "id": "49d19057-bdc2-47f5-9c5e-30910535de40",
   "metadata": {},
   "outputs": [],
   "source": [
    "from sympy import *\n",
    "init_printing()\n",
    "y , t , C1 , C2 = symbols(' y t C1 C2 ')\n",
    "y = Function('y')(t)\n",
    "dy = y.diff(t)\n",
    "dy2 = y.diff(t, 2)"
   ]
  },
  {
   "cell_type": "code",
   "execution_count": 37,
   "id": "4ba573e1-ae34-4ab4-be2f-f1c74a1e31c1",
   "metadata": {},
   "outputs": [
    {
     "data": {
      "image/png": "[encoded data removed]",
      "text/latex": [
       "$\\displaystyle 90 y{\\left(t \\right)} + 10 \\frac{d}{d t} y{\\left(t \\right)} + 10 \\frac{d^{2}}{d t^{2}} y{\\left(t \\right)} = 0$"
      ],
      "text/plain": [
       "                             2          \n",
       "             d              d           \n",
       "90⋅y(t) + 10⋅──(y(t)) + 10⋅───(y(t)) = 0\n",
       "             dt              2          \n",
       "                           dt           "
      ]
     },
     "execution_count": 37,
     "metadata": {},
     "output_type": "execute_result"
    }
   ],
   "source": [
    "# homo eq\n",
    "Eq1 = Eq(10*dy2 + 10 * dy + 90 * y, 0 )\n",
    "Eq1"
   ]
  },
  {
   "cell_type": "code",
   "execution_count": 38,
   "id": "226da33d-e8ca-4e81-acdd-24e6e5299416",
   "metadata": {},
   "outputs": [
    {
     "data": {
      "image/png": "[encoded data removed]",
      "text/latex": [
       "$\\displaystyle y{\\left(t \\right)} = \\left(C_{1} \\sin{\\left(\\frac{\\sqrt{35} t}{2} \\right)} + C_{2} \\cos{\\left(\\frac{\\sqrt{35} t}{2} \\right)}\\right) e^{- \\frac{t}{2}}$"
      ],
      "text/plain": [
       "                                        -t \n",
       "                                        ───\n",
       "       ⎛      ⎛√35⋅t⎞         ⎛√35⋅t⎞⎞   2 \n",
       "y(t) = ⎜C₁⋅sin⎜─────⎟ + C₂⋅cos⎜─────⎟⎟⋅ℯ   \n",
       "       ⎝      ⎝  2  ⎠         ⎝  2  ⎠⎠     "
      ]
     },
     "execution_count": 38,
     "metadata": {},
     "output_type": "execute_result"
    }
   ],
   "source": [
    "gsol = dsolve(Eq1 , y )\n",
    "gsol"
   ]
  },
  {
   "cell_type": "code",
   "execution_count": 39,
   "id": "96e5de47-1fd8-44bc-8f2a-d8c36fff3a6a",
   "metadata": {},
   "outputs": [
    {
     "data": {
      "image/png": "[encoded data removed]",
      "text/latex": [
       "$\\displaystyle 0.16 = C_{2}$"
      ],
      "text/plain": [
       "0.16 = C₂"
      ]
     },
     "execution_count": 39,
     "metadata": {},
     "output_type": "execute_result"
    }
   ],
   "source": [
    "state1 = gsol.subs({ y : 0.16 , t : 0 })\n",
    "state1"
   ]
  },
  {
   "cell_type": "code",
   "execution_count": 40,
   "id": "669dd6d3-5bb2-4f62-84a0-f12295d07c10",
   "metadata": {},
   "outputs": [
    {
     "data": {
      "image/png": "[encoded data removed]",
      "text/latex": [
       "$\\displaystyle \\frac{\\sqrt{35} C_{1}}{2} - \\frac{C_{2}}{2}$"
      ],
      "text/plain": [
       "√35⋅C₁   C₂\n",
       "────── - ──\n",
       "  2      2 "
      ]
     },
     "execution_count": 40,
     "metadata": {},
     "output_type": "execute_result"
    }
   ],
   "source": [
    "Eq2 = diff(gsol.rhs,t).subs(t,0)\n",
    "Eq2"
   ]
  },
  {
   "cell_type": "code",
   "execution_count": 41,
   "id": "ea486993-11df-4a9a-ab85-60a85d1d8c49",
   "metadata": {},
   "outputs": [],
   "source": [
    "Cvals = solve([state1 , Eq2] , [C1, C2])"
   ]
  },
  {
   "cell_type": "code",
   "execution_count": 42,
   "id": "1e76c4fd-b909-4401-9c73-b417ca17f120",
   "metadata": {},
   "outputs": [
    {
     "data": {
      "image/png": "[encoded data removed]",
      "text/latex": [
       "$\\displaystyle \\left\\{ C_{1} : 0.0270449361513125, \\  C_{2} : 0.16\\right\\}$"
      ],
      "text/plain": [
       "{C₁: 0.0270449361513125, C₂: 0.16}"
      ]
     },
     "execution_count": 42,
     "metadata": {},
     "output_type": "execute_result"
    }
   ],
   "source": [
    "Cvals"
   ]
  },
  {
   "cell_type": "code",
   "execution_count": 43,
   "id": "dd30d770-8c0a-43bf-b682-ed0e90968332",
   "metadata": {},
   "outputs": [],
   "source": [
    "# Inhomo eq\n",
    "y , x , C1 , C2 = symbols(' y x C1 C2 ')\n",
    "y = Function('y')(x)\n",
    "dy = y.diff(x)\n",
    "dy2 = y.diff(x, 2)"
   ]
  },
  {
   "cell_type": "code",
   "execution_count": 44,
   "id": "e8c68365-c752-45ec-b74a-27cc9a14dcfb",
   "metadata": {},
   "outputs": [
    {
     "data": {
      "image/png": "[encoded data removed]",
      "text/latex": [
       "$\\displaystyle 35 y{\\left(x \\right)} - 40 \\frac{d}{d x} y{\\left(x \\right)} + 5 \\frac{d^{2}}{d x^{2}} y{\\left(x \\right)} = 26 x$"
      ],
      "text/plain": [
       "                            2             \n",
       "             d             d              \n",
       "35⋅y(x) - 40⋅──(y(x)) + 5⋅───(y(x)) = 26⋅x\n",
       "             dx             2             \n",
       "                          dx              "
      ]
     },
     "execution_count": 44,
     "metadata": {},
     "output_type": "execute_result"
    }
   ],
   "source": [
    "Eq1 = Eq(5 * dy2 -40 * dy + 35 * y , 26 * x)\n",
    "Eq1"
   ]
  },
  {
   "cell_type": "code",
   "execution_count": 45,
   "id": "0711643f-842c-4c22-99c3-16efc117f9df",
   "metadata": {},
   "outputs": [
    {
     "data": {
      "image/png": "[encoded data removed]",
      "text/latex": [
       "$\\displaystyle y{\\left(x \\right)} = C_{1} e^{x} + C_{2} e^{7 x} + \\frac{26 x}{35} + \\frac{208}{245}$"
      ],
      "text/plain": [
       "           x       7⋅x   26⋅x   208\n",
       "y(x) = C₁⋅ℯ  + C₂⋅ℯ    + ──── + ───\n",
       "                          35    245"
      ]
     },
     "execution_count": 45,
     "metadata": {},
     "output_type": "execute_result"
    }
   ],
   "source": [
    "gsol = dsolve( Eq1 , y )\n",
    "gsol"
   ]
  },
  {
   "cell_type": "code",
   "execution_count": 46,
   "id": "215f468a-64de-42ac-82c3-94a3faacf1f8",
   "metadata": {},
   "outputs": [
    {
     "data": {
      "image/png": "[encoded data removed]",
      "text/latex": [
       "$\\displaystyle 4 = C_{1} + C_{2} + \\frac{208}{245}$"
      ],
      "text/plain": [
       "              208\n",
       "4 = C₁ + C₂ + ───\n",
       "              245"
      ]
     },
     "execution_count": 46,
     "metadata": {},
     "output_type": "execute_result"
    }
   ],
   "source": [
    "# C1*exp^x + C2*exp^7*x - Complementary solution & the complete equation is the genral sol.\n",
    "Eq3 = gsol.subs({ y:4 , x:0 })\n",
    "Eq3"
   ]
  },
  {
   "cell_type": "code",
   "execution_count": 47,
   "id": "79af8276-2866-4d98-897c-42b145bdd695",
   "metadata": {},
   "outputs": [
    {
     "data": {
      "image/png": "[encoded data removed]",
      "text/latex": [
       "$\\displaystyle C_{1} + 7 C_{2} + \\frac{26}{35} = 1$"
      ],
      "text/plain": [
       "            26    \n",
       "C₁ + 7⋅C₂ + ── = 1\n",
       "            35    "
      ]
     },
     "execution_count": 47,
     "metadata": {},
     "output_type": "execute_result"
    }
   ],
   "source": [
    "Eq4 = Eq(diff(gsol.rhs , x ).subs(x,0), 1)\n",
    "Eq4"
   ]
  },
  {
   "cell_type": "code",
   "execution_count": 48,
   "id": "92c43b14-8544-44f6-a71f-86e4aaa2e11b",
   "metadata": {},
   "outputs": [
    {
     "data": {
      "image/png": "[encoded data removed]",
      "text/latex": [
       "$\\displaystyle \\left\\{ C_{1} : \\frac{109}{30}, \\  C_{2} : - \\frac{709}{1470}\\right\\}$"
      ],
      "text/plain": [
       "⎧    109      -709 ⎫\n",
       "⎨C₁: ───, C₂: ─────⎬\n",
       "⎩     30       1470⎭"
      ]
     },
     "execution_count": 48,
     "metadata": {},
     "output_type": "execute_result"
    }
   ],
   "source": [
    "Cval = solve([Eq3 , Eq4] , [C1,C2])\n",
    "Cval"
   ]
  },
  {
   "cell_type": "code",
   "execution_count": 49,
   "id": "5c889fa8-5c86-43df-9af2-bc2eabbcdb8c",
   "metadata": {},
   "outputs": [],
   "source": [
    "# Put C1 and C2 values in the general solution and that is the particular solution"
   ]
  },
  {
   "cell_type": "code",
   "execution_count": 50,
   "id": "5fa46923-73e7-4cad-bdd6-3cb8afda70de",
   "metadata": {},
   "outputs": [
    {
     "data": {
      "image/png": "[encoded data removed]",
      "text/latex": [
       "$\\displaystyle 40 x{\\left(t \\right)} + 16 \\frac{d}{d t} x{\\left(t \\right)} + 2 \\frac{d^{2}}{d t^{2}} x{\\left(t \\right)} = 0$"
      ],
      "text/plain": [
       "                            2          \n",
       "             d             d           \n",
       "40⋅x(t) + 16⋅──(x(t)) + 2⋅───(x(t)) = 0\n",
       "             dt             2          \n",
       "                          dt           "
      ]
     },
     "execution_count": 50,
     "metadata": {},
     "output_type": "execute_result"
    }
   ],
   "source": [
    "# Question 7 of Second Order mobius assignment \n",
    "x , t = symbols('x t')\n",
    "x = Function('x')(t)\n",
    "dx = x.diff(t)\n",
    "dx2 = x.diff(t,2)\n",
    "Eq1 = Eq( 2 * dx2 + 16*dx + 40*x , 0 )\n",
    "Eq1"
   ]
  },
  {
   "cell_type": "code",
   "execution_count": 51,
   "id": "31b9996b-8aaa-4cad-b6ae-34f8407226f8",
   "metadata": {},
   "outputs": [
    {
     "data": {
      "text/plain": [
       "('nth_linear_constant_coeff_homogeneous', '2nd_power_series_ordinary')"
      ]
     },
     "execution_count": 51,
     "metadata": {},
     "output_type": "execute_result"
    }
   ],
   "source": [
    "classify_ode(Eq1)"
   ]
  },
  {
   "cell_type": "code",
   "execution_count": 52,
   "id": "f74ee461-ebb2-4c2f-a8ad-106426bdd38b",
   "metadata": {},
   "outputs": [
    {
     "data": {
      "image/png": "[encoded data removed]",
      "text/latex": [
       "$\\displaystyle x{\\left(t \\right)} = \\left(C_{1} \\sin{\\left(2 t \\right)} + C_{2} \\cos{\\left(2 t \\right)}\\right) e^{- 4 t}$"
      ],
      "text/plain": [
       "                                    -4⋅t\n",
       "x(t) = (C₁⋅sin(2⋅t) + C₂⋅cos(2⋅t))⋅ℯ    "
      ]
     },
     "execution_count": 52,
     "metadata": {},
     "output_type": "execute_result"
    }
   ],
   "source": [
    "gsol = dsolve(Eq1,x)\n",
    "gsol"
   ]
  },
  {
   "cell_type": "code",
   "execution_count": 53,
   "id": "8a66f5dd-2248-48ee-96eb-bb73ca401e7e",
   "metadata": {},
   "outputs": [
    {
     "data": {
      "text/plain": [
       "'Eq(x(t), (C1*sin(2*t) + C2*cos(2*t))*exp(-4*t))'"
      ]
     },
     "execution_count": 53,
     "metadata": {},
     "output_type": "execute_result"
    }
   ],
   "source": [
    "str(gsol)"
   ]
  },
  {
   "cell_type": "code",
   "execution_count": 54,
   "id": "044e65e6-5b38-4aa4-951b-2d4f9e828a5c",
   "metadata": {},
   "outputs": [
    {
     "data": {
      "image/png": "[encoded data removed]",
      "text/latex": [
       "$\\displaystyle 0 = C_{2}$"
      ],
      "text/plain": [
       "0 = C₂"
      ]
     },
     "execution_count": 54,
     "metadata": {},
     "output_type": "execute_result"
    }
   ],
   "source": [
    "Eq3 = gsol.subs({x:0 , t:0 })\n",
    "Eq3"
   ]
  },
  {
   "cell_type": "code",
   "execution_count": 55,
   "id": "dfdb1c92-6e03-434b-89a1-4031ea550a93",
   "metadata": {},
   "outputs": [
    {
     "data": {
      "image/png": "[encoded data removed]",
      "text/latex": [
       "$\\displaystyle - 4 \\left(C_{1} \\sin{\\left(2 t \\right)} + C_{2} \\cos{\\left(2 t \\right)}\\right) e^{- 4 t} + \\left(2 C_{1} \\cos{\\left(2 t \\right)} - 2 C_{2} \\sin{\\left(2 t \\right)}\\right) e^{- 4 t} = 64$"
      ],
      "text/plain": [
       "                                 -4⋅t                                    -4⋅t \n",
       "- 4⋅(C₁⋅sin(2⋅t) + C₂⋅cos(2⋅t))⋅ℯ     + (2⋅C₁⋅cos(2⋅t) - 2⋅C₂⋅sin(2⋅t))⋅ℯ     \n",
       "\n",
       "    \n",
       "= 64"
      ]
     },
     "execution_count": 55,
     "metadata": {},
     "output_type": "execute_result"
    }
   ],
   "source": [
    "Eq4 = Eq( diff( gsol.rhs , t ).subs(x,0), 64)\n",
    "Eq4"
   ]
  },
  {
   "cell_type": "code",
   "execution_count": 56,
   "id": "79fd0bc6-abd5-4825-945e-17d0ae7c1256",
   "metadata": {},
   "outputs": [
    {
     "data": {
      "image/png": "[encoded data removed]",
      "text/latex": [
       "$\\displaystyle \\left\\{ C_{1} : \\frac{32 e^{4 t}}{- 2 \\sin{\\left(2 t \\right)} + \\cos{\\left(2 t \\right)}}, \\  C_{2} : 0\\right\\}$"
      ],
      "text/plain": [
       "⎧               4⋅t               ⎫\n",
       "⎪           32⋅ℯ                  ⎪\n",
       "⎨C₁: ──────────────────────, C₂: 0⎬\n",
       "⎪    -2⋅sin(2⋅t) + cos(2⋅t)       ⎪\n",
       "⎩                                 ⎭"
      ]
     },
     "execution_count": 56,
     "metadata": {},
     "output_type": "execute_result"
    }
   ],
   "source": [
    "Cvals = solve([Eq3,Eq4] , [C1,C2])\n",
    "Cvals"
   ]
  },
  {
   "cell_type": "code",
   "execution_count": 57,
   "id": "944fd34f-dd63-44ae-b3cd-5ae4ff199580",
   "metadata": {},
   "outputs": [
    {
     "data": {
      "text/plain": [
       "'{C1: 32*exp(4*t)/(-2*sin(2*t) + cos(2*t)), C2: 0}'"
      ]
     },
     "execution_count": 57,
     "metadata": {},
     "output_type": "execute_result"
    }
   ],
   "source": [
    "str(Cvals)"
   ]
  },
  {
   "cell_type": "code",
   "execution_count": 58,
   "id": "ba9e22d7-61e7-44f0-8547-5cc3393ea254",
   "metadata": {},
   "outputs": [
    {
     "data": {
      "image/png": "[encoded data removed]",
      "text/latex": [
       "$\\displaystyle x{\\left(t \\right)} = \\frac{32 \\sin{\\left(2 t \\right)}}{- 2 \\sin{\\left(2 t \\right)} + \\cos{\\left(2 t \\right)}}$"
      ],
      "text/plain": [
       "            32⋅sin(2⋅t)      \n",
       "x(t) = ──────────────────────\n",
       "       -2⋅sin(2⋅t) + cos(2⋅t)"
      ]
     },
     "execution_count": 58,
     "metadata": {},
     "output_type": "execute_result"
    }
   ],
   "source": [
    "Psol = gsol.subs({C1: 32*exp(4*t)/(-2*sin(2*t) + cos(2*t)), C2: 0} )\n",
    "Psol"
   ]
  },
  {
   "cell_type": "code",
   "execution_count": 59,
   "id": "1d214e9d-9024-4caa-af26-858fe189c36c",
   "metadata": {},
   "outputs": [
    {
     "data": {
      "text/plain": [
       "'Eq(x(t), 32*sin(2*t)/(-2*sin(2*t) + cos(2*t)))'"
      ]
     },
     "execution_count": 59,
     "metadata": {},
     "output_type": "execute_result"
    }
   ],
   "source": [
    "str(Psol)"
   ]
  },
  {
   "cell_type": "code",
   "execution_count": 60,
   "id": "25eb4b75-2210-4742-b69b-b723bd0a180f",
   "metadata": {},
   "outputs": [
    {
     "data": {
      "image/png": "[encoded data removed]",
      "text/latex": [
       "$\\displaystyle x{\\left(0.7854 \\right)} = -15.9999706144131$"
      ],
      "text/plain": [
       "x(0.7854) = -15.9999706144131"
      ]
     },
     "execution_count": 60,
     "metadata": {},
     "output_type": "execute_result"
    }
   ],
   "source": [
    "# Find the value of x at t = 0.7854\n",
    "ans = Psol.subs({ t : 0.7854 })\n",
    "ans"
   ]
  },
  {
   "cell_type": "code",
   "execution_count": 61,
   "id": "cf5e3b66-2ca3-42d0-b311-c04afbc22bfe",
   "metadata": {},
   "outputs": [
    {
     "ename": "SyntaxError",
     "evalue": "invalid syntax (Temp/ipykernel_7244/2702585915.py, line 3)",
     "output_type": "error",
     "traceback": [
      "\u001b[1;36m  File \u001b[1;32m\"C:\\Users\\Lenovo\\AppData\\Local\\Temp/ipykernel_7244/2702585915.py\"\u001b[1;36m, line \u001b[1;32m3\u001b[0m\n\u001b[1;33m    x =\u001b[0m\n\u001b[1;37m        ^\u001b[0m\n\u001b[1;31mSyntaxError\u001b[0m\u001b[1;31m:\u001b[0m invalid syntax\n"
     ]
    }
   ],
   "source": [
    "# Question 1 of mobius assignment 5*dx2 - 40*dx + 35*y = 26*x \n",
    "y , x , C1 , C2 = symbols(' y x C1 C2 ')\n",
    "x = \n",
    "y = Function('y')(x)\n",
    "dy = y.diff(x)\n",
    "dy2 = y.diff(x, 2)\n",
    "Eq1 = Eq( 5*dx2 - 40*dx + 35*y , 26*x )\n",
    "Eq1"
   ]
  },
  {
   "cell_type": "code",
   "execution_count": 62,
   "id": "1873a19a-2d36-498e-b029-aa2120b17370",
   "metadata": {},
   "outputs": [
    {
     "ename": "ValueError",
     "evalue": "40*x(t) + 16*Derivative(x(t), t) + 2*Derivative(x(t), (t, 2)) is not a solvable differential equation in y(x)",
     "output_type": "error",
     "traceback": [
      "\u001b[1;31m---------------------------------------------------------------------------\u001b[0m",
      "\u001b[1;31mValueError\u001b[0m                                Traceback (most recent call last)",
      "\u001b[1;32m~\\AppData\\Local\\Temp/ipykernel_7244/1474373858.py\u001b[0m in \u001b[0;36m<module>\u001b[1;34m\u001b[0m\n\u001b[1;32m----> 1\u001b[1;33m \u001b[0mgsol\u001b[0m \u001b[1;33m=\u001b[0m \u001b[0mdsolve\u001b[0m\u001b[1;33m(\u001b[0m\u001b[0mEq1\u001b[0m\u001b[1;33m,\u001b[0m \u001b[0my\u001b[0m\u001b[1;33m)\u001b[0m\u001b[1;33m\u001b[0m\u001b[1;33m\u001b[0m\u001b[0m\n\u001b[0m\u001b[0;32m      2\u001b[0m \u001b[0mgsol\u001b[0m\u001b[1;33m\u001b[0m\u001b[1;33m\u001b[0m\u001b[0m\n",
      "\u001b[1;32mD:\\Anaconda3\\lib\\site-packages\\sympy\\solvers\\ode\\ode.py\u001b[0m in \u001b[0;36mdsolve\u001b[1;34m(eq, func, hint, simplify, ics, xi, eta, x0, n, **kwargs)\u001b[0m\n\u001b[0;32m    602\u001b[0m \u001b[1;33m\u001b[0m\u001b[0m\n\u001b[0;32m    603\u001b[0m         \u001b[1;31m# See the docstring of _desolve for more details.\u001b[0m\u001b[1;33m\u001b[0m\u001b[1;33m\u001b[0m\u001b[0m\n\u001b[1;32m--> 604\u001b[1;33m         hints = _desolve(eq, func=func,\n\u001b[0m\u001b[0;32m    605\u001b[0m             \u001b[0mhint\u001b[0m\u001b[1;33m=\u001b[0m\u001b[0mhint\u001b[0m\u001b[1;33m,\u001b[0m \u001b[0msimplify\u001b[0m\u001b[1;33m=\u001b[0m\u001b[1;32mTrue\u001b[0m\u001b[1;33m,\u001b[0m \u001b[0mxi\u001b[0m\u001b[1;33m=\u001b[0m\u001b[0mxi\u001b[0m\u001b[1;33m,\u001b[0m \u001b[0meta\u001b[0m\u001b[1;33m=\u001b[0m\u001b[0meta\u001b[0m\u001b[1;33m,\u001b[0m \u001b[0mtype\u001b[0m\u001b[1;33m=\u001b[0m\u001b[1;34m'ode'\u001b[0m\u001b[1;33m,\u001b[0m \u001b[0mics\u001b[0m\u001b[1;33m=\u001b[0m\u001b[0mics\u001b[0m\u001b[1;33m,\u001b[0m\u001b[1;33m\u001b[0m\u001b[1;33m\u001b[0m\u001b[0m\n\u001b[0;32m    606\u001b[0m             x0=x0, n=n, **kwargs)\n",
      "\u001b[1;32mD:\\Anaconda3\\lib\\site-packages\\sympy\\solvers\\deutils.py\u001b[0m in \u001b[0;36m_desolve\u001b[1;34m(eq, func, hint, ics, simplify, prep, **kwargs)\u001b[0m\n\u001b[0;32m    236\u001b[0m         \u001b[1;31m# ValueError\u001b[0m\u001b[1;33m\u001b[0m\u001b[1;33m\u001b[0m\u001b[0m\n\u001b[0;32m    237\u001b[0m         \u001b[1;32melif\u001b[0m \u001b[0mhints\u001b[0m\u001b[1;33m[\u001b[0m\u001b[1;34m'order'\u001b[0m\u001b[1;33m]\u001b[0m \u001b[1;33m==\u001b[0m \u001b[1;36m0\u001b[0m\u001b[1;33m:\u001b[0m\u001b[1;33m\u001b[0m\u001b[1;33m\u001b[0m\u001b[0m\n\u001b[1;32m--> 238\u001b[1;33m             raise ValueError(\n\u001b[0m\u001b[0;32m    239\u001b[0m                 str(eq) + \" is not a solvable differential equation in \" + str(func))\n\u001b[0;32m    240\u001b[0m         \u001b[1;32melse\u001b[0m\u001b[1;33m:\u001b[0m\u001b[1;33m\u001b[0m\u001b[1;33m\u001b[0m\u001b[0m\n",
      "\u001b[1;31mValueError\u001b[0m: 40*x(t) + 16*Derivative(x(t), t) + 2*Derivative(x(t), (t, 2)) is not a solvable differential equation in y(x)"
     ]
    }
   ],
   "source": [
    "gsol = dsolve(Eq1, y)\n",
    "gsol"
   ]
  },
  {
   "cell_type": "code",
   "execution_count": null,
   "id": "b7d9d735-327a-4af7-80d7-308e92a1dc96",
   "metadata": {},
   "outputs": [],
   "source": [
    "str(gsol)"
   ]
  },
  {
   "cell_type": "code",
   "execution_count": 63,
   "id": "a663a697-ce82-44ea-b323-2a42e5992404",
   "metadata": {},
   "outputs": [
    {
     "data": {
      "image/png": "[encoded data removed]",
      "text/latex": [
       "$\\displaystyle 35 y{\\left(x \\right)} - 40 \\frac{d}{d t} x{\\left(t \\right)} + 5 \\frac{d^{2}}{d t^{2}} x{\\left(t \\right)} = 26 x$"
      ],
      "text/plain": [
       "                            2             \n",
       "             d             d              \n",
       "35⋅y(x) - 40⋅──(x(t)) + 5⋅───(x(t)) = 26⋅x\n",
       "             dt             2             \n",
       "                          dt              "
      ]
     },
     "execution_count": 63,
     "metadata": {},
     "output_type": "execute_result"
    }
   ],
   "source": [
    "from sympy import *\n",
    "init_printing()\n",
    "y , x , C1 , C2 = symbols(' y x C1 C2 ')\n",
    "y = Function('y')(x)\n",
    "dy = y.diff(x)\n",
    "dy2 = y.diff(x, 2)\n",
    "Eq1 = Eq( 5*dx2 - 40*dx + 35*y , 26*x )\n",
    "Eq1"
   ]
  },
  {
   "cell_type": "code",
   "execution_count": 64,
   "id": "95b7865f-fb3c-4a01-bd32-a1efc639370c",
   "metadata": {},
   "outputs": [
    {
     "data": {
      "image/png": "[encoded data removed]",
      "text/latex": [
       "$\\displaystyle y{\\left(x \\right)} = \\frac{26 x}{35} + \\frac{8 \\frac{d}{d t} x{\\left(t \\right)}}{7} - \\frac{\\frac{d^{2}}{d t^{2}} x{\\left(t \\right)}}{7}$"
      ],
      "text/plain": [
       "                             2      \n",
       "                            d       \n",
       "                d          ───(x(t))\n",
       "              8⋅──(x(t))     2      \n",
       "       26⋅x     dt         dt       \n",
       "y(x) = ──── + ────────── - ─────────\n",
       "        35        7            7    "
      ]
     },
     "execution_count": 64,
     "metadata": {},
     "output_type": "execute_result"
    }
   ],
   "source": [
    "gsol = dsolve(Eq1, y)\n",
    "gsol"
   ]
  },
  {
   "cell_type": "code",
   "execution_count": null,
   "id": "7e1f6d01-b004-406d-bd54-bbd559b14120",
   "metadata": {},
   "outputs": [],
   "source": [
    "print(str(gsol))"
   ]
  },
  {
   "cell_type": "code",
   "execution_count": null,
   "id": "a1cb54f7-8489-4640-94af-91fe80845773",
   "metadata": {},
   "outputs": [],
   "source": []
  }
 ],
 "metadata": {
  "kernelspec": {
   "display_name": "Python 3 (ipykernel)",
   "language": "python",
   "name": "python3"
  },
  "language_info": {
   "codemirror_mode": {
    "name": "ipython",
    "version": 3
   },
   "file_extension": ".py",
   "mimetype": "text/x-python",
   "name": "python",
   "nbconvert_exporter": "python",
   "pygments_lexer": "ipython3",
   "version": "3.9.7"
  }
 },
 "nbformat": 4,
 "nbformat_minor": 5
}
