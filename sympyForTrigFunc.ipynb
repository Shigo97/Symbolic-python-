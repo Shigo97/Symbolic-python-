{
 "cells": [
  {
   "cell_type": "markdown",
   "metadata": {},
   "source": [
    "# Pre Masters Maths 6601PMEC"
   ]
  },
  {
   "cell_type": "markdown",
   "metadata": {},
   "source": [
    "## Examples of Using SymPy for Trigonometric Functions"
   ]
  },
  {
   "cell_type": "markdown",
   "metadata": {},
   "source": [
    "9. Solve the following trigonometrical equations in the ranges given:  \n",
    "  a) $\\sin (\\theta) = 0.7506 \\quad 0 \\leq \\theta \\leq 360^o$"
   ]
  },
  {
   "cell_type": "code",
   "execution_count": 1,
   "metadata": {},
   "outputs": [],
   "source": [
    "from sympy import *\n",
    "import numpy as np\n",
    "init_printing()"
   ]
  },
  {
   "cell_type": "code",
   "execution_count": 2,
   "metadata": {},
   "outputs": [
    {
     "data": {
      "image/png": "[encoded data removed]",
      "text/latex": [
       "$\\displaystyle \\left[ 0.848969660838009, \\  2.29262299275178\\right]$"
      ],
      "text/plain": [
       "[0.848969660838009, 2.29262299275178]"
      ]
     },
     "execution_count": 2,
     "metadata": {},
     "output_type": "execute_result"
    }
   ],
   "source": [
    "from sympy.physics.units import *\n",
    "th = symbols('theta', real=True)\n",
    "sol = solve(sin(th)-0.7506)\n",
    "sol"
   ]
  },
  {
   "cell_type": "markdown",
   "metadata": {},
   "source": [
    "The only issue with this solution is that it is in radians not degrees. Because SymPy, by default, gives answers in radians, this set of solutions needs to be converted. We could use a _for_ loop to convert each element to degrees:"
   ]
  },
  {
   "cell_type": "code",
   "execution_count": 3,
   "metadata": {},
   "outputs": [
    {
     "name": "stdout",
     "output_type": "stream",
     "text": [
      "48.6423785006708\n",
      "131.357621499329\n"
     ]
    }
   ],
   "source": [
    "for i in sol:\n",
    "    print(i*180/pi.n())"
   ]
  },
  {
   "cell_type": "markdown",
   "metadata": {},
   "source": [
    "Or the NumPy _array_ command could be used, which is argueably much more simple to implement."
   ]
  },
  {
   "cell_type": "code",
   "execution_count": 4,
   "metadata": {},
   "outputs": [
    {
     "data": {
      "text/plain": [
       "array([48.6423785006708, 131.357621499329], dtype=object)"
      ]
     },
     "execution_count": 4,
     "metadata": {},
     "output_type": "execute_result"
    }
   ],
   "source": [
    "np.array(sol) * 180/np.pi"
   ]
  },
  {
   "cell_type": "markdown",
   "metadata": {},
   "source": [
    "The NumPy library also has a command, _rad2deg_ that will convert the numerical solution from radians to degrees. Just make sure that the array is forced to a _float_ data type using the _dtype_ flag."
   ]
  },
  {
   "cell_type": "code",
   "execution_count": 5,
   "metadata": {},
   "outputs": [
    {
     "data": {
      "text/plain": [
       "array([ 48.6423785, 131.3576215])"
      ]
     },
     "execution_count": 5,
     "metadata": {},
     "output_type": "execute_result"
    }
   ],
   "source": [
    "np.rad2deg(np.array(sol, dtype=float))"
   ]
  },
  {
   "cell_type": "markdown",
   "metadata": {},
   "source": [
    "b)  $\\cos(t) = 0.4500 \\quad 0 \\leq t \\leq 2 \\pi$"
   ]
  },
  {
   "cell_type": "code",
   "execution_count": 6,
   "metadata": {},
   "outputs": [
    {
     "data": {
      "image/png": "[encoded data removed]",
      "text/latex": [
       "$\\displaystyle \\left[ 1.1040309877476, \\  5.17915431943199\\right]$"
      ],
      "text/plain": [
       "[1.1040309877476, 5.17915431943199]"
      ]
     },
     "execution_count": 6,
     "metadata": {},
     "output_type": "execute_result"
    }
   ],
   "source": [
    "t = symbols('t')\n",
    "solve( cos(t) - 0.4500 )"
   ]
  },
  {
   "cell_type": "markdown",
   "metadata": {},
   "source": [
    "Or in exact format..."
   ]
  },
  {
   "cell_type": "code",
   "execution_count": 7,
   "metadata": {},
   "outputs": [
    {
     "data": {
      "image/png": "[encoded data removed]",
      "text/latex": [
       "$\\displaystyle \\left[ - \\operatorname{acos}{\\left(\\frac{9}{20} \\right)} + 2 \\pi, \\  \\operatorname{acos}{\\left(\\frac{9}{20} \\right)}\\right]$"
      ],
      "text/plain": [
       "[-acos(9/20) + 2⋅π, acos(9/20)]"
      ]
     },
     "execution_count": 7,
     "metadata": {},
     "output_type": "execute_result"
    }
   ],
   "source": [
    "t = symbols('t')\n",
    "solve( cos(t) - Rational(\"0.4500\") )"
   ]
  },
  {
   "cell_type": "markdown",
   "metadata": {},
   "source": [
    "d) $\\sin(3\\theta) = -0.2556 \\quad 0 \\leq \\theta \\leq 180^o$"
   ]
  },
  {
   "cell_type": "code",
   "execution_count": 8,
   "metadata": {},
   "outputs": [
    {
     "data": {
      "text/plain": [
       "array([-4.93638029, 64.93638029])"
      ]
     },
     "execution_count": 8,
     "metadata": {},
     "output_type": "execute_result"
    }
   ],
   "source": [
    "sol = solve( sin(3*th) + 0.2556 )\n",
    "sol2 = np.array(sol, dtype=float)\n",
    "np.rad2deg(sol2)"
   ]
  },
  {
   "cell_type": "markdown",
   "metadata": {},
   "source": [
    "The standard _solve_ command no longer works due to the solutions being 'outside' of the specified domain.  \n",
    "  \n",
    "  To overcome this, the _solveset_ command is used instead. The argument _Interval(lower_limit, higher_limit)_ can be used to specify the domain."
   ]
  },
  {
   "cell_type": "code",
   "execution_count": 9,
   "metadata": {},
   "outputs": [
    {
     "data": {
      "image/png": "[encoded data removed]",
      "text/latex": [
       "$\\displaystyle \\left\\{1.13335364037978, 2.00823901321001\\right\\}$"
      ],
      "text/plain": [
       "{1.13335364037978, 2.00823901321001}"
      ]
     },
     "execution_count": 9,
     "metadata": {},
     "output_type": "execute_result"
    }
   ],
   "source": [
    "solveset( sin(3*th) + 0.2556, th, Interval(0, pi) ).n()"
   ]
  },
  {
   "cell_type": "markdown",
   "metadata": {},
   "source": [
    "Again, this solution needs to be converted to degrees..."
   ]
  },
  {
   "cell_type": "code",
   "execution_count": 10,
   "metadata": {},
   "outputs": [
    {
     "data": {
      "text/plain": [
       "array([ 64.93638029, 115.06361971])"
      ]
     },
     "execution_count": 10,
     "metadata": {},
     "output_type": "execute_result"
    }
   ],
   "source": [
    "sol = list( solveset( sin(3*th) + 0.2556, th, Interval(0, pi) ).n() )\n",
    "sol2 = np.array(sol, dtype=float)\n",
    "np.rad2deg(sol2)"
   ]
  },
  {
   "cell_type": "markdown",
   "metadata": {},
   "source": [
    "10.  Solve the following trigonometrical equations in the ranges given:  \n",
    "  b) $\\sin^2 (\\theta) - 6 \\sin(\\theta) =  -4 \\quad 0 \\leq \\theta \\leq 720^o$"
   ]
  },
  {
   "cell_type": "code",
   "execution_count": 11,
   "metadata": {},
   "outputs": [
    {
     "data": {
      "text/plain": [
       "array([ 49.81207336, 130.18792664, 409.81207336, 490.18792664])"
      ]
     },
     "execution_count": 11,
     "metadata": {},
     "output_type": "execute_result"
    }
   ],
   "source": [
    "sol = list(solveset( sin(th)**2 - 6*sin(th) + 4, th, Interval(0, 4*pi)))\n",
    "sol2 = np.array(sol, dtype=float)\n",
    "np.rad2deg(sol2)"
   ]
  },
  {
   "cell_type": "markdown",
   "metadata": {},
   "source": [
    "***   \n",
    "  \n",
    "by Dr J T Wharton\n",
    "\n",
    "***"
   ]
  }
 ],
 "metadata": {
  "kernelspec": {
   "display_name": "Python 3",
   "language": "python",
   "name": "python3"
  },
  "language_info": {
   "codemirror_mode": {
    "name": "ipython",
    "version": 3
   },
   "file_extension": ".py",
   "mimetype": "text/x-python",
   "name": "python",
   "nbconvert_exporter": "python",
   "pygments_lexer": "ipython3",
   "version": "3.6.9"
  }
 },
 "nbformat": 4,
 "nbformat_minor": 4
}
